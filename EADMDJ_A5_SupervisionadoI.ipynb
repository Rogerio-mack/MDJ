{
  "nbformat": 4,
  "nbformat_minor": 0,
  "metadata": {
    "anaconda-cloud": {},
    "kernelspec": {
      "display_name": "Python 3",
      "language": "python",
      "name": "python3"
    },
    "language_info": {
      "codemirror_mode": {
        "name": "ipython",
        "version": 3
      },
      "file_extension": ".py",
      "mimetype": "text/x-python",
      "name": "python",
      "nbconvert_exporter": "python",
      "pygments_lexer": "ipython3",
      "version": "3.7.4"
    },
    "colab": {
      "name": "EADMDJ_A5_SupervisionadoI.ipynb",
      "provenance": [],
      "collapsed_sections": [],
      "include_colab_link": true
    }
  },
  "cells": [
    {
      "cell_type": "markdown",
      "metadata": {
        "id": "view-in-github",
        "colab_type": "text"
      },
      "source": [
        "<a href=\"https://colab.research.google.com/github/Rogerio-mack/MDJ/blob/main/EADMDJ_A5_SupervisionadoI.ipynb\" target=\"_parent\"><img src=\"https://colab.research.google.com/assets/colab-badge.svg\" alt=\"Open In Colab\"/></a>"
      ]
    },
    {
      "cell_type": "markdown",
      "metadata": {
        "id": "gglUriLmo1sR"
      },
      "source": [
        "<head>\n",
        "  <meta name=\"author\" content=\"Rogério de Oliveira\">\n",
        "  <meta institution=\"author\" content=\"Universidade Presbiteriana Mackenzie\">\n",
        "</head>\n",
        "\n",
        "<img src=\"http://meusite.mackenzie.br/rogerio/mackenzie_logo/UPM.2_horizontal_vermelho.jpg\" width=300, align=\"right\">\n",
        "<h1 align=left><font size = 5, style=\"color:rgb(0,0,0)\"> EAD <b>Mineração de Dados para Jogos </b> </font></h1>"
      ]
    },
    {
      "cell_type": "markdown",
      "metadata": {
        "id": "x3RSAcU_o1sU"
      },
      "source": [
        "<h1 align=left><font size = 6, style=\"color:rgb(200,0,0)\">A5 Modelos Supervisionados I - Classificação </font></h1>\n",
        "<hr>"
      ]
    },
    {
      "cell_type": "markdown",
      "metadata": {
        "id": "Li1FPlObIQAh"
      },
      "source": [
        "# **Modelos de Predição** \\*\n",
        "\n",
        "Modelagem preditiva é o processo um modelo é criado para prever um resultado. A **Regressão** é um modelo de predição. Também podemos querer predizer uma categoria (como Fraude/Não Fraude, Spam/Não Spam ou Diagnóstico pouco/médio/muito Confiável). A predição de valores categóricos chamamos de **Classificação**.\n",
        "\n",
        "Para a execução dessas tarefas podemos empregar diferentes **Modelos**.\n",
        "\n",
        "> Tarefa: **Regressão**\n",
        ">> Modelo: Linear, Polinomial, Exponencial etc.\n",
        "\n",
        "> Tarefa: **Classificação**\n",
        ">> Modelo: Knn, Árvore de Decisão, Regressão Logística, Redes Neurais etc.\n",
        "\n",
        "## Aprendizado Supervisionado e Não Supervisionado\n",
        "\n",
        "Os Modelos de Regressão e Classificação são em geral modelos de Aprendizado Supervisionado. Os modelos são criados a partir de um conjunto de dados exemplo, denominado **Conjunto de Treinamento**. Por exemplo, o modelo de Regressão Linear, emprega um conjunto de pontos previamente conhecido.\n",
        "\n",
        "O Aprendizado Não Supervisionado, empregado por exemplo para Clusterização, não requer um conjunto de treinamento.\n",
        "\n",
        "\n",
        "\n",
        "\n",
        "\n",
        "\n",
        "\n",
        "\n",
        "\n",
        "\n",
        "\n",
        "\n",
        "\n",
        "\n",
        "\n"
      ]
    },
    {
      "cell_type": "markdown",
      "metadata": {
        "id": "1tt5-FdL8HGS"
      },
      "source": [
        "# **Modelo K-Nearest Neighbor (KNN)**\n",
        "\n",
        "O K-Vizinhos mais Próximos é um dos modelos mais simples, mas também bastante empregado, para classificação.\n",
        "\n",
        "\n",
        "\n",
        "\n",
        "\n",
        "\n",
        "\n",
        "\n",
        "\n",
        "\n",
        "\n",
        "\n",
        "\n",
        "\n"
      ]
    },
    {
      "cell_type": "markdown",
      "metadata": {
        "id": "llCulsQG4ppX"
      },
      "source": [
        "<img src=\"https://d3b8hk1o42ev08.cloudfront.net/wp-content/uploads/res.cloudinary.com/dyd911kmh/image/upload/f_autoq_autobest/v1531424125/KNN_final1_ibdm8a.png\" width=500, align=\"center\"></a>\n",
        "\n",
        "\n",
        "\n",
        "\n",
        "\n",
        "\n",
        "\n",
        "\n"
      ]
    },
    {
      "cell_type": "markdown",
      "metadata": {
        "id": "2OOiwi1v8nnv"
      },
      "source": [
        "Basicamente esse modelo consiste na execução de 3 passos:\n",
        "\n",
        "1. Calcular as distancias do elemento desejado para os demais\n",
        "2. Encontrar os vizinhos mais próximos\n",
        "3. Eleger a classe com mais 'votos' (mais representantes entre os vizinhos)"
      ]
    },
    {
      "cell_type": "markdown",
      "metadata": {
        "id": "tFuvujQy9YMB"
      },
      "source": [
        "### Prós\n",
        "* É simples de implementar.\n",
        "* Treinar é mais fácil.\n",
        "* Tem poucos parâmetros.\n",
        "\n",
        "### Limitações\n",
        "* Alto custo de previsão.\n",
        "* Não funciona bem com vários recursos.\n",
        "* Requer o uso de uma **função distância**\n",
        "\n",
        "Esse último item tem uma série de implicações como a necessidade de **atributos numéricos** e, em muitos casos, a **normalização dos dados**.\n"
      ]
    },
    {
      "cell_type": "markdown",
      "metadata": {
        "id": "6NmyNaP_6EvX"
      },
      "source": [
        "## Funções Distância\n",
        "\n",
        "Existem várias funções distância, mas em geral aplicaremos aqui a distância Euclidiana.\n",
        "\n",
        "$$ d(x,y) = \\sqrt{ (x_1 - y_1)^2 + (x_2 - y_2)^2 }$$ \n",
        "\n",
        "\n",
        "\n",
        "\n",
        "\n"
      ]
    },
    {
      "cell_type": "markdown",
      "metadata": {
        "id": "jehT998a_RGS"
      },
      "source": [
        "# CASE: **Aplicar um Empréstimos com Taxa Padrão ou Não?** \\*\n",
        "\n",
        "Empregaremos aqui, para podermos focar no entendimento do modelo, um exemplo bastante simples em que a classificação do **Tipo de Taxa de Empréstismo**, Padrão ou Não, são feitas a partir apenas de dois atributos, a **Idade** do Cliente e o **Valor do Empréstimo**.   \n",
        "\n",
        "\n",
        "### **NOTA IMPORTANTE**: A construção dos dados e a solução *by scratch* aparecem aqui para você entender o modelo e você pode saltar os códigos que fazem essas construções e dar atenção apenas para os seus resultados. As seções mais  importantes e que você deve compreender **inclusive** os códigos aparecem com **'\\*'**. "
      ]
    },
    {
      "cell_type": "code",
      "metadata": {
        "id": "UPVeFK3a5i6d"
      },
      "source": [
        "import pandas                  as pd\n",
        "import numpy                   as np\n",
        "import matplotlib.pyplot       as plt\n",
        "import seaborn                 as sns\n",
        "import statsmodels.formula.api as sm\n",
        "import warnings\n",
        "warnings.filterwarnings(\"ignore\")  "
      ],
      "execution_count": null,
      "outputs": []
    },
    {
      "cell_type": "markdown",
      "metadata": {
        "id": "hsCr050-MUNR"
      },
      "source": [
        "Aqui construímos e exploramos nosso conjunto de dados.\n",
        "\n",
        "Os dados históricos constituem o **conjunto de Treinamento** e com base nele queremos fazer a predição do tipo de Taxa de Empréstimo que deve ser aplicada para um novo caso, `case`.\n",
        "\n"
      ]
    },
    {
      "cell_type": "code",
      "metadata": {
        "id": "-s5TcBJLs5Z0",
        "outputId": "5e53e474-3f58-4d9d-e2a3-4632e17844ee",
        "colab": {
          "base_uri": "https://localhost:8080/",
          "height": 272
        }
      },
      "source": [
        "Loans = pd.DataFrame({'Age':[25,35,45,20,35,52,23,40,60,48,33],\n",
        "                      'Loan':[40000,60000,80000,20000,120000,18000,95000,62000,100000,220000,150000],\n",
        "                      'Type_loan':[1,1,1,1,1,1,0,0,0,0,0] }) # 1=normal 0=especial\n",
        "\n",
        "case  = pd.DataFrame({'Age':[47],\n",
        "                      'Loan':[142000]})\n",
        "\n",
        "print(Loans)\n",
        "print(case)"
      ],
      "execution_count": null,
      "outputs": [
        {
          "output_type": "stream",
          "text": [
            "    Age    Loan  Type_loan\n",
            "0    25   40000          1\n",
            "1    35   60000          1\n",
            "2    45   80000          1\n",
            "3    20   20000          1\n",
            "4    35  120000          1\n",
            "5    52   18000          1\n",
            "6    23   95000          0\n",
            "7    40   62000          0\n",
            "8    60  100000          0\n",
            "9    48  220000          0\n",
            "10   33  150000          0\n",
            "   Age    Loan\n",
            "0   47  142000\n"
          ],
          "name": "stdout"
        }
      ]
    },
    {
      "cell_type": "markdown",
      "metadata": {
        "id": "CZxm4jRmA_Yx"
      },
      "source": [
        "Graficamente:"
      ]
    },
    {
      "cell_type": "code",
      "metadata": {
        "id": "N5ZOp2GIBCen",
        "outputId": "be98d2db-8969-426f-80fb-2676bc58a8ee",
        "colab": {
          "base_uri": "https://localhost:8080/",
          "height": 265
        }
      },
      "source": [
        "# Não se preocupe com este código\n",
        "from matplotlib.colors import ListedColormap\n",
        "cmap_bold = ListedColormap(['darkorange', 'c', 'darkblue'])\n",
        "\n",
        "from matplotlib.colors import ListedColormap\n",
        "plt.scatter(Loans.Age, Loans.Loan, c=Loans.Type_loan, cmap=cmap_bold, edgecolor='k', s=40)\n",
        "plt.scatter(case.Age, case.Loan, c='g', edgecolor='k', s=90)\n",
        "\n",
        "plt.show()"
      ],
      "execution_count": null,
      "outputs": [
        {
          "output_type": "display_data",
          "data": {
            "image/png": "[encoded data removed]",
            "text/plain": [
              "<Figure size 432x288 with 1 Axes>"
            ]
          },
          "metadata": {
            "tags": [],
            "needs_background": "light"
          }
        }
      ]
    },
    {
      "cell_type": "markdown",
      "metadata": {
        "id": "qtVYY7lsB1cm"
      },
      "source": [
        "## Resolução  *by scratch* (do zero) \n",
        "\n",
        "Podemos buscar resolver o problema diretamente aplicando a definição. Isto é, calculando a distância e verificando os vizinhos mais próximos.\n",
        "\n"
      ]
    },
    {
      "cell_type": "code",
      "metadata": {
        "id": "jio4n5FBtBhe",
        "outputId": "1b1a3aed-ac6b-4c77-defc-caaa12e91934",
        "colab": {
          "base_uri": "https://localhost:8080/",
          "height": 235
        }
      },
      "source": [
        "dist = []\n",
        "for i in range(len(Loans)):\n",
        "    d = float( np.sqrt( (Loans.iloc[i].Age - case.Age)**2 + (Loans.iloc[i].Loan - case.Loan)**2 ) )\n",
        "    dist.append(d)\n",
        "    \n",
        "Loans['dist'] = dist    \n",
        "\n",
        "print(Loans.sort_values('dist'))\n"
      ],
      "execution_count": null,
      "outputs": [
        {
          "output_type": "stream",
          "text": [
            "    Age    Loan  Type_loan           dist\n",
            "10   33  150000          0    8000.012250\n",
            "4    35  120000          1   22000.003273\n",
            "8    60  100000          0   42000.002012\n",
            "6    23   95000          0   47000.006128\n",
            "2    45   80000          1   62000.000032\n",
            "9    48  220000          0   78000.000006\n",
            "7    40   62000          0   80000.000306\n",
            "1    35   60000          1   82000.000878\n",
            "0    25   40000          1  102000.002373\n",
            "3    20   20000          1  122000.002988\n",
            "5    52   18000          1  124000.000101\n"
          ],
          "name": "stdout"
        }
      ]
    },
    {
      "cell_type": "markdown",
      "metadata": {
        "id": "l6ow6gZeChSX"
      },
      "source": [
        "## Predição de novos casos\n",
        "\n",
        "> Qual seria nesse caso a classificação do nosso `case = ( Age =47, Loan = 148.000,00)` ?\n",
        "\n",
        "Para um k=3 teríamos `Type_loan = 0`."
      ]
    },
    {
      "cell_type": "markdown",
      "metadata": {
        "id": "gvAO_5XfDRTu"
      },
      "source": [
        "## Scikit-learn \\*\n",
        "\n",
        "Mas nem sempre os modelos são tão simples de implementar do zero e, felizmente, existem bibliotecas que implementam essas tarefas. Vamos ver como esse modelo pode ser construído com a biblioteca https://scikit-learn.org/"
      ]
    },
    {
      "cell_type": "code",
      "metadata": {
        "id": "L45IpgtiDP3e"
      },
      "source": [
        "# imports\n",
        "from sklearn import neighbors"
      ],
      "execution_count": null,
      "outputs": []
    },
    {
      "cell_type": "code",
      "metadata": {
        "id": "SfWjiZ_cDzsT",
        "outputId": "8e7a4225-271b-43da-a3bd-1e01d9a2f143",
        "colab": {
          "base_uri": "https://localhost:8080/",
          "height": 54
        }
      },
      "source": [
        "# Preparando os dados\n",
        "X = Loans[['Age','Loan']]      # X = entrada, variáveis independentes\n",
        "y = Loans.Type_loan            # y = saída, variável dependente \n",
        "\n",
        "# Definindo ou declarando o modelo \n",
        "n_neighbors = 3\n",
        "clf = neighbors.KNeighborsClassifier(n_neighbors)\n",
        "\n",
        "# Aprendizado (construindo ou executando o modelo)\n",
        "clf.fit(X, y)                  # Emprega o conjunto de treinamento \n",
        "\n",
        "# Fazendo a predição\n",
        "Loan_type_pred = clf.predict(case)\n",
        "print('Classificação Knn, k= ', n_neighbors, ' para o empréstimo ', case , ' é ', Loan_type_pred )"
      ],
      "execution_count": null,
      "outputs": [
        {
          "output_type": "stream",
          "text": [
            "Classificação Knn, k=  3  para o empréstimo     Age    Loan\n",
            "0   47  142000  é  [0]\n"
          ],
          "name": "stdout"
        }
      ]
    },
    {
      "cell_type": "markdown",
      "metadata": {
        "id": "gdV5DbBYE-YA"
      },
      "source": [
        "Conseguimos o mesmo resultado anterior? **Sim**! ;-) "
      ]
    },
    {
      "cell_type": "markdown",
      "metadata": {
        "id": "Pxs0RHZfOQKQ"
      },
      "source": [
        "## Normalizando os dados \\*\n",
        "\n",
        "Vamos agora fazer uma pequena modificação nos dados. Vamos normalizar os valores (por que?).\n",
        "\n",
        "\n",
        "\n",
        "\n"
      ]
    },
    {
      "cell_type": "markdown",
      "metadata": {
        "id": "MRDBaHdiNbbJ"
      },
      "source": [
        "### Recriando os dados -"
      ]
    },
    {
      "cell_type": "code",
      "metadata": {
        "id": "nFLNCFPcNePO",
        "outputId": "2b68e52d-2ff5-467c-b48e-a6dd65a5f7db",
        "colab": {
          "base_uri": "https://localhost:8080/",
          "height": 272
        }
      },
      "source": [
        "Loans = pd.DataFrame({'Age':[25,35,45,20,35,52,23,40,60,48,33],\n",
        "                      'Loan':[40000,60000,80000,20000,120000,18000,95000,62000,100000,220000,150000],\n",
        "                      'Type_loan':[1,1,1,1,1,1,0,0,0,0,0] }) # 1=normal 0=especial\n",
        "\n",
        "case  = pd.DataFrame({'Age':[47],\n",
        "                      'Loan':[142000]})"
      ],
      "execution_count": null,
      "outputs": [
        {
          "output_type": "stream",
          "text": [
            "         Age      Loan  Type_loan      dist\n",
            "4   0.583333  0.545455          1  0.223607\n",
            "10  0.550000  0.681818          0  0.236150\n",
            "2   0.750000  0.363636          1  0.283783\n",
            "8   1.000000  0.454545          0  0.288775\n",
            "9   0.800000  1.000000          0  0.354937\n",
            "7   0.666667  0.281818          0  0.381893\n",
            "1   0.583333  0.272727          1  0.422996\n",
            "6   0.383333  0.431818          0  0.453476\n",
            "5   0.866667  0.081818          1  0.569763\n",
            "0   0.416667  0.181818          1  0.591103\n",
            "3   0.333333  0.090909          1  0.714157\n",
            "        Age      Loan\n",
            "0  0.783333  0.645455\n"
          ],
          "name": "stdout"
        }
      ]
    },
    {
      "cell_type": "markdown",
      "metadata": {
        "id": "SS9YZ2UONR0S"
      },
      "source": [
        "### Normalizando os dados \\*"
      ]
    },
    {
      "cell_type": "code",
      "metadata": {
        "id": "UMWs-0wyNEtT"
      },
      "source": [
        "mAge = Loans.Age.max()\n",
        "mLoan =  Loans.Loan.max()\n",
        "\n",
        "case.Age = case.Age / mAge\n",
        "case.Loan = case.Loan / mLoan\n",
        "\n",
        "Loans.Age = Loans.Age / mAge\n",
        "Loans.Loan = Loans.Loan / mLoan\n",
        "\n"
      ],
      "execution_count": null,
      "outputs": []
    },
    {
      "cell_type": "markdown",
      "metadata": {
        "id": "3YJJ0dvfNhMt"
      },
      "source": [
        "### Calculando as Distância *by scratch* -"
      ]
    },
    {
      "cell_type": "code",
      "metadata": {
        "id": "LB6ottPWNJYw"
      },
      "source": [
        "dist = []\n",
        "for i in range(len(Loans)):\n",
        "    d = float( np.sqrt( (Loans.iloc[i].Age - case.Age)**2 + (Loans.iloc[i].Loan - case.Loan)**2 ) )\n",
        "    dist.append(d)\n",
        "    \n",
        "Loans['dist'] = dist    \n",
        "\n",
        "print(Loans.sort_values('dist'))\n",
        "print(case)"
      ],
      "execution_count": null,
      "outputs": []
    },
    {
      "cell_type": "markdown",
      "metadata": {
        "id": "C8tv-wkFNulm"
      },
      "source": [
        "### Agora com o `Sci-kit learn` com os dados normalizados \\*"
      ]
    },
    {
      "cell_type": "markdown",
      "metadata": {
        "id": "liqcuBsHIIrW"
      },
      "source": [
        "Qual a conclusão do modelo agora? Vamos repetir, com o uso do `Sci-kit learn`. "
      ]
    },
    {
      "cell_type": "markdown",
      "metadata": {
        "id": "J-qhspX6N5OD"
      },
      "source": [
        ""
      ]
    },
    {
      "cell_type": "code",
      "metadata": {
        "id": "c-3iMXYENePT",
        "outputId": "35539300-5c01-4b69-f773-cc2c7b566602",
        "colab": {
          "base_uri": "https://localhost:8080/",
          "height": 54
        }
      },
      "source": [
        "# Preparando os dados\n",
        "X = Loans[['Age','Loan']]      # X = entrada, variáveis independentes\n",
        "y = Loans.Type_loan            # y = saída, variável dependente \n",
        "\n",
        "# Definindo ou declarando o modelo \n",
        "n_neighbors = 3\n",
        "clf = neighbors.KNeighborsClassifier(n_neighbors)\n",
        "\n",
        "# Aprendizado (construindo ou executando o modelo)\n",
        "clf.fit(X, y)                  # Emprega o conjunto de treinamento \n",
        "\n",
        "# Fazendo a predição\n",
        "Loan_type_pred = clf.predict(case)\n",
        "print('Classificação Normalizado Knn, k= ', n_neighbors, ' para o empréstimo ', case , ' é ', Loan_type_pred )"
      ],
      "execution_count": null,
      "outputs": [
        {
          "output_type": "stream",
          "text": [
            "Classificação Normalizado Knn, k=  3  para o empréstimo          Age      Loan\n",
            "0  0.783333  0.645455  é  [1]\n"
          ],
          "name": "stdout"
        }
      ]
    },
    {
      "cell_type": "markdown",
      "metadata": {
        "id": "d74Y0n2dq_cx"
      },
      "source": [
        "## Adicionando um atributo categórico\n",
        "\n",
        "Embora o Knn não possa empregar atributos categóricos diretamente, podemos transformar atributos categóricos em numéricos com *hot encode* e então aplicar o modelo sobre esses valores.\n",
        "\n",
        "\n",
        "\n",
        "\n",
        "\n",
        "\n",
        "\n",
        "\n"
      ]
    },
    {
      "cell_type": "code",
      "metadata": {
        "id": "yks0v4wvrS5s",
        "outputId": "6cda8bd0-fc9d-4f05-ef79-38e6893c9ae8",
        "colab": {
          "base_uri": "https://localhost:8080/",
          "height": 272
        }
      },
      "source": [
        "Loans = pd.DataFrame({'Age':[25,35,45,20,35,52,23,40,60,48,33],\n",
        "                      'Loan':[40000,60000,80000,20000,120000,18000,95000,62000,100000,220000,150000],\n",
        "\n",
        "                      'Duration':['Short','Long','Short','Undefined','Long','Short','Long','Short','Undefined','Long', 'Short'],\n",
        "\n",
        "                      'Type_loan':[1,1,1,1,1,1,0,0,0,0,0] }) # 1=normal 0=especial\n",
        "\n",
        "case  = pd.DataFrame({'Age':[47],\n",
        "                      'Duration':['Short'],\n",
        "                      'Loan':[142000]})\n",
        "\n",
        "print(Loans)\n",
        "print(case)\n"
      ],
      "execution_count": null,
      "outputs": [
        {
          "output_type": "stream",
          "text": [
            "    Age    Loan   Duration  Type_loan\n",
            "0    25   40000      Short          1\n",
            "1    35   60000       Long          1\n",
            "2    45   80000      Short          1\n",
            "3    20   20000  Undefined          1\n",
            "4    35  120000       Long          1\n",
            "5    52   18000      Short          1\n",
            "6    23   95000       Long          0\n",
            "7    40   62000      Short          0\n",
            "8    60  100000  Undefined          0\n",
            "9    48  220000       Long          0\n",
            "10   33  150000      Short          0\n",
            "   Age Duration    Loan\n",
            "0   47    Short  142000\n"
          ],
          "name": "stdout"
        }
      ]
    },
    {
      "cell_type": "markdown",
      "metadata": {
        "id": "QyiLFFdgtocI"
      },
      "source": [
        "### Preparando os dados: Hot encode e Normalização \\*\n",
        "\n",
        "A normalização segue do mesmo modo que fizemos anteriormente."
      ]
    },
    {
      "cell_type": "markdown",
      "metadata": {
        "id": "4LBJhWueOYR5"
      },
      "source": [
        "### Normalizando os dados \\*\n",
        "\n",
        "O mesmo que fizemos anteriormente.\n",
        "\n"
      ]
    },
    {
      "cell_type": "code",
      "metadata": {
        "id": "V5K1No9rtmDx",
        "outputId": "7d9bed69-7cfc-4269-8966-0349426177d7",
        "colab": {
          "base_uri": "https://localhost:8080/",
          "height": 272
        }
      },
      "source": [
        "# Normalização \n",
        "\n",
        "mAge = Loans.Age.max()\n",
        "mLoan =  Loans.Loan.max()\n",
        "\n",
        "case.Age = case.Age / mAge\n",
        "case.Loan = case.Loan / mLoan\n",
        "\n",
        "Loans.Age = Loans.Age / mAge\n",
        "Loans.Loan = Loans.Loan / mLoan\n",
        "\n",
        "\n",
        "print(Loans)\n",
        "print(case)"
      ],
      "execution_count": null,
      "outputs": [
        {
          "output_type": "stream",
          "text": [
            "         Age      Loan   Duration  Type_loan\n",
            "0   0.416667  0.181818      Short          1\n",
            "1   0.583333  0.272727       Long          1\n",
            "2   0.750000  0.363636      Short          1\n",
            "3   0.333333  0.090909  Undefined          1\n",
            "4   0.583333  0.545455       Long          1\n",
            "5   0.866667  0.081818      Short          1\n",
            "6   0.383333  0.431818       Long          0\n",
            "7   0.666667  0.281818      Short          0\n",
            "8   1.000000  0.454545  Undefined          0\n",
            "9   0.800000  1.000000       Long          0\n",
            "10  0.550000  0.681818      Short          0\n",
            "        Age Duration      Loan\n",
            "0  0.783333    Short  0.645455\n"
          ],
          "name": "stdout"
        }
      ]
    },
    {
      "cell_type": "markdown",
      "metadata": {
        "id": "NefMJu62uijb"
      },
      "source": [
        "### Hot Encode \\*\n",
        "\n",
        "O **Hot Encode** (ou **Dummy Encode**) é uma transformação importante e a melhor forma de empregar a transaformação de dados categóricos para dados numéricos. Ela é preferível a empregar o **Label Encode** (isto é, associar valores ordinais como 0,1,2,3... para cada categoria).\n",
        "\n",
        "\n"
      ]
    },
    {
      "cell_type": "code",
      "metadata": {
        "id": "F7uO-rUZrXOe",
        "outputId": "22969bab-0ddc-405c-c759-c1ecdc9d3e4d",
        "colab": {
          "base_uri": "https://localhost:8080/",
          "height": 508
        }
      },
      "source": [
        "# Hot encode\n",
        "pd.set_option('display.max_columns', None)\n",
        "\n",
        "dummies = pd.get_dummies(Loans.Duration,prefix='Duration')\n",
        "Loans = pd.concat([Loans, dummies],axis=1)\n",
        "print(Loans)\n",
        "\n",
        "dummies = pd.get_dummies(case.Duration,prefix='Duration')\n",
        "case = pd.concat([case, dummies],axis=1)\n",
        "print(case)\n",
        "\n",
        "\n"
      ],
      "execution_count": null,
      "outputs": [
        {
          "output_type": "stream",
          "text": [
            "         Age      Loan   Duration  Type_loan  Duration_Long  Duration_Short  \\\n",
            "0   0.416667  0.181818      Short          1              0               1   \n",
            "1   0.583333  0.272727       Long          1              1               0   \n",
            "2   0.750000  0.363636      Short          1              0               1   \n",
            "3   0.333333  0.090909  Undefined          1              0               0   \n",
            "4   0.583333  0.545455       Long          1              1               0   \n",
            "5   0.866667  0.081818      Short          1              0               1   \n",
            "6   0.383333  0.431818       Long          0              1               0   \n",
            "7   0.666667  0.281818      Short          0              0               1   \n",
            "8   1.000000  0.454545  Undefined          0              0               0   \n",
            "9   0.800000  1.000000       Long          0              1               0   \n",
            "10  0.550000  0.681818      Short          0              0               1   \n",
            "\n",
            "    Duration_Undefined  \n",
            "0                    0  \n",
            "1                    0  \n",
            "2                    0  \n",
            "3                    1  \n",
            "4                    0  \n",
            "5                    0  \n",
            "6                    0  \n",
            "7                    0  \n",
            "8                    1  \n",
            "9                    0  \n",
            "10                   0  \n",
            "        Age Duration      Loan  Duration_Short\n",
            "0  0.783333    Short  0.645455               1\n"
          ],
          "name": "stdout"
        }
      ]
    },
    {
      "cell_type": "markdown",
      "metadata": {
        "id": "5fCk-HxmxCmR"
      },
      "source": [
        "## Mesma estrutura, Treinamento e Teste *\n",
        "\n",
        "Tando a normalização, como o **hot encode** precisam ser aplicados tanto no conjunto de treinamento como nas novas instâncias ou conjunto de dados de teste (o conjunto que contêm as instâncias que desejamos prever). Isto é:\n",
        "\n",
        "> **Transformações(*X Treinamento*) = Transformações(*X Teste*)**\n",
        "\n",
        "E **Treinamento e Teste** têm as mesmas dimensões e escalas.\n",
        "\n",
        "Como em uma função, os modelos em `scikit-learn` (e de muitos outros pacotes) requer que os conjuntos de treinamento e teste tenham a mesma estrutura. Eles funcionam como uma função matemática bem estruturada. Se você tem uma função (modelo):\n",
        "\n",
        "$$ f(x,y,z) =  x * y + z $$\n",
        "\n",
        "definida com 3 variáveis, você só pode avaliar informando as 3 variáveis:\n",
        "\n",
        "$$ f(1,2,3) =  1 * 2 + 3 = 5 $$\n",
        "\n",
        "Mas não pode avaliar a função deste modo:\n",
        "\n",
        "$$ f(1,2) =  1 * 2 + ?? $$\n",
        "\n",
        "Os modelos em `Python` funcionam do mesmo modo. Assim, os mesmos atributos X do conjunto de treinamento (`Loan`) empregados para definir o modelo, precisam aparecer no também no conjunto de teste (`case`). [1] \n",
        "\n",
        "[1] Nota: X, são os atributos de entrada, como $x,y,z$ da função acima. O y, ou o atributo classe, ou ainda classe preditora, não precisa constar do conjunto de teste.\n"
      ]
    },
    {
      "cell_type": "markdown",
      "metadata": {
        "id": "WRLVEUuaQxYL"
      },
      "source": [
        "### Ajustando a estrutura dos dados de Teste \\*"
      ]
    },
    {
      "cell_type": "code",
      "metadata": {
        "id": "tySAQsLtwnEj",
        "outputId": "c8da525b-5572-481e-bc23-e86be36f07db",
        "colab": {
          "base_uri": "https://localhost:8080/",
          "height": 108
        }
      },
      "source": [
        "print(Loans.columns)\n",
        "\n",
        "# Estes serão os atributos, a estrutura de entrada do nosso modelo, como na definição da nossa função f(x,y,z)\n",
        "X = Loans[['Age','Loan','Duration_Short', 'Duration_Long', 'Duration_Undefined']]      # X = entrada, variáveis independentes\n",
        "print(X.columns)\n",
        "print(case.columns)"
      ],
      "execution_count": null,
      "outputs": [
        {
          "output_type": "stream",
          "text": [
            "Index(['Age', 'Loan', 'Duration', 'Type_loan', 'Duration_Long',\n",
            "       'Duration_Short', 'Duration_Undefined'],\n",
            "      dtype='object')\n",
            "Index(['Age', 'Loan', 'Duration_Short', 'Duration_Long', 'Duration_Undefined'], dtype='object')\n",
            "Index(['Age', 'Duration', 'Loan', 'Duration_Short'], dtype='object')\n"
          ],
          "name": "stdout"
        }
      ]
    },
    {
      "cell_type": "markdown",
      "metadata": {
        "id": "aXhttX1SzDal"
      },
      "source": [
        "Precisamos então adequar nosso `case` a entrada desse modelo:"
      ]
    },
    {
      "cell_type": "code",
      "metadata": {
        "id": "xChy-bq9vJYt",
        "outputId": "7097f8c7-1ca9-484b-c041-0a2f16d590c6",
        "colab": {
          "base_uri": "https://localhost:8080/",
          "height": 72
        }
      },
      "source": [
        "case['Duration_Long'] = 0\n",
        "case['Duration_Undefined'] = 0\n",
        "case = case.drop(columns=['Duration'])\n",
        "\n",
        "print(case)\n",
        "\n",
        "print(case.columns)\n"
      ],
      "execution_count": null,
      "outputs": [
        {
          "output_type": "stream",
          "text": [
            "        Age      Loan  Duration_Short  Duration_Long  Duration_Undefined\n",
            "0  0.783333  0.645455               1              0                   0\n",
            "Index(['Age', 'Loan', 'Duration_Short', 'Duration_Long', 'Duration_Undefined'], dtype='object')\n"
          ],
          "name": "stdout"
        }
      ]
    },
    {
      "cell_type": "markdown",
      "metadata": {
        "id": "qqB62sua0ayC"
      },
      "source": [
        "## Treinando e Aplicando o modelo \\*\n",
        "\n",
        "Agora estamos prontos para aplicar o modelo knn. Note: **É o mesmo código empregado até agora**, a mesma estrutura de programa, apenas alterando as variáveis de entrada."
      ]
    },
    {
      "cell_type": "code",
      "metadata": {
        "id": "TMRM-5-y01wq",
        "outputId": "2557c58e-c84a-496c-f473-dbe7d45f8ed0",
        "colab": {
          "base_uri": "https://localhost:8080/",
          "height": 54
        }
      },
      "source": [
        "# Preparando os dados\n",
        "X = Loans[['Age','Loan','Duration_Short', 'Duration_Long', 'Duration_Undefined']]      # X = entrada, variáveis independentes\n",
        "y = Loans.Type_loan            # y = saída, variável dependente \n",
        "\n",
        "# Definindo ou declarando o modelo \n",
        "n_neighbors = 3\n",
        "clf = neighbors.KNeighborsClassifier(n_neighbors)\n",
        "\n",
        "# Aprendizado (construindo ou executando o modelo)\n",
        "clf.fit(X, y)                  # Emprega o conjunto de treinamento \n",
        "\n",
        "# Fazendo a predição\n",
        "Loan_type_pred = clf.predict(case)\n",
        "print('Classificação Normalizado Knn, k= ', n_neighbors, ' para o empréstimo ', case , ' é ', Loan_type_pred )"
      ],
      "execution_count": null,
      "outputs": [
        {
          "output_type": "stream",
          "text": [
            "Classificação Normalizado Knn, k=  3  para o empréstimo          Age      Loan  Duration_Short  Duration_Long  Duration_Undefined\n",
            "0  0.783333  0.645455               1              0                   0  é  [0]\n"
          ],
          "name": "stdout"
        }
      ]
    },
    {
      "cell_type": "markdown",
      "metadata": {
        "id": "pdezH1eUfp1Z"
      },
      "source": [
        "# **IMPORTANTE:** Antes de começar este Lab/exercícios\n",
        "\n",
        "Execute a célula final desse Lab. Ela irá **inicializar** o seu ambiente com os datasets requeridos para esse lab que poderão ser então lidos como arquivos locais, isto é `df = pd.read_csv('df.csv')`. \n",
        "\n",
        "Após a execução você pode verificar os datasets criados na aba lateral do Google Colab ou no seu diretório de trabalho."
      ]
    },
    {
      "cell_type": "markdown",
      "metadata": {
        "_uuid": "9dd9e07c590ca22f0c525222f60f0ebff4e092c6",
        "id": "SLTshJXLA4LT"
      },
      "source": [
        "# Exercício 1. **CASE: Prevendo o Sucesso de Projetos e Faixa de Seguros** (**RESOLVIDO**) \n",
        "\n",
        "Aqui você vai empregar os datasets criados no set up do Lab.\n",
        "\n"
      ]
    },
    {
      "cell_type": "markdown",
      "metadata": {
        "id": "89D6KpNbh2vR"
      },
      "source": [
        "Acesse os dados de \n",
        "```\n",
        "projects.csv\n",
        "new_projects.csv\n",
        "```\n",
        "E veja com o `knn` é empregado para prever o status de novos projetos."
      ]
    },
    {
      "cell_type": "code",
      "metadata": {
        "id": "0TC6c46oNkDQ",
        "outputId": "a563b72e-ff3c-42b5-f9f8-7044d43e8f0b",
        "colab": {
          "base_uri": "https://localhost:8080/",
          "height": 153
        }
      },
      "source": [
        "# Acessando os dados\n",
        "projects = pd.read_csv('projects.csv')\n",
        "print(projects.head())\n",
        "\n",
        "new_projects = pd.read_csv('new_projects.csv')\n",
        "print(new_projects.head())\n"
      ],
      "execution_count": null,
      "outputs": [
        {
          "output_type": "stream",
          "text": [
            "   Ana  Gabriela  Pedro  Luiz     Status\n",
            "0    1         1      0     1  successed\n",
            "1    1         1      1     1  successed\n",
            "2    0         0      1     0     failed\n",
            "3    0         0      1     1     failed\n",
            "   Ana  Gabriela  Pedro  Luiz Status\n",
            "0    0         1      1     0      ?\n",
            "1    1         1      1     0      ?\n"
          ],
          "name": "stdout"
        }
      ]
    },
    {
      "cell_type": "markdown",
      "metadata": {
        "id": "wT5vURCsiUVp"
      },
      "source": [
        "Criando o modelo e prevendo os novos projetos:"
      ]
    },
    {
      "cell_type": "code",
      "metadata": {
        "id": "BseFI8AaN-_f",
        "outputId": "77005491-2c35-4adc-e6d0-79d6f28a9d58",
        "colab": {
          "base_uri": "https://localhost:8080/",
          "height": 34
        }
      },
      "source": [
        "from sklearn import neighbors\n",
        "\n",
        "# Prepara os dados para o Treinamento\n",
        "X_train = projects.drop(columns=['Status'])           # Entradas\n",
        "y_train = projects['Status']                          # Saída\n",
        "\n",
        "# Declara o Modelo\n",
        "n_neighbors = 3                                       # Parametros do modelo\n",
        "clf = neighbors.KNeighborsClassifier(n_neighbors)     #\n",
        "\n",
        "# Treinamento (Treina o Modelo) \n",
        "clf.fit(X_train, y_train)                             # Treinamento\n",
        "\n",
        "# Predição (Emprega o Modelo) \n",
        "X_test = new_projects.drop(columns=['Status'])        # Dados para predição\n",
        "y_pred = clf.predict(X_test)                          # Resposta do modelo\n",
        "\n",
        "print(y_pred)\n",
        "\n"
      ],
      "execution_count": null,
      "outputs": [
        {
          "output_type": "stream",
          "text": [
            "['failed' 'successed']\n"
          ],
          "name": "stdout"
        }
      ]
    },
    {
      "cell_type": "code",
      "metadata": {
        "id": "XRe2BSjpQRmp",
        "outputId": "3c60f66d-42fe-4e7d-b9ad-ec3a79b2f1e4",
        "colab": {
          "base_uri": "https://localhost:8080/",
          "height": 68
        }
      },
      "source": [
        "new_projects['Status'] = y_pred\n",
        "print(new_projects)"
      ],
      "execution_count": null,
      "outputs": [
        {
          "output_type": "stream",
          "text": [
            "   Ana  Gabriela  Pedro  Luiz     Status\n",
            "0    0         1      1     0     failed\n",
            "1    1         1      1     0  successed\n"
          ],
          "name": "stdout"
        }
      ]
    },
    {
      "cell_type": "markdown",
      "metadata": {
        "id": "OSmMMGekirwp"
      },
      "source": [
        "# Exercício 2. **CASE: Prevendo a Faixa de Seguros**\n",
        "\n",
        "Agora, acesse os dados de:\n",
        "\n",
        "```\n",
        "insurance.csv\n",
        "new_insurance.csv\n",
        "```\n",
        "e empregue o modelo anterior para prever a Faixa de Seguros dos novos Seguros."
      ]
    },
    {
      "cell_type": "code",
      "metadata": {
        "id": "JFS7DAHxZdfC"
      },
      "source": [
        "# Acessando os Dados\n",
        "\n",
        "# Seu código aqui \n",
        "\n"
      ],
      "execution_count": null,
      "outputs": []
    },
    {
      "cell_type": "code",
      "metadata": {
        "id": "mk4Zt3RGZR3G"
      },
      "source": [
        "# Seu código aqui \n",
        "\n",
        "\n"
      ],
      "execution_count": null,
      "outputs": []
    },
    {
      "cell_type": "markdown",
      "metadata": {
        "_uuid": "9dd9e07c590ca22f0c525222f60f0ebff4e092c6",
        "id": "kIr_4QzOlOOo"
      },
      "source": [
        "# CASE: **Predição de Diagnósticos a partir de Dados de Imagens** \n",
        "\n",
        "Agora vamos ver um caso de dados reais.\n",
        "\n",
        "https://archive.ics.uci.edu/ml/datasets/Breast+Cancer+Wisconsin+(Diagnostic)\n",
        "\n",
        "Features are computed from a digitized image of a fine needle aspirate (FNA) of a breast mass. They describe characteristics of the cell nuclei present in the image. \n",
        "\n",
        "Os dados estão na URL: https://meusite.mackenzie.br/rogerio/TIC/breast-cancer-wisconsin.csv\n",
        "\n",
        "Mas aqui empregue os dados já tratados no set up do Lab:\n",
        "\n",
        "```\n",
        "breast.csv\n",
        "new_breast.csv\n",
        "```\n",
        "\n"
      ]
    },
    {
      "cell_type": "markdown",
      "metadata": {
        "id": "YeiT9oXumyn8"
      },
      "source": [
        "# Exercício 3. Acesse e Explore os dados \n",
        "\n",
        "1. Qual o atributo **classe**?\n",
        "2. Todos os dados são numéricos? (por quê?)\n",
        "3. Qual o tamanho dos dados? (linhas e atributos)\n",
        "4. Quantos casos são **'B'enignos** e quantos **'M'alignos**?\n"
      ]
    },
    {
      "cell_type": "code",
      "metadata": {
        "id": "6mNBDvj2myoC"
      },
      "source": [
        "# Acessando os Dados\n",
        "\n",
        "# Seu código aqui \n",
        "\n"
      ],
      "execution_count": null,
      "outputs": []
    },
    {
      "cell_type": "code",
      "metadata": {
        "id": "0RnZRibIn11f"
      },
      "source": [
        "# Explore os dados\n",
        "\n",
        "# Seu código aqui\n"
      ],
      "execution_count": null,
      "outputs": []
    },
    {
      "cell_type": "markdown",
      "metadata": {
        "id": "i-L4D2vgoJ9R"
      },
      "source": [
        "# Exercício 4. Preparando os dados \n",
        "\n",
        "A preparação dos dados é simples pois não existem dados nulos a serem tratados e todos os dados de entrada são numéricos.(*)\n",
        "\n",
        "Mas **um atributo parece não estar adequado para o Treinamento. Qual?** \n",
        "\n",
        "Elimine esse atributo do conjunto de dados de treinamento e dos novos casos.\n",
        "\n",
        "(*) Neste momento, também não faremos aqui a normalização dos dados."
      ]
    },
    {
      "cell_type": "code",
      "metadata": {
        "id": "pblTEHuSbGAE"
      },
      "source": [
        "# Seu código aqui\n",
        "# delete the unwanted id column\n",
        "\n",
        "\n"
      ],
      "execution_count": null,
      "outputs": []
    },
    {
      "cell_type": "markdown",
      "metadata": {
        "id": "ke4f8KkRrryO"
      },
      "source": [
        "# Exercício 5. Classificando `new_breast`com **K=3 Vizinhos mais Próximos**\n",
        "\n",
        "Treine agora o modelo com **k=3 vizinhos mais próximos** e faça a previsão dos novos casos `new_breast`. \n",
        "\n"
      ]
    },
    {
      "cell_type": "code",
      "metadata": {
        "id": "EjdcA4YAo2L1"
      },
      "source": [
        "# Seu código aqui \n"
      ],
      "execution_count": null,
      "outputs": []
    },
    {
      "cell_type": "markdown",
      "metadata": {
        "id": "xp4HLKLyZBZu"
      },
      "source": [
        "# Exercício 6. **(RESOLVIDO)**\n",
        "\n",
        "Quanto casos Benignos e Malignos foram previstos?"
      ]
    },
    {
      "cell_type": "code",
      "metadata": {
        "id": "UDvs1qsuR_D_"
      },
      "source": [
        "# Seu código\n",
        "print('Bs =', sum(y_pred == 'B'))\n",
        "print('Ms =', sum(y_pred == 'M'))"
      ],
      "execution_count": null,
      "outputs": []
    },
    {
      "cell_type": "markdown",
      "metadata": {
        "id": "zZfmGi3-ZKjk"
      },
      "source": [
        "# **Comparando resultados**\n",
        "\n",
        "Suponha que temos as respostas do casos de `new_breast` (Ohhh!). Neste caso podemos então comparar com nosso modelo. \n",
        "\n",
        "De fato as respostas estão no data-set `new_breast_answers` e então podemos comparar o resultado obtido com a resposta do modelo."
      ]
    },
    {
      "cell_type": "code",
      "metadata": {
        "id": "DNVGkHqJT80U",
        "outputId": "5a747909-8a76-45b8-a4a3-8d15af6f55dc",
        "colab": {
          "base_uri": "https://localhost:8080/",
          "height": 1000
        }
      },
      "source": [
        "new_breast_answers = pd.read_csv('new_breast_answers.csv')\n",
        "new_breast_answers.head()\n",
        "\n",
        "pd.set_option('display.max_rows', 500) \n",
        "pd.concat([pd.DataFrame(y_pred, columns=['predicted']), new_breast_answers],axis=1)"
      ],
      "execution_count": null,
      "outputs": [
        {
          "output_type": "execute_result",
          "data": {
            "text/html": [
              "<div>\n",
              "<style scoped>\n",
              "    .dataframe tbody tr th:only-of-type {\n",
              "        vertical-align: middle;\n",
              "    }\n",
              "\n",
              "    .dataframe tbody tr th {\n",
              "        vertical-align: top;\n",
              "    }\n",
              "\n",
              "    .dataframe thead th {\n",
              "        text-align: right;\n",
              "    }\n",
              "</style>\n",
              "<table border=\"1\" class=\"dataframe\">\n",
              "  <thead>\n",
              "    <tr style=\"text-align: right;\">\n",
              "      <th></th>\n",
              "      <th>predicted</th>\n",
              "      <th>diagnosis</th>\n",
              "    </tr>\n",
              "  </thead>\n",
              "  <tbody>\n",
              "    <tr>\n",
              "      <th>0</th>\n",
              "      <td>M</td>\n",
              "      <td>M</td>\n",
              "    </tr>\n",
              "    <tr>\n",
              "      <th>1</th>\n",
              "      <td>B</td>\n",
              "      <td>B</td>\n",
              "    </tr>\n",
              "    <tr>\n",
              "      <th>2</th>\n",
              "      <td>B</td>\n",
              "      <td>B</td>\n",
              "    </tr>\n",
              "    <tr>\n",
              "      <th>3</th>\n",
              "      <td>M</td>\n",
              "      <td>M</td>\n",
              "    </tr>\n",
              "    <tr>\n",
              "      <th>4</th>\n",
              "      <td>B</td>\n",
              "      <td>B</td>\n",
              "    </tr>\n",
              "    <tr>\n",
              "      <th>5</th>\n",
              "      <td>B</td>\n",
              "      <td>B</td>\n",
              "    </tr>\n",
              "    <tr>\n",
              "      <th>6</th>\n",
              "      <td>B</td>\n",
              "      <td>B</td>\n",
              "    </tr>\n",
              "    <tr>\n",
              "      <th>7</th>\n",
              "      <td>B</td>\n",
              "      <td>B</td>\n",
              "    </tr>\n",
              "    <tr>\n",
              "      <th>8</th>\n",
              "      <td>B</td>\n",
              "      <td>B</td>\n",
              "    </tr>\n",
              "    <tr>\n",
              "      <th>9</th>\n",
              "      <td>B</td>\n",
              "      <td>B</td>\n",
              "    </tr>\n",
              "    <tr>\n",
              "      <th>10</th>\n",
              "      <td>M</td>\n",
              "      <td>M</td>\n",
              "    </tr>\n",
              "    <tr>\n",
              "      <th>11</th>\n",
              "      <td>B</td>\n",
              "      <td>M</td>\n",
              "    </tr>\n",
              "    <tr>\n",
              "      <th>12</th>\n",
              "      <td>B</td>\n",
              "      <td>B</td>\n",
              "    </tr>\n",
              "    <tr>\n",
              "      <th>13</th>\n",
              "      <td>M</td>\n",
              "      <td>M</td>\n",
              "    </tr>\n",
              "    <tr>\n",
              "      <th>14</th>\n",
              "      <td>B</td>\n",
              "      <td>M</td>\n",
              "    </tr>\n",
              "    <tr>\n",
              "      <th>15</th>\n",
              "      <td>M</td>\n",
              "      <td>M</td>\n",
              "    </tr>\n",
              "    <tr>\n",
              "      <th>16</th>\n",
              "      <td>M</td>\n",
              "      <td>M</td>\n",
              "    </tr>\n",
              "    <tr>\n",
              "      <th>17</th>\n",
              "      <td>B</td>\n",
              "      <td>B</td>\n",
              "    </tr>\n",
              "    <tr>\n",
              "      <th>18</th>\n",
              "      <td>B</td>\n",
              "      <td>B</td>\n",
              "    </tr>\n",
              "    <tr>\n",
              "      <th>19</th>\n",
              "      <td>M</td>\n",
              "      <td>M</td>\n",
              "    </tr>\n",
              "    <tr>\n",
              "      <th>20</th>\n",
              "      <td>B</td>\n",
              "      <td>B</td>\n",
              "    </tr>\n",
              "    <tr>\n",
              "      <th>21</th>\n",
              "      <td>B</td>\n",
              "      <td>B</td>\n",
              "    </tr>\n",
              "    <tr>\n",
              "      <th>22</th>\n",
              "      <td>B</td>\n",
              "      <td>B</td>\n",
              "    </tr>\n",
              "    <tr>\n",
              "      <th>23</th>\n",
              "      <td>B</td>\n",
              "      <td>B</td>\n",
              "    </tr>\n",
              "    <tr>\n",
              "      <th>24</th>\n",
              "      <td>B</td>\n",
              "      <td>M</td>\n",
              "    </tr>\n",
              "    <tr>\n",
              "      <th>25</th>\n",
              "      <td>M</td>\n",
              "      <td>M</td>\n",
              "    </tr>\n",
              "    <tr>\n",
              "      <th>26</th>\n",
              "      <td>B</td>\n",
              "      <td>B</td>\n",
              "    </tr>\n",
              "    <tr>\n",
              "      <th>27</th>\n",
              "      <td>B</td>\n",
              "      <td>B</td>\n",
              "    </tr>\n",
              "    <tr>\n",
              "      <th>28</th>\n",
              "      <td>M</td>\n",
              "      <td>M</td>\n",
              "    </tr>\n",
              "    <tr>\n",
              "      <th>29</th>\n",
              "      <td>B</td>\n",
              "      <td>B</td>\n",
              "    </tr>\n",
              "    <tr>\n",
              "      <th>30</th>\n",
              "      <td>B</td>\n",
              "      <td>B</td>\n",
              "    </tr>\n",
              "    <tr>\n",
              "      <th>31</th>\n",
              "      <td>B</td>\n",
              "      <td>B</td>\n",
              "    </tr>\n",
              "    <tr>\n",
              "      <th>32</th>\n",
              "      <td>B</td>\n",
              "      <td>B</td>\n",
              "    </tr>\n",
              "    <tr>\n",
              "      <th>33</th>\n",
              "      <td>B</td>\n",
              "      <td>B</td>\n",
              "    </tr>\n",
              "    <tr>\n",
              "      <th>34</th>\n",
              "      <td>B</td>\n",
              "      <td>B</td>\n",
              "    </tr>\n",
              "    <tr>\n",
              "      <th>35</th>\n",
              "      <td>B</td>\n",
              "      <td>B</td>\n",
              "    </tr>\n",
              "    <tr>\n",
              "      <th>36</th>\n",
              "      <td>M</td>\n",
              "      <td>M</td>\n",
              "    </tr>\n",
              "    <tr>\n",
              "      <th>37</th>\n",
              "      <td>M</td>\n",
              "      <td>B</td>\n",
              "    </tr>\n",
              "    <tr>\n",
              "      <th>38</th>\n",
              "      <td>B</td>\n",
              "      <td>B</td>\n",
              "    </tr>\n",
              "    <tr>\n",
              "      <th>39</th>\n",
              "      <td>B</td>\n",
              "      <td>B</td>\n",
              "    </tr>\n",
              "    <tr>\n",
              "      <th>40</th>\n",
              "      <td>B</td>\n",
              "      <td>B</td>\n",
              "    </tr>\n",
              "    <tr>\n",
              "      <th>41</th>\n",
              "      <td>B</td>\n",
              "      <td>B</td>\n",
              "    </tr>\n",
              "    <tr>\n",
              "      <th>42</th>\n",
              "      <td>B</td>\n",
              "      <td>B</td>\n",
              "    </tr>\n",
              "    <tr>\n",
              "      <th>43</th>\n",
              "      <td>B</td>\n",
              "      <td>M</td>\n",
              "    </tr>\n",
              "    <tr>\n",
              "      <th>44</th>\n",
              "      <td>M</td>\n",
              "      <td>M</td>\n",
              "    </tr>\n",
              "    <tr>\n",
              "      <th>45</th>\n",
              "      <td>M</td>\n",
              "      <td>M</td>\n",
              "    </tr>\n",
              "    <tr>\n",
              "      <th>46</th>\n",
              "      <td>B</td>\n",
              "      <td>B</td>\n",
              "    </tr>\n",
              "    <tr>\n",
              "      <th>47</th>\n",
              "      <td>M</td>\n",
              "      <td>M</td>\n",
              "    </tr>\n",
              "    <tr>\n",
              "      <th>48</th>\n",
              "      <td>B</td>\n",
              "      <td>B</td>\n",
              "    </tr>\n",
              "    <tr>\n",
              "      <th>49</th>\n",
              "      <td>M</td>\n",
              "      <td>M</td>\n",
              "    </tr>\n",
              "    <tr>\n",
              "      <th>50</th>\n",
              "      <td>B</td>\n",
              "      <td>B</td>\n",
              "    </tr>\n",
              "    <tr>\n",
              "      <th>51</th>\n",
              "      <td>B</td>\n",
              "      <td>B</td>\n",
              "    </tr>\n",
              "    <tr>\n",
              "      <th>52</th>\n",
              "      <td>B</td>\n",
              "      <td>M</td>\n",
              "    </tr>\n",
              "    <tr>\n",
              "      <th>53</th>\n",
              "      <td>B</td>\n",
              "      <td>B</td>\n",
              "    </tr>\n",
              "    <tr>\n",
              "      <th>54</th>\n",
              "      <td>B</td>\n",
              "      <td>B</td>\n",
              "    </tr>\n",
              "    <tr>\n",
              "      <th>55</th>\n",
              "      <td>B</td>\n",
              "      <td>B</td>\n",
              "    </tr>\n",
              "    <tr>\n",
              "      <th>56</th>\n",
              "      <td>B</td>\n",
              "      <td>B</td>\n",
              "    </tr>\n",
              "    <tr>\n",
              "      <th>57</th>\n",
              "      <td>B</td>\n",
              "      <td>B</td>\n",
              "    </tr>\n",
              "    <tr>\n",
              "      <th>58</th>\n",
              "      <td>B</td>\n",
              "      <td>B</td>\n",
              "    </tr>\n",
              "    <tr>\n",
              "      <th>59</th>\n",
              "      <td>M</td>\n",
              "      <td>M</td>\n",
              "    </tr>\n",
              "    <tr>\n",
              "      <th>60</th>\n",
              "      <td>B</td>\n",
              "      <td>B</td>\n",
              "    </tr>\n",
              "    <tr>\n",
              "      <th>61</th>\n",
              "      <td>M</td>\n",
              "      <td>M</td>\n",
              "    </tr>\n",
              "    <tr>\n",
              "      <th>62</th>\n",
              "      <td>M</td>\n",
              "      <td>M</td>\n",
              "    </tr>\n",
              "    <tr>\n",
              "      <th>63</th>\n",
              "      <td>B</td>\n",
              "      <td>B</td>\n",
              "    </tr>\n",
              "    <tr>\n",
              "      <th>64</th>\n",
              "      <td>M</td>\n",
              "      <td>M</td>\n",
              "    </tr>\n",
              "    <tr>\n",
              "      <th>65</th>\n",
              "      <td>B</td>\n",
              "      <td>B</td>\n",
              "    </tr>\n",
              "    <tr>\n",
              "      <th>66</th>\n",
              "      <td>B</td>\n",
              "      <td>B</td>\n",
              "    </tr>\n",
              "    <tr>\n",
              "      <th>67</th>\n",
              "      <td>B</td>\n",
              "      <td>B</td>\n",
              "    </tr>\n",
              "    <tr>\n",
              "      <th>68</th>\n",
              "      <td>B</td>\n",
              "      <td>B</td>\n",
              "    </tr>\n",
              "    <tr>\n",
              "      <th>69</th>\n",
              "      <td>M</td>\n",
              "      <td>M</td>\n",
              "    </tr>\n",
              "    <tr>\n",
              "      <th>70</th>\n",
              "      <td>M</td>\n",
              "      <td>M</td>\n",
              "    </tr>\n",
              "    <tr>\n",
              "      <th>71</th>\n",
              "      <td>B</td>\n",
              "      <td>B</td>\n",
              "    </tr>\n",
              "    <tr>\n",
              "      <th>72</th>\n",
              "      <td>M</td>\n",
              "      <td>M</td>\n",
              "    </tr>\n",
              "    <tr>\n",
              "      <th>73</th>\n",
              "      <td>B</td>\n",
              "      <td>B</td>\n",
              "    </tr>\n",
              "    <tr>\n",
              "      <th>74</th>\n",
              "      <td>B</td>\n",
              "      <td>B</td>\n",
              "    </tr>\n",
              "    <tr>\n",
              "      <th>75</th>\n",
              "      <td>B</td>\n",
              "      <td>B</td>\n",
              "    </tr>\n",
              "    <tr>\n",
              "      <th>76</th>\n",
              "      <td>B</td>\n",
              "      <td>B</td>\n",
              "    </tr>\n",
              "    <tr>\n",
              "      <th>77</th>\n",
              "      <td>B</td>\n",
              "      <td>B</td>\n",
              "    </tr>\n",
              "    <tr>\n",
              "      <th>78</th>\n",
              "      <td>M</td>\n",
              "      <td>M</td>\n",
              "    </tr>\n",
              "    <tr>\n",
              "      <th>79</th>\n",
              "      <td>B</td>\n",
              "      <td>B</td>\n",
              "    </tr>\n",
              "    <tr>\n",
              "      <th>80</th>\n",
              "      <td>M</td>\n",
              "      <td>M</td>\n",
              "    </tr>\n",
              "    <tr>\n",
              "      <th>81</th>\n",
              "      <td>B</td>\n",
              "      <td>B</td>\n",
              "    </tr>\n",
              "    <tr>\n",
              "      <th>82</th>\n",
              "      <td>M</td>\n",
              "      <td>M</td>\n",
              "    </tr>\n",
              "    <tr>\n",
              "      <th>83</th>\n",
              "      <td>B</td>\n",
              "      <td>B</td>\n",
              "    </tr>\n",
              "    <tr>\n",
              "      <th>84</th>\n",
              "      <td>M</td>\n",
              "      <td>M</td>\n",
              "    </tr>\n",
              "    <tr>\n",
              "      <th>85</th>\n",
              "      <td>M</td>\n",
              "      <td>M</td>\n",
              "    </tr>\n",
              "    <tr>\n",
              "      <th>86</th>\n",
              "      <td>M</td>\n",
              "      <td>M</td>\n",
              "    </tr>\n",
              "    <tr>\n",
              "      <th>87</th>\n",
              "      <td>B</td>\n",
              "      <td>B</td>\n",
              "    </tr>\n",
              "    <tr>\n",
              "      <th>88</th>\n",
              "      <td>M</td>\n",
              "      <td>M</td>\n",
              "    </tr>\n",
              "    <tr>\n",
              "      <th>89</th>\n",
              "      <td>B</td>\n",
              "      <td>B</td>\n",
              "    </tr>\n",
              "    <tr>\n",
              "      <th>90</th>\n",
              "      <td>B</td>\n",
              "      <td>B</td>\n",
              "    </tr>\n",
              "    <tr>\n",
              "      <th>91</th>\n",
              "      <td>M</td>\n",
              "      <td>M</td>\n",
              "    </tr>\n",
              "    <tr>\n",
              "      <th>92</th>\n",
              "      <td>M</td>\n",
              "      <td>M</td>\n",
              "    </tr>\n",
              "    <tr>\n",
              "      <th>93</th>\n",
              "      <td>B</td>\n",
              "      <td>B</td>\n",
              "    </tr>\n",
              "    <tr>\n",
              "      <th>94</th>\n",
              "      <td>B</td>\n",
              "      <td>B</td>\n",
              "    </tr>\n",
              "    <tr>\n",
              "      <th>95</th>\n",
              "      <td>B</td>\n",
              "      <td>B</td>\n",
              "    </tr>\n",
              "    <tr>\n",
              "      <th>96</th>\n",
              "      <td>M</td>\n",
              "      <td>B</td>\n",
              "    </tr>\n",
              "    <tr>\n",
              "      <th>97</th>\n",
              "      <td>M</td>\n",
              "      <td>M</td>\n",
              "    </tr>\n",
              "    <tr>\n",
              "      <th>98</th>\n",
              "      <td>B</td>\n",
              "      <td>B</td>\n",
              "    </tr>\n",
              "    <tr>\n",
              "      <th>99</th>\n",
              "      <td>B</td>\n",
              "      <td>B</td>\n",
              "    </tr>\n",
              "    <tr>\n",
              "      <th>100</th>\n",
              "      <td>M</td>\n",
              "      <td>M</td>\n",
              "    </tr>\n",
              "    <tr>\n",
              "      <th>101</th>\n",
              "      <td>B</td>\n",
              "      <td>B</td>\n",
              "    </tr>\n",
              "    <tr>\n",
              "      <th>102</th>\n",
              "      <td>B</td>\n",
              "      <td>B</td>\n",
              "    </tr>\n",
              "    <tr>\n",
              "      <th>103</th>\n",
              "      <td>B</td>\n",
              "      <td>B</td>\n",
              "    </tr>\n",
              "    <tr>\n",
              "      <th>104</th>\n",
              "      <td>M</td>\n",
              "      <td>M</td>\n",
              "    </tr>\n",
              "    <tr>\n",
              "      <th>105</th>\n",
              "      <td>B</td>\n",
              "      <td>B</td>\n",
              "    </tr>\n",
              "    <tr>\n",
              "      <th>106</th>\n",
              "      <td>B</td>\n",
              "      <td>B</td>\n",
              "    </tr>\n",
              "    <tr>\n",
              "      <th>107</th>\n",
              "      <td>M</td>\n",
              "      <td>M</td>\n",
              "    </tr>\n",
              "    <tr>\n",
              "      <th>108</th>\n",
              "      <td>B</td>\n",
              "      <td>B</td>\n",
              "    </tr>\n",
              "    <tr>\n",
              "      <th>109</th>\n",
              "      <td>M</td>\n",
              "      <td>M</td>\n",
              "    </tr>\n",
              "    <tr>\n",
              "      <th>110</th>\n",
              "      <td>B</td>\n",
              "      <td>B</td>\n",
              "    </tr>\n",
              "    <tr>\n",
              "      <th>111</th>\n",
              "      <td>M</td>\n",
              "      <td>M</td>\n",
              "    </tr>\n",
              "    <tr>\n",
              "      <th>112</th>\n",
              "      <td>M</td>\n",
              "      <td>M</td>\n",
              "    </tr>\n",
              "    <tr>\n",
              "      <th>113</th>\n",
              "      <td>M</td>\n",
              "      <td>M</td>\n",
              "    </tr>\n",
              "    <tr>\n",
              "      <th>114</th>\n",
              "      <td>M</td>\n",
              "      <td>M</td>\n",
              "    </tr>\n",
              "    <tr>\n",
              "      <th>115</th>\n",
              "      <td>B</td>\n",
              "      <td>B</td>\n",
              "    </tr>\n",
              "    <tr>\n",
              "      <th>116</th>\n",
              "      <td>B</td>\n",
              "      <td>B</td>\n",
              "    </tr>\n",
              "    <tr>\n",
              "      <th>117</th>\n",
              "      <td>B</td>\n",
              "      <td>B</td>\n",
              "    </tr>\n",
              "    <tr>\n",
              "      <th>118</th>\n",
              "      <td>B</td>\n",
              "      <td>B</td>\n",
              "    </tr>\n",
              "    <tr>\n",
              "      <th>119</th>\n",
              "      <td>M</td>\n",
              "      <td>B</td>\n",
              "    </tr>\n",
              "    <tr>\n",
              "      <th>120</th>\n",
              "      <td>M</td>\n",
              "      <td>M</td>\n",
              "    </tr>\n",
              "    <tr>\n",
              "      <th>121</th>\n",
              "      <td>B</td>\n",
              "      <td>M</td>\n",
              "    </tr>\n",
              "    <tr>\n",
              "      <th>122</th>\n",
              "      <td>B</td>\n",
              "      <td>B</td>\n",
              "    </tr>\n",
              "    <tr>\n",
              "      <th>123</th>\n",
              "      <td>B</td>\n",
              "      <td>M</td>\n",
              "    </tr>\n",
              "    <tr>\n",
              "      <th>124</th>\n",
              "      <td>M</td>\n",
              "      <td>M</td>\n",
              "    </tr>\n",
              "    <tr>\n",
              "      <th>125</th>\n",
              "      <td>B</td>\n",
              "      <td>B</td>\n",
              "    </tr>\n",
              "    <tr>\n",
              "      <th>126</th>\n",
              "      <td>B</td>\n",
              "      <td>B</td>\n",
              "    </tr>\n",
              "    <tr>\n",
              "      <th>127</th>\n",
              "      <td>B</td>\n",
              "      <td>B</td>\n",
              "    </tr>\n",
              "    <tr>\n",
              "      <th>128</th>\n",
              "      <td>B</td>\n",
              "      <td>B</td>\n",
              "    </tr>\n",
              "    <tr>\n",
              "      <th>129</th>\n",
              "      <td>M</td>\n",
              "      <td>M</td>\n",
              "    </tr>\n",
              "    <tr>\n",
              "      <th>130</th>\n",
              "      <td>B</td>\n",
              "      <td>M</td>\n",
              "    </tr>\n",
              "    <tr>\n",
              "      <th>131</th>\n",
              "      <td>B</td>\n",
              "      <td>B</td>\n",
              "    </tr>\n",
              "    <tr>\n",
              "      <th>132</th>\n",
              "      <td>M</td>\n",
              "      <td>M</td>\n",
              "    </tr>\n",
              "    <tr>\n",
              "      <th>133</th>\n",
              "      <td>B</td>\n",
              "      <td>B</td>\n",
              "    </tr>\n",
              "    <tr>\n",
              "      <th>134</th>\n",
              "      <td>B</td>\n",
              "      <td>B</td>\n",
              "    </tr>\n",
              "    <tr>\n",
              "      <th>135</th>\n",
              "      <td>M</td>\n",
              "      <td>M</td>\n",
              "    </tr>\n",
              "    <tr>\n",
              "      <th>136</th>\n",
              "      <td>M</td>\n",
              "      <td>M</td>\n",
              "    </tr>\n",
              "    <tr>\n",
              "      <th>137</th>\n",
              "      <td>B</td>\n",
              "      <td>B</td>\n",
              "    </tr>\n",
              "    <tr>\n",
              "      <th>138</th>\n",
              "      <td>B</td>\n",
              "      <td>M</td>\n",
              "    </tr>\n",
              "    <tr>\n",
              "      <th>139</th>\n",
              "      <td>B</td>\n",
              "      <td>B</td>\n",
              "    </tr>\n",
              "    <tr>\n",
              "      <th>140</th>\n",
              "      <td>B</td>\n",
              "      <td>B</td>\n",
              "    </tr>\n",
              "    <tr>\n",
              "      <th>141</th>\n",
              "      <td>M</td>\n",
              "      <td>M</td>\n",
              "    </tr>\n",
              "    <tr>\n",
              "      <th>142</th>\n",
              "      <td>B</td>\n",
              "      <td>B</td>\n",
              "    </tr>\n",
              "    <tr>\n",
              "      <th>143</th>\n",
              "      <td>B</td>\n",
              "      <td>M</td>\n",
              "    </tr>\n",
              "    <tr>\n",
              "      <th>144</th>\n",
              "      <td>B</td>\n",
              "      <td>B</td>\n",
              "    </tr>\n",
              "    <tr>\n",
              "      <th>145</th>\n",
              "      <td>B</td>\n",
              "      <td>B</td>\n",
              "    </tr>\n",
              "    <tr>\n",
              "      <th>146</th>\n",
              "      <td>B</td>\n",
              "      <td>B</td>\n",
              "    </tr>\n",
              "    <tr>\n",
              "      <th>147</th>\n",
              "      <td>B</td>\n",
              "      <td>B</td>\n",
              "    </tr>\n",
              "    <tr>\n",
              "      <th>148</th>\n",
              "      <td>B</td>\n",
              "      <td>B</td>\n",
              "    </tr>\n",
              "    <tr>\n",
              "      <th>149</th>\n",
              "      <td>M</td>\n",
              "      <td>M</td>\n",
              "    </tr>\n",
              "    <tr>\n",
              "      <th>150</th>\n",
              "      <td>M</td>\n",
              "      <td>M</td>\n",
              "    </tr>\n",
              "    <tr>\n",
              "      <th>151</th>\n",
              "      <td>B</td>\n",
              "      <td>B</td>\n",
              "    </tr>\n",
              "    <tr>\n",
              "      <th>152</th>\n",
              "      <td>M</td>\n",
              "      <td>M</td>\n",
              "    </tr>\n",
              "    <tr>\n",
              "      <th>153</th>\n",
              "      <td>M</td>\n",
              "      <td>M</td>\n",
              "    </tr>\n",
              "    <tr>\n",
              "      <th>154</th>\n",
              "      <td>B</td>\n",
              "      <td>M</td>\n",
              "    </tr>\n",
              "    <tr>\n",
              "      <th>155</th>\n",
              "      <td>B</td>\n",
              "      <td>B</td>\n",
              "    </tr>\n",
              "    <tr>\n",
              "      <th>156</th>\n",
              "      <td>M</td>\n",
              "      <td>M</td>\n",
              "    </tr>\n",
              "    <tr>\n",
              "      <th>157</th>\n",
              "      <td>B</td>\n",
              "      <td>B</td>\n",
              "    </tr>\n",
              "    <tr>\n",
              "      <th>158</th>\n",
              "      <td>B</td>\n",
              "      <td>B</td>\n",
              "    </tr>\n",
              "    <tr>\n",
              "      <th>159</th>\n",
              "      <td>B</td>\n",
              "      <td>B</td>\n",
              "    </tr>\n",
              "    <tr>\n",
              "      <th>160</th>\n",
              "      <td>B</td>\n",
              "      <td>B</td>\n",
              "    </tr>\n",
              "    <tr>\n",
              "      <th>161</th>\n",
              "      <td>B</td>\n",
              "      <td>B</td>\n",
              "    </tr>\n",
              "    <tr>\n",
              "      <th>162</th>\n",
              "      <td>B</td>\n",
              "      <td>B</td>\n",
              "    </tr>\n",
              "    <tr>\n",
              "      <th>163</th>\n",
              "      <td>B</td>\n",
              "      <td>B</td>\n",
              "    </tr>\n",
              "    <tr>\n",
              "      <th>164</th>\n",
              "      <td>B</td>\n",
              "      <td>B</td>\n",
              "    </tr>\n",
              "    <tr>\n",
              "      <th>165</th>\n",
              "      <td>B</td>\n",
              "      <td>B</td>\n",
              "    </tr>\n",
              "    <tr>\n",
              "      <th>166</th>\n",
              "      <td>M</td>\n",
              "      <td>M</td>\n",
              "    </tr>\n",
              "    <tr>\n",
              "      <th>167</th>\n",
              "      <td>M</td>\n",
              "      <td>M</td>\n",
              "    </tr>\n",
              "    <tr>\n",
              "      <th>168</th>\n",
              "      <td>B</td>\n",
              "      <td>B</td>\n",
              "    </tr>\n",
              "    <tr>\n",
              "      <th>169</th>\n",
              "      <td>B</td>\n",
              "      <td>B</td>\n",
              "    </tr>\n",
              "    <tr>\n",
              "      <th>170</th>\n",
              "      <td>B</td>\n",
              "      <td>B</td>\n",
              "    </tr>\n",
              "  </tbody>\n",
              "</table>\n",
              "</div>"
            ],
            "text/plain": [
              "    predicted diagnosis\n",
              "0           M         M\n",
              "1           B         B\n",
              "2           B         B\n",
              "3           M         M\n",
              "4           B         B\n",
              "5           B         B\n",
              "6           B         B\n",
              "7           B         B\n",
              "8           B         B\n",
              "9           B         B\n",
              "10          M         M\n",
              "11          B         M\n",
              "12          B         B\n",
              "13          M         M\n",
              "14          B         M\n",
              "15          M         M\n",
              "16          M         M\n",
              "17          B         B\n",
              "18          B         B\n",
              "19          M         M\n",
              "20          B         B\n",
              "21          B         B\n",
              "22          B         B\n",
              "23          B         B\n",
              "24          B         M\n",
              "25          M         M\n",
              "26          B         B\n",
              "27          B         B\n",
              "28          M         M\n",
              "29          B         B\n",
              "30          B         B\n",
              "31          B         B\n",
              "32          B         B\n",
              "33          B         B\n",
              "34          B         B\n",
              "35          B         B\n",
              "36          M         M\n",
              "37          M         B\n",
              "38          B         B\n",
              "39          B         B\n",
              "40          B         B\n",
              "41          B         B\n",
              "42          B         B\n",
              "43          B         M\n",
              "44          M         M\n",
              "45          M         M\n",
              "46          B         B\n",
              "47          M         M\n",
              "48          B         B\n",
              "49          M         M\n",
              "50          B         B\n",
              "51          B         B\n",
              "52          B         M\n",
              "53          B         B\n",
              "54          B         B\n",
              "55          B         B\n",
              "56          B         B\n",
              "57          B         B\n",
              "58          B         B\n",
              "59          M         M\n",
              "60          B         B\n",
              "61          M         M\n",
              "62          M         M\n",
              "63          B         B\n",
              "64          M         M\n",
              "65          B         B\n",
              "66          B         B\n",
              "67          B         B\n",
              "68          B         B\n",
              "69          M         M\n",
              "70          M         M\n",
              "71          B         B\n",
              "72          M         M\n",
              "73          B         B\n",
              "74          B         B\n",
              "75          B         B\n",
              "76          B         B\n",
              "77          B         B\n",
              "78          M         M\n",
              "79          B         B\n",
              "80          M         M\n",
              "81          B         B\n",
              "82          M         M\n",
              "83          B         B\n",
              "84          M         M\n",
              "85          M         M\n",
              "86          M         M\n",
              "87          B         B\n",
              "88          M         M\n",
              "89          B         B\n",
              "90          B         B\n",
              "91          M         M\n",
              "92          M         M\n",
              "93          B         B\n",
              "94          B         B\n",
              "95          B         B\n",
              "96          M         B\n",
              "97          M         M\n",
              "98          B         B\n",
              "99          B         B\n",
              "100         M         M\n",
              "101         B         B\n",
              "102         B         B\n",
              "103         B         B\n",
              "104         M         M\n",
              "105         B         B\n",
              "106         B         B\n",
              "107         M         M\n",
              "108         B         B\n",
              "109         M         M\n",
              "110         B         B\n",
              "111         M         M\n",
              "112         M         M\n",
              "113         M         M\n",
              "114         M         M\n",
              "115         B         B\n",
              "116         B         B\n",
              "117         B         B\n",
              "118         B         B\n",
              "119         M         B\n",
              "120         M         M\n",
              "121         B         M\n",
              "122         B         B\n",
              "123         B         M\n",
              "124         M         M\n",
              "125         B         B\n",
              "126         B         B\n",
              "127         B         B\n",
              "128         B         B\n",
              "129         M         M\n",
              "130         B         M\n",
              "131         B         B\n",
              "132         M         M\n",
              "133         B         B\n",
              "134         B         B\n",
              "135         M         M\n",
              "136         M         M\n",
              "137         B         B\n",
              "138         B         M\n",
              "139         B         B\n",
              "140         B         B\n",
              "141         M         M\n",
              "142         B         B\n",
              "143         B         M\n",
              "144         B         B\n",
              "145         B         B\n",
              "146         B         B\n",
              "147         B         B\n",
              "148         B         B\n",
              "149         M         M\n",
              "150         M         M\n",
              "151         B         B\n",
              "152         M         M\n",
              "153         M         M\n",
              "154         B         M\n",
              "155         B         B\n",
              "156         M         M\n",
              "157         B         B\n",
              "158         B         B\n",
              "159         B         B\n",
              "160         B         B\n",
              "161         B         B\n",
              "162         B         B\n",
              "163         B         B\n",
              "164         B         B\n",
              "165         B         B\n",
              "166         M         M\n",
              "167         M         M\n",
              "168         B         B\n",
              "169         B         B\n",
              "170         B         B"
            ]
          },
          "metadata": {
            "tags": []
          },
          "execution_count": 211
        }
      ]
    },
    {
      "cell_type": "markdown",
      "metadata": {
        "id": "n6NvpdL0Zzcu"
      },
      "source": [
        "# Exercício 7. \n",
        "\n",
        "Calcule o percentual de acerto obtido."
      ]
    },
    {
      "cell_type": "code",
      "metadata": {
        "id": "2GoOE228Vidy"
      },
      "source": [
        "# Seu código\n"
      ],
      "execution_count": null,
      "outputs": []
    },
    {
      "cell_type": "markdown",
      "metadata": {
        "id": "7H9vYFPtaRbz"
      },
      "source": [
        "# Exercício 8. Classificando `new_breast`com **K=7 Vizinhos mais Próximos**\n",
        "\n",
        "Reexecute o modelo agora com **k=7 vizinhos mais próximos** e verifique o novo percentual de acerto.  \n",
        "\n"
      ]
    },
    {
      "cell_type": "code",
      "metadata": {
        "id": "O_CDsL5saRb0"
      },
      "source": [
        "# Seu código aqui \n"
      ],
      "execution_count": null,
      "outputs": []
    },
    {
      "cell_type": "markdown",
      "metadata": {
        "id": "6_NuX5FQuhOi"
      },
      "source": [
        "# **LAB SET UP**\n",
        "Execute antes de iniciar o Lab."
      ]
    },
    {
      "cell_type": "code",
      "metadata": {
        "id": "V0xgakVgemrH"
      },
      "source": [
        "#\n",
        "# set up environment Lab\n",
        "#\n",
        "\n",
        "#\n",
        "# import basics\n",
        "# \n",
        "\n",
        "import pandas                  as pd\n",
        "import numpy                   as np\n",
        "import matplotlib.pyplot       as plt\n",
        "import warnings\n",
        "import os\n",
        "import seaborn as sns\n",
        "warnings.filterwarnings(\"ignore\") \n",
        "\n",
        "#\n",
        "# Create all files for this lab: \n",
        "#\n",
        "# projects.csv\n",
        "# new_projects.csv\n",
        "# insurance.csv\n",
        "# new_insurance.csv\n",
        "# breast.csv\n",
        "# new_breast.csv\n",
        "#\n",
        "\n",
        "import pandas as pd\n",
        "projects = pd.DataFrame({ 'Ana':[1,1,0,0],\n",
        "                         'Gabriela':[1,1,0,0],\n",
        "                         'Pedro':[0,1,1,1],\n",
        "                         'Luiz':[1,1,0,1],\n",
        "                         'Status':['successed','successed','failed','failed']})\n",
        "projects.to_csv('projects.csv',index=False)\n",
        "\n",
        "new_projects = pd.DataFrame({ 'Ana':[0,1],\n",
        "                         'Gabriela':[1,1],\n",
        "                         'Pedro':[1,1],\n",
        "                         'Luiz':[0,0],\n",
        "                         'Status':['?','?']})\n",
        "new_projects.to_csv('new_projects.csv',index=False)\n",
        "\n",
        "insurance    = pd.DataFrame({ 'Age':[21,20,35,40],\n",
        "                         'Income':[5,3.5,8,12],\n",
        "                         'Car_Value':[40,40,34,60],\n",
        "                         'Years_Hab':[3,2,10,12],\n",
        "                         'Insurance':['high','high','low','low']})\n",
        "insurance.to_csv('insurance.csv',index=False)\n",
        "\n",
        "new_insurance    = pd.DataFrame({ 'Age':[19,50,23],\n",
        "                         'Income':[5,10,4],\n",
        "                         'Car_Value':[50,45,80],\n",
        "                         'Years_Hab':[1,15,1],\n",
        "                         'Insurance':['?','?','?']})\n",
        "new_insurance.to_csv('new_insurance.csv',index=False)\n",
        "\n",
        "breast = pd.read_csv('http://meusite.mackenzie.br/rogerio/TIC/breast-cancer-wisconsin.csv')\n",
        "breast = breast.drop(columns=['Unnamed: 32'])\n",
        "\n",
        "from sklearn.model_selection import train_test_split\n",
        "\n",
        "# split data into training and testing sections\n",
        "seed = 1984\n",
        "X_train, X_test, y_train, y_test = train_test_split(breast.drop(columns=['diagnosis']), breast.diagnosis, test_size=0.3, stratify=breast.diagnosis, random_state=seed)\n",
        "\n",
        "breast = pd.concat([X_train, y_train],axis=1)\n",
        "new_breast = X_test\n",
        "\n",
        "breast.to_csv('breast.csv',index=False)\n",
        "\n",
        "new_breast['diagnosis'] = '?'\n",
        "new_breast.to_csv('new_breast.csv',index=False)\n",
        "\n",
        "y_test.to_csv('new_breast_answers.csv',index=False)\n"
      ],
      "execution_count": null,
      "outputs": []
    }
  ]
}