{
  "nbformat": 4,
  "nbformat_minor": 0,
  "metadata": {
    "kernelspec": {
      "display_name": "Python 3",
      "language": "python",
      "name": "python3"
    },
    "language_info": {
      "codemirror_mode": {
        "name": "ipython",
        "version": 3
      },
      "file_extension": ".py",
      "mimetype": "text/x-python",
      "name": "python",
      "nbconvert_exporter": "python",
      "pygments_lexer": "ipython3",
      "version": "3.7.4"
    },
    "colab": {
      "name": "EADMDJ_A2_Python.ipynb",
      "provenance": [],
      "collapsed_sections": [
        "BZMmkF32xYEt",
        "bBO8cKayouUr"
      ],
      "include_colab_link": true
    }
  },
  "cells": [
    {
      "cell_type": "markdown",
      "metadata": {
        "id": "view-in-github",
        "colab_type": "text"
      },
      "source": [
        "<a href=\"https://colab.research.google.com/github/Rogerio-mack/MDJ/blob/main/EADMDJ_A2_Python.ipynb\" target=\"_parent\"><img src=\"https://colab.research.google.com/assets/colab-badge.svg\" alt=\"Open In Colab\"/></a>"
      ]
    },
    {
      "cell_type": "markdown",
      "metadata": {
        "id": "SlUTfujvouT_"
      },
      "source": [
        "<head>\n",
        "  <meta name=\"author\" content=\"Rogério de Oliveira\">\n",
        "  <meta institution=\"author\" content=\"Universidade Presbiteriana Mackenzie\">\n",
        "</head>\n",
        "\n",
        "<img src=\"http://meusite.mackenzie.br/rogerio/mackenzie_logo/UPM.2_horizontal_vermelho.jpg\" width=300, align=\"right\">\n",
        "<h1 align=left><font size = 5, style=\"color:rgb(0,0,0)\"> EAD <b>Mineração de Dados para Jogos </b> </font></h1>\n"
      ]
    },
    {
      "cell_type": "markdown",
      "metadata": {
        "id": "qfi9IKjQouUE"
      },
      "source": [
        "<h1 align=left><font size = 6, style=\"color:rgb(200,0,0)\">A2 Python Essencial para Ciência de Dados<hr>"
      ]
    },
    {
      "cell_type": "markdown",
      "metadata": {
        "id": "8XowDN9Etvef"
      },
      "source": [
        "Python é uma linguagem bastante poderosa e com muitos recursos. Nessa introdução de Python para Ciência de Dados vamos aprender apenas um conjunto de recursos mínimos que serão necessários para fazermos a maior parte de nossas análises no curso."
      ]
    },
    {
      "cell_type": "markdown",
      "metadata": {
        "id": "kuSOumUSw142"
      },
      "source": [
        "# Imports básicos *"
      ]
    },
    {
      "cell_type": "code",
      "metadata": {
        "id": "qRTKp_OVwxEq",
        "outputId": "a988ab56-f36a-4fe4-c2ac-f548407578ab",
        "colab": {
          "base_uri": "https://localhost:8080/",
          "height": 35
        }
      },
      "source": [
        "import numpy as np\n",
        "import pandas as pd\n",
        "import os          \n",
        "os.getcwd() \n"
      ],
      "execution_count": null,
      "outputs": [
        {
          "output_type": "execute_result",
          "data": {
            "application/vnd.google.colaboratory.intrinsic+json": {
              "type": "string"
            },
            "text/plain": [
              "'/content'"
            ]
          },
          "metadata": {
            "tags": []
          },
          "execution_count": 69
        }
      ]
    },
    {
      "cell_type": "markdown",
      "metadata": {
        "id": "oTM8Qhy2tqPj"
      },
      "source": [
        "# Variáveis e atribuições"
      ]
    },
    {
      "cell_type": "code",
      "metadata": {
        "id": "RyTJOsK5qdtB",
        "outputId": "26cd4e08-a227-4241-81e4-66ad88542e01",
        "colab": {
          "base_uri": "https://localhost:8080/",
          "height": 51
        }
      },
      "source": [
        "inteiro = 123\n",
        "real = np.pi\n",
        "texto1 = '123'\n",
        "texto2 = 'Led Zeppelin'\n",
        "print(type(inteiro), type(real), type(texto1), type(texto2))\n",
        "print(inteiro, real, texto1, texto2)"
      ],
      "execution_count": null,
      "outputs": [
        {
          "output_type": "stream",
          "text": [
            "<class 'int'> <class 'float'> <class 'str'> <class 'str'>\n",
            "123 3.141592653589793 123 Led Zeppelin\n"
          ],
          "name": "stdout"
        }
      ]
    },
    {
      "cell_type": "markdown",
      "metadata": {
        "id": "6IQL_3M1yq5f"
      },
      "source": [
        "## Variáveis no `ipynb` *\n",
        "\n",
        "As células de código em um Python notebook não são programas isolados, mas um só programa. O conteúdo das variáveis do notebook é global. Assim as variáveis e imports de uma célula são os mesmos ao longo de todo notebook."
      ]
    },
    {
      "cell_type": "code",
      "metadata": {
        "id": "5ZXaUya_zghz",
        "outputId": "2ce9991d-bc97-4b7b-ff66-41e609547122",
        "colab": {
          "base_uri": "https://localhost:8080/",
          "height": 34
        }
      },
      "source": [
        "x = 0; x"
      ],
      "execution_count": null,
      "outputs": [
        {
          "output_type": "execute_result",
          "data": {
            "text/plain": [
              "0"
            ]
          },
          "metadata": {
            "tags": []
          },
          "execution_count": 9
        }
      ]
    },
    {
      "cell_type": "code",
      "metadata": {
        "id": "eXmPDrYyzmq2",
        "outputId": "d0738e02-299f-49fd-af6a-9f4ec5b4248e",
        "colab": {
          "base_uri": "https://localhost:8080/",
          "height": 34
        }
      },
      "source": [
        "x = x + 1; x # rexecute várias vezes"
      ],
      "execution_count": null,
      "outputs": [
        {
          "output_type": "execute_result",
          "data": {
            "text/plain": [
              "3"
            ]
          },
          "metadata": {
            "tags": []
          },
          "execution_count": 13
        }
      ]
    },
    {
      "cell_type": "code",
      "metadata": {
        "id": "l10-Tkz5zxLr"
      },
      "source": [
        "del x"
      ],
      "execution_count": null,
      "outputs": []
    },
    {
      "cell_type": "code",
      "metadata": {
        "id": "84MVirBdzymY",
        "outputId": "15749f37-22e0-4353-f341-7739ea0dae73",
        "colab": {
          "base_uri": "https://localhost:8080/",
          "height": 34
        }
      },
      "source": [
        "x # erro! volte execute a célula 'x = 0; x' e em seguida reexecute aqui  "
      ],
      "execution_count": null,
      "outputs": [
        {
          "output_type": "execute_result",
          "data": {
            "text/plain": [
              "0"
            ]
          },
          "metadata": {
            "tags": []
          },
          "execution_count": 10
        }
      ]
    },
    {
      "cell_type": "markdown",
      "metadata": {
        "id": "4JP3gsGP0ZdZ"
      },
      "source": [
        "# Caracteres e Valores Numéricos"
      ]
    },
    {
      "cell_type": "markdown",
      "metadata": {
        "id": "BZMmkF32xYEt"
      },
      "source": [
        "### Funciona"
      ]
    },
    {
      "cell_type": "code",
      "metadata": {
        "id": "5waHa86uur4C",
        "outputId": "8cbec286-8fb3-4838-e3a4-e1743bf941ef",
        "colab": {
          "base_uri": "https://localhost:8080/"
        }
      },
      "source": [
        "inteiro = inteiro + 1\n",
        "real = real + 1\n",
        "exto1 = texto1 + '4'\n",
        "texto2 = texto2 + ': Stairway to Heaven'\n",
        "print(inteiro, real, texto1, texto2)\n",
        "print(inteiro, '\\n', real, '\\n', texto1, '\\n', '\\t'*4 , texto2)\n",
        "print('Valor real {:0.2f}'.format(real))"
      ],
      "execution_count": null,
      "outputs": [
        {
          "output_type": "stream",
          "text": [
            "124 15.141592653589793 1234 Led Zeppelin: Stairway to Heaven\n",
            "124 \n",
            " 15.141592653589793 \n",
            " 1234 \n",
            " \t\t\t\t Led Zeppelin: Stairway to Heaven\n",
            "Valor real 15.14\n"
          ],
          "name": "stdout"
        }
      ]
    },
    {
      "cell_type": "markdown",
      "metadata": {
        "id": "2UCkFdaFyWY-"
      },
      "source": [
        "### Não Funciona"
      ]
    },
    {
      "cell_type": "code",
      "metadata": {
        "id": "FVuC9GeprEtQ"
      },
      "source": [
        "texto1 = texto1 + 4 \n"
      ],
      "execution_count": null,
      "outputs": []
    },
    {
      "cell_type": "markdown",
      "metadata": {
        "id": "bBO8cKayouUr"
      },
      "source": [
        "### Integer, Float-point, Boolean "
      ]
    },
    {
      "cell_type": "code",
      "metadata": {
        "id": "PwIVdvKBouUt",
        "outputId": "40e31057-d8de-4c17-e7f4-ac38ee58663c",
        "colab": {
          "base_uri": "https://localhost:8080/"
        }
      },
      "source": [
        "print(3 * 4, 3 + 4, 3 - 4, 3 / 4, 3.14, 4.2e-4 ) \n",
        "print(type(3 * 4), type(3.14), type(4.2e-4) ) \n",
        "print(3 ** 2, 3 // 4, 3 % 4 ) \n",
        "print(4 > 3, 4 >= 3, 3 == 3.0, 3 != 4, 3 <= 4 )\n",
        "print(1 < 2 < 9) # boolean\n",
        "\n"
      ],
      "execution_count": null,
      "outputs": [
        {
          "output_type": "stream",
          "text": [
            "12 7 -1 0.75 3.14 0.00042\n",
            "<class 'int'> <class 'float'> <class 'float'>\n",
            "9 0 3\n",
            "True True True True True\n",
            "True\n"
          ],
          "name": "stdout"
        }
      ]
    },
    {
      "cell_type": "markdown",
      "metadata": {
        "id": "MwYZaE9rd2Pm"
      },
      "source": [
        "### Math functions"
      ]
    },
    {
      "cell_type": "code",
      "metadata": {
        "id": "Ud0GcfPXouUy",
        "outputId": "52f9ecd1-72c8-49c1-eb49-0f3ff0b119f1",
        "colab": {
          "base_uri": "https://localhost:8080/",
          "height": 85
        }
      },
      "source": [
        "import math               \n",
        "# also in math module: pi, exp, log, sin, cos, tan, ceil, floor, and more\n",
        "\n",
        "print(math.pi)            # pi \n",
        "print(math.exp(1))        # e\n",
        "\n",
        "print(5 % 2)\n",
        "print(np.mod(55,2))\n",
        "\n",
        "\n"
      ],
      "execution_count": null,
      "outputs": [
        {
          "output_type": "stream",
          "text": [
            "3.141592653589793\n",
            "2.718281828459045\n",
            "1\n",
            "1\n"
          ],
          "name": "stdout"
        }
      ]
    },
    {
      "cell_type": "markdown",
      "metadata": {
        "id": "RDwLsBxk1JYj"
      },
      "source": [
        "### Strings *\n",
        "\n",
        "Strings são estruturas **imutáveis**. Além disso note a indexação dos *slices* de strings:\n",
        "\n",
        "`str[ inicio : tamanho ]` \n",
        "ou\n",
        "`str[ inicio : fim+1 ]` \n"
      ]
    },
    {
      "cell_type": "code",
      "metadata": {
        "id": "YfIiwfR71MaH",
        "outputId": "65090ca8-65ba-4c9a-b2ee-e8aa1e4cac98",
        "colab": {
          "base_uri": "https://localhost:8080/",
          "height": 51
        }
      },
      "source": [
        "print(texto2[0:12])\n",
        "print('0123456789012'[0:12])"
      ],
      "execution_count": null,
      "outputs": [
        {
          "output_type": "stream",
          "text": [
            "Led Zeppelin\n",
            "012345678901\n"
          ],
          "name": "stdout"
        }
      ]
    },
    {
      "cell_type": "markdown",
      "metadata": {
        "id": "LbKjbRuaouVL"
      },
      "source": [
        "### String Operations *\n",
        "\n",
        "Aproveite para entender como buscar ajudar aos comandos na internet.\n",
        "\n",
        "Experimente:\n",
        "\n",
        "> **Google**: 'How to change a string to lower case in Python'\n",
        "\n",
        "> **Google**: 'How to find a string in a text in Python' \n",
        "\n",
        "Ou experimente:\n",
        "\n",
        "https://www.w3schools.com/python/default.asp\n",
        "\n",
        "https://docs.python.org/3/ > Library Reference\n"
      ]
    },
    {
      "cell_type": "code",
      "metadata": {
        "scrolled": true,
        "id": "Pugx1dQpouVM",
        "outputId": "ba9099b7-07d9-473b-ef35-400fd177e5cb",
        "colab": {
          "base_uri": "https://localhost:8080/",
          "height": 187
        }
      },
      "source": [
        "str1 ='A arte existe porque a vida não basta. – Ferreira Gullar'\n",
        "\n",
        "print(str1.find('arte'))\n",
        "print(str1.lower())\n",
        "str2 = str1.replace('arte','life')\n",
        "print(str2)\n",
        "\n",
        "print(str(4.2e-4)) \n",
        "\n",
        "# avançado, você pode saltar isso se quiser\n",
        "str1 = 'love'\n",
        "str2 = 'hate'\n",
        "print(str1, str2)\n",
        "print(str1 == str2)\n",
        "print(str1 is str2) \n",
        "str1 = str2\n",
        "print(str1, str2)\n",
        "print(str1 == str2)\n",
        "print(str1 is str2) # e por isso imutável\n"
      ],
      "execution_count": null,
      "outputs": [
        {
          "output_type": "stream",
          "text": [
            "2\n",
            "a arte existe porque a vida não basta. – ferreira gullar\n",
            "A life existe porque a vida não basta. – Ferreira Gullar\n",
            "0.00042\n",
            "love hate\n",
            "False\n",
            "False\n",
            "hate hate\n",
            "True\n",
            "True\n"
          ],
          "name": "stdout"
        }
      ]
    },
    {
      "cell_type": "markdown",
      "metadata": {
        "id": "11Okm16d15H3"
      },
      "source": [
        "### Não funciona"
      ]
    },
    {
      "cell_type": "code",
      "metadata": {
        "id": "A27Bkh2V17bp"
      },
      "source": [
        "texto2[0:2] = 'x'"
      ],
      "execution_count": null,
      "outputs": []
    },
    {
      "cell_type": "markdown",
      "metadata": {
        "id": "j3S7qoJTouUb"
      },
      "source": [
        "# Print & Input\n",
        "\n"
      ]
    },
    {
      "cell_type": "code",
      "metadata": {
        "id": "AajnwWcebwRB",
        "outputId": "94cab25c-cbae-4634-ee0b-a7eaee9dc1ac",
        "colab": {
          "base_uri": "https://localhost:8080/",
          "height": 102
        }
      },
      "source": [
        "# Print & Input...\n",
        "text = input('Entre com um texto: ')\n",
        "print(type(text))\n",
        "numero = float(input('Entre com um número: '))\n",
        "\n",
        "print('Seu texto: ', text, '\\n', 'Seu número: ', numero)"
      ],
      "execution_count": null,
      "outputs": [
        {
          "output_type": "stream",
          "text": [
            "Entre com um texto: 12\n",
            "<class 'str'>\n",
            "Entre com um número: 12\n",
            "Seu texto:  12 \n",
            " Seu número:  12.0\n"
          ],
          "name": "stdout"
        }
      ]
    },
    {
      "cell_type": "markdown",
      "metadata": {
        "id": "ZAvDpRw6N2lT"
      },
      "source": [
        "# Controlando o Fluxo do Programa"
      ]
    },
    {
      "cell_type": "markdown",
      "metadata": {
        "id": "pFNaHFSEtNow"
      },
      "source": [
        "## If-Then-Else *\n",
        "\n",
        "Note que em Python as instruções **aninhadas** são **identadas** (*tab*), o que corresponde ao `{}` de linguagens como Java e C. Assim os comandos *aninhados* à condição ou laço do programa devem estar à direita do comando inicial da condição ou laço.\n",
        "\n",
        "```\n",
        "Condição 1...\n",
        " Comando A...\n",
        " Comando B...\n",
        " Condição 2...\n",
        "   Comando C...\n",
        "\n",
        " Comando D...\n",
        "\n",
        "Comando E \n",
        "```\n",
        "\n",
        "Comando D executa dentro da condição 1, mas fora da condição 2.\n",
        "\n"
      ]
    },
    {
      "cell_type": "code",
      "metadata": {
        "id": "10t2mTyQouWI",
        "outputId": "cdec37ea-0ebf-46b7-f3b8-1fc3364ad4a3",
        "colab": {
          "base_uri": "https://localhost:8080/",
          "height": 34
        }
      },
      "source": [
        "a = 1964\n",
        "b = 1984\n",
        "if b > a:\n",
        "  print(\"b is greater than a\")\n",
        "else:\n",
        "  print(\"a is greater than b\")  \n",
        "\n",
        "# # avançado, você pode saltar isso se quiser  \n",
        "if b > a:\n",
        "  print(\"b is greater than a\")\n",
        "elif a == b:\n",
        "  print(\"a and b are equal\")\n",
        "else:\n",
        "  print(\"a is greater than b\")\n",
        "\n",
        "\n",
        "\n",
        "\n",
        "\n",
        "\n",
        "  \n",
        "\n",
        "  \n",
        "\n",
        "\n",
        "\n"
      ],
      "execution_count": null,
      "outputs": [
        {
          "output_type": "stream",
          "text": [
            "b is greater than a\n"
          ],
          "name": "stdout"
        }
      ]
    },
    {
      "cell_type": "markdown",
      "metadata": {
        "id": "fDIvl1BCouWM"
      },
      "source": [
        "## For & While *\n",
        "\n",
        "Vamos dar preferência ao uso do `for`.\n"
      ]
    },
    {
      "cell_type": "code",
      "metadata": {
        "id": "f4JG3Y2AouWO"
      },
      "source": [
        "for i in range(5): \n",
        "  print(i)\n",
        "  if i == 3:\n",
        "    break\n",
        "\n",
        "for i in [12,18,84]:\n",
        "    print(i)\n",
        "  \n"
      ],
      "execution_count": null,
      "outputs": []
    },
    {
      "cell_type": "code",
      "metadata": {
        "id": "4SBHpLUiPC-D"
      },
      "source": [
        "i = 1\n",
        "while i < 6:\n",
        "  print(i)\n",
        "  if i == 3:\n",
        "    break\n",
        "  i += 1"
      ],
      "execution_count": null,
      "outputs": []
    },
    {
      "cell_type": "markdown",
      "metadata": {
        "id": "5incAwfJouWS"
      },
      "source": [
        "## Funções\n",
        "\n",
        "Nossos programas não precisarão necessariamente de *criar* funções, mas é comum a chamada de funções e o seu uso pode permitir deixar o código mais modular e enxuto. \n"
      ]
    },
    {
      "cell_type": "code",
      "metadata": {
        "id": "43Mk7FeNouWU",
        "outputId": "7a295374-02c4-4bf7-ca1a-237e23dc5a76",
        "colab": {
          "base_uri": "https://localhost:8080/",
          "height": 34
        }
      },
      "source": [
        "\n",
        "def mymax(a,b):\n",
        "  if a > b:\n",
        "    return a\n",
        "  else:\n",
        "    return b\n",
        "\n",
        "mymax(1984,1964)"
      ],
      "execution_count": null,
      "outputs": [
        {
          "output_type": "execute_result",
          "data": {
            "text/plain": [
              "1984"
            ]
          },
          "metadata": {
            "tags": []
          },
          "execution_count": 43
        }
      ]
    },
    {
      "cell_type": "markdown",
      "metadata": {
        "id": "rSR3gzKFPRcH"
      },
      "source": [
        "# Estruturas de Dados *\n",
        "\n",
        "Estruturas de dados como Lists, Sets, Tuples, Sequencies e Dictionary desempenham um papel fundamental tanto para programação em geral como para aplicações mais avançadas como a análise de dados. \n",
        "\n",
        "## Coleções\n",
        "\n",
        "Existem quatro tipos de dados de coleções em Python:\n",
        "\n",
        "- Lista (**list**) é uma coleção que é ordenada e mutável. Permite membros duplicados.\n",
        "- Tupla (**tuple**) é uma coleção que é ordenada e imutável. Permite membros duplicados.\n",
        "- Conjunto (**set**) é uma coleção não ordenada e não indexada. Nenhum membro duplicado.\n",
        "- Dicionário (**dictionary**) é uma coleção desordenada, mutável e indexada. Nenhum membro duplicado.\n",
        "\n",
        "Vamos nos deter aqui apenas nas estruturas de listas e tuplas que terão mais utilidade para os nossos propósitos."
      ]
    },
    {
      "cell_type": "markdown",
      "metadata": {
        "id": "tECT16U2ouVX"
      },
      "source": [
        "## List *\n",
        "\n",
        "Lista (**list**) é uma coleção que é **ordenada** e **mutável**. Permite membros **duplicados**. Associada a lista você encontra uma série métodos que implementam funções úteis para esses objetos. "
      ]
    },
    {
      "cell_type": "code",
      "metadata": {
        "id": "ee3FM2LxR5Ot"
      },
      "source": [
        "# avançado, você pode saltar isso se quiser\n",
        "mylist = ['A', 'B', 'C', 'A', 'B']\n",
        "help(mylist)\n",
        "# dir(mylist)"
      ],
      "execution_count": null,
      "outputs": []
    },
    {
      "cell_type": "code",
      "metadata": {
        "id": "EkLCApTBouVe",
        "outputId": "55446b09-900d-4a20-e216-a0af400862b2",
        "colab": {
          "base_uri": "https://localhost:8080/",
          "height": 119
        }
      },
      "source": [
        "mylist = ['A', 'B', 'C', 'A', 'B']\n",
        "\n",
        "len(mylist)\n",
        "\n",
        "mylist.count('B')\n",
        "\n",
        "mylist.index('B')\n",
        "mylist.index('B', 2)  \n",
        "\n",
        "mylist.append('D')\n",
        "\n",
        "mylist.sort()\n",
        "mylist.insert(1,'X') \n",
        "\n",
        "del mylist[0:1] # o mesmo que del fruits[0]\n",
        "mylist.remove('B') # somente o primeiro elemento\n",
        "\n",
        "mylist[1] = 'ZZ'\n",
        "\n",
        "mylist = ['A', 'B', 'C', 'A', 'B']\n",
        "print('A' in mylist)\n",
        "if 'A' in mylist:\n",
        "  print('Sim, A está na lista')\n",
        "\n",
        "# avançado, você pode saltar isso se quiser\n",
        "mylist = [[1,2,3], [11,22,33], [9,9,9]]\n",
        "print(mylist[1])  # [11,22,33]\n",
        "print(mylist[1][0])  # 11\n",
        "\n",
        "# avançado, você pode saltar isso se quiser\n",
        "mylist = ['A', 'B', 'C', 'A', 'B']\n",
        "mylist1 = mylist            # NÃO USE\n",
        "mylist2 = mylist.copy()     # USE\n",
        "mylist.remove('B')\n",
        "print(mylist1) # ['A', 'C', 'A', 'B']\n",
        "print(mylist2) # ['A', 'B', 'C', 'A', 'B']\n",
        "\n"
      ],
      "execution_count": null,
      "outputs": [
        {
          "output_type": "stream",
          "text": [
            "[11, 22, 33]\n",
            "11\n",
            "True\n",
            "Sim, A está na lista\n",
            "['A', 'C', 'A', 'B']\n",
            "['A', 'B', 'C', 'A', 'B']\n"
          ],
          "name": "stdout"
        }
      ]
    },
    {
      "cell_type": "code",
      "metadata": {
        "id": "1SOQIXp8VIgO",
        "outputId": "def6167a-19ca-4075-eb83-8cf53b326906",
        "colab": {
          "base_uri": "https://localhost:8080/",
          "height": 371
        }
      },
      "source": [
        "# avançado, você pode saltar isso se quiser\n",
        "from IPython.display import IFrame\n",
        "url = \"https://pythontutor.com/iframe-embed.html#code=mylist%20%3D%20%5B'A',%20'B',%20'C',%20'A',%20'B'%5D%0Amylist1%20%3D%20mylist%20%20%20%20%20%20%20%20%20%20%20%20%23%20N%C3%83O%20USE%0Amylist2%20%3D%20mylist.copy%28%29%20%20%20%20%20%23%20USE%0Amylist.remove%28'B'%29%0Aprint%28mylist1%29%20%23%20%5B'A',%20'C',%20'A',%20'B'%5D%0Aprint%28mylist2%29%20%23%20%5B'A',%20'B',%20'C',%20'A',%20'B'%5D&codeDivHeight=400&codeDivWidth=350&cumulative=false&curInstr=0&heapPrimitives=nevernest&origin=opt-frontend.js&py=3&rawInputLstJSON=%5B%5D&textReferences=false\"\n",
        "IFrame(url, width='1000', height=350)\n"
      ],
      "execution_count": null,
      "outputs": [
        {
          "output_type": "execute_result",
          "data": {
            "text/html": [
              "\n",
              "        <iframe\n",
              "            width=\"1000\"\n",
              "            height=\"350\"\n",
              "            src=\"https://pythontutor.com/iframe-embed.html#code=mylist%20%3D%20%5B'A',%20'B',%20'C',%20'A',%20'B'%5D%0Amylist1%20%3D%20mylist%20%20%20%20%20%20%20%20%20%20%20%20%23%20N%C3%83O%20USE%0Amylist2%20%3D%20mylist.copy%28%29%20%20%20%20%20%23%20USE%0Amylist.remove%28'B'%29%0Aprint%28mylist1%29%20%23%20%5B'A',%20'C',%20'A',%20'B'%5D%0Aprint%28mylist2%29%20%23%20%5B'A',%20'B',%20'C',%20'A',%20'B'%5D&codeDivHeight=400&codeDivWidth=350&cumulative=false&curInstr=0&heapPrimitives=nevernest&origin=opt-frontend.js&py=3&rawInputLstJSON=%5B%5D&textReferences=false\"\n",
              "            frameborder=\"0\"\n",
              "            allowfullscreen\n",
              "        ></iframe>\n",
              "        "
            ],
            "text/plain": [
              "<IPython.lib.display.IFrame at 0x7f2162e4acf8>"
            ]
          },
          "metadata": {
            "tags": []
          },
          "execution_count": 53
        }
      ]
    },
    {
      "cell_type": "markdown",
      "metadata": {
        "id": "Zn4bWeeuouVp"
      },
      "source": [
        "## Percorrendo uma lista *\n",
        "\n",
        "Existem basicamente duas forma de percorrer uma lista.\n",
        "\n",
        "* **Por índice**, empregue quando precisar do índice (posição) ou alterar os elementos \n",
        "* **Por iterador**, empregue apenas para recuperar (ler) os elementos\n",
        "\n",
        "\n"
      ]
    },
    {
      "cell_type": "code",
      "metadata": {
        "id": "L2nN1HjGouVq",
        "outputId": "30d50324-20e0-42c8-92de-2e03ecb22859",
        "colab": {
          "base_uri": "https://localhost:8080/",
          "height": 187
        }
      },
      "source": [
        "mylist = ['A', 'B', 'C', 'A', 'B']\n",
        " \n",
        "for i in range(len(mylist)):\n",
        "    print(i, mylist[i])\n",
        "\n",
        "for item in mylist:\n",
        "    print(item) \n",
        "    \n",
        "   "
      ],
      "execution_count": null,
      "outputs": [
        {
          "output_type": "stream",
          "text": [
            "0 A\n",
            "1 B\n",
            "2 C\n",
            "3 A\n",
            "4 B\n",
            "A\n",
            "B\n",
            "C\n",
            "A\n",
            "B\n"
          ],
          "name": "stdout"
        }
      ]
    },
    {
      "cell_type": "code",
      "metadata": {
        "id": "CLZzooKIdxiv",
        "outputId": "b8abcd0d-8771-42a3-8051-51089c5707f6",
        "colab": {
          "base_uri": "https://localhost:8080/",
          "height": 371
        }
      },
      "source": [
        "# avançado, você pode saltar isso se quiser\n",
        "from IPython.display import IFrame\n",
        "url = \"https://pythontutor.com/iframe-embed.html#code=mylist%20%3D%20%5B'A',%20'B',%20'C',%20'A',%20'B'%5D%0A%20%0Afor%20i%20in%20range%28len%28mylist%29%29%3A%0A%20%20%20%20print%28i,%20mylist%5Bi%5D%29%0A%0Afor%20item%20in%20mylist%3A%0A%20%20%20%20print%28item%29%20%0A%0A%20%20%20%20%0A%20%20%20&codeDivHeight=400&codeDivWidth=350&cumulative=false&curInstr=23&heapPrimitives=nevernest&origin=opt-frontend.js&py=3&rawInputLstJSON=%5B%5D&textReferences=false\"\n",
        "IFrame(url, width='1000', height=350)\n"
      ],
      "execution_count": null,
      "outputs": [
        {
          "output_type": "execute_result",
          "data": {
            "text/html": [
              "\n",
              "        <iframe\n",
              "            width=\"1000\"\n",
              "            height=\"350\"\n",
              "            src=\"https://pythontutor.com/iframe-embed.html#code=mylist%20%3D%20%5B'A',%20'B',%20'C',%20'A',%20'B'%5D%0A%20%0Afor%20i%20in%20range%28len%28mylist%29%29%3A%0A%20%20%20%20print%28i,%20mylist%5Bi%5D%29%0A%0Afor%20item%20in%20mylist%3A%0A%20%20%20%20print%28item%29%20%0A%0A%20%20%20%20%0A%20%20%20&codeDivHeight=400&codeDivWidth=350&cumulative=false&curInstr=23&heapPrimitives=nevernest&origin=opt-frontend.js&py=3&rawInputLstJSON=%5B%5D&textReferences=false\"\n",
              "            frameborder=\"0\"\n",
              "            allowfullscreen\n",
              "        ></iframe>\n",
              "        "
            ],
            "text/plain": [
              "<IPython.lib.display.IFrame at 0x7f2162d9bb00>"
            ]
          },
          "metadata": {
            "tags": []
          },
          "execution_count": 64
        }
      ]
    },
    {
      "cell_type": "markdown",
      "metadata": {
        "id": "sC5hqb0fZ3M1"
      },
      "source": [
        "## Populando uma lista *\n"
      ]
    },
    {
      "cell_type": "code",
      "metadata": {
        "id": "wkk_jCtGZ3M5",
        "outputId": "979c7666-3eac-4946-a1a9-9321d678eb62",
        "colab": {
          "base_uri": "https://localhost:8080/",
          "height": 34
        }
      },
      "source": [
        "mylist = []\n",
        " \n",
        "for elem in ['Beatriz', 'Aline', 'Adriana', 'Daniel']:\n",
        "    mylist.append(elem)\n",
        "\n",
        "print(mylist)\n",
        "\n",
        "  "
      ],
      "execution_count": null,
      "outputs": [
        {
          "output_type": "stream",
          "text": [
            "['Beatriz', 'Aline', 'Adriana', 'Daniel']\n"
          ],
          "name": "stdout"
        }
      ]
    },
    {
      "cell_type": "code",
      "metadata": {
        "id": "Q_KiK7VyeWIQ",
        "outputId": "4c4a1625-769c-4d73-a57b-c6b2873c1c41",
        "colab": {
          "base_uri": "https://localhost:8080/",
          "height": 371
        }
      },
      "source": [
        "# avançado, você pode saltar isso se quiser\n",
        "from IPython.display import IFrame\n",
        "url = \"https://pythontutor.com/iframe-embed.html#code=mylist%20%3D%20%5B%5D%0A%20%0Afor%20elem%20in%20%5B'Beatriz',%20'Aline',%20'Adriana',%20'Daniel'%5D%3A%0A%20%20%20%20mylist.append%28elem%29%0A%0Aprint%28mylist%29%0A%20%20%20%20%0A%20%20%20&codeDivHeight=400&codeDivWidth=350&cumulative=false&curInstr=11&heapPrimitives=nevernest&origin=opt-frontend.js&py=3&rawInputLstJSON=%5B%5D&textReferences=false\"\n",
        "IFrame(url, width='1000', height=350)\n"
      ],
      "execution_count": null,
      "outputs": [
        {
          "output_type": "execute_result",
          "data": {
            "text/html": [
              "\n",
              "        <iframe\n",
              "            width=\"1000\"\n",
              "            height=\"350\"\n",
              "            src=\"https://pythontutor.com/iframe-embed.html#code=mylist%20%3D%20%5B%5D%0A%20%0Afor%20elem%20in%20%5B'Beatriz',%20'Aline',%20'Adriana',%20'Daniel'%5D%3A%0A%20%20%20%20mylist.append%28elem%29%0A%0Aprint%28mylist%29%0A%20%20%20%20%0A%20%20%20&codeDivHeight=400&codeDivWidth=350&cumulative=false&curInstr=11&heapPrimitives=nevernest&origin=opt-frontend.js&py=3&rawInputLstJSON=%5B%5D&textReferences=false\"\n",
              "            frameborder=\"0\"\n",
              "            allowfullscreen\n",
              "        ></iframe>\n",
              "        "
            ],
            "text/plain": [
              "<IPython.lib.display.IFrame at 0x7f2162d9b908>"
            ]
          },
          "metadata": {
            "tags": []
          },
          "execution_count": 65
        }
      ]
    },
    {
      "cell_type": "markdown",
      "metadata": {
        "id": "1fJXhUmiouV8"
      },
      "source": [
        "## Dictionary *\n",
        "\n",
        "Dicionário (**dictionary**) é uma coleção desordenada, mutável e indexada. Nenhum membro duplicado. Você já teve algum contato com uma estrutura de dados `JSON` essa uma estrutura bastante semelhante em Python."
      ]
    },
    {
      "cell_type": "code",
      "metadata": {
        "id": "_k8p8tFDouV9",
        "outputId": "e2ece05c-bad6-484f-831f-3212897be514",
        "colab": {
          "base_uri": "https://localhost:8080/",
          "height": 51
        }
      },
      "source": [
        "mydict = {'Beatriz':1978, 'Aline':1987, 'Adriana':1984, 'Daniel':1996} \n",
        "  \n",
        "print(mydict.keys())\n",
        "\n",
        "print(mydict['Adriana'])   \n",
        "\n",
        "\n"
      ],
      "execution_count": null,
      "outputs": [
        {
          "output_type": "stream",
          "text": [
            "dict_keys(['Beatriz', 'Aline', 'Adriana', 'Daniel'])\n",
            "1984\n"
          ],
          "name": "stdout"
        }
      ]
    },
    {
      "cell_type": "markdown",
      "metadata": {
        "id": "XmJSMfvmbQac"
      },
      "source": [
        "## Percorrendo um Dicionário *"
      ]
    },
    {
      "cell_type": "code",
      "metadata": {
        "id": "ytthr2VQbZ3V",
        "outputId": "1f098578-9433-4b23-cfc2-50ea3106bf89",
        "colab": {
          "base_uri": "https://localhost:8080/",
          "height": 85
        }
      },
      "source": [
        "for item in mydict:\n",
        "    print(item, mydict[item])\n",
        "    \n"
      ],
      "execution_count": null,
      "outputs": [
        {
          "output_type": "stream",
          "text": [
            "Beatriz 1978\n",
            "Aline 1987\n",
            "Adriana 1984\n",
            "Daniel 1996\n"
          ],
          "name": "stdout"
        }
      ]
    },
    {
      "cell_type": "markdown",
      "metadata": {
        "id": "iAnghYWGbsP2"
      },
      "source": [
        "## Populando um dicionário *"
      ]
    },
    {
      "cell_type": "code",
      "metadata": {
        "id": "on7R1B5Xb6IQ",
        "outputId": "2c85b4c5-99e5-457b-f6a6-9f5f69a16c59",
        "colab": {
          "base_uri": "https://localhost:8080/",
          "height": 34
        }
      },
      "source": [
        "lista_nomes = [ 'Carolina', 'Henrique' ]\n",
        "lista_niver = [ 2001, 2005 ]\n",
        "\n",
        "mydict = {}\n",
        "\n",
        "for i in range(len(lista_nomes)): \n",
        "  if lista_nomes[i] not in mydict.keys(): # Se não está no dicionário acrescenta\n",
        "    mydict[lista_nomes[i]] = lista_niver[i]\n",
        "\n",
        "if 'Kate' not in mydict.keys():           # Se não está no dicionário acrescenta\n",
        "  mydict['kate'] = 2002\n",
        "\n",
        "print(mydict)"
      ],
      "execution_count": null,
      "outputs": [
        {
          "output_type": "stream",
          "text": [
            "{'Carolina': 2001, 'Henrique': 2005, 'kate': 2002}\n"
          ],
          "name": "stdout"
        }
      ]
    },
    {
      "cell_type": "markdown",
      "metadata": {
        "id": "hlt2vO94ouWa"
      },
      "source": [
        "## File Handling\n",
        "\n"
      ]
    },
    {
      "cell_type": "code",
      "metadata": {
        "id": "DEet1o7iouWc",
        "outputId": "0c4a3108-56a2-460f-a20f-b3056570b6ac",
        "colab": {
          "base_uri": "https://localhost:8080/",
          "height": 34
        }
      },
      "source": [
        "note = ['This is a note'] \n",
        "\n",
        "f = open(\"note.txt\", \"w\") \n",
        "for line in note:\n",
        "    f.write(line)\n",
        "f.close()\n",
        "\n",
        "f = open(\"note.txt\", \"r\")\n",
        "for line in f:\n",
        "    print(line)\n",
        "    \n"
      ],
      "execution_count": null,
      "outputs": [
        {
          "output_type": "stream",
          "text": [
            "This is a note\n"
          ],
          "name": "stdout"
        }
      ]
    },
    {
      "cell_type": "markdown",
      "metadata": {
        "id": "JKDJ6cQwouWg"
      },
      "source": [
        "### Acesso dados Web \n",
        "\n"
      ]
    },
    {
      "cell_type": "code",
      "metadata": {
        "id": "eQhcsWvHouWj",
        "outputId": "2682c0af-ed5b-40f2-a741-d32592629ad2",
        "colab": {
          "base_uri": "https://localhost:8080/",
          "height": 527
        }
      },
      "source": [
        "import urllib.request  \n",
        "\n",
        "data = urllib.request.urlopen('http://meusite.mackenzie.br/rogerio/TIC/PlayBallcsv.csv')\n",
        "\n",
        "for line in data:\n",
        "    print(line.decode('utf-8'))"
      ],
      "execution_count": null,
      "outputs": [
        {
          "output_type": "stream",
          "text": [
            "Day,Outlook,Temperature,Humidity,Wind,Play ball\r\n",
            "\n",
            "D1,Sunny,Hot,High,Weak,No\r\n",
            "\n",
            "D2,Sunny,Hot,High,Strong,No\r\n",
            "\n",
            "D3,Overcast,Hot,High,Weak,Yes\r\n",
            "\n",
            "D4,Rain,Mild,High,Weak,Yes\r\n",
            "\n",
            "D5,Rain,Cool,Normal,Weak,Yes\r\n",
            "\n",
            "D6,Rain,Cool,Normal,Strong,No\r\n",
            "\n",
            "D7,Overcast,Cool,Normal,Strong,Yes\r\n",
            "\n",
            "D8,Sunny,Mild,High,Weak,No\r\n",
            "\n",
            "D9,Sunny,Cool,Normal,Weak,Yes\r\n",
            "\n",
            "D10,Rain,Mild,Normal,Weak,Yes\r\n",
            "\n",
            "D11,Sunny,Mild,Normal,Strong,Yes\r\n",
            "\n",
            "D12,Overcast,Mild,High,Strong,Yes\r\n",
            "\n",
            "D13,Overcast,Hot,Normal,Weak,Yes\r\n",
            "\n",
            "D14,Rain,Mild,High,Strong,No\r\n",
            "\n"
          ],
          "name": "stdout"
        }
      ]
    },
    {
      "cell_type": "markdown",
      "metadata": {
        "id": "yCSClyJ8ouWs"
      },
      "source": [
        "## Numpy *\n",
        "\n",
        "Talvez você não tenha notado. Mas o Python não vetores ou matrizes. A biblioteca `numpy` implementa então essas funções.\n",
        "\n",
        "Para nossos propósitos será suficiente o uso de vetores e algumas poucas funções do `numpy`, mas aplicações mais sofisticadas podem requerem um domínio maior dessa biblioteca numérica.\n",
        "\n",
        "Os vetores do `numpy` operam como listas indexadas e você pode empregar os mesmos códigos de listas para **percorrer** e **popular** vetores `numpy`."
      ]
    },
    {
      "cell_type": "code",
      "metadata": {
        "id": "5YLuCzPDouWt",
        "outputId": "4fe2f55a-6162-4a1e-fb47-06dfa2d9a1ab",
        "colab": {
          "base_uri": "https://localhost:8080/",
          "height": 51
        }
      },
      "source": [
        "import numpy as np\n",
        "\n",
        "x = np.array([1,2,3])\n",
        "x_list = x.tolist()\n",
        "\n",
        "x = x * 2 + 1\n",
        "# x_list = x_list * 2 + 1 # TypeError: can only concatenate list (not \"int\") to list\n",
        "\n",
        "np.random.seed(1984) # semente de geração aleatória\n",
        "x = np.array(np.random.randint(low=1, high=6, size=10))\n",
        "print(x)\n",
        "\n",
        "x = np.array([1,2,3])\n",
        "np.mean(x)\n",
        "np.sum(x)\n",
        "np.power(x,2)\n",
        "\n",
        "x = np.insert(x,len(x),4) # Note: NÂO FAZ INPLACE\n",
        "x = np.delete(x,len(x)-1) # Note: NÂO FAZ INPLACE\n",
        "x = np.append(x,[4,5,6])\n",
        "x[0] = 9 \n",
        "x\n"
      ],
      "execution_count": null,
      "outputs": [
        {
          "output_type": "stream",
          "text": [
            "[5 4 2 1 1 3 3 2 3 1]\n"
          ],
          "name": "stdout"
        },
        {
          "output_type": "execute_result",
          "data": {
            "text/plain": [
              "array([9, 2, 3, 4, 5, 6])"
            ]
          },
          "metadata": {
            "tags": []
          },
          "execution_count": 70
        }
      ]
    },
    {
      "cell_type": "markdown",
      "metadata": {
        "id": "rloAubrok_Gn"
      },
      "source": [
        "# **Exercício 1 (resolvido)**\n",
        "\n",
        "Dado o valor de entrada `a`. Encontre a posição e o primeiro maior valor que a na lista de valores ordenados `x`."
      ]
    },
    {
      "cell_type": "code",
      "metadata": {
        "id": "fX2Od2smlHNO",
        "outputId": "47412456-b02a-4d15-9d5f-de010dd95d44",
        "colab": {
          "base_uri": "https://localhost:8080/",
          "height": 153
        }
      },
      "source": [
        "import random\n",
        "random.seed(1984)\n",
        "x = np.sort(random.sample(range(1, 1000), 100))\n",
        "print(x)\n",
        "\n",
        "a = int(input('Entre com um valor entre 1 e 999: '))\n",
        "\n",
        "for i in range(len(x)):\n",
        "  if x[i] >= a:\n",
        "    print('O ', i, '-ésimo valor, igual a ', x[i], ' , é o primeiro valor maior que ', a )    \n",
        "    break\n"
      ],
      "execution_count": null,
      "outputs": [
        {
          "output_type": "stream",
          "text": [
            "[ 17  51  52  73  88  98 113 136 151 154 169 177 187 192 194 200 211 222\n",
            " 250 258 261 283 296 314 317 323 327 336 348 352 366 372 373 382 396 397\n",
            " 404 409 417 419 446 474 485 498 507 517 521 523 527 528 532 537 539 560\n",
            " 579 616 622 625 626 640 643 648 653 654 655 661 671 680 693 696 704 727\n",
            " 739 761 767 777 798 802 804 823 827 830 848 851 869 870 877 884 890 912\n",
            " 914 917 921 922 936 953 954 963 985 990]\n",
            "Entre com um valor entre 1 e 999: 12\n",
            "O  0 -ésimo valor,  17  é o primeiro valor maior que  12\n"
          ],
          "name": "stdout"
        }
      ]
    },
    {
      "cell_type": "markdown",
      "metadata": {
        "id": "xmT613e1pkIY"
      },
      "source": [
        "# **Exercício 2**\n",
        "\n",
        "Dado o valor de entrada `a`. Encontre a posição e o primeiro maior valor que `a` que seja PAR na lista de valores ordenados `x`.\n",
        "\n",
        "**DICA:** Para as instruções de `if` empregue as condições entre parênteses e os operadores & ou |. "
      ]
    },
    {
      "cell_type": "code",
      "metadata": {
        "id": "fAKbGx_fpkIZ"
      },
      "source": [
        "import random\n",
        "random.seed(1984)\n",
        "x = np.sort(random.sample(range(1, 1000), 100))\n",
        "\n",
        "a = int(input('Entre com um valor entre 1 e 999: '))\n",
        "\n",
        "# Seu código aqui"
      ],
      "execution_count": null,
      "outputs": []
    },
    {
      "cell_type": "markdown",
      "metadata": {
        "id": "YY7iAleBsL60"
      },
      "source": [
        "# **Exercício 3**\n",
        "\n",
        "Dado uma lista de valores `x` pecorra a lista e encontre o maior valor.\n",
        "\n"
      ]
    },
    {
      "cell_type": "code",
      "metadata": {
        "id": "xmumkvwGsL62"
      },
      "source": [
        "import random\n",
        "random.seed(1984)\n",
        "x = np.sort(random.sample(range(1, 1000), 100))\n",
        "\n",
        "maior = 0\n",
        "\n",
        "# Seu código aqui \n"
      ],
      "execution_count": null,
      "outputs": []
    },
    {
      "cell_type": "markdown",
      "metadata": {
        "id": "h_SlBSmtuXuL"
      },
      "source": [
        "# **Exercício 4**\n",
        "\n",
        "A partir da lista inicial `x` crie uma lista com todos os valores pares e então empregue `sum(sualista)` para exibir o resultado da soma desses valores.\n",
        "\n"
      ]
    },
    {
      "cell_type": "code",
      "metadata": {
        "id": "LvS1EGxPuXuL",
        "outputId": "e00e3ca0-191b-4975-bbb5-25269cef8ae0",
        "colab": {
          "base_uri": "https://localhost:8080/",
          "height": 71
        }
      },
      "source": [
        "import random\n",
        "random.seed(1984)\n",
        "x = np.sort(random.sample(range(1, 1000), 100))\n",
        "\n",
        "pares = []\n",
        "\n",
        "# Seu código aqui"
      ],
      "execution_count": null,
      "outputs": [
        {
          "output_type": "stream",
          "text": [
            "[52, 88, 98, 136, 154, 192, 194, 200, 222, 250, 258, 296, 314, 336, 348, 352, 366, 372, 382, 396, 404, 446, 474, 498, 528, 532, 560, 616, 622, 626, 640, 648, 654, 680, 696, 704, 798, 802, 804, 830, 848, 870, 884, 890, 912, 914, 922, 936, 954, 990]\n",
            "Soma dos valores pares:  26688\n"
          ],
          "name": "stdout"
        }
      ]
    },
    {
      "cell_type": "markdown",
      "metadata": {
        "id": "2QQWXF4UvdHi"
      },
      "source": [
        "# **Exercício 5 (resolvido)**\n",
        "\n",
        "Crie um programa para criar uma lista de nomes a partir da entrada.\n",
        "\n"
      ]
    },
    {
      "cell_type": "code",
      "metadata": {
        "id": "sYf7RyjHvdHj",
        "outputId": "57a8a2c3-2033-4f64-94a6-9afa3a77c5cb",
        "colab": {
          "base_uri": "https://localhost:8080/",
          "height": 51
        }
      },
      "source": [
        "T = True\n",
        "nomes = []\n",
        "\n",
        "while T:\n",
        "  nome = input('Entre com um nome ou \\'END\\' para terminar: ')\n",
        "  if nome != 'END':\n",
        "    nomes.append(nome)\n",
        "  else:\n",
        "    break\n",
        "\n",
        "print(nomes)    \n",
        "\n"
      ],
      "execution_count": null,
      "outputs": [
        {
          "output_type": "stream",
          "text": [
            "...Entre com um nome ou 'END' para terminar: END\n",
            "[]\n"
          ],
          "name": "stdout"
        }
      ]
    },
    {
      "cell_type": "markdown",
      "metadata": {
        "id": "CJgSq7IFyGKw"
      },
      "source": [
        "# **Exercício 6**\n",
        "\n",
        "Crie um programa que dado um nome, busca a quantidade de vezes que esse nome aparece em uma lista. Empregue a lista de nomes do exercício anterior ou você pode criar uma nova. \n"
      ]
    },
    {
      "cell_type": "code",
      "metadata": {
        "id": "cCZd_-keyGK0"
      },
      "source": [
        "nomes = ['Adriana','Daniel','Carolina','Adriana','Carol']\n",
        "nome = input('Entre com um nome: ')\n",
        "\n",
        "# Seu código aqui\n",
        "\n"
      ],
      "execution_count": null,
      "outputs": []
    },
    {
      "cell_type": "markdown",
      "metadata": {
        "id": "I54fRjNzzTFS"
      },
      "source": [
        "# **Exercício 7, Dicionário de Têrmos**\n",
        "\n",
        "Crie um dicionário de têrmos (palavras) para a biografia da atriz **Kate Beckinsale**. \n",
        "\n",
        "1. A primeira célula obtém o texto da biografia da atriz na variável `texto`. \n",
        "2. Na segunda célula **adapte o código** para criar o dicionário de têrmos com a seguinte estrutura:\n",
        "\n",
        "```\n",
        "  mydict = { 'word1': qty, 'word2': qty, 'word3': qty, ...}\n",
        "```\n",
        "3. A terceira célula apresenta um gráfico de distribuição dos têrmos do seu dicionário\n",
        "\n",
        "<img src=\"https://meusite.mackenzie.br/rogerio/kate_beckinsale.png\" width=300, align=\"right\">\n"
      ]
    },
    {
      "cell_type": "code",
      "metadata": {
        "id": "6gPx3f5gzTFY"
      },
      "source": [
        "# Obtém o texto na lista 'texto'\n",
        "# Não altere este código\n",
        "\n",
        "import urllib.request  # the lib that handles the url stuff\n",
        "\n",
        "texto = []\n",
        "\n",
        "for line in urllib.request.urlopen('http://meusite.mackenzie.br/rogerio/kate_beckinsale.txt'):\n",
        "#   print(line.decode('utf-8')) #utf-8 or iso8859-1 or whatever the page encoding scheme is\n",
        "    texto.append(line.decode('utf-8'))\n",
        "\n",
        "# f = open('http://meusite.mackenzie.br/rogerio/kate_beckinsale.txt','r')    \n",
        "# for line in f:\n",
        "#    texto.append(line)\n",
        "\n",
        "for i in range(len(texto)):\n",
        "    texto[i] = texto[i].lower() # para unicidade\n",
        "    texto[i] = texto[i].replace('\\n','')\n",
        "    texto[i] = texto[i].replace('.','')\n",
        "    texto[i] = texto[i].replace(',','')\n",
        "    texto[i] = texto[i].replace('?','')\n",
        "    texto[i] = texto[i].replace('(.','')\n",
        "    texto[i] = texto[i].replace(')','')\n",
        "    texto[i] = texto[i].replace('\\'','') # elimina ' e \"\n",
        "    \n",
        "# print(texto)\n"
      ],
      "execution_count": null,
      "outputs": []
    },
    {
      "cell_type": "code",
      "metadata": {
        "id": "a5XxpMJe60li",
        "outputId": "32277e69-1f91-4cfa-e838-c7e26deee558",
        "colab": {
          "base_uri": "https://localhost:8080/",
          "height": 54
        }
      },
      "source": [
        "mydict = {}                             # crie um dicionário vazio\n",
        "\n",
        "for line in texto:\n",
        "\n",
        "  line = line.lower()                   # converte para lower\n",
        "  words = line.split()                  # separa cada palavra\n",
        "#  print(words)\n",
        "\n",
        "# seu código aqui\n",
        "                                        # para cada palavra em words\n",
        "                                            # se palavra não está no dicionário \n",
        "                                                # acrescenta a word com o valor 1\n",
        "                                            # senão (a entrada já existe) \n",
        "                                                # apenas soma 1 ao valor já existente\n",
        "\n",
        "print(mydict)    "
      ],
      "execution_count": null,
      "outputs": [
        {
          "output_type": "stream",
          "text": [
            "{'kathrin': 2, 'romary': 2, 'beckinsale': 70, '(chiswick': 1, '26': 2, 'de': 206, 'julho': 2, '1973)': 1, 'é': 16, 'uma': 61, 'atriz': 5, 'britânica': 2, 'depois': 11, 'alguns': 3, 'papéis': 4, 'menores': 2, 'na': 25, 'televisão': 3, 'ela': 61, 'estreou': 2, 'no': 41, 'cinema': 5, 'em': 104, 'much': 2, 'ado': 2, 'about': 2, 'nothing': 4, '(1993)': 1, 'enquanto': 12, 'ainda': 2, 'era': 9, 'estudante': 2, 'universidade': 6, 'oxford': 6, 'apareceu': 12, 'dramas': 2, 'britânicos': 2, 'como': 43, 'prince': 2, 'of': 5, 'jutland': 2, '(1994)': 1, 'cold': 2, 'comfort': 2, 'farm': 2, '(1995)': 1, 'emma': 6, '(1996)': 1, 'e': 98, 'the': 22, 'golden': 1, 'bowl': 1, '(2000)': 1, 'além': 2, 'várias': 2, 'produções': 2, 'teatrais': 1, 'rádio': 1, 'começou': 1, 'a': 52, 'procurar': 1, 'trabalhos': 1, 'cinematográficos': 1, 'nos': 3, 'estados': 1, 'unidos': 1, 'final': 2, 'dos': 13, 'anos': 11, '90': 1, 'aparecer': 4, 'pequena': 2, 'escala': 1, 'os': 8, 'últimos': 1, 'dias': 1, 'disco': 2, '(1998)': 1, 'brokedown': 1, 'palace': 1, '(1999)': 1, 'teve': 6, 'principais': 1, 'drama': 5, 'guerra': 1, 'pearl': 1, 'harbor': 1, '(2001)': 1, 'comédia': 7, 'romântica': 2, 'serendipity': 1, 'tiptoes': 2, '(2003)': 1, 'seguiu': 1, 'aqueles': 1, 'com': 30, 'aparições': 1, 'aviator': 2, '(2004)': 2, 'click': 2, '(2006)': 1, 'desde': 3, 'que': 83, 'foi': 38, 'escalada': 3, 'selene': 5, 'série': 4, 'filmes': 11, 'underworld': 5, '(2003-2016)': 1, 'tornou-se': 1, 'conhecida': 2, 'principalmente': 3, 'por': 23, 'seu': 24, 'trabalho': 5, 'ação': 12, 'incluindo': 2, 'van': 2, 'helsing': 2, 'whiteout': 3, '(2009)': 2, 'contraband': 2, '(2012)': 2, 'total': 3, 'recall': 2, ')': 1, 'também': 15, 'continua': 1, 'aparecendo': 1, 'projetos': 2, 'dramáticos': 1, 'snow': 3, 'angels': 3, '(2007)': 1, 'but': 2, 'truth': 2, '(2008)': 1, 'everybodys': 3, 'fine': 3, '2016': 5, 'recebeu': 8, 'elogios': 1, 'da': 28, 'crítica': 3, 'sua': 21, 'atuação': 1, 'filme': 39, 'época': 3, 'love': 3, '&': 4, 'friendship': 3, 'nasceu': 1, '1973': 1, 'chiswick': 1, 'hounslow': 1, 'londres': 2, 'inglaterra': 2, '[1]': 1, 'única': 1, 'filha': 6, 'atores': 1, 'richard': 2, 'judy': 1, 'loe': 1, '[2]': 1, 'tem': 2, 'meia-irmã': 1, 'paterna': 1, 'mais': 28, 'velha': 1, 'samantha': 1, 'mas': 13, 'elas': 1, 'não': 14, 'tiveram': 1, 'contato': 1, 'regular': 1, 'pai': 3, 'descendente': 1, 'um': 60, 'quarto': 2, 'birmânia': 1, '[3]': 1, 'fez': 4, 'primeira': 6, 'aparição': 2, 'aos': 3, 'quatro': 4, 'idade': 2, 'episódio': 2, 'this': 1, 'is': 1, 'your': 1, 'life': 1, 'dedicado': 1, 'ao': 21, '[4]': 1, 'quando': 7, 'tinha': 5, 'cinco': 1, '31': 1, 'morreu': 1, 'repentinamente': 1, 'ataque': 1, 'cardíaco': 1, 'ficou': 4, 'profundamente': 1, 'traumatizada': 1, 'perda': 1, '\"começou': 1, 'esperar': 1, 'coisas': 5, 'ruins': 1, 'acontecessem\"': 1, '[5]': 1, 'mãe': 5, 'viúva': 2, 'se': 25, 'mudou': 1, 'o': 92, 'diretor': 4, 'roy': 2, 'battersby': 1, 'nove': 2, 'criada': 2, 'lado': 12, 'seus': 4, 'filhos': 1, 'relacionamento': 1, 'próximo': 1, 'padrasto': 1, 'membro': 1, 'do': 40, 'partido': 1, 'revolucionário': 1, 'trabalhadores': 1, 'durante': 4, 'juventude': 1, '[6]': 1, 'amigos': 2, 'família': 3, 'incluem': 1, 'ken': 2, 'loach': 1, 'vanessa': 1, 'redgrave': 1, 'educada': 1, 'godolphin': 1, 'and': 2, 'latymer': 1, 'school': 1, 'escola': 1, 'independente': 2, 'para': 19, 'meninas': 1, 'hammersmith': 1, 'oeste': 1, 'esteve': 2, 'envolvida': 2, 'orange': 1, 'tree': 1, 'youth': 1, 'theatre': 1, '[7]': 1, 'duas': 3, 'vezes': 2, 'vencedora': 1, 'prêmio': 1, 'wh': 1, 'smith': 1, 'young': 1, 'writers': 1, 'ficção': 3, 'poesia': 1, 'descreveu': 6, '\"florzinha': 1, 'tardia\":': 1, '\"todos': 1, 'meus': 3, 'estavam': 1, 'beijando': 1, 'meninos': 1, 'bebendo': 1, 'cidra': 1, 'muito': 17, 'antes': 3, 'mim': 1, 'achei': 2, 'realmente': 6, 'deprimente': 1, 'estarmos': 1, 'fazendo': 4, 'fogueiras': 1, 'acampamento': 1, 'todo': 13, 'mundo': 11, 'estava': 11, 'assim\"': 1, '\"eu': 9, 'detestava': 1, 'ser': 3, 'jovem\"': 1, 'colapso': 1, 'nervoso': 1, 'desenvolveu': 1, 'anorexia': 1, '15': 1, '[8]': 1, 'submetida': 1, 'à': 4, 'psicanálise': 1, 'freudiana': 1, 'lia': 1, 'literatura': 1, 'francesa': 2, 'russa': 1, 'new': 9, 'college': 1, 'tarde': 3, 'descrita': 1, 'pela': 7, 'jornalista': 2, 'contemporânea': 1, 'victoria': 1, 'coren': 1, 'mitchell': 1, '\"chicote': 1, 'inteligente': 1, 'levemente': 1, 'maluca': 1, 'charmosa\"': 1, '[9]': 1, 'tornou': 2, 'amiga': 1, 'kinnear': 1, 'kirsty': 1, '[10]': 1, 'sociedade': 1, 'dramática': 1, 'notavelmente': 1, 'sendo': 1, 'dirigida': 3, 'pelo': 7, 'colega': 1, 'tom': 2, 'hooper': 1, 'produção': 8, 'view': 1, 'from': 1, 'bridge': 1, 'playhouse': 1, '[11]': 1, 'línguas': 1, 'modernas': 1, 'obrigada': 1, 'passar': 3, 'terceiro': 1, 'ano': 5, 'exterior': 1, 'estudou': 1, 'paris': 2, 'então': 5, 'decidiu': 3, 'deixar': 2, 'concentrar': 1, 'carreira': 3, 'ascensão:': 1, '\"estava': 1, 'chegando': 1, 'ponto': 1, 'eu': 12, 'gostando': 1, 'nenhuma': 1, 'das': 7, 'suficiente': 1, 'porque': 5, 'ambas': 1, 'eram': 1, 'pressão': 1, 'alta\"': 1, 'tenra': 1, 'queria': 2, 'atriz:': 1, '\"cresci': 1, 'imersa': 1, 'minha': 4, 'trabalhava': 1, 'percebi': 1, 'rapidamente': 1, 'pais': 2, 'pareciam': 1, 'divertir': 1, 'amigos\"': 1, '[12]': 1, 'inspirada': 1, 'pelas': 3, 'performances': 1, 'jeanne': 1, 'moreau': 1, '[13]': 1, 'estréia': 2, '1991': 1, 'parte': 4, 'adaptação': 5, 'itv': 4, 'pd': 1, 'james': 3, 'devices': 1, 'desires': 1, '[14]': 1, '1992': 1, 'estrelou': 17, 'christopher': 2, 'eccleston': 1, 'rachels': 1, 'dream': 1, 'curta': 1, '30': 1, 'minutos': 1, 'channel': 1, '4': 1, '1993': 2, 'piloto': 1, 'detetives': 1, 'anna': 1, 'lee': 1, 'estrelando': 1, 'imogen': 1, 'stubbs': 1, '[15]': 1, 'conseguiu': 4, 'papel': 17, 'hero': 1, 'kenneth': 1, 'branagh': 1, 'filmado': 2, 'toscana': 1, 'itália': 1, 'as': 6, 'férias': 1, 'verão': 1, 'participou': 2, 'festival': 5, 'cannes': 3, 'lembrou-a': 1, 'experiência': 5, 'avassaladora': 1, '\"ninguém': 1, 'me': 5, 'disse': 6, 'poderia': 1, 'trazer': 1, 'amigo!\"': 1, 'usava': 3, 'botas': 1, 'doc': 1, 'martens': 1, 'acho': 1, 'coloquei': 1, 'flor': 1, 'bandeja': 1, 'café': 1, 'manhã': 1, 'meu': 6, 'cabelo\"': 1, '[16]': 1, 'peter': 2, 'travers': 1, 'rolling': 1, 'stone': 1, 'conquistado': 1, 'performance': 3, '\"adorável\"': 1, '[17]': 1, 'vincent': 1, 'canby': 1, 'york': 9, 'times': 8, 'observou': 3, 'robert': 2, 'sean': 1, 'leonard': 1, '\"parecem': 1, 'certos': 1, 'comportam': 1, 'certa': 1, 'sinceridade': 1, 'ingênua': 1, 'embora': 3, 'muitas': 1, 'pareçam': 1, 'entorpecidos': 1, 'surpresa': 1, 'ouvir': 1, 'complexas': 1, 'locuções': 1, 'falam\"': 1, '[18]': 1, 'faturou': 2, 'us': 20, '$': 21, '22': 1, 'milhões': 18, 'nas': 8, 'bilheterias': 7, '[19]': 1, 'três': 3, 'outros': 4, '1994': 1, 'interesse': 2, 'amoroso': 2, 'christian': 2, 'bale': 1, 'baseado': 4, 'lenda': 1, 'dinamarquesa': 1, 'inspirou': 1, 'hamlet': 1, 'shakespeare': 1, '[20]': 1, 'mistério': 1, 'assassinato': 2, 'descoberto': 1, '1995': 3, 'estudava': 1, 'filmou': 1, 'língua': 2, 'marie-louise': 1, 'ou': 2, 'la': 2, 'permission': 1, '[21]': 1, 'pouco': 6, 'flora': 1, 'poste': 1, 'socialite': 1, 'recém-órfã': 1, 'década': 1, '1930': 1, 'enviada': 1, 'morar': 1, 'familiares': 2, 'distantes': 1, 'zona': 1, 'rural': 1, 'inicialmente': 2, 'considerada': 1, 'jovem': 4, 'escreveu': 2, 'carta': 1, 'pedindo': 1, 'emanuel': 1, 'levy': 1, 'variety': 4, 'lembrado': 1, '\"da': 1, 'força': 1, 'glenda': 1, 'jackson': 1, 'charme': 1, 'julie': 1, 'christie\"[22]': 1, 'kevin': 1, 'thomas': 1, 'los': 4, 'angeles': 3, 'classificou': 1, 'como\"': 1, 'daquelas': 1, 'belezas': 1, 'britânicas': 1, 'sem': 3, 'esforço': 1, 'iluminam': 1, 'tela\"': 1, '[23]': 1, 'janet': 1, 'maslin': 1, 'sentiu': 9, 'desempenhou': 3, '\"com': 2, 'perfeita': 1, 'discreta': 1, 'desenvoltura\"': 1, '[24]': 1, 'arrecadou': 9, '5': 1, 'eua': 2, 'haunted': 1, 'história': 2, 'fantasma': 1, 'envolveu': 2, 'romanticamente': 1, 'co-estrela': 2, 'michael': 5, 'sheen': 5, 'encontrar': 2, 'ensaios': 1, '[25]': 1, 'disse:': 1, 'fiquei': 2, 'excitada': 1, 'sentir': 1, 'intimidada': 1, 'peça': 1, 'cortou': 1, 'críticas': 7, 'sobre': 8, 'ele': 6, 'anteriores': 1, 'entrou': 1, 'quase': 2, 'deus': 1, 'bem': 4, 'terminei': 1, 'agora': 1, 'isso': 4, 'aí': 2, 'pessoa': 2, 'talentosa': 1, 'já': 1, 'conheci\"': 1, 'irving': 1, 'wardle': 1, 'independent': 2, 'achava': 2, '\"o': 1, 'elenco': 3, 'vulcânico': 1, 'kostya': 1, 'congelante': 1, 'constante': 1, 'nina': 1, 'kate': 5, 'marcante\"': 1, '[26]': 1, 'próxima': 2, 'jane': 2, 'austen': 3, 'interpretando': 2, 'programa': 1, 'ar': 1, 'outono': 1, '1996': 1, 'apenas': 6, 'meses': 1, 'gwyneth': 1, 'paltrow': 1, 'estrelar': 1, 'cinematográfica': 1, 'mesma': 1, '[27]': 1, 'caryn': 1, '\"a': 4, 'seja': 2, 'clara': 1, 'paltrow\"': 1, '\"totalmente': 1, 'incrível': 2, 'engraçada\"': 1, '[28]': 1, 'jonathan': 1, 'brown': 1, 'interpretação': 1, 'moderna': 1, 'duradoura\"': 1, '1997': 2, 'stuart': 1, 'townsend': 1, 'shooting': 1, 'fish': 1, 'maior': 1, 'sucesso': 4, 'comercial': 2, 'daquele': 1, '[29]': 1, 'acabado': 2, 'ter': 1, 'sabedoria': 1, 'dentes': 1, 'fora\"': 1, 'recordou': 1, 'teste': 1, 'inicial': 1, 'tomava': 1, 'analgésicos': 1, 'fortes': 1, 'convencional': 1, 'encontros\"elley': 1, '\"uma': 3, 'incrivelmente': 2, 'descontraída\"': 1, '[30]': 1, 'narrou': 1, 'hodder': 1, 'stoughton': 1, 'audiobooks': 1, 'interpretou': 4, 'julieta': 2, 'romeo': 1, 'audiobook': 1, 'romeu': 1, '[31]': 1, 'estrela': 1, 'interpretar': 2, 'vampira': 1, '2003': 2, 'marcadamente': 1, 'diferente': 1, 'anterior': 1, 'grata': 1, 'mudança': 1, 'ritmo': 2, '\"um': 2, 'monte': 1, 'comédias': 1, 'românticas\"': 1, '[32]': 1, 'acrescentando': 1, '\"foi': 3, 'grande': 2, 'desafio': 1, 'jogar': 1, 'heroína': 1, 'fazer': 7, 'esse': 3, 'treinamento': 1, 'vida': 5, 'real': 1, 'consigo': 1, 'pegar': 1, 'bola': 1, 'estiver': 1, 'vindo': 1, 'caminho\"': 1, 'negativas': 3, 'mistas': 2, 'surpreendente': 1, 'ganhou': 1, 'muitos': 1, 'seguidores': 1, '[33]': 1, 'naquele': 2, 'gary': 1, 'oldman': 1, 'matthew': 1, 'mcconaughey': 1, '[34]': 1, '2004': 2, 'terror': 2, '\"tão': 1, 'surpresa\"': 1, 'segundo': 1, 'dois': 1, '\"pareceu': 1, 'bom\"': 1, '[35]': 1, 'havia': 3, 'separar': 1, 'namorado': 1, 'longa': 1, 'data': 1, 'filmagens': 2, 'apreciou': 1, 'atmosfera': 1, 'calorosa': 1, 'stephen': 2, 'sommers': 1, 'co-ator': 1, 'hugh': 2, 'jackman:': 1, 'trabalhando': 2, 'pessoas': 1, 'possível': 2, 'passando\"': 1, '[36]': 1, '120': 1, '300': 1, 'revisado': 1, '[37]': 1, 'mick': 1, 'lasalle': 2, 'san': 2, 'francisco': 2, 'chronicle': 2, 'bonita': 1, 'manter': 1, 'dignidade': 1, 'tentando': 1, 'vão': 1, 'elaborar': 1, 'declaração': 1, 'feminista': 1, 'capricho': 1, 'cineasta\"': 1, '[38]': 1, 'rex': 1, 'reed': 1, 'observer': 1, '\"desesperadamente\"': 1, 'necessitada': 1, 'novo': 1, 'agente\"': 1, '[39]': 1, 'ava': 2, 'gardner': 2, 'biografia': 1, 'howard': 1, 'hughes': 1, 'martin': 1, 'scorsese': 2, 'escalar': 1, 'porque:': 1, 'sempre': 3, 'gostei': 1, 'dela': 2, 'vi': 1, 'feliz': 1, 'concordou': 1, 'teste\"': 1, '[40]': 1, 'desempenho': 8, 'tucker': 1, 'magazine': 1, '\"em': 2, 'plena': 1, 'floração\"': 1, '[41]': 1, '\"nos': 1, 'convencer': 2, 'grandes': 3, 'atrizes': 2, 'todos': 2, 'tempos\"': 1, '[42]': 1, 'entanto': 3, 'bradshaw': 2, 'guardian': 1, 'afirmou': 3, 'sensualidade': 1, 'voluptuosa': 1, 'rica': 1, 'está': 6, 'completamente': 1, 'ausente': 1, 'caminha': 1, 'estivesse': 1, 'anunciando': 1, 'perfume\"': 1, '[43]': 1, '213': 1, '2006': 2, 'reprisou': 2, 'sucedida': 1, 'sequencia': 1, 'underworld:': 4, 'evolution': 1, 'marido': 4, 'vez': 3, '\"se': 1, 'momento': 1, 'germe': 1, 'idéia': 1, 'processo': 2, 'edição\"': 1, 'pequeno': 1, 'bilheteria': 1, 'arrecadando': 3, '111': 1, '[44]': 1, 'segunda': 1, 'adam': 1, 'sandler': 1, 'walken': 1, 'homem': 3, 'sobrecarregado': 1, 'descobre': 1, 'controle': 1, 'remoto': 1, 'mágico': 1, 'lhe': 1, 'permite': 1, 'controlar': 1, 'tempo': 4, 'oportunidade': 2, 'atraiu\"': 1, '[45]': 1, 'altamente': 1, 'lucrativo': 2, '237': 1, 'partir': 1, 'orçamento': 7, '825': 1, 'retornou': 2, 'menor': 1, 'escala:': 1, '\"minha': 1, 'afastei': 1, 'independentes': 1, 'fiz': 1, 'necessariamente': 1, 'assim': 1, 'percebem': 1, 'entendo\"': 1, '[46]': 1, '\"gosto': 1, 'tanto': 1, 'quanto': 2, 'algo': 1, 'gostaria': 1, 'apenas\"': 1, '[47]': 1, 'explicou': 1, 'originalmente': 3, 'decidido': 1, 'sentia': 1, 'mal': 3, 'clássicos': 1, '\"assumido': 1, 'penico': 1, 'calças\"': 1, '-': 1, '\"decolou\"': 1, 'demais\"': 1, '[48]': 1, '2007': 2, 'sam': 1, 'rockwell': 2, 'romance': 1, 'stewart': 1, 'onan': 1, 'angustiante': 1, 'qual': 2, 'solteira': 2, 'arrasada': 1, 'colocou': 1, 'situação': 1, 'difícil\"': 1, 'filho': 2, 'fato': 1, 'ex': 1, 'perto': 1, 'bom': 2, 'voltar': 2, 'casa': 3, 'povo': 1, 'quem': 2, 'amo\"': 1, 'puig': 1, '\"beckinsale': 1, 'apresenta': 1, 'melhor': 3, 'anos\"': 1, '[49]': 1, 'corliss': 1, 'time': 2, '\"seu': 1, 'nítido': 1, 'até': 1, 'agora\"': 1, '[50]': 1, 'scott': 1, '\"sua': 1, 'habilidade': 1, 'disciplina': 1, 'podem': 1, 'superar': 1, 'sensação': 1, 'espécie': 1, 'exótica': 1, 'transplantada': 1, 'ecossistema': 1, 'sombrio': 1, 'trabalhe': 1, 'contrário': 1, 'difícil': 2, 'acreditar': 1, 'mulher': 1, 'tipo': 1, 'confiança': 1, 'equilibrada': 1, 'própria': 1, 'beleza': 1, 'manifesta': 1, 'acabaria': 1, 'hálito': 1, 'bucal': 1, 'baixo': 1, 'glenn\"': 1, '[51]': 1, '414404': 1, '[52]': 1, 'toronto': 1, 'em2008': 1, 'luke': 1, 'wilson': 2, 'vacancy': 1, 'thriller': 5, 'ambientado': 1, 'motel': 1, 'isolado': 1, 'sarah': 1, 'jessica': 1, 'parker': 1, 'desistiu': 1, 'início': 1, '[53]': 1, '\"wilson': 1, 'gostam': 1, 'dariam': 1, 'terror\"': 1, '[54]': 1, 'owen': 1, 'gleiberman': 1, 'notou': 1, '\"luke': 1, 'ousadia': 1, 'defensiva': 1, 'toda': 1, 'severidade': 1, 'sexy': 1, 'são': 3, 'ideais': 1, 'casal': 2, 'odeia\"': 1, '35': 1, '19': 1, '[55]': 1, '2008': 2, 'winged': 1, 'creatures': 1, 'seis': 1, 'testemunhas': 1, 'diferentes': 1, 'lidam': 1, 'consequências': 1, 'tiroteio': 1, 'garçonete': 1, 'incluía': 1, 'dakota': 1, 'fanning': 1, 'jennifer': 1, 'hudson': 1, 'forest': 1, 'whitaker': 1, 'boa': 1, 'rápida\"': 1, 'filmagem': 1, 'senti': 1, 'tivesse': 1, 'levado': 1, 'tiro': 1, 'canhão\"': 1, '[56]': 1, 'betsy': 1, 'sharkey': 1, 'lixeira': 1, 'branca\"': 1, 'encontrou': 3, '\"dor': 1, 'crua': 1, 'personagem': 4, 'alguém': 1, 'dinheiro': 1, 'respeitabilidade': 1, 'palpável\"no': 1, 'dargis': 1, 'colegas': 1, 'enfrentam': 1, '\"momentos': 1, 'difíceis': 1, 'preenchendo': 1, 'personagens': 2, 'hipóteses': 1, 'abstrações': 1, 'pesar': 1, 'geralmente': 1, 'clichês\"': 1, '[57]': 1, 'lançamento': 1, 'teatral': 2, 'limitado': 1, 'nova': 2, 'angeles;': 1, 'lançado': 2, 'simultaneamente': 1, 'dvd': 1, '[58]': 1, 'recusa': 1, 'revelar': 1, 'fonte': 1, 'co-estrelado': 1, 'vera': 1, 'farmiga': 2, 'matt': 1, 'dillon': 1, 'inspirado': 2, 'caso': 2, 'judith': 2, 'miller': 2, 'pesquisa': 1, '\"passei': 1, 'algum': 1, 'algumas': 1, 'repórteres': 1, 'conversei': 1, 'pesquisei': 1, 'brilhante': 1, 'gratificante\"': 1, 'ann': 1, 'hornaday': 1, 'washington': 1, 'post': 2, 'interpretaram': 1, '\"duas': 1, 'fascinantes': 1, 'femininas': 1, 'apareceram': 1, 'telas': 1, 'há': 3, 'foram': 2, 'trazidas': 1, 'talentosas': 1, 'cada': 1, 'topo': 1, 'personagem\"': 2, 'indicação': 1, 'critics': 1, 'choice': 1, 'award': 1, '[59]': 1, 'nunca': 1, 'versão': 2, 'completa': 1, 'distribuidor': 1, 'pediu': 1, 'falência': 1, '186702': 1, '[60]': 1, '2009–2015:': 1, 'retorno': 1, '2010': 3, '2009': 2, 'quadrinhos': 1, 'marechal': 1, 'americano': 1, 'encarregado': 1, 'investigar': 1, 'antártica': 1, 'manitoba': 1, 'canadá': 1, '[61]': 1, 'achou': 3, 'cenas': 1, 'menos': 1, 'exigentes': 1, '\"três': 1, 'pares': 1, 'calças': 1, 'jaqueta': 1, 'oferecem': 1, 'proteção': 1, 'traje': 1, 'látex\"': 1, 'criticado': 2, 'fracasso': 2, 'falhando': 2, 'recuperar': 2, '[62]': 1, 'consenso': 1, 'críticos:': 1, 'adorável': 1, 'faz': 1, 'material': 1, 'moribundo': 1, 'trama': 1, 'inspiração': 1, 'deixam': 1, 'frio': 1, 'breve': 1, 'participação': 1, 'especial': 1, 'ascensão': 1, 'lycans;': 1, 'flashforwards': 1, 'composta': 1, 'imagens': 1, 'familiar': 1, 'niro': 2, 'drew': 1, 'barrymore': 1, 'empolgada': 1, 'trabalhar': 1, 'encontrado': 1, '\"anos': 1, 'atrás': 1, 'lily': 1, 'leitura': 1, 'pastor': 1, '\"': 1, 'maio': 1, 'júri': 1, 'membros': 1, 'presidido': 1, 'tim': 1, 'burton': 1, '[63]': 1, 'incapaz': 1, 'roteiro': 2, 'sentisse': 1, 'apaixonada': 1, 'manteve': 1, 'perfil': 1, 'discreto': 1, '2011': 1, 'optando': 1, 'voltou': 1, 'atuar': 1, '2012': 2, 'participações': 1, 'coadjuvante': 1, 'esposa': 3, 'mark': 1, 'wahlberg': 1, 'ex-criminoso': 1, 'forçado': 1, 'crime': 1, 'ameaçados': 1, 'dirigido': 3, 'baltasar': 1, 'kormákur': 1, 'islandesa': 1, 'reykjavík-rotterdam': 1, '\"presa': 1, 'ingrato': 1, 'vitimizada': 1, 'tenta': 1, 'infundir': 1, 'borda': 1, '25': 1, '96': 1, '[64]': 1, 'seguida': 1, 'quarta': 1, 'franquia': 3, 'vampiros': 1, 'awakening': 1, 'concebida': 1, 'trilogia': 1, '\"pretendendo': 1, 'outra\"': 1, 'convencido': 1, 'qualidade': 1, 'hollywood': 3, 'reporter': 3, '\"quando': 1, 'brigando': 1, 'consiste': 1, 'caminhar': 1, 'propositadamente': 1, 'direção': 1, 'afastar': 1, 'câmera\"[65]': 1, '\"finalmente': 1, 'aperfeiçoar': 1, 'entrega': 1, 'monótona': 1, 'estivera': 1, 'aprimorando': 1, 'primeiras': 1, 'entradas': 1, 'série\"': 1, '[66]': 1, '70': 1, '160': 1, '[67]': 1, 'operário': 1, 'fábrica': 1, 'remake': 2, 'científica': 1, 'len': 1, 'wiseman': 2, 'juntou': 1, 'projeto': 1, 'receber': 1, 'financiamento': 1, 'estúdio': 1, 'ideia': 1, 'original': 1, 'científica:': 1, '\"você': 1, 'constantemente': 1, 'defendendo': 1, 'primeiro': 1, 'lugar\"': 1, '[68]': 1, 'nota\"': 1, '\"unidimensional': 1, '[69]': 1, 'usa': 1, 'today': 1, 'comentou': 1, '\"passa': 1, 'andando': 2, 'pelos': 2, 'corredores': 1, 'olhando': 1, 'implacavelmente': 1, 'graça': 1, 'desagradável\"': 1, '[70]': 1, '\"muito': 2, 'prazo': 1, 'boas-vindas\"': 1, '[71]': 1, '198': 1, 'superior': 1, '125': 1, '[72]': 1, '2013': 1, 'legal': 1, 'trials': 1, 'cate': 1, 'mccall': 1, 'nick': 1, 'nolte': 1, 'cromwell': 1, '[73]': 1, '[74]': 1, 'seguinte': 1, 'visto': 1, 'psicológico': 2, 'stonehearst': 1, 'asylum': 1, 'vagamente': 1, 'edgar': 1, 'allan': 1, 'poe': 1, '[75]': 1, '2014': 2, 'face': 1, 'an': 1, 'angel': 1, 'daniel': 1, 'brühl': 1, 'winterbottom': 1, 'meredith': 1, 'kercher': 1, '[76]': 1, 'jesse': 1, 'hassenger': 1, 'av': 2, 'club': 2, '\"carismático\"': 1, 'desperdiçado': 1, '[77]': 1, 'simon': 1, 'peggna': 1, 'recebida': 1, 'absolutely': 1, 'anything': 1, 'funcionária': 1, 'agência': 1, 'autores': 1, '(pegg)': 1, 'escolhido': 1, 'alienígenas': 1, 'quiser': 1, '[78]': 1, 'huddleston': 1, 'out': 1, '\"nunca': 1, 'desenvolvido': 1, 'talvez': 1, 'bênção': 1, 'fino': 1, 'elegante': 1, 'tão': 2, 'irritante': 1, 'pegg\"': 1, 'fã': 1, 'monty': 2, 'python': 3, 'criança': 1, 'best': 1, 'bits': 1, '(principalmente)': 1, 'onde': 1, 'falou': 1, 'esboço': 1, 'favorito': 1, '[79]': 1, '–': 1, 'presente:': 1, 'seguintes': 1, '(2016)': 1, 'sundance': 1, 'film': 1, 'reuniu': 1, 'colaboradores': 1, 'last': 1, 'days': 1, 'stillman': 1, 'sevigny': 1, 'lady': 1, 'susan': 1, 'girava': 1, 'torno': 1, 'personagem-título': 1, 'irônica': 1, 'cálculista': 1, 'persegue': 1, 'rico': 1, 'infeliz': 2, 'casamento': 1, 'planejado': 1, 'finalmente': 1, 'sozinha': 1, 'universalmente': 1, 'aclamado': 1, '[80]': 1, 'cinemas': 2, 'justin': 1, 'chang': 1, 'tela': 2, 'satisfatórios': 1, '[]': 2, 'magnetiza': 1, 'maneira': 1, 'naturalmente': 1, 'destaca': 2, 'quão': 1, 'frente': 1, 'é:': 1, 'efeito': 1, 'nem': 1, 'funciona': 1, 'filme\"': 1, '[81]': 1, 'todd': 1, 'mccarthy': 1, 'comentou:': 1, '\"não': 1, 'profundidades': 1, 'longos': 1, 'discursos': 2, 'definir': 1, 'egoísta': 1, 'consciente': 1, 'si': 1, 'mesma\"': 1, 'disappointments': 1, 'room': 1, 'mel': 1, 'raido': 1, 'ambos': 1, 'contém': 1, 'sala': 1, 'escondida': 1, 'passado': 1, 'assombrado': 1, 'fracassou': 1, '[82];': 1, '14': 1, 'milhão': 1, 'fim': 1, 'semana': 1, 'abertura': 1, '24': 1, 'américa': 1, 'norte': 1, 'holub': 1, 'entertainment': 1, 'weekly': 1, 'concluiu': 1, 'maioria': 1, 'parecendo': 1, 'preocupada\"': 1, '[83]': 1, 'joe': 1, 'leydon': 1, 'achou-a': 1, '\"credível': 1, 'convincente': 1, 'exceto': 1, 'esforçando': 1, 'demais': 1, 'cena': 1, 'bastante': 1, 'exige': 1, 'bêbados\"': 1, 'quinta': 1, 'parcela': 1, 'submundo': 1, 'blood': 1, 'wars': 1, '811': 1, 'inteiro': 1, '[84]': 1, 'atuou': 1, 'pierce': 1, 'brosnan': 2, 'callum': 1, 'turner': 1, 'jeff': 1, 'bridges': 1, 'romântico': 1, 'marc': 1, 'webb': 1, 'only': 1, 'living': 1, 'boy': 1, 'in': 1, '(2017)': 1, 'editor': 1, 'livros': 1, 'amante': 1, 'editora': 1, 'cujo': 1, 'vê': 1, 'revirada': 1, 'medíocres': 1, 'audiência': 1, 'limitada': 1, '[85]': 1, 'considerou': 1, 'interessantes': 1, 'virtudes': 1, 'gêmeas': 1, 'disfarçar': 1, 'suas': 1, 'vozes': 1, 'encaixar': 1, 'melodrama': 1, 'rosto': 1, 'triste': 1, 'quer': 1, 'ser\"': 1, '[86]': 1, '2019': 1, 'widow': 1, 'tv': 1, '20': 1, 'inglesa': 1, 'acredita': 1, 'morto': 1, 'acidente': 1, 'avião': 1, 'vivo': 1, 'congo': 1, '[87]': 1}\n"
          ],
          "name": "stdout"
        }
      ]
    },
    {
      "cell_type": "code",
      "metadata": {
        "id": "zMy6IqwC9GJt",
        "outputId": "c0fbc070-a2d3-46c9-eb61-6a921099df3a",
        "colab": {
          "base_uri": "https://localhost:8080/",
          "height": 739
        }
      },
      "source": [
        "# plot da frequência de termos\n",
        "# não é necessário alterar esse código\n",
        "import pandas as pd\n",
        "import seaborn as sns\n",
        "import matplotlib as mpl\n",
        "import matplotlib.pyplot as plt\n",
        "\n",
        "df = pd.DataFrame(mydict.items(),  columns=['word', 'count']).sort_values('count',ascending=False)\n",
        "df = df[df['count'] > 4]\n",
        "\n",
        "plt.figure(figsize=(24,10))\n",
        "mpl.style.use(['seaborn'])\n",
        "sns.barplot(df.word,df['count'])\n",
        "plt.xticks(rotation=90) "
      ],
      "execution_count": null,
      "outputs": [
        {
          "output_type": "execute_result",
          "data": {
            "text/plain": [
              "(array([  0,   1,   2,   3,   4,   5,   6,   7,   8,   9,  10,  11,  12,\n",
              "         13,  14,  15,  16,  17,  18,  19,  20,  21,  22,  23,  24,  25,\n",
              "         26,  27,  28,  29,  30,  31,  32,  33,  34,  35,  36,  37,  38,\n",
              "         39,  40,  41,  42,  43,  44,  45,  46,  47,  48,  49,  50,  51,\n",
              "         52,  53,  54,  55,  56,  57,  58,  59,  60,  61,  62,  63,  64,\n",
              "         65,  66,  67,  68,  69,  70,  71,  72,  73,  74,  75,  76,  77,\n",
              "         78,  79,  80,  81,  82,  83,  84,  85,  86,  87,  88,  89,  90,\n",
              "         91,  92,  93,  94,  95,  96,  97,  98,  99, 100, 101, 102, 103,\n",
              "        104, 105, 106, 107]), <a list of 108 Text major ticklabel objects>)"
            ]
          },
          "metadata": {
            "tags": []
          },
          "execution_count": 44
        },
        {
          "output_type": "display_data",
          "data": {
            "image/png": "[encoded data removed]",
            "text/plain": [
              "<Figure size 1728x720 with 1 Axes>"
            ]
          },
          "metadata": {
            "tags": []
          }
        }
      ]
    },
    {
      "cell_type": "markdown",
      "metadata": {
        "id": "L2ba7az4Jx9Z"
      },
      "source": [
        "## Luhn e Zipf Law e Ciência de Dados\n",
        "\n",
        "A frequência de termos (quantidade que cada palavra aparece em um texto) tem grande importância em uma série de problemas envolvendo busca, classificação e sumarização automática de documentos.  \n",
        "\n",
        "As palavras que um texto contêm e a frequencia delas pode muito bem dar uma pista do conteúdo do texto  \n",
        "\n",
        "> Hans Peter Luhn (1957): **The weight of a term that occurs in a document is simply proportional to the term frequency**.\n",
        "\n",
        "Entretanto parecem haver termos muito frequentes, como artigos, preposições etc. que parecem contribuir muito pouco para explicar o conteúdo de um texto.\n",
        "\n",
        "> George Kingsley Zipf: **Zipf's law states that given a large sample of words used, the frequency of any word is inversely proportional to its rank in the frequency table. So word number n has a frequency proportional to 1/n.**\n",
        "\n",
        "Isso ocorre em todo o texto de produção humana e, importante, em *qualquer língua*. Esse princípio é empregado desde para decifrar códigos e texto em linguas antigas, como em modernos sistemas de mineração de texto (*search engines*, bibliotecas digitais, classificação automática de conteúdo etc.).\n",
        "\n",
        "Veja alguns textos famosos em diferentes línguas:  "
      ]
    },
    {
      "cell_type": "code",
      "metadata": {
        "id": "xIzCiXsZJn4r",
        "outputId": "8d1726f2-3116-4108-b37e-0a5a63929f5e",
        "colab": {
          "base_uri": "https://localhost:8080/",
          "height": 621
        }
      },
      "source": [
        "from IPython.display import IFrame\n",
        "IFrame('https://demonstrations.wolfram.com/ZipfsLawAppliedToWordAndLetterFrequencies/', width='1000', height=600)"
      ],
      "execution_count": null,
      "outputs": [
        {
          "output_type": "execute_result",
          "data": {
            "text/html": [
              "\n",
              "        <iframe\n",
              "            width=\"1000\"\n",
              "            height=\"600\"\n",
              "            src=\"https://demonstrations.wolfram.com/ZipfsLawAppliedToWordAndLetterFrequencies/\"\n",
              "            frameborder=\"0\"\n",
              "            allowfullscreen\n",
              "        ></iframe>\n",
              "        "
            ],
            "text/plain": [
              "<IPython.lib.display.IFrame at 0x7fde2f2839b0>"
            ]
          },
          "metadata": {
            "tags": []
          },
          "execution_count": 5
        }
      ]
    }
  ]
}