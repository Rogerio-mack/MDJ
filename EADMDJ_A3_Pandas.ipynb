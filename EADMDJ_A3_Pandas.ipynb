{
  "nbformat": 4,
  "nbformat_minor": 0,
  "metadata": {
    "kernelspec": {
      "display_name": "Python 3",
      "language": "python",
      "name": "python3"
    },
    "language_info": {
      "codemirror_mode": {
        "name": "ipython",
        "version": 3
      },
      "file_extension": ".py",
      "mimetype": "text/x-python",
      "name": "python",
      "nbconvert_exporter": "python",
      "pygments_lexer": "ipython3",
      "version": "3.7.4"
    },
    "colab": {
      "name": "EADMDJ_A3_Pandas.ipynb",
      "provenance": [],
      "collapsed_sections": [],
      "include_colab_link": true
    }
  },
  "cells": [
    {
      "cell_type": "markdown",
      "metadata": {
        "id": "view-in-github",
        "colab_type": "text"
      },
      "source": [
        "<a href=\"https://colab.research.google.com/github/Rogerio-mack/MDJ/blob/main/EADMDJ_A3_Pandas.ipynb\" target=\"_parent\"><img src=\"https://colab.research.google.com/assets/colab-badge.svg\" alt=\"Open In Colab\"/></a>"
      ]
    },
    {
      "cell_type": "markdown",
      "metadata": {
        "id": "J0YsSuRJkrSV"
      },
      "source": [
        "<head>\n",
        "  <meta name=\"author\" content=\"Rogério de Oliveira\">\n",
        "  <meta institution=\"author\" content=\"Universidade Presbiteriana Mackenzie\">\n",
        "</head>\n",
        "\n",
        "<img src=\"http://meusite.mackenzie.br/rogerio/mackenzie_logo/UPM.2_horizontal_vermelho.jpg\" width=300, align=\"right\">\n",
        "<h1 align=left><font size = 5, style=\"color:rgb(0,0,0)\"> EAD <b>Mineração de Dados para Jogos </b> </font></h1>"
      ]
    },
    {
      "cell_type": "markdown",
      "metadata": {
        "id": "guaxIf-ikrSX"
      },
      "source": [
        "<h1 align=left><font size = 6, style=\"color:rgb(200,0,0)\">A3 Exploração dos Dados com Pandas</font></h1>\n",
        "<hr>"
      ]
    },
    {
      "cell_type": "markdown",
      "metadata": {
        "id": "Fs4svnpA6qvL"
      },
      "source": [
        "# Recursos\n",
        "\n",
        "Abaixo recursos que serão úteis para você aprender e empregar o **Pandas**.\n",
        "\n",
        "**Oficial**\n",
        "> https://pandas.pydata.org/ <br>\n",
        "> https://pandas.pydata.org/Pandas_Cheat_Sheet.pdf <br>\n",
        "\n",
        "\n",
        "\n",
        "\n"
      ]
    },
    {
      "cell_type": "markdown",
      "metadata": {
        "id": "cPW7Xzx96qvR"
      },
      "source": [
        "# O que é Pandas?\n",
        "\n",
        "O `Pandas` é um biblioteca Python para manipulação e análise de dados. Ele permite organizar dados em dois tipos de estruturas, Séries e DataFrames e operar transformações sobre essas coleções, ou subconjuntos delas, sem a necessidade de laços de programação.\n",
        "\n",
        "Veja abaixo um sumário das transformações de dados com Pandas. "
      ]
    },
    {
      "cell_type": "markdown",
      "metadata": {
        "id": "CAb5lBbY6qvU"
      },
      "source": [
        "## Imports"
      ]
    },
    {
      "cell_type": "code",
      "metadata": {
        "id": "9oCI8SD26qvU"
      },
      "source": [
        "import pandas as pd\n",
        "import numpy as np"
      ],
      "execution_count": null,
      "outputs": []
    },
    {
      "cell_type": "markdown",
      "metadata": {
        "id": "n6oMMlDE6qvX"
      },
      "source": [
        "# Criando Séries e Dataframes\n",
        "Existem dois tipos de objetos principais nos pandas: **Dataframes** e **Séries**.\n",
        "\n",
        "Um **DataFrame** é uma tabela que contém uma matriz de entradas individuais, cada uma com um determinado valor. Cada entrada corresponde a uma linha (ou registro) e uma coluna. Já uma **Série** pode ser entendida como uma Lista, em que todos os elementos são do mesmo tipo, ou um Coluna de Dados de um dataframe\n",
        "\n"
      ]
    },
    {
      "cell_type": "code",
      "metadata": {
        "scrolled": true,
        "id": "O3yMuZ_O6qvX",
        "outputId": "ab14df14-3294-4a5b-cafa-8d3e58d5c926"
      },
      "source": [
        "BMIseries = pd.Series([0, 18.50, 25, np.NaN])\n",
        "\n",
        "\n",
        "BMIclass = pd.DataFrame({'Classification': ['UnderWeight','Normal Range','Overweight','Obese'], \n",
        "                        'Min': [0, 18.50, 25, 30],\n",
        "                        'Max': [18.49, 24.99, 29.99, 99]})\n",
        "\n",
        "print(BMIclass)\n",
        "\n",
        "BMIclass = pd.DataFrame({'Classification': ['UnderWeight','Normal Range','Overweight','Obese'], \n",
        "                        'Min': [0, 18.50, 25, 30],\n",
        "                        'Max': [18.49, 24.99, 29.99, 99]}, index=['A','B','C','D'])\n",
        "\n",
        "print(BMIclass)\n",
        "print(type(BMIclass))\n",
        "\n",
        "BMImin = pd.Series([0, 18.50, 25, 30])\n",
        "print(BMImin)\n",
        "print(type(BMImin))\n"
      ],
      "execution_count": null,
      "outputs": [
        {
          "output_type": "stream",
          "text": [
            "  Classification   Min    Max\n",
            "0    UnderWeight   0.0  18.49\n",
            "1   Normal Range  18.5  24.99\n",
            "2     Overweight  25.0  29.99\n",
            "3          Obese  30.0  99.00\n",
            "  Classification   Min    Max\n",
            "A    UnderWeight   0.0  18.49\n",
            "B   Normal Range  18.5  24.99\n",
            "C     Overweight  25.0  29.99\n",
            "D          Obese  30.0  99.00\n",
            "<class 'pandas.core.frame.DataFrame'>\n",
            "0     0.0\n",
            "1    18.5\n",
            "2    25.0\n",
            "3    30.0\n",
            "dtype: float64\n",
            "<class 'pandas.core.series.Series'>\n"
          ],
          "name": "stdout"
        }
      ]
    },
    {
      "cell_type": "markdown",
      "metadata": {
        "id": "Zh24M3Az6qva"
      },
      "source": [
        "# Lendo e Gravando um DataFrame\n",
        "\n",
        "O Pandas pode ler arquivos **.CSV** e muitos outros formatos (JSON, XLSX, JSON, SQL etc) diretamente e dataframes ou mesmo gravar esses arquivos. Você talvez esperasse uma melhor simetria desses comandos, mas o read_csv é um método pandas e o to_csv um método do dataframe o que resulta em algumas diferenças. Mas na maior parte do tempo você vai ler dados.\n",
        "\n",
        "\n",
        "| Format        | Read           | Save          |\n",
        "| ------------- |:--------------:| ----------------:|\n",
        "| csv           | `pd.read_csv()`  |`df.to_csv()`     |\n",
        "| json          | `pd.read_json()` |`df.to_json()`    |\n",
        "| xlsx          | `pd.read_excel()`|`df.to_excel()`   |\n",
        "| hdf           | `pd.read_hdf()`  |`df.to_hdf()`     |\n",
        "| sql           | `pd.read_sql()`  |`df.to_sql()`     |\n"
      ]
    },
    {
      "cell_type": "code",
      "metadata": {
        "scrolled": true,
        "id": "A1hTlwOw6qva",
        "outputId": "0114bf71-ca5e-406d-c7c0-9a877af49052"
      },
      "source": [
        "import pandas as pd\n",
        "import numpy as np\n",
        "\n",
        "import os          \n",
        "print(os.getcwd())\n",
        "\n",
        "BMIclass.to_csv(os.getcwd() + '\\BMIfile.csv', index = None, header=True)\n",
        "\n",
        "if 'BMIfile.csv' in os.listdir(os.getcwd()):\n",
        "    print('Arquivo gravado com sucesso em ' + os.getcwd())\n",
        "\n"
      ],
      "execution_count": null,
      "outputs": [
        {
          "output_type": "stream",
          "text": [
            "C:\\Users\\rdeol\n",
            "Arquivo gravado com sucesso em C:\\Users\\rdeol\n"
          ],
          "name": "stdout"
        }
      ]
    },
    {
      "cell_type": "code",
      "metadata": {
        "id": "M4reVbKV6qvd",
        "outputId": "05cb8cec-d3e4-4a75-e088-cec18b09a754"
      },
      "source": [
        "BMInew = pd.read_csv(os.getcwd() + '\\BMIfile.csv', header=0)\n",
        "\n",
        "print(BMInew)"
      ],
      "execution_count": null,
      "outputs": [
        {
          "output_type": "stream",
          "text": [
            "  Classification   Min    Max\n",
            "0    UnderWeight   0.0  18.49\n",
            "1   Normal Range  18.5  24.99\n",
            "2     Overweight  25.0  29.99\n",
            "3          Obese  30.0  99.00\n"
          ],
          "name": "stdout"
        }
      ]
    },
    {
      "cell_type": "markdown",
      "metadata": {
        "id": "Lcf904_X6qvg"
      },
      "source": [
        "Os dados podem também podem ser lidos diretamente da web e você pode querer usar os comandos **head()** e **shape()** para uma primeira inspeção dos dados obtidos."
      ]
    },
    {
      "cell_type": "code",
      "metadata": {
        "scrolled": true,
        "id": "62MlQjPL6qvh",
        "outputId": "e8f64c25-69b6-43e4-97f0-8207e34ac13e"
      },
      "source": [
        "\n",
        "BMIweb = pd.read_csv('http://meusite.mackenzie.br/rogerio/TIC/BMIfile.csv', header=0)\n",
        "\n",
        "print(BMIweb)\n",
        "\n",
        "print(BMIweb.shape) # número de linhas e atributos\n",
        "print(BMIweb.head())"
      ],
      "execution_count": null,
      "outputs": [
        {
          "output_type": "stream",
          "text": [
            "  Classification   Min    Max\n",
            "0    UnderWeight   0.0  18.49\n",
            "1   Normal Range  18.5  24.99\n",
            "2     Overweight  25.0  29.99\n",
            "3          Obese  30.0  99.00\n",
            "(4, 3)\n",
            "  Classification   Min    Max\n",
            "0    UnderWeight   0.0  18.49\n",
            "1   Normal Range  18.5  24.99\n",
            "2     Overweight  25.0  29.99\n",
            "3          Obese  30.0  99.00\n"
          ],
          "name": "stdout"
        }
      ]
    },
    {
      "cell_type": "markdown",
      "metadata": {
        "id": "S4maxzOh6qvj"
      },
      "source": [
        "# Seleção de Dados\n",
        "\n",
        "Selecionar valores específicos de um DataFrame ou Series será necessário para quase todas as operações de dados que você executar. Você normalmente não deseja trabalhar com **\"todos\"** os dados mas com alguns registros (linhas) que satisfazem alguma condição e talvez apenas com alguns atributos (colunas) com os dados que você quer. Isso é um **slice** dos dados e aqui você aprenderá como fazer a seleção de linhas, colunas e linhas+colunas para diferentes slices dos dados.\n",
        "\n",
        "Aprenda à seguir como fazer seleções de dados de interesse através de uma exemplo de dados reais."
      ]
    },
    {
      "cell_type": "markdown",
      "metadata": {
        "id": "mztKuM3KLWA5"
      },
      "source": [
        "# **CASE:** **European Energy:** Qual o tipo de Energia mais produzido na Europa? O uso de fontes renováveis já é significativo? \n",
        "\n",
        "[European Energy link](https://github.com/rfordatascience/tidytuesday/blob/master/data/2020/2020-08-04/readme.md)\n",
        "\n",
        "Explore aqui como é a produção de Energia na Europa.\n"
      ]
    },
    {
      "cell_type": "markdown",
      "metadata": {
        "id": "CxVaMhweLWA7"
      },
      "source": [
        "# Lendo os Dados"
      ]
    },
    {
      "cell_type": "code",
      "metadata": {
        "id": "8qVMMHI5LWA7",
        "outputId": "6cdb30f3-da48-44f9-dcbb-a33e7e50fbfc",
        "colab": {
          "base_uri": "https://localhost:8080/",
          "height": 204
        }
      },
      "source": [
        "import pandas as pd\n",
        "df = pd.read_csv('https://raw.githubusercontent.com/rfordatascience/tidytuesday/master/data/2020/2020-08-04/energy_types.csv') \n",
        "\n",
        "df.head()"
      ],
      "execution_count": null,
      "outputs": [
        {
          "output_type": "execute_result",
          "data": {
            "text/html": [
              "<div>\n",
              "<style scoped>\n",
              "    .dataframe tbody tr th:only-of-type {\n",
              "        vertical-align: middle;\n",
              "    }\n",
              "\n",
              "    .dataframe tbody tr th {\n",
              "        vertical-align: top;\n",
              "    }\n",
              "\n",
              "    .dataframe thead th {\n",
              "        text-align: right;\n",
              "    }\n",
              "</style>\n",
              "<table border=\"1\" class=\"dataframe\">\n",
              "  <thead>\n",
              "    <tr style=\"text-align: right;\">\n",
              "      <th></th>\n",
              "      <th>country</th>\n",
              "      <th>country_name</th>\n",
              "      <th>type</th>\n",
              "      <th>level</th>\n",
              "      <th>2016</th>\n",
              "      <th>2017</th>\n",
              "      <th>2018</th>\n",
              "    </tr>\n",
              "  </thead>\n",
              "  <tbody>\n",
              "    <tr>\n",
              "      <th>0</th>\n",
              "      <td>BE</td>\n",
              "      <td>Belgium</td>\n",
              "      <td>Conventional thermal</td>\n",
              "      <td>Level 1</td>\n",
              "      <td>30728.0</td>\n",
              "      <td>31316.0</td>\n",
              "      <td>30092.635</td>\n",
              "    </tr>\n",
              "    <tr>\n",
              "      <th>1</th>\n",
              "      <td>BE</td>\n",
              "      <td>Belgium</td>\n",
              "      <td>Nuclear</td>\n",
              "      <td>Level 1</td>\n",
              "      <td>41430.0</td>\n",
              "      <td>40128.5</td>\n",
              "      <td>26995.628</td>\n",
              "    </tr>\n",
              "    <tr>\n",
              "      <th>2</th>\n",
              "      <td>BE</td>\n",
              "      <td>Belgium</td>\n",
              "      <td>Hydro</td>\n",
              "      <td>Level 1</td>\n",
              "      <td>1476.0</td>\n",
              "      <td>1360.9</td>\n",
              "      <td>1239.248</td>\n",
              "    </tr>\n",
              "    <tr>\n",
              "      <th>3</th>\n",
              "      <td>BE</td>\n",
              "      <td>Belgium</td>\n",
              "      <td>Pumped hydro power</td>\n",
              "      <td>Level 2</td>\n",
              "      <td>1110.0</td>\n",
              "      <td>1093.2</td>\n",
              "      <td>983.190</td>\n",
              "    </tr>\n",
              "    <tr>\n",
              "      <th>4</th>\n",
              "      <td>BE</td>\n",
              "      <td>Belgium</td>\n",
              "      <td>Wind</td>\n",
              "      <td>Level 1</td>\n",
              "      <td>5340.0</td>\n",
              "      <td>6387.9</td>\n",
              "      <td>7177.346</td>\n",
              "    </tr>\n",
              "  </tbody>\n",
              "</table>\n",
              "</div>"
            ],
            "text/plain": [
              "  country country_name                  type  ...     2016     2017       2018\n",
              "0      BE      Belgium  Conventional thermal  ...  30728.0  31316.0  30092.635\n",
              "1      BE      Belgium               Nuclear  ...  41430.0  40128.5  26995.628\n",
              "2      BE      Belgium                 Hydro  ...   1476.0   1360.9   1239.248\n",
              "3      BE      Belgium    Pumped hydro power  ...   1110.0   1093.2    983.190\n",
              "4      BE      Belgium                  Wind  ...   5340.0   6387.9   7177.346\n",
              "\n",
              "[5 rows x 7 columns]"
            ]
          },
          "metadata": {
            "tags": []
          },
          "execution_count": 3
        }
      ]
    },
    {
      "cell_type": "markdown",
      "metadata": {
        "id": "dxKG021JLsjJ"
      },
      "source": [
        "#  Entendendo a Estrutura dos Dados"
      ]
    },
    {
      "cell_type": "code",
      "metadata": {
        "id": "2imKN51YLsjJ",
        "outputId": "984deba5-5029-46fd-fe69-030e13993f7c",
        "colab": {
          "base_uri": "https://localhost:8080/",
          "height": 390
        }
      },
      "source": [
        "df.shape\n",
        "df.info\n",
        "df.columns\n",
        "df.type.value_counts()\n",
        "df.country_name.unique()\n",
        "df.dtypes\n",
        "df.describe(include = \"all\")"
      ],
      "execution_count": null,
      "outputs": [
        {
          "output_type": "execute_result",
          "data": {
            "text/html": [
              "<div>\n",
              "<style scoped>\n",
              "    .dataframe tbody tr th:only-of-type {\n",
              "        vertical-align: middle;\n",
              "    }\n",
              "\n",
              "    .dataframe tbody tr th {\n",
              "        vertical-align: top;\n",
              "    }\n",
              "\n",
              "    .dataframe thead th {\n",
              "        text-align: right;\n",
              "    }\n",
              "</style>\n",
              "<table border=\"1\" class=\"dataframe\">\n",
              "  <thead>\n",
              "    <tr style=\"text-align: right;\">\n",
              "      <th></th>\n",
              "      <th>country</th>\n",
              "      <th>country_name</th>\n",
              "      <th>type</th>\n",
              "      <th>level</th>\n",
              "      <th>2016</th>\n",
              "      <th>2017</th>\n",
              "      <th>2018</th>\n",
              "    </tr>\n",
              "  </thead>\n",
              "  <tbody>\n",
              "    <tr>\n",
              "      <th>count</th>\n",
              "      <td>296</td>\n",
              "      <td>288</td>\n",
              "      <td>296</td>\n",
              "      <td>296</td>\n",
              "      <td>296.000000</td>\n",
              "      <td>296.000000</td>\n",
              "      <td>296.000000</td>\n",
              "    </tr>\n",
              "    <tr>\n",
              "      <th>unique</th>\n",
              "      <td>37</td>\n",
              "      <td>36</td>\n",
              "      <td>8</td>\n",
              "      <td>2</td>\n",
              "      <td>NaN</td>\n",
              "      <td>NaN</td>\n",
              "      <td>NaN</td>\n",
              "    </tr>\n",
              "    <tr>\n",
              "      <th>top</th>\n",
              "      <td>UA</td>\n",
              "      <td>Bosnia &amp; Herzegovina</td>\n",
              "      <td>Other</td>\n",
              "      <td>Level 1</td>\n",
              "      <td>NaN</td>\n",
              "      <td>NaN</td>\n",
              "      <td>NaN</td>\n",
              "    </tr>\n",
              "    <tr>\n",
              "      <th>freq</th>\n",
              "      <td>8</td>\n",
              "      <td>8</td>\n",
              "      <td>37</td>\n",
              "      <td>259</td>\n",
              "      <td>NaN</td>\n",
              "      <td>NaN</td>\n",
              "      <td>NaN</td>\n",
              "    </tr>\n",
              "    <tr>\n",
              "      <th>mean</th>\n",
              "      <td>NaN</td>\n",
              "      <td>NaN</td>\n",
              "      <td>NaN</td>\n",
              "      <td>NaN</td>\n",
              "      <td>12783.361422</td>\n",
              "      <td>12910.957946</td>\n",
              "      <td>12796.198074</td>\n",
              "    </tr>\n",
              "    <tr>\n",
              "      <th>std</th>\n",
              "      <td>NaN</td>\n",
              "      <td>NaN</td>\n",
              "      <td>NaN</td>\n",
              "      <td>NaN</td>\n",
              "      <td>41066.361831</td>\n",
              "      <td>41029.499878</td>\n",
              "      <td>39423.360898</td>\n",
              "    </tr>\n",
              "    <tr>\n",
              "      <th>min</th>\n",
              "      <td>NaN</td>\n",
              "      <td>NaN</td>\n",
              "      <td>NaN</td>\n",
              "      <td>NaN</td>\n",
              "      <td>0.000000</td>\n",
              "      <td>0.000000</td>\n",
              "      <td>0.000000</td>\n",
              "    </tr>\n",
              "    <tr>\n",
              "      <th>25%</th>\n",
              "      <td>NaN</td>\n",
              "      <td>NaN</td>\n",
              "      <td>NaN</td>\n",
              "      <td>NaN</td>\n",
              "      <td>0.000000</td>\n",
              "      <td>0.000000</td>\n",
              "      <td>0.000000</td>\n",
              "    </tr>\n",
              "    <tr>\n",
              "      <th>50%</th>\n",
              "      <td>NaN</td>\n",
              "      <td>NaN</td>\n",
              "      <td>NaN</td>\n",
              "      <td>NaN</td>\n",
              "      <td>373.282000</td>\n",
              "      <td>351.894000</td>\n",
              "      <td>278.354000</td>\n",
              "    </tr>\n",
              "    <tr>\n",
              "      <th>75%</th>\n",
              "      <td>NaN</td>\n",
              "      <td>NaN</td>\n",
              "      <td>NaN</td>\n",
              "      <td>NaN</td>\n",
              "      <td>5677.250000</td>\n",
              "      <td>5924.456750</td>\n",
              "      <td>6790.148750</td>\n",
              "    </tr>\n",
              "    <tr>\n",
              "      <th>max</th>\n",
              "      <td>NaN</td>\n",
              "      <td>NaN</td>\n",
              "      <td>NaN</td>\n",
              "      <td>NaN</td>\n",
              "      <td>390141.000000</td>\n",
              "      <td>379093.955000</td>\n",
              "      <td>393153.254000</td>\n",
              "    </tr>\n",
              "  </tbody>\n",
              "</table>\n",
              "</div>"
            ],
            "text/plain": [
              "       country          country_name  ...           2017           2018\n",
              "count      296                   288  ...     296.000000     296.000000\n",
              "unique      37                    36  ...            NaN            NaN\n",
              "top         UA  Bosnia & Herzegovina  ...            NaN            NaN\n",
              "freq         8                     8  ...            NaN            NaN\n",
              "mean       NaN                   NaN  ...   12910.957946   12796.198074\n",
              "std        NaN                   NaN  ...   41029.499878   39423.360898\n",
              "min        NaN                   NaN  ...       0.000000       0.000000\n",
              "25%        NaN                   NaN  ...       0.000000       0.000000\n",
              "50%        NaN                   NaN  ...     351.894000     278.354000\n",
              "75%        NaN                   NaN  ...    5924.456750    6790.148750\n",
              "max        NaN                   NaN  ...  379093.955000  393153.254000\n",
              "\n",
              "[11 rows x 7 columns]"
            ]
          },
          "metadata": {
            "tags": []
          },
          "execution_count": 4
        }
      ]
    },
    {
      "cell_type": "markdown",
      "metadata": {
        "id": "eKpvKpG2LsjM"
      },
      "source": [
        "# Selecionando COLUNAS"
      ]
    },
    {
      "cell_type": "code",
      "metadata": {
        "id": "lZofn0RvLsjM",
        "outputId": "9ddc24c9-aa40-4a9f-fe4c-f760007da2c1",
        "colab": {
          "base_uri": "https://localhost:8080/",
          "height": 419
        }
      },
      "source": [
        "df.country_name\n",
        "\n",
        "df['country_name'] # retorna uma Série\n",
        "df[['country_name']] # retorna um Data Frame \n",
        "\n",
        "df[['country','country_name']]"
      ],
      "execution_count": null,
      "outputs": [
        {
          "output_type": "execute_result",
          "data": {
            "text/html": [
              "<div>\n",
              "<style scoped>\n",
              "    .dataframe tbody tr th:only-of-type {\n",
              "        vertical-align: middle;\n",
              "    }\n",
              "\n",
              "    .dataframe tbody tr th {\n",
              "        vertical-align: top;\n",
              "    }\n",
              "\n",
              "    .dataframe thead th {\n",
              "        text-align: right;\n",
              "    }\n",
              "</style>\n",
              "<table border=\"1\" class=\"dataframe\">\n",
              "  <thead>\n",
              "    <tr style=\"text-align: right;\">\n",
              "      <th></th>\n",
              "      <th>country</th>\n",
              "      <th>country_name</th>\n",
              "    </tr>\n",
              "  </thead>\n",
              "  <tbody>\n",
              "    <tr>\n",
              "      <th>0</th>\n",
              "      <td>BE</td>\n",
              "      <td>Belgium</td>\n",
              "    </tr>\n",
              "    <tr>\n",
              "      <th>1</th>\n",
              "      <td>BE</td>\n",
              "      <td>Belgium</td>\n",
              "    </tr>\n",
              "    <tr>\n",
              "      <th>2</th>\n",
              "      <td>BE</td>\n",
              "      <td>Belgium</td>\n",
              "    </tr>\n",
              "    <tr>\n",
              "      <th>3</th>\n",
              "      <td>BE</td>\n",
              "      <td>Belgium</td>\n",
              "    </tr>\n",
              "    <tr>\n",
              "      <th>4</th>\n",
              "      <td>BE</td>\n",
              "      <td>Belgium</td>\n",
              "    </tr>\n",
              "    <tr>\n",
              "      <th>...</th>\n",
              "      <td>...</td>\n",
              "      <td>...</td>\n",
              "    </tr>\n",
              "    <tr>\n",
              "      <th>291</th>\n",
              "      <td>GE</td>\n",
              "      <td>Georgia</td>\n",
              "    </tr>\n",
              "    <tr>\n",
              "      <th>292</th>\n",
              "      <td>GE</td>\n",
              "      <td>Georgia</td>\n",
              "    </tr>\n",
              "    <tr>\n",
              "      <th>293</th>\n",
              "      <td>GE</td>\n",
              "      <td>Georgia</td>\n",
              "    </tr>\n",
              "    <tr>\n",
              "      <th>294</th>\n",
              "      <td>GE</td>\n",
              "      <td>Georgia</td>\n",
              "    </tr>\n",
              "    <tr>\n",
              "      <th>295</th>\n",
              "      <td>GE</td>\n",
              "      <td>Georgia</td>\n",
              "    </tr>\n",
              "  </tbody>\n",
              "</table>\n",
              "<p>296 rows × 2 columns</p>\n",
              "</div>"
            ],
            "text/plain": [
              "    country country_name\n",
              "0        BE      Belgium\n",
              "1        BE      Belgium\n",
              "2        BE      Belgium\n",
              "3        BE      Belgium\n",
              "4        BE      Belgium\n",
              "..      ...          ...\n",
              "291      GE      Georgia\n",
              "292      GE      Georgia\n",
              "293      GE      Georgia\n",
              "294      GE      Georgia\n",
              "295      GE      Georgia\n",
              "\n",
              "[296 rows x 2 columns]"
            ]
          },
          "metadata": {
            "tags": []
          },
          "execution_count": 5
        }
      ]
    },
    {
      "cell_type": "markdown",
      "metadata": {
        "id": "qCs5EMtBaoFZ"
      },
      "source": [
        "# Selecionando LINHAS"
      ]
    },
    {
      "cell_type": "code",
      "metadata": {
        "id": "44REo2tLSLCg",
        "outputId": "3be18112-27c0-4816-8ba1-de25ab200ff3",
        "colab": {
          "base_uri": "https://localhost:8080/",
          "height": 80
        }
      },
      "source": [
        "df[df.country == 'UK']\n",
        "df[ (df.country == 'UK') & (df.level == 'Level 2') ] # não esqueça dos parênteses\n"
      ],
      "execution_count": null,
      "outputs": [
        {
          "output_type": "execute_result",
          "data": {
            "text/html": [
              "<div>\n",
              "<style scoped>\n",
              "    .dataframe tbody tr th:only-of-type {\n",
              "        vertical-align: middle;\n",
              "    }\n",
              "\n",
              "    .dataframe tbody tr th {\n",
              "        vertical-align: top;\n",
              "    }\n",
              "\n",
              "    .dataframe thead th {\n",
              "        text-align: right;\n",
              "    }\n",
              "</style>\n",
              "<table border=\"1\" class=\"dataframe\">\n",
              "  <thead>\n",
              "    <tr style=\"text-align: right;\">\n",
              "      <th></th>\n",
              "      <th>country</th>\n",
              "      <th>country_name</th>\n",
              "      <th>type</th>\n",
              "      <th>level</th>\n",
              "      <th>2016</th>\n",
              "      <th>2017</th>\n",
              "      <th>2018</th>\n",
              "    </tr>\n",
              "  </thead>\n",
              "  <tbody>\n",
              "    <tr>\n",
              "      <th>219</th>\n",
              "      <td>UK</td>\n",
              "      <td>NaN</td>\n",
              "      <td>Pumped hydro power</td>\n",
              "      <td>Level 2</td>\n",
              "      <td>2948.89</td>\n",
              "      <td>2862.01</td>\n",
              "      <td>2515.998</td>\n",
              "    </tr>\n",
              "  </tbody>\n",
              "</table>\n",
              "</div>"
            ],
            "text/plain": [
              "    country country_name                type  ...     2016     2017      2018\n",
              "219      UK          NaN  Pumped hydro power  ...  2948.89  2862.01  2515.998\n",
              "\n",
              "[1 rows x 7 columns]"
            ]
          },
          "metadata": {
            "tags": []
          },
          "execution_count": 6
        }
      ]
    },
    {
      "cell_type": "code",
      "metadata": {
        "id": "Hm-0SR0Wc2g5",
        "outputId": "e8c28eea-b7fa-48ab-b223-af04998ba72c",
        "colab": {
          "base_uri": "https://localhost:8080/",
          "height": 545
        }
      },
      "source": [
        "df[df.country.isin(['UK','BE'])]"
      ],
      "execution_count": null,
      "outputs": [
        {
          "output_type": "execute_result",
          "data": {
            "text/html": [
              "<div>\n",
              "<style scoped>\n",
              "    .dataframe tbody tr th:only-of-type {\n",
              "        vertical-align: middle;\n",
              "    }\n",
              "\n",
              "    .dataframe tbody tr th {\n",
              "        vertical-align: top;\n",
              "    }\n",
              "\n",
              "    .dataframe thead th {\n",
              "        text-align: right;\n",
              "    }\n",
              "</style>\n",
              "<table border=\"1\" class=\"dataframe\">\n",
              "  <thead>\n",
              "    <tr style=\"text-align: right;\">\n",
              "      <th></th>\n",
              "      <th>country</th>\n",
              "      <th>country_name</th>\n",
              "      <th>type</th>\n",
              "      <th>level</th>\n",
              "      <th>2016</th>\n",
              "      <th>2017</th>\n",
              "      <th>2018</th>\n",
              "    </tr>\n",
              "  </thead>\n",
              "  <tbody>\n",
              "    <tr>\n",
              "      <th>0</th>\n",
              "      <td>BE</td>\n",
              "      <td>Belgium</td>\n",
              "      <td>Conventional thermal</td>\n",
              "      <td>Level 1</td>\n",
              "      <td>30728.000</td>\n",
              "      <td>31316.000</td>\n",
              "      <td>30092.635</td>\n",
              "    </tr>\n",
              "    <tr>\n",
              "      <th>1</th>\n",
              "      <td>BE</td>\n",
              "      <td>Belgium</td>\n",
              "      <td>Nuclear</td>\n",
              "      <td>Level 1</td>\n",
              "      <td>41430.000</td>\n",
              "      <td>40128.500</td>\n",
              "      <td>26995.628</td>\n",
              "    </tr>\n",
              "    <tr>\n",
              "      <th>2</th>\n",
              "      <td>BE</td>\n",
              "      <td>Belgium</td>\n",
              "      <td>Hydro</td>\n",
              "      <td>Level 1</td>\n",
              "      <td>1476.000</td>\n",
              "      <td>1360.900</td>\n",
              "      <td>1239.248</td>\n",
              "    </tr>\n",
              "    <tr>\n",
              "      <th>3</th>\n",
              "      <td>BE</td>\n",
              "      <td>Belgium</td>\n",
              "      <td>Pumped hydro power</td>\n",
              "      <td>Level 2</td>\n",
              "      <td>1110.000</td>\n",
              "      <td>1093.200</td>\n",
              "      <td>983.190</td>\n",
              "    </tr>\n",
              "    <tr>\n",
              "      <th>4</th>\n",
              "      <td>BE</td>\n",
              "      <td>Belgium</td>\n",
              "      <td>Wind</td>\n",
              "      <td>Level 1</td>\n",
              "      <td>5340.000</td>\n",
              "      <td>6387.900</td>\n",
              "      <td>7177.346</td>\n",
              "    </tr>\n",
              "    <tr>\n",
              "      <th>5</th>\n",
              "      <td>BE</td>\n",
              "      <td>Belgium</td>\n",
              "      <td>Solar</td>\n",
              "      <td>Level 1</td>\n",
              "      <td>3070.000</td>\n",
              "      <td>3264.300</td>\n",
              "      <td>3488.979</td>\n",
              "    </tr>\n",
              "    <tr>\n",
              "      <th>6</th>\n",
              "      <td>BE</td>\n",
              "      <td>Belgium</td>\n",
              "      <td>Geothermal</td>\n",
              "      <td>Level 1</td>\n",
              "      <td>0.000</td>\n",
              "      <td>0.000</td>\n",
              "      <td>0.000</td>\n",
              "    </tr>\n",
              "    <tr>\n",
              "      <th>7</th>\n",
              "      <td>BE</td>\n",
              "      <td>Belgium</td>\n",
              "      <td>Other</td>\n",
              "      <td>Level 1</td>\n",
              "      <td>476.000</td>\n",
              "      <td>490.900</td>\n",
              "      <td>218.509</td>\n",
              "    </tr>\n",
              "    <tr>\n",
              "      <th>216</th>\n",
              "      <td>UK</td>\n",
              "      <td>NaN</td>\n",
              "      <td>Conventional thermal</td>\n",
              "      <td>Level 1</td>\n",
              "      <td>203165.188</td>\n",
              "      <td>189296.528</td>\n",
              "      <td>180837.905</td>\n",
              "    </tr>\n",
              "    <tr>\n",
              "      <th>217</th>\n",
              "      <td>UK</td>\n",
              "      <td>NaN</td>\n",
              "      <td>Nuclear</td>\n",
              "      <td>Level 1</td>\n",
              "      <td>65149.080</td>\n",
              "      <td>63886.860</td>\n",
              "      <td>59097.753</td>\n",
              "    </tr>\n",
              "    <tr>\n",
              "      <th>218</th>\n",
              "      <td>UK</td>\n",
              "      <td>NaN</td>\n",
              "      <td>Hydro</td>\n",
              "      <td>Level 1</td>\n",
              "      <td>8286.510</td>\n",
              "      <td>8723.430</td>\n",
              "      <td>7678.659</td>\n",
              "    </tr>\n",
              "    <tr>\n",
              "      <th>219</th>\n",
              "      <td>UK</td>\n",
              "      <td>NaN</td>\n",
              "      <td>Pumped hydro power</td>\n",
              "      <td>Level 2</td>\n",
              "      <td>2948.890</td>\n",
              "      <td>2862.010</td>\n",
              "      <td>2515.998</td>\n",
              "    </tr>\n",
              "    <tr>\n",
              "      <th>220</th>\n",
              "      <td>UK</td>\n",
              "      <td>NaN</td>\n",
              "      <td>Wind</td>\n",
              "      <td>Level 1</td>\n",
              "      <td>37262.699</td>\n",
              "      <td>50003.654</td>\n",
              "      <td>56903.961</td>\n",
              "    </tr>\n",
              "    <tr>\n",
              "      <th>221</th>\n",
              "      <td>UK</td>\n",
              "      <td>NaN</td>\n",
              "      <td>Solar</td>\n",
              "      <td>Level 1</td>\n",
              "      <td>10410.948</td>\n",
              "      <td>11524.870</td>\n",
              "      <td>12857.349</td>\n",
              "    </tr>\n",
              "    <tr>\n",
              "      <th>222</th>\n",
              "      <td>UK</td>\n",
              "      <td>NaN</td>\n",
              "      <td>Geothermal</td>\n",
              "      <td>Level 1</td>\n",
              "      <td>0.000</td>\n",
              "      <td>0.000</td>\n",
              "      <td>0.000</td>\n",
              "    </tr>\n",
              "    <tr>\n",
              "      <th>223</th>\n",
              "      <td>UK</td>\n",
              "      <td>NaN</td>\n",
              "      <td>Other</td>\n",
              "      <td>Level 1</td>\n",
              "      <td>0.000</td>\n",
              "      <td>0.000</td>\n",
              "      <td>0.000</td>\n",
              "    </tr>\n",
              "  </tbody>\n",
              "</table>\n",
              "</div>"
            ],
            "text/plain": [
              "    country country_name  ...        2017        2018\n",
              "0        BE      Belgium  ...   31316.000   30092.635\n",
              "1        BE      Belgium  ...   40128.500   26995.628\n",
              "2        BE      Belgium  ...    1360.900    1239.248\n",
              "3        BE      Belgium  ...    1093.200     983.190\n",
              "4        BE      Belgium  ...    6387.900    7177.346\n",
              "5        BE      Belgium  ...    3264.300    3488.979\n",
              "6        BE      Belgium  ...       0.000       0.000\n",
              "7        BE      Belgium  ...     490.900     218.509\n",
              "216      UK          NaN  ...  189296.528  180837.905\n",
              "217      UK          NaN  ...   63886.860   59097.753\n",
              "218      UK          NaN  ...    8723.430    7678.659\n",
              "219      UK          NaN  ...    2862.010    2515.998\n",
              "220      UK          NaN  ...   50003.654   56903.961\n",
              "221      UK          NaN  ...   11524.870   12857.349\n",
              "222      UK          NaN  ...       0.000       0.000\n",
              "223      UK          NaN  ...       0.000       0.000\n",
              "\n",
              "[16 rows x 7 columns]"
            ]
          },
          "metadata": {
            "tags": []
          },
          "execution_count": 7
        }
      ]
    },
    {
      "cell_type": "markdown",
      "metadata": {
        "id": "sYPggAJ8atFC"
      },
      "source": [
        "# Tudo junto: LINHAS e COLUNAS"
      ]
    },
    {
      "cell_type": "code",
      "metadata": {
        "id": "W1khTpqSSvEh",
        "outputId": "8946b162-995e-471f-90cb-44c346c3643f",
        "colab": {
          "base_uri": "https://localhost:8080/",
          "height": 297
        }
      },
      "source": [
        "df[df.country == 'UK'].type\n",
        "\n",
        "df[df.country == 'UK']['type']\n",
        "df[df.country == 'UK'][['type']]\n",
        "\n",
        "df[df.country == 'UK'][['type','level']]"
      ],
      "execution_count": null,
      "outputs": [
        {
          "output_type": "execute_result",
          "data": {
            "text/html": [
              "<div>\n",
              "<style scoped>\n",
              "    .dataframe tbody tr th:only-of-type {\n",
              "        vertical-align: middle;\n",
              "    }\n",
              "\n",
              "    .dataframe tbody tr th {\n",
              "        vertical-align: top;\n",
              "    }\n",
              "\n",
              "    .dataframe thead th {\n",
              "        text-align: right;\n",
              "    }\n",
              "</style>\n",
              "<table border=\"1\" class=\"dataframe\">\n",
              "  <thead>\n",
              "    <tr style=\"text-align: right;\">\n",
              "      <th></th>\n",
              "      <th>type</th>\n",
              "      <th>level</th>\n",
              "    </tr>\n",
              "  </thead>\n",
              "  <tbody>\n",
              "    <tr>\n",
              "      <th>216</th>\n",
              "      <td>Conventional thermal</td>\n",
              "      <td>Level 1</td>\n",
              "    </tr>\n",
              "    <tr>\n",
              "      <th>217</th>\n",
              "      <td>Nuclear</td>\n",
              "      <td>Level 1</td>\n",
              "    </tr>\n",
              "    <tr>\n",
              "      <th>218</th>\n",
              "      <td>Hydro</td>\n",
              "      <td>Level 1</td>\n",
              "    </tr>\n",
              "    <tr>\n",
              "      <th>219</th>\n",
              "      <td>Pumped hydro power</td>\n",
              "      <td>Level 2</td>\n",
              "    </tr>\n",
              "    <tr>\n",
              "      <th>220</th>\n",
              "      <td>Wind</td>\n",
              "      <td>Level 1</td>\n",
              "    </tr>\n",
              "    <tr>\n",
              "      <th>221</th>\n",
              "      <td>Solar</td>\n",
              "      <td>Level 1</td>\n",
              "    </tr>\n",
              "    <tr>\n",
              "      <th>222</th>\n",
              "      <td>Geothermal</td>\n",
              "      <td>Level 1</td>\n",
              "    </tr>\n",
              "    <tr>\n",
              "      <th>223</th>\n",
              "      <td>Other</td>\n",
              "      <td>Level 1</td>\n",
              "    </tr>\n",
              "  </tbody>\n",
              "</table>\n",
              "</div>"
            ],
            "text/plain": [
              "                     type    level\n",
              "216  Conventional thermal  Level 1\n",
              "217               Nuclear  Level 1\n",
              "218                 Hydro  Level 1\n",
              "219    Pumped hydro power  Level 2\n",
              "220                  Wind  Level 1\n",
              "221                 Solar  Level 1\n",
              "222            Geothermal  Level 1\n",
              "223                 Other  Level 1"
            ]
          },
          "metadata": {
            "tags": []
          },
          "execution_count": 8
        }
      ]
    },
    {
      "cell_type": "markdown",
      "metadata": {
        "id": "3PE0OfTSa2Ut"
      },
      "source": [
        "# Criando um SUBCONJUNTO de dados"
      ]
    },
    {
      "cell_type": "code",
      "metadata": {
        "id": "v5VfkYhYUJ-s",
        "outputId": "57d0b0ad-74da-48aa-f3dd-93b5d5b9ad32",
        "colab": {
          "base_uri": "https://localhost:8080/",
          "height": 390
        }
      },
      "source": [
        "mydf = df[df.country == 'UK'][['type','level']]\n",
        "\n",
        "df.head()\n",
        "df.shape\n",
        "len(df)\n",
        "df.describe(include='all')"
      ],
      "execution_count": null,
      "outputs": [
        {
          "output_type": "execute_result",
          "data": {
            "text/html": [
              "<div>\n",
              "<style scoped>\n",
              "    .dataframe tbody tr th:only-of-type {\n",
              "        vertical-align: middle;\n",
              "    }\n",
              "\n",
              "    .dataframe tbody tr th {\n",
              "        vertical-align: top;\n",
              "    }\n",
              "\n",
              "    .dataframe thead th {\n",
              "        text-align: right;\n",
              "    }\n",
              "</style>\n",
              "<table border=\"1\" class=\"dataframe\">\n",
              "  <thead>\n",
              "    <tr style=\"text-align: right;\">\n",
              "      <th></th>\n",
              "      <th>country</th>\n",
              "      <th>country_name</th>\n",
              "      <th>type</th>\n",
              "      <th>level</th>\n",
              "      <th>2016</th>\n",
              "      <th>2017</th>\n",
              "      <th>2018</th>\n",
              "    </tr>\n",
              "  </thead>\n",
              "  <tbody>\n",
              "    <tr>\n",
              "      <th>count</th>\n",
              "      <td>296</td>\n",
              "      <td>288</td>\n",
              "      <td>296</td>\n",
              "      <td>296</td>\n",
              "      <td>296.000000</td>\n",
              "      <td>296.000000</td>\n",
              "      <td>296.000000</td>\n",
              "    </tr>\n",
              "    <tr>\n",
              "      <th>unique</th>\n",
              "      <td>37</td>\n",
              "      <td>36</td>\n",
              "      <td>8</td>\n",
              "      <td>2</td>\n",
              "      <td>NaN</td>\n",
              "      <td>NaN</td>\n",
              "      <td>NaN</td>\n",
              "    </tr>\n",
              "    <tr>\n",
              "      <th>top</th>\n",
              "      <td>UA</td>\n",
              "      <td>Bosnia &amp; Herzegovina</td>\n",
              "      <td>Other</td>\n",
              "      <td>Level 1</td>\n",
              "      <td>NaN</td>\n",
              "      <td>NaN</td>\n",
              "      <td>NaN</td>\n",
              "    </tr>\n",
              "    <tr>\n",
              "      <th>freq</th>\n",
              "      <td>8</td>\n",
              "      <td>8</td>\n",
              "      <td>37</td>\n",
              "      <td>259</td>\n",
              "      <td>NaN</td>\n",
              "      <td>NaN</td>\n",
              "      <td>NaN</td>\n",
              "    </tr>\n",
              "    <tr>\n",
              "      <th>mean</th>\n",
              "      <td>NaN</td>\n",
              "      <td>NaN</td>\n",
              "      <td>NaN</td>\n",
              "      <td>NaN</td>\n",
              "      <td>12783.361422</td>\n",
              "      <td>12910.957946</td>\n",
              "      <td>12796.198074</td>\n",
              "    </tr>\n",
              "    <tr>\n",
              "      <th>std</th>\n",
              "      <td>NaN</td>\n",
              "      <td>NaN</td>\n",
              "      <td>NaN</td>\n",
              "      <td>NaN</td>\n",
              "      <td>41066.361831</td>\n",
              "      <td>41029.499878</td>\n",
              "      <td>39423.360898</td>\n",
              "    </tr>\n",
              "    <tr>\n",
              "      <th>min</th>\n",
              "      <td>NaN</td>\n",
              "      <td>NaN</td>\n",
              "      <td>NaN</td>\n",
              "      <td>NaN</td>\n",
              "      <td>0.000000</td>\n",
              "      <td>0.000000</td>\n",
              "      <td>0.000000</td>\n",
              "    </tr>\n",
              "    <tr>\n",
              "      <th>25%</th>\n",
              "      <td>NaN</td>\n",
              "      <td>NaN</td>\n",
              "      <td>NaN</td>\n",
              "      <td>NaN</td>\n",
              "      <td>0.000000</td>\n",
              "      <td>0.000000</td>\n",
              "      <td>0.000000</td>\n",
              "    </tr>\n",
              "    <tr>\n",
              "      <th>50%</th>\n",
              "      <td>NaN</td>\n",
              "      <td>NaN</td>\n",
              "      <td>NaN</td>\n",
              "      <td>NaN</td>\n",
              "      <td>373.282000</td>\n",
              "      <td>351.894000</td>\n",
              "      <td>278.354000</td>\n",
              "    </tr>\n",
              "    <tr>\n",
              "      <th>75%</th>\n",
              "      <td>NaN</td>\n",
              "      <td>NaN</td>\n",
              "      <td>NaN</td>\n",
              "      <td>NaN</td>\n",
              "      <td>5677.250000</td>\n",
              "      <td>5924.456750</td>\n",
              "      <td>6790.148750</td>\n",
              "    </tr>\n",
              "    <tr>\n",
              "      <th>max</th>\n",
              "      <td>NaN</td>\n",
              "      <td>NaN</td>\n",
              "      <td>NaN</td>\n",
              "      <td>NaN</td>\n",
              "      <td>390141.000000</td>\n",
              "      <td>379093.955000</td>\n",
              "      <td>393153.254000</td>\n",
              "    </tr>\n",
              "  </tbody>\n",
              "</table>\n",
              "</div>"
            ],
            "text/plain": [
              "       country          country_name  ...           2017           2018\n",
              "count      296                   288  ...     296.000000     296.000000\n",
              "unique      37                    36  ...            NaN            NaN\n",
              "top         UA  Bosnia & Herzegovina  ...            NaN            NaN\n",
              "freq         8                     8  ...            NaN            NaN\n",
              "mean       NaN                   NaN  ...   12910.957946   12796.198074\n",
              "std        NaN                   NaN  ...   41029.499878   39423.360898\n",
              "min        NaN                   NaN  ...       0.000000       0.000000\n",
              "25%        NaN                   NaN  ...       0.000000       0.000000\n",
              "50%        NaN                   NaN  ...     351.894000     278.354000\n",
              "75%        NaN                   NaN  ...    5924.456750    6790.148750\n",
              "max        NaN                   NaN  ...  379093.955000  393153.254000\n",
              "\n",
              "[11 rows x 7 columns]"
            ]
          },
          "metadata": {
            "tags": []
          },
          "execution_count": 9
        }
      ]
    },
    {
      "cell_type": "markdown",
      "metadata": {
        "id": "0qEgbFTKbCOK"
      },
      "source": [
        "# Seleção por Localização\n",
        "\n",
        "Esse é um recurso mais avançado e você pode deixar para retomá-lo mais adiante se quiser."
      ]
    },
    {
      "cell_type": "code",
      "metadata": {
        "id": "gBwXxbQQUfcd",
        "outputId": "4faa89c2-bab1-4cd0-8b88-8ebc01e807d7",
        "colab": {
          "base_uri": "https://localhost:8080/",
          "height": 390
        }
      },
      "source": [
        "df.iloc[0:10,0:2] # por índice\n",
        "df.loc[0:10,['type','level']] # por rótulo"
      ],
      "execution_count": null,
      "outputs": [
        {
          "output_type": "execute_result",
          "data": {
            "text/html": [
              "<div>\n",
              "<style scoped>\n",
              "    .dataframe tbody tr th:only-of-type {\n",
              "        vertical-align: middle;\n",
              "    }\n",
              "\n",
              "    .dataframe tbody tr th {\n",
              "        vertical-align: top;\n",
              "    }\n",
              "\n",
              "    .dataframe thead th {\n",
              "        text-align: right;\n",
              "    }\n",
              "</style>\n",
              "<table border=\"1\" class=\"dataframe\">\n",
              "  <thead>\n",
              "    <tr style=\"text-align: right;\">\n",
              "      <th></th>\n",
              "      <th>type</th>\n",
              "      <th>level</th>\n",
              "    </tr>\n",
              "  </thead>\n",
              "  <tbody>\n",
              "    <tr>\n",
              "      <th>0</th>\n",
              "      <td>Conventional thermal</td>\n",
              "      <td>Level 1</td>\n",
              "    </tr>\n",
              "    <tr>\n",
              "      <th>1</th>\n",
              "      <td>Nuclear</td>\n",
              "      <td>Level 1</td>\n",
              "    </tr>\n",
              "    <tr>\n",
              "      <th>2</th>\n",
              "      <td>Hydro</td>\n",
              "      <td>Level 1</td>\n",
              "    </tr>\n",
              "    <tr>\n",
              "      <th>3</th>\n",
              "      <td>Pumped hydro power</td>\n",
              "      <td>Level 2</td>\n",
              "    </tr>\n",
              "    <tr>\n",
              "      <th>4</th>\n",
              "      <td>Wind</td>\n",
              "      <td>Level 1</td>\n",
              "    </tr>\n",
              "    <tr>\n",
              "      <th>5</th>\n",
              "      <td>Solar</td>\n",
              "      <td>Level 1</td>\n",
              "    </tr>\n",
              "    <tr>\n",
              "      <th>6</th>\n",
              "      <td>Geothermal</td>\n",
              "      <td>Level 1</td>\n",
              "    </tr>\n",
              "    <tr>\n",
              "      <th>7</th>\n",
              "      <td>Other</td>\n",
              "      <td>Level 1</td>\n",
              "    </tr>\n",
              "    <tr>\n",
              "      <th>8</th>\n",
              "      <td>Conventional thermal</td>\n",
              "      <td>Level 1</td>\n",
              "    </tr>\n",
              "    <tr>\n",
              "      <th>9</th>\n",
              "      <td>Nuclear</td>\n",
              "      <td>Level 1</td>\n",
              "    </tr>\n",
              "    <tr>\n",
              "      <th>10</th>\n",
              "      <td>Hydro</td>\n",
              "      <td>Level 1</td>\n",
              "    </tr>\n",
              "  </tbody>\n",
              "</table>\n",
              "</div>"
            ],
            "text/plain": [
              "                    type    level\n",
              "0   Conventional thermal  Level 1\n",
              "1                Nuclear  Level 1\n",
              "2                  Hydro  Level 1\n",
              "3     Pumped hydro power  Level 2\n",
              "4                   Wind  Level 1\n",
              "5                  Solar  Level 1\n",
              "6             Geothermal  Level 1\n",
              "7                  Other  Level 1\n",
              "8   Conventional thermal  Level 1\n",
              "9                Nuclear  Level 1\n",
              "10                 Hydro  Level 1"
            ]
          },
          "metadata": {
            "tags": []
          },
          "execution_count": 10
        }
      ]
    },
    {
      "cell_type": "markdown",
      "metadata": {
        "id": "i9WukY4ebSzZ"
      },
      "source": [
        "# Extraindo informações de um atributo\n",
        "\n"
      ]
    },
    {
      "cell_type": "markdown",
      "metadata": {
        "id": "jUVJ-efnbq5K"
      },
      "source": [
        "## Coluna inteira"
      ]
    },
    {
      "cell_type": "code",
      "metadata": {
        "id": "bL7AsmK4U-Sv",
        "outputId": "709e15c8-ab55-426c-967c-6ea45b566ee2",
        "colab": {
          "base_uri": "https://localhost:8080/",
          "height": 170
        }
      },
      "source": [
        "df['2018'].mean()\n",
        "df['2018'].sum()\n",
        "df['2018'].max()\n",
        "\n",
        "df['type'].value_counts()\n",
        "\n",
        "# df['2018'].idxmax() # avançado!!! :-)\n",
        "# df.iloc[ df['2018'].idxmax() ]"
      ],
      "execution_count": null,
      "outputs": [
        {
          "output_type": "execute_result",
          "data": {
            "text/plain": [
              "Other                   37\n",
              "Conventional thermal    37\n",
              "Hydro                   37\n",
              "Solar                   37\n",
              "Wind                    37\n",
              "Pumped hydro power      37\n",
              "Geothermal              37\n",
              "Nuclear                 37\n",
              "Name: type, dtype: int64"
            ]
          },
          "metadata": {
            "tags": []
          },
          "execution_count": 11
        }
      ]
    },
    {
      "cell_type": "markdown",
      "metadata": {
        "id": "PNZwwDLGbi5m"
      },
      "source": [
        "## De uma seleção dos dados"
      ]
    },
    {
      "cell_type": "code",
      "metadata": {
        "id": "PMMRutQbVyvs",
        "outputId": "1c0df651-1b31-4d06-8862-32c69e919854",
        "colab": {
          "base_uri": "https://localhost:8080/",
          "height": 34
        }
      },
      "source": [
        "df[df.country == 'UK']['2018'].mean()\n",
        "df[df.country == 'UK']['2018'].sum()\n"
      ],
      "execution_count": null,
      "outputs": [
        {
          "output_type": "execute_result",
          "data": {
            "text/plain": [
              "319891.625"
            ]
          },
          "metadata": {
            "tags": []
          },
          "execution_count": 12
        }
      ]
    },
    {
      "cell_type": "code",
      "metadata": {
        "id": "shw0X5THXPIZ",
        "outputId": "ecd40a00-71c9-49f2-9d32-274ed8693457",
        "colab": {
          "base_uri": "https://localhost:8080/",
          "height": 34
        }
      },
      "source": [
        "df[df.type == 'Nuclear']['2018'].mean()"
      ],
      "execution_count": null,
      "outputs": [
        {
          "output_type": "execute_result",
          "data": {
            "text/plain": [
              "23468.48602702703"
            ]
          },
          "metadata": {
            "tags": []
          },
          "execution_count": 13
        }
      ]
    },
    {
      "cell_type": "markdown",
      "metadata": {
        "id": "AQHoBbVub295"
      },
      "source": [
        "# Agregações\n",
        "\n",
        "Funcionam de forma análoga a uma `Pivot Table` (tabela dinâmica) do Excel, ou ao `group by` do SQL. "
      ]
    },
    {
      "cell_type": "code",
      "metadata": {
        "id": "R0l4xeP8XegJ",
        "outputId": "2fc9db9d-0fa5-4a7d-d237-fa64a8d1f477",
        "colab": {
          "base_uri": "https://localhost:8080/",
          "height": 187
        }
      },
      "source": [
        "df.groupby('type')['2018'].mean()\n",
        "df.groupby('type')['2018'].max()\n",
        "df.groupby('type')['2018'].count()\n",
        "\n",
        "df.groupby(['level','type'])['2018'].mean()\n",
        "\n",
        "# dfgroup = pd.DataFrame(df.groupby('type')['2018'].mean()) # avançado :-)\n",
        "# dfgroup = dfgroup.reset_index()\n",
        "# dfgroup\n"
      ],
      "execution_count": null,
      "outputs": [
        {
          "output_type": "execute_result",
          "data": {
            "text/plain": [
              "level    type                \n",
              "Level 1  Conventional thermal    46065.660000\n",
              "         Geothermal                336.317676\n",
              "         Hydro                   16540.365703\n",
              "         Nuclear                 23468.486027\n",
              "         Other                     216.733622\n",
              "         Solar                    3539.688919\n",
              "         Wind                    10846.821081\n",
              "Level 2  Pumped hydro power       1355.511568\n",
              "Name: 2018, dtype: float64"
            ]
          },
          "metadata": {
            "tags": []
          },
          "execution_count": 14
        }
      ]
    },
    {
      "cell_type": "markdown",
      "metadata": {
        "id": "EzCauokyfWE4"
      },
      "source": [
        "# Qual o percentual de Energia renovável produzida na Europa?"
      ]
    },
    {
      "cell_type": "code",
      "metadata": {
        "id": "VwOSURQxcVum",
        "outputId": "d69fe481-3dc1-4177-8b73-86f23da3723e",
        "colab": {
          "base_uri": "https://localhost:8080/",
          "height": 34
        }
      },
      "source": [
        "df.type.unique()\n",
        "# ['Conventional thermal', 'Nuclear', 'Hydro', 'Pumped hydro power',\n",
        "#       'Wind', 'Solar', 'Geothermal', 'Other']\n",
        "\n",
        "total_renovavel = df[ df.type.isin(['Hydro', 'Pumped hydro power', 'Wind', 'Solar', 'Geothermal', 'Other']) ]['2018'].sum()\n",
        "total = df['2018'].sum()\n",
        "\n",
        "perc_renovavel = total_renovavel / total\n",
        "\n",
        "print('Percentual de Energia Renovável produzida na Europa: {:0.2f}'.format(perc_renovavel))\n"
      ],
      "execution_count": null,
      "outputs": [
        {
          "output_type": "stream",
          "text": [
            "Percentual de Energia Renovável produzida na Europa: 0.32\n"
          ],
          "name": "stdout"
        }
      ]
    },
    {
      "cell_type": "markdown",
      "metadata": {
        "id": "uazYDsrSflvL"
      },
      "source": [
        "# Qual o percentual de Energia nuclear produzida na Europa?"
      ]
    },
    {
      "cell_type": "code",
      "metadata": {
        "id": "zBANBp6uerBi",
        "outputId": "43007dc7-c3f8-46f9-e3cd-9a55f641092f",
        "colab": {
          "base_uri": "https://localhost:8080/",
          "height": 34
        }
      },
      "source": [
        "df.type.unique()\n",
        "# ['Conventional thermal', 'Nuclear', 'Hydro', 'Pumped hydro power',\n",
        "#       'Wind', 'Solar', 'Geothermal', 'Other']\n",
        "\n",
        "total_nuclear = df[ df.type == 'Nuclear' ]['2018'].sum()\n",
        "total = df['2018'].sum()\n",
        "\n",
        "perc_nuclear = total_nuclear / total\n",
        "\n",
        "print('Percentual de Energia Nuclear produzida na Europa: {:0.2f}'.format(perc_nuclear))"
      ],
      "execution_count": null,
      "outputs": [
        {
          "output_type": "stream",
          "text": [
            "Percentual de Energia Nuclear produzida na Europa: 0.23\n"
          ],
          "name": "stdout"
        }
      ]
    },
    {
      "cell_type": "markdown",
      "metadata": {
        "id": "fgFYTFU4ftzU"
      },
      "source": [
        "# Qual o percentual de Energia nuclear produzida na França?"
      ]
    },
    {
      "cell_type": "code",
      "metadata": {
        "id": "OP52Mk-WfA2Y",
        "outputId": "3267fffa-f7b2-4cb5-b086-55cf3acb409f",
        "colab": {
          "base_uri": "https://localhost:8080/",
          "height": 34
        }
      },
      "source": [
        "df.type.unique()\n",
        "# ['Conventional thermal', 'Nuclear', 'Hydro', 'Pumped hydro power',\n",
        "#       'Wind', 'Solar', 'Geothermal', 'Other']\n",
        "\n",
        "total_nuclear = df[ (df.type == 'Nuclear') & (df.country == 'FR') ]['2018'].sum()\n",
        "total = df[ df.country == 'FR' ]['2018'].sum()\n",
        "\n",
        "perc_nuclear = total_nuclear / total\n",
        "\n",
        "print('Percentual de Energia Nuclear produzida na França: {:0.2f}'.format(perc_nuclear))"
      ],
      "execution_count": null,
      "outputs": [
        {
          "output_type": "stream",
          "text": [
            "Percentual de Energia Nuclear produzida na França: 0.70\n"
          ],
          "name": "stdout"
        }
      ]
    },
    {
      "cell_type": "markdown",
      "metadata": {
        "id": "vIF2Naj4MV5p"
      },
      "source": [
        "# Exercícios resolvidos e propostos\n",
        "\n",
        "Resolva os exercícios propostos. "
      ]
    },
    {
      "cell_type": "markdown",
      "metadata": {
        "id": "6u59xDSrkEyG"
      },
      "source": [
        "# **CASE:** **Board Games** \n",
        "\n",
        "[Board Games](https://www.kaggle.com/mrpantherson/board-game-data)\n",
        "\n",
        "Explore os dados de Jogos de Tabuleiros.\n",
        "\n"
      ]
    },
    {
      "cell_type": "code",
      "metadata": {
        "id": "VwLKtRbL22IB",
        "outputId": "866bb0b3-8f3c-4261-eb2a-1c990027bd8e",
        "colab": {
          "base_uri": "https://localhost:8080/",
          "height": 479
        }
      },
      "source": [
        "import pandas as pd\n",
        "import numpy as np\n",
        "\n",
        "df = pd.read_csv('https://meusite.mackenzie.br/rogerio/bgg_db_1806.csv', encoding = \"ISO-8859-1\")\n",
        "df.head()"
      ],
      "execution_count": null,
      "outputs": [
        {
          "output_type": "execute_result",
          "data": {
            "text/html": [
              "<div>\n",
              "<style scoped>\n",
              "    .dataframe tbody tr th:only-of-type {\n",
              "        vertical-align: middle;\n",
              "    }\n",
              "\n",
              "    .dataframe tbody tr th {\n",
              "        vertical-align: top;\n",
              "    }\n",
              "\n",
              "    .dataframe thead th {\n",
              "        text-align: right;\n",
              "    }\n",
              "</style>\n",
              "<table border=\"1\" class=\"dataframe\">\n",
              "  <thead>\n",
              "    <tr style=\"text-align: right;\">\n",
              "      <th></th>\n",
              "      <th>rank</th>\n",
              "      <th>bgg_url</th>\n",
              "      <th>game_id</th>\n",
              "      <th>names</th>\n",
              "      <th>min_players</th>\n",
              "      <th>max_players</th>\n",
              "      <th>avg_time</th>\n",
              "      <th>min_time</th>\n",
              "      <th>max_time</th>\n",
              "      <th>year</th>\n",
              "      <th>avg_rating</th>\n",
              "      <th>geek_rating</th>\n",
              "      <th>num_votes</th>\n",
              "      <th>image_url</th>\n",
              "      <th>age</th>\n",
              "      <th>mechanic</th>\n",
              "      <th>owned</th>\n",
              "      <th>category</th>\n",
              "      <th>designer</th>\n",
              "      <th>weight</th>\n",
              "    </tr>\n",
              "  </thead>\n",
              "  <tbody>\n",
              "    <tr>\n",
              "      <th>0</th>\n",
              "      <td>1</td>\n",
              "      <td>https://boardgamegeek.com/boardgame/174430/glo...</td>\n",
              "      <td>174430</td>\n",
              "      <td>Gloomhaven</td>\n",
              "      <td>1</td>\n",
              "      <td>4</td>\n",
              "      <td>120</td>\n",
              "      <td>60</td>\n",
              "      <td>120</td>\n",
              "      <td>2017</td>\n",
              "      <td>8.98893</td>\n",
              "      <td>8.61858</td>\n",
              "      <td>15376</td>\n",
              "      <td>https://cf.geekdo-images.com/original/img/lDN3...</td>\n",
              "      <td>12</td>\n",
              "      <td>Action / Movement Programming, Co-operative Pl...</td>\n",
              "      <td>25928</td>\n",
              "      <td>Adventure, Exploration, Fantasy, Fighting, Min...</td>\n",
              "      <td>Isaac Childres</td>\n",
              "      <td>3.7543</td>\n",
              "    </tr>\n",
              "    <tr>\n",
              "      <th>1</th>\n",
              "      <td>2</td>\n",
              "      <td>https://boardgamegeek.com/boardgame/161936/pan...</td>\n",
              "      <td>161936</td>\n",
              "      <td>Pandemic Legacy: Season 1</td>\n",
              "      <td>2</td>\n",
              "      <td>4</td>\n",
              "      <td>60</td>\n",
              "      <td>60</td>\n",
              "      <td>60</td>\n",
              "      <td>2015</td>\n",
              "      <td>8.66140</td>\n",
              "      <td>8.50163</td>\n",
              "      <td>26063</td>\n",
              "      <td>https://cf.geekdo-images.com/original/img/P_Sw...</td>\n",
              "      <td>13</td>\n",
              "      <td>Action Point Allowance System, Co-operative Pl...</td>\n",
              "      <td>41605</td>\n",
              "      <td>Environmental, Medical</td>\n",
              "      <td>Rob Daviau, Matt Leacock</td>\n",
              "      <td>2.8210</td>\n",
              "    </tr>\n",
              "    <tr>\n",
              "      <th>2</th>\n",
              "      <td>3</td>\n",
              "      <td>https://boardgamegeek.com/boardgame/182028/thr...</td>\n",
              "      <td>182028</td>\n",
              "      <td>Through the Ages: A New Story of Civilization</td>\n",
              "      <td>2</td>\n",
              "      <td>4</td>\n",
              "      <td>240</td>\n",
              "      <td>180</td>\n",
              "      <td>240</td>\n",
              "      <td>2015</td>\n",
              "      <td>8.60673</td>\n",
              "      <td>8.30183</td>\n",
              "      <td>12352</td>\n",
              "      <td>https://cf.geekdo-images.com/original/img/1d2h...</td>\n",
              "      <td>14</td>\n",
              "      <td>Action Point Allowance System, Auction/Bidding...</td>\n",
              "      <td>15848</td>\n",
              "      <td>Card Game, Civilization, Economic</td>\n",
              "      <td>Vlaada ChvÃ¡til</td>\n",
              "      <td>4.3678</td>\n",
              "    </tr>\n",
              "    <tr>\n",
              "      <th>3</th>\n",
              "      <td>4</td>\n",
              "      <td>https://boardgamegeek.com/boardgame/167791/ter...</td>\n",
              "      <td>167791</td>\n",
              "      <td>Terraforming Mars</td>\n",
              "      <td>1</td>\n",
              "      <td>5</td>\n",
              "      <td>120</td>\n",
              "      <td>120</td>\n",
              "      <td>120</td>\n",
              "      <td>2016</td>\n",
              "      <td>8.38461</td>\n",
              "      <td>8.19914</td>\n",
              "      <td>26004</td>\n",
              "      <td>https://cf.geekdo-images.com/original/img/o8z_...</td>\n",
              "      <td>12</td>\n",
              "      <td>Card Drafting, Hand Management, Set Collection...</td>\n",
              "      <td>33340</td>\n",
              "      <td>Economic, Environmental, Industry / Manufactur...</td>\n",
              "      <td>Jacob Fryxelius</td>\n",
              "      <td>3.2456</td>\n",
              "    </tr>\n",
              "    <tr>\n",
              "      <th>4</th>\n",
              "      <td>5</td>\n",
              "      <td>https://boardgamegeek.com/boardgame/12333/twil...</td>\n",
              "      <td>12333</td>\n",
              "      <td>Twilight Struggle</td>\n",
              "      <td>2</td>\n",
              "      <td>2</td>\n",
              "      <td>180</td>\n",
              "      <td>120</td>\n",
              "      <td>180</td>\n",
              "      <td>2005</td>\n",
              "      <td>8.33954</td>\n",
              "      <td>8.19787</td>\n",
              "      <td>31301</td>\n",
              "      <td>https://cf.geekdo-images.com/original/img/ZPnn...</td>\n",
              "      <td>13</td>\n",
              "      <td>Area Control / Area Influence, Campaign / Batt...</td>\n",
              "      <td>42952</td>\n",
              "      <td>Modern Warfare, Political, Wargame</td>\n",
              "      <td>Ananda Gupta, Jason Matthews</td>\n",
              "      <td>3.5518</td>\n",
              "    </tr>\n",
              "  </tbody>\n",
              "</table>\n",
              "</div>"
            ],
            "text/plain": [
              "   rank  ...  weight\n",
              "0     1  ...  3.7543\n",
              "1     2  ...  2.8210\n",
              "2     3  ...  4.3678\n",
              "3     4  ...  3.2456\n",
              "4     5  ...  3.5518\n",
              "\n",
              "[5 rows x 20 columns]"
            ]
          },
          "metadata": {
            "tags": []
          },
          "execution_count": 17
        }
      ]
    },
    {
      "cell_type": "markdown",
      "metadata": {
        "id": "FuNts_9lO6Pk"
      },
      "source": [
        "# Exercício.\n",
        "\n",
        "Explore a estrutura dos dados. \n",
        "\n",
        "* Quantas linhas e quantos atributos existem?\n",
        "* Qual o ano mais recente de jogos da base?\n",
        "* Verifique os valores de ano. Existem dados inválidos na base?\n",
        "* Qual a média de idade para os jogos? "
      ]
    },
    {
      "cell_type": "markdown",
      "metadata": {
        "id": "DYrS7wHaTVOx"
      },
      "source": [
        "# **Exercício (Resolvido)**\n",
        "\n",
        "Qual o valor máximo e mínimo de *rating* dos jogos (`avg_rating`)?"
      ]
    },
    {
      "cell_type": "code",
      "metadata": {
        "id": "K73AsMI0UAJS",
        "outputId": "40800ab6-3039-4cff-c527-d34ffc497775",
        "colab": {
          "base_uri": "https://localhost:8080/",
          "height": 68
        }
      },
      "source": [
        "print( df[['avg_rating']].min(), df[['avg_rating']].max() ) "
      ],
      "execution_count": null,
      "outputs": [
        {
          "output_type": "stream",
          "text": [
            "avg_rating    5.77773\n",
            "dtype: float64 avg_rating    9.15915\n",
            "dtype: float64\n"
          ],
          "name": "stdout"
        }
      ]
    },
    {
      "cell_type": "markdown",
      "metadata": {
        "id": "ipNULkPUUNvA"
      },
      "source": [
        "# Exercício\n",
        "\n",
        "Qual o game com maior `avg_rating`?"
      ]
    },
    {
      "cell_type": "markdown",
      "metadata": {
        "id": "Df1DFLlgUg5X"
      },
      "source": [
        "# **Exercício (Resolvido)**\n",
        "\n",
        "Quais os 5 jogos com maior tempo de duração média (`avg_time`)."
      ]
    },
    {
      "cell_type": "code",
      "metadata": {
        "id": "BGy-bNomO2HT",
        "outputId": "b8b876bd-32ea-45d6-edd9-0893eb70e34d",
        "colab": {
          "base_uri": "https://localhost:8080/",
          "height": 581
        }
      },
      "source": [
        "df.nlargest(5, 'avg_time')"
      ],
      "execution_count": null,
      "outputs": [
        {
          "output_type": "execute_result",
          "data": {
            "text/html": [
              "<div>\n",
              "<style scoped>\n",
              "    .dataframe tbody tr th:only-of-type {\n",
              "        vertical-align: middle;\n",
              "    }\n",
              "\n",
              "    .dataframe tbody tr th {\n",
              "        vertical-align: top;\n",
              "    }\n",
              "\n",
              "    .dataframe thead th {\n",
              "        text-align: right;\n",
              "    }\n",
              "</style>\n",
              "<table border=\"1\" class=\"dataframe\">\n",
              "  <thead>\n",
              "    <tr style=\"text-align: right;\">\n",
              "      <th></th>\n",
              "      <th>rank</th>\n",
              "      <th>bgg_url</th>\n",
              "      <th>game_id</th>\n",
              "      <th>names</th>\n",
              "      <th>min_players</th>\n",
              "      <th>max_players</th>\n",
              "      <th>avg_time</th>\n",
              "      <th>min_time</th>\n",
              "      <th>max_time</th>\n",
              "      <th>year</th>\n",
              "      <th>avg_rating</th>\n",
              "      <th>geek_rating</th>\n",
              "      <th>num_votes</th>\n",
              "      <th>image_url</th>\n",
              "      <th>age</th>\n",
              "      <th>mechanic</th>\n",
              "      <th>owned</th>\n",
              "      <th>category</th>\n",
              "      <th>designer</th>\n",
              "      <th>weight</th>\n",
              "    </tr>\n",
              "  </thead>\n",
              "  <tbody>\n",
              "    <tr>\n",
              "      <th>2266</th>\n",
              "      <td>2267</td>\n",
              "      <td>https://boardgamegeek.com/boardgame/29285/case...</td>\n",
              "      <td>29285</td>\n",
              "      <td>Case Blue</td>\n",
              "      <td>1</td>\n",
              "      <td>2</td>\n",
              "      <td>22500</td>\n",
              "      <td>0</td>\n",
              "      <td>22500</td>\n",
              "      <td>2007</td>\n",
              "      <td>8.23545</td>\n",
              "      <td>5.95493</td>\n",
              "      <td>270</td>\n",
              "      <td>https://cf.geekdo-images.com/original/img/rs-T...</td>\n",
              "      <td>12</td>\n",
              "      <td>Dice Rolling, Hex-and-Counter, Simulation</td>\n",
              "      <td>654</td>\n",
              "      <td>Wargame, World War II</td>\n",
              "      <td>Dean Essig</td>\n",
              "      <td>4.5821</td>\n",
              "    </tr>\n",
              "    <tr>\n",
              "      <th>4797</th>\n",
              "      <td>4798</td>\n",
              "      <td>https://boardgamegeek.com/boardgame/46669/1914...</td>\n",
              "      <td>46669</td>\n",
              "      <td>1914: Offensive Ã  outrance</td>\n",
              "      <td>2</td>\n",
              "      <td>4</td>\n",
              "      <td>17280</td>\n",
              "      <td>17280</td>\n",
              "      <td>17280</td>\n",
              "      <td>2013</td>\n",
              "      <td>7.99310</td>\n",
              "      <td>5.65047</td>\n",
              "      <td>87</td>\n",
              "      <td>https://cf.geekdo-images.com/original/img/aDlm...</td>\n",
              "      <td>0</td>\n",
              "      <td>Hex-and-Counter</td>\n",
              "      <td>488</td>\n",
              "      <td>Wargame, World War I</td>\n",
              "      <td>Michael Resch</td>\n",
              "      <td>3.9231</td>\n",
              "    </tr>\n",
              "    <tr>\n",
              "      <th>966</th>\n",
              "      <td>966</td>\n",
              "      <td>https://boardgamegeek.com/boardgame/254/empire...</td>\n",
              "      <td>254</td>\n",
              "      <td>Empires in Arms</td>\n",
              "      <td>2</td>\n",
              "      <td>7</td>\n",
              "      <td>12000</td>\n",
              "      <td>6000</td>\n",
              "      <td>12000</td>\n",
              "      <td>1983</td>\n",
              "      <td>7.54607</td>\n",
              "      <td>6.44524</td>\n",
              "      <td>1118</td>\n",
              "      <td>https://cf.geekdo-images.com/original/img/qKfc...</td>\n",
              "      <td>14</td>\n",
              "      <td>Area Movement, Dice Rolling, Secret Unit Deplo...</td>\n",
              "      <td>1891</td>\n",
              "      <td>Economic, Napoleonic, Negotiation, Political, ...</td>\n",
              "      <td>Greg Pinder, Harry Rowland</td>\n",
              "      <td>4.4346</td>\n",
              "    </tr>\n",
              "    <tr>\n",
              "      <th>942</th>\n",
              "      <td>942</td>\n",
              "      <td>https://boardgamegeek.com/boardgame/1499/world...</td>\n",
              "      <td>1499</td>\n",
              "      <td>World in Flames</td>\n",
              "      <td>2</td>\n",
              "      <td>7</td>\n",
              "      <td>6000</td>\n",
              "      <td>120</td>\n",
              "      <td>6000</td>\n",
              "      <td>1985</td>\n",
              "      <td>7.50662</td>\n",
              "      <td>6.45824</td>\n",
              "      <td>1220</td>\n",
              "      <td>https://cf.geekdo-images.com/original/img/XvTk...</td>\n",
              "      <td>12</td>\n",
              "      <td>Area Movement, Dice Rolling, Hex-and-Counter</td>\n",
              "      <td>2307</td>\n",
              "      <td>Wargame, World War II</td>\n",
              "      <td>Greg Pinder, Harry Rowland</td>\n",
              "      <td>4.6008</td>\n",
              "    </tr>\n",
              "    <tr>\n",
              "      <th>1756</th>\n",
              "      <td>1757</td>\n",
              "      <td>https://boardgamegeek.com/boardgame/5622/pacif...</td>\n",
              "      <td>5622</td>\n",
              "      <td>Pacific War</td>\n",
              "      <td>2</td>\n",
              "      <td>2</td>\n",
              "      <td>6000</td>\n",
              "      <td>60</td>\n",
              "      <td>6000</td>\n",
              "      <td>1985</td>\n",
              "      <td>7.55915</td>\n",
              "      <td>6.09694</td>\n",
              "      <td>516</td>\n",
              "      <td>https://cf.geekdo-images.com/original/img/GMUp...</td>\n",
              "      <td>16</td>\n",
              "      <td>Dice Rolling, Hex-and-Counter, Simulation</td>\n",
              "      <td>1514</td>\n",
              "      <td>Nautical, Wargame, World War II</td>\n",
              "      <td>Mark Herman</td>\n",
              "      <td>4.5111</td>\n",
              "    </tr>\n",
              "  </tbody>\n",
              "</table>\n",
              "</div>"
            ],
            "text/plain": [
              "      rank  ...  weight\n",
              "2266  2267  ...  4.5821\n",
              "4797  4798  ...  3.9231\n",
              "966    966  ...  4.4346\n",
              "942    942  ...  4.6008\n",
              "1756  1757  ...  4.5111\n",
              "\n",
              "[5 rows x 20 columns]"
            ]
          },
          "metadata": {
            "tags": []
          },
          "execution_count": 42
        }
      ]
    },
    {
      "cell_type": "markdown",
      "metadata": {
        "id": "sauWqMcaVRGp"
      },
      "source": [
        "# Exercício.\n",
        "\n",
        "Qual a média de idade para jogos com no máximo 10 jogadores?"
      ]
    },
    {
      "cell_type": "markdown",
      "metadata": {
        "id": "AenzTE16PJkn"
      },
      "source": [
        "# **CASE:** **Hotels:** Reservas e Cancelamentos \n",
        "\n",
        "[Hotels link](https://github.com/rfordatascience/tidytuesday/blob/master/data/2020/2020-02-11/readme.md)\n",
        "\n",
        "Explore os dados de reservas de hotéis e cancelamentos.\n"
      ]
    },
    {
      "cell_type": "markdown",
      "metadata": {
        "id": "7VywPg3QaJNJ"
      },
      "source": [
        "# Lendo os Dados"
      ]
    },
    {
      "cell_type": "code",
      "metadata": {
        "id": "dMz60OlHuxL_",
        "outputId": "08dcfd82-946a-4653-fe23-b97ec5812426",
        "colab": {
          "base_uri": "https://localhost:8080/",
          "height": 309
        }
      },
      "source": [
        "import pandas as pd\n",
        "df = pd.read_csv('https://raw.githubusercontent.com/rfordatascience/tidytuesday/master/data/2020/2020-02-11/hotels.csv') \n",
        "\n",
        "df.head()"
      ],
      "execution_count": null,
      "outputs": [
        {
          "output_type": "execute_result",
          "data": {
            "text/html": [
              "<div>\n",
              "<style scoped>\n",
              "    .dataframe tbody tr th:only-of-type {\n",
              "        vertical-align: middle;\n",
              "    }\n",
              "\n",
              "    .dataframe tbody tr th {\n",
              "        vertical-align: top;\n",
              "    }\n",
              "\n",
              "    .dataframe thead th {\n",
              "        text-align: right;\n",
              "    }\n",
              "</style>\n",
              "<table border=\"1\" class=\"dataframe\">\n",
              "  <thead>\n",
              "    <tr style=\"text-align: right;\">\n",
              "      <th></th>\n",
              "      <th>hotel</th>\n",
              "      <th>is_canceled</th>\n",
              "      <th>lead_time</th>\n",
              "      <th>arrival_date_year</th>\n",
              "      <th>arrival_date_month</th>\n",
              "      <th>arrival_date_week_number</th>\n",
              "      <th>arrival_date_day_of_month</th>\n",
              "      <th>stays_in_weekend_nights</th>\n",
              "      <th>stays_in_week_nights</th>\n",
              "      <th>adults</th>\n",
              "      <th>children</th>\n",
              "      <th>babies</th>\n",
              "      <th>meal</th>\n",
              "      <th>country</th>\n",
              "      <th>market_segment</th>\n",
              "      <th>distribution_channel</th>\n",
              "      <th>is_repeated_guest</th>\n",
              "      <th>previous_cancellations</th>\n",
              "      <th>previous_bookings_not_canceled</th>\n",
              "      <th>reserved_room_type</th>\n",
              "      <th>assigned_room_type</th>\n",
              "      <th>booking_changes</th>\n",
              "      <th>deposit_type</th>\n",
              "      <th>agent</th>\n",
              "      <th>company</th>\n",
              "      <th>days_in_waiting_list</th>\n",
              "      <th>customer_type</th>\n",
              "      <th>adr</th>\n",
              "      <th>required_car_parking_spaces</th>\n",
              "      <th>total_of_special_requests</th>\n",
              "      <th>reservation_status</th>\n",
              "      <th>reservation_status_date</th>\n",
              "    </tr>\n",
              "  </thead>\n",
              "  <tbody>\n",
              "    <tr>\n",
              "      <th>0</th>\n",
              "      <td>Resort Hotel</td>\n",
              "      <td>0</td>\n",
              "      <td>342</td>\n",
              "      <td>2015</td>\n",
              "      <td>July</td>\n",
              "      <td>27</td>\n",
              "      <td>1</td>\n",
              "      <td>0</td>\n",
              "      <td>0</td>\n",
              "      <td>2</td>\n",
              "      <td>0.0</td>\n",
              "      <td>0</td>\n",
              "      <td>BB</td>\n",
              "      <td>PRT</td>\n",
              "      <td>Direct</td>\n",
              "      <td>Direct</td>\n",
              "      <td>0</td>\n",
              "      <td>0</td>\n",
              "      <td>0</td>\n",
              "      <td>C</td>\n",
              "      <td>C</td>\n",
              "      <td>3</td>\n",
              "      <td>No Deposit</td>\n",
              "      <td>NaN</td>\n",
              "      <td>NaN</td>\n",
              "      <td>0</td>\n",
              "      <td>Transient</td>\n",
              "      <td>0.0</td>\n",
              "      <td>0</td>\n",
              "      <td>0</td>\n",
              "      <td>Check-Out</td>\n",
              "      <td>2015-07-01</td>\n",
              "    </tr>\n",
              "    <tr>\n",
              "      <th>1</th>\n",
              "      <td>Resort Hotel</td>\n",
              "      <td>0</td>\n",
              "      <td>737</td>\n",
              "      <td>2015</td>\n",
              "      <td>July</td>\n",
              "      <td>27</td>\n",
              "      <td>1</td>\n",
              "      <td>0</td>\n",
              "      <td>0</td>\n",
              "      <td>2</td>\n",
              "      <td>0.0</td>\n",
              "      <td>0</td>\n",
              "      <td>BB</td>\n",
              "      <td>PRT</td>\n",
              "      <td>Direct</td>\n",
              "      <td>Direct</td>\n",
              "      <td>0</td>\n",
              "      <td>0</td>\n",
              "      <td>0</td>\n",
              "      <td>C</td>\n",
              "      <td>C</td>\n",
              "      <td>4</td>\n",
              "      <td>No Deposit</td>\n",
              "      <td>NaN</td>\n",
              "      <td>NaN</td>\n",
              "      <td>0</td>\n",
              "      <td>Transient</td>\n",
              "      <td>0.0</td>\n",
              "      <td>0</td>\n",
              "      <td>0</td>\n",
              "      <td>Check-Out</td>\n",
              "      <td>2015-07-01</td>\n",
              "    </tr>\n",
              "    <tr>\n",
              "      <th>2</th>\n",
              "      <td>Resort Hotel</td>\n",
              "      <td>0</td>\n",
              "      <td>7</td>\n",
              "      <td>2015</td>\n",
              "      <td>July</td>\n",
              "      <td>27</td>\n",
              "      <td>1</td>\n",
              "      <td>0</td>\n",
              "      <td>1</td>\n",
              "      <td>1</td>\n",
              "      <td>0.0</td>\n",
              "      <td>0</td>\n",
              "      <td>BB</td>\n",
              "      <td>GBR</td>\n",
              "      <td>Direct</td>\n",
              "      <td>Direct</td>\n",
              "      <td>0</td>\n",
              "      <td>0</td>\n",
              "      <td>0</td>\n",
              "      <td>A</td>\n",
              "      <td>C</td>\n",
              "      <td>0</td>\n",
              "      <td>No Deposit</td>\n",
              "      <td>NaN</td>\n",
              "      <td>NaN</td>\n",
              "      <td>0</td>\n",
              "      <td>Transient</td>\n",
              "      <td>75.0</td>\n",
              "      <td>0</td>\n",
              "      <td>0</td>\n",
              "      <td>Check-Out</td>\n",
              "      <td>2015-07-02</td>\n",
              "    </tr>\n",
              "    <tr>\n",
              "      <th>3</th>\n",
              "      <td>Resort Hotel</td>\n",
              "      <td>0</td>\n",
              "      <td>13</td>\n",
              "      <td>2015</td>\n",
              "      <td>July</td>\n",
              "      <td>27</td>\n",
              "      <td>1</td>\n",
              "      <td>0</td>\n",
              "      <td>1</td>\n",
              "      <td>1</td>\n",
              "      <td>0.0</td>\n",
              "      <td>0</td>\n",
              "      <td>BB</td>\n",
              "      <td>GBR</td>\n",
              "      <td>Corporate</td>\n",
              "      <td>Corporate</td>\n",
              "      <td>0</td>\n",
              "      <td>0</td>\n",
              "      <td>0</td>\n",
              "      <td>A</td>\n",
              "      <td>A</td>\n",
              "      <td>0</td>\n",
              "      <td>No Deposit</td>\n",
              "      <td>304.0</td>\n",
              "      <td>NaN</td>\n",
              "      <td>0</td>\n",
              "      <td>Transient</td>\n",
              "      <td>75.0</td>\n",
              "      <td>0</td>\n",
              "      <td>0</td>\n",
              "      <td>Check-Out</td>\n",
              "      <td>2015-07-02</td>\n",
              "    </tr>\n",
              "    <tr>\n",
              "      <th>4</th>\n",
              "      <td>Resort Hotel</td>\n",
              "      <td>0</td>\n",
              "      <td>14</td>\n",
              "      <td>2015</td>\n",
              "      <td>July</td>\n",
              "      <td>27</td>\n",
              "      <td>1</td>\n",
              "      <td>0</td>\n",
              "      <td>2</td>\n",
              "      <td>2</td>\n",
              "      <td>0.0</td>\n",
              "      <td>0</td>\n",
              "      <td>BB</td>\n",
              "      <td>GBR</td>\n",
              "      <td>Online TA</td>\n",
              "      <td>TA/TO</td>\n",
              "      <td>0</td>\n",
              "      <td>0</td>\n",
              "      <td>0</td>\n",
              "      <td>A</td>\n",
              "      <td>A</td>\n",
              "      <td>0</td>\n",
              "      <td>No Deposit</td>\n",
              "      <td>240.0</td>\n",
              "      <td>NaN</td>\n",
              "      <td>0</td>\n",
              "      <td>Transient</td>\n",
              "      <td>98.0</td>\n",
              "      <td>0</td>\n",
              "      <td>1</td>\n",
              "      <td>Check-Out</td>\n",
              "      <td>2015-07-03</td>\n",
              "    </tr>\n",
              "  </tbody>\n",
              "</table>\n",
              "</div>"
            ],
            "text/plain": [
              "          hotel  is_canceled  ...  reservation_status  reservation_status_date\n",
              "0  Resort Hotel            0  ...           Check-Out               2015-07-01\n",
              "1  Resort Hotel            0  ...           Check-Out               2015-07-01\n",
              "2  Resort Hotel            0  ...           Check-Out               2015-07-02\n",
              "3  Resort Hotel            0  ...           Check-Out               2015-07-02\n",
              "4  Resort Hotel            0  ...           Check-Out               2015-07-03\n",
              "\n",
              "[5 rows x 32 columns]"
            ]
          },
          "metadata": {
            "tags": []
          },
          "execution_count": 1
        }
      ]
    },
    {
      "cell_type": "markdown",
      "metadata": {
        "id": "uXoBui2paVla"
      },
      "source": [
        "#  Entendendo a Estrutura dos Dados"
      ]
    },
    {
      "cell_type": "code",
      "metadata": {
        "id": "54lvEt-DP2k5",
        "outputId": "ca2502b2-cbda-40cd-8d59-87cfd52c63ef",
        "colab": {
          "base_uri": "https://localhost:8080/",
          "height": 427
        }
      },
      "source": [
        "df.shape\n",
        "df.info\n",
        "df.columns\n",
        "df.hotel.value_counts()\n",
        "df.country.unique()\n",
        "df.dtypes\n",
        "df.describe(include = \"all\")"
      ],
      "execution_count": null,
      "outputs": [
        {
          "output_type": "execute_result",
          "data": {
            "text/html": [
              "<div>\n",
              "<style scoped>\n",
              "    .dataframe tbody tr th:only-of-type {\n",
              "        vertical-align: middle;\n",
              "    }\n",
              "\n",
              "    .dataframe tbody tr th {\n",
              "        vertical-align: top;\n",
              "    }\n",
              "\n",
              "    .dataframe thead th {\n",
              "        text-align: right;\n",
              "    }\n",
              "</style>\n",
              "<table border=\"1\" class=\"dataframe\">\n",
              "  <thead>\n",
              "    <tr style=\"text-align: right;\">\n",
              "      <th></th>\n",
              "      <th>hotel</th>\n",
              "      <th>is_canceled</th>\n",
              "      <th>lead_time</th>\n",
              "      <th>arrival_date_year</th>\n",
              "      <th>arrival_date_month</th>\n",
              "      <th>arrival_date_week_number</th>\n",
              "      <th>arrival_date_day_of_month</th>\n",
              "      <th>stays_in_weekend_nights</th>\n",
              "      <th>stays_in_week_nights</th>\n",
              "      <th>adults</th>\n",
              "      <th>children</th>\n",
              "      <th>babies</th>\n",
              "      <th>meal</th>\n",
              "      <th>country</th>\n",
              "      <th>market_segment</th>\n",
              "      <th>distribution_channel</th>\n",
              "      <th>is_repeated_guest</th>\n",
              "      <th>previous_cancellations</th>\n",
              "      <th>previous_bookings_not_canceled</th>\n",
              "      <th>reserved_room_type</th>\n",
              "      <th>assigned_room_type</th>\n",
              "      <th>booking_changes</th>\n",
              "      <th>deposit_type</th>\n",
              "      <th>agent</th>\n",
              "      <th>company</th>\n",
              "      <th>days_in_waiting_list</th>\n",
              "      <th>customer_type</th>\n",
              "      <th>adr</th>\n",
              "      <th>required_car_parking_spaces</th>\n",
              "      <th>total_of_special_requests</th>\n",
              "      <th>reservation_status</th>\n",
              "      <th>reservation_status_date</th>\n",
              "    </tr>\n",
              "  </thead>\n",
              "  <tbody>\n",
              "    <tr>\n",
              "      <th>count</th>\n",
              "      <td>119390</td>\n",
              "      <td>119390.000000</td>\n",
              "      <td>119390.000000</td>\n",
              "      <td>119390.000000</td>\n",
              "      <td>119390</td>\n",
              "      <td>119390.000000</td>\n",
              "      <td>119390.000000</td>\n",
              "      <td>119390.000000</td>\n",
              "      <td>119390.000000</td>\n",
              "      <td>119390.000000</td>\n",
              "      <td>119386.000000</td>\n",
              "      <td>119390.000000</td>\n",
              "      <td>119390</td>\n",
              "      <td>118902</td>\n",
              "      <td>119390</td>\n",
              "      <td>119390</td>\n",
              "      <td>119390.000000</td>\n",
              "      <td>119390.000000</td>\n",
              "      <td>119390.000000</td>\n",
              "      <td>119390</td>\n",
              "      <td>119390</td>\n",
              "      <td>119390.000000</td>\n",
              "      <td>119390</td>\n",
              "      <td>103050.000000</td>\n",
              "      <td>6797.000000</td>\n",
              "      <td>119390.000000</td>\n",
              "      <td>119390</td>\n",
              "      <td>119390.000000</td>\n",
              "      <td>119390.000000</td>\n",
              "      <td>119390.000000</td>\n",
              "      <td>119390</td>\n",
              "      <td>119390</td>\n",
              "    </tr>\n",
              "    <tr>\n",
              "      <th>unique</th>\n",
              "      <td>2</td>\n",
              "      <td>NaN</td>\n",
              "      <td>NaN</td>\n",
              "      <td>NaN</td>\n",
              "      <td>12</td>\n",
              "      <td>NaN</td>\n",
              "      <td>NaN</td>\n",
              "      <td>NaN</td>\n",
              "      <td>NaN</td>\n",
              "      <td>NaN</td>\n",
              "      <td>NaN</td>\n",
              "      <td>NaN</td>\n",
              "      <td>5</td>\n",
              "      <td>177</td>\n",
              "      <td>8</td>\n",
              "      <td>5</td>\n",
              "      <td>NaN</td>\n",
              "      <td>NaN</td>\n",
              "      <td>NaN</td>\n",
              "      <td>10</td>\n",
              "      <td>12</td>\n",
              "      <td>NaN</td>\n",
              "      <td>3</td>\n",
              "      <td>NaN</td>\n",
              "      <td>NaN</td>\n",
              "      <td>NaN</td>\n",
              "      <td>4</td>\n",
              "      <td>NaN</td>\n",
              "      <td>NaN</td>\n",
              "      <td>NaN</td>\n",
              "      <td>3</td>\n",
              "      <td>926</td>\n",
              "    </tr>\n",
              "    <tr>\n",
              "      <th>top</th>\n",
              "      <td>City Hotel</td>\n",
              "      <td>NaN</td>\n",
              "      <td>NaN</td>\n",
              "      <td>NaN</td>\n",
              "      <td>August</td>\n",
              "      <td>NaN</td>\n",
              "      <td>NaN</td>\n",
              "      <td>NaN</td>\n",
              "      <td>NaN</td>\n",
              "      <td>NaN</td>\n",
              "      <td>NaN</td>\n",
              "      <td>NaN</td>\n",
              "      <td>BB</td>\n",
              "      <td>PRT</td>\n",
              "      <td>Online TA</td>\n",
              "      <td>TA/TO</td>\n",
              "      <td>NaN</td>\n",
              "      <td>NaN</td>\n",
              "      <td>NaN</td>\n",
              "      <td>A</td>\n",
              "      <td>A</td>\n",
              "      <td>NaN</td>\n",
              "      <td>No Deposit</td>\n",
              "      <td>NaN</td>\n",
              "      <td>NaN</td>\n",
              "      <td>NaN</td>\n",
              "      <td>Transient</td>\n",
              "      <td>NaN</td>\n",
              "      <td>NaN</td>\n",
              "      <td>NaN</td>\n",
              "      <td>Check-Out</td>\n",
              "      <td>2015-10-21</td>\n",
              "    </tr>\n",
              "    <tr>\n",
              "      <th>freq</th>\n",
              "      <td>79330</td>\n",
              "      <td>NaN</td>\n",
              "      <td>NaN</td>\n",
              "      <td>NaN</td>\n",
              "      <td>13877</td>\n",
              "      <td>NaN</td>\n",
              "      <td>NaN</td>\n",
              "      <td>NaN</td>\n",
              "      <td>NaN</td>\n",
              "      <td>NaN</td>\n",
              "      <td>NaN</td>\n",
              "      <td>NaN</td>\n",
              "      <td>92310</td>\n",
              "      <td>48590</td>\n",
              "      <td>56477</td>\n",
              "      <td>97870</td>\n",
              "      <td>NaN</td>\n",
              "      <td>NaN</td>\n",
              "      <td>NaN</td>\n",
              "      <td>85994</td>\n",
              "      <td>74053</td>\n",
              "      <td>NaN</td>\n",
              "      <td>104641</td>\n",
              "      <td>NaN</td>\n",
              "      <td>NaN</td>\n",
              "      <td>NaN</td>\n",
              "      <td>89613</td>\n",
              "      <td>NaN</td>\n",
              "      <td>NaN</td>\n",
              "      <td>NaN</td>\n",
              "      <td>75166</td>\n",
              "      <td>1461</td>\n",
              "    </tr>\n",
              "    <tr>\n",
              "      <th>mean</th>\n",
              "      <td>NaN</td>\n",
              "      <td>0.370416</td>\n",
              "      <td>104.011416</td>\n",
              "      <td>2016.156554</td>\n",
              "      <td>NaN</td>\n",
              "      <td>27.165173</td>\n",
              "      <td>15.798241</td>\n",
              "      <td>0.927599</td>\n",
              "      <td>2.500302</td>\n",
              "      <td>1.856403</td>\n",
              "      <td>0.103890</td>\n",
              "      <td>0.007949</td>\n",
              "      <td>NaN</td>\n",
              "      <td>NaN</td>\n",
              "      <td>NaN</td>\n",
              "      <td>NaN</td>\n",
              "      <td>0.031912</td>\n",
              "      <td>0.087118</td>\n",
              "      <td>0.137097</td>\n",
              "      <td>NaN</td>\n",
              "      <td>NaN</td>\n",
              "      <td>0.221124</td>\n",
              "      <td>NaN</td>\n",
              "      <td>86.693382</td>\n",
              "      <td>189.266735</td>\n",
              "      <td>2.321149</td>\n",
              "      <td>NaN</td>\n",
              "      <td>101.831122</td>\n",
              "      <td>0.062518</td>\n",
              "      <td>0.571363</td>\n",
              "      <td>NaN</td>\n",
              "      <td>NaN</td>\n",
              "    </tr>\n",
              "    <tr>\n",
              "      <th>std</th>\n",
              "      <td>NaN</td>\n",
              "      <td>0.482918</td>\n",
              "      <td>106.863097</td>\n",
              "      <td>0.707476</td>\n",
              "      <td>NaN</td>\n",
              "      <td>13.605138</td>\n",
              "      <td>8.780829</td>\n",
              "      <td>0.998613</td>\n",
              "      <td>1.908286</td>\n",
              "      <td>0.579261</td>\n",
              "      <td>0.398561</td>\n",
              "      <td>0.097436</td>\n",
              "      <td>NaN</td>\n",
              "      <td>NaN</td>\n",
              "      <td>NaN</td>\n",
              "      <td>NaN</td>\n",
              "      <td>0.175767</td>\n",
              "      <td>0.844336</td>\n",
              "      <td>1.497437</td>\n",
              "      <td>NaN</td>\n",
              "      <td>NaN</td>\n",
              "      <td>0.652306</td>\n",
              "      <td>NaN</td>\n",
              "      <td>110.774548</td>\n",
              "      <td>131.655015</td>\n",
              "      <td>17.594721</td>\n",
              "      <td>NaN</td>\n",
              "      <td>50.535790</td>\n",
              "      <td>0.245291</td>\n",
              "      <td>0.792798</td>\n",
              "      <td>NaN</td>\n",
              "      <td>NaN</td>\n",
              "    </tr>\n",
              "    <tr>\n",
              "      <th>min</th>\n",
              "      <td>NaN</td>\n",
              "      <td>0.000000</td>\n",
              "      <td>0.000000</td>\n",
              "      <td>2015.000000</td>\n",
              "      <td>NaN</td>\n",
              "      <td>1.000000</td>\n",
              "      <td>1.000000</td>\n",
              "      <td>0.000000</td>\n",
              "      <td>0.000000</td>\n",
              "      <td>0.000000</td>\n",
              "      <td>0.000000</td>\n",
              "      <td>0.000000</td>\n",
              "      <td>NaN</td>\n",
              "      <td>NaN</td>\n",
              "      <td>NaN</td>\n",
              "      <td>NaN</td>\n",
              "      <td>0.000000</td>\n",
              "      <td>0.000000</td>\n",
              "      <td>0.000000</td>\n",
              "      <td>NaN</td>\n",
              "      <td>NaN</td>\n",
              "      <td>0.000000</td>\n",
              "      <td>NaN</td>\n",
              "      <td>1.000000</td>\n",
              "      <td>6.000000</td>\n",
              "      <td>0.000000</td>\n",
              "      <td>NaN</td>\n",
              "      <td>-6.380000</td>\n",
              "      <td>0.000000</td>\n",
              "      <td>0.000000</td>\n",
              "      <td>NaN</td>\n",
              "      <td>NaN</td>\n",
              "    </tr>\n",
              "    <tr>\n",
              "      <th>25%</th>\n",
              "      <td>NaN</td>\n",
              "      <td>0.000000</td>\n",
              "      <td>18.000000</td>\n",
              "      <td>2016.000000</td>\n",
              "      <td>NaN</td>\n",
              "      <td>16.000000</td>\n",
              "      <td>8.000000</td>\n",
              "      <td>0.000000</td>\n",
              "      <td>1.000000</td>\n",
              "      <td>2.000000</td>\n",
              "      <td>0.000000</td>\n",
              "      <td>0.000000</td>\n",
              "      <td>NaN</td>\n",
              "      <td>NaN</td>\n",
              "      <td>NaN</td>\n",
              "      <td>NaN</td>\n",
              "      <td>0.000000</td>\n",
              "      <td>0.000000</td>\n",
              "      <td>0.000000</td>\n",
              "      <td>NaN</td>\n",
              "      <td>NaN</td>\n",
              "      <td>0.000000</td>\n",
              "      <td>NaN</td>\n",
              "      <td>9.000000</td>\n",
              "      <td>62.000000</td>\n",
              "      <td>0.000000</td>\n",
              "      <td>NaN</td>\n",
              "      <td>69.290000</td>\n",
              "      <td>0.000000</td>\n",
              "      <td>0.000000</td>\n",
              "      <td>NaN</td>\n",
              "      <td>NaN</td>\n",
              "    </tr>\n",
              "    <tr>\n",
              "      <th>50%</th>\n",
              "      <td>NaN</td>\n",
              "      <td>0.000000</td>\n",
              "      <td>69.000000</td>\n",
              "      <td>2016.000000</td>\n",
              "      <td>NaN</td>\n",
              "      <td>28.000000</td>\n",
              "      <td>16.000000</td>\n",
              "      <td>1.000000</td>\n",
              "      <td>2.000000</td>\n",
              "      <td>2.000000</td>\n",
              "      <td>0.000000</td>\n",
              "      <td>0.000000</td>\n",
              "      <td>NaN</td>\n",
              "      <td>NaN</td>\n",
              "      <td>NaN</td>\n",
              "      <td>NaN</td>\n",
              "      <td>0.000000</td>\n",
              "      <td>0.000000</td>\n",
              "      <td>0.000000</td>\n",
              "      <td>NaN</td>\n",
              "      <td>NaN</td>\n",
              "      <td>0.000000</td>\n",
              "      <td>NaN</td>\n",
              "      <td>14.000000</td>\n",
              "      <td>179.000000</td>\n",
              "      <td>0.000000</td>\n",
              "      <td>NaN</td>\n",
              "      <td>94.575000</td>\n",
              "      <td>0.000000</td>\n",
              "      <td>0.000000</td>\n",
              "      <td>NaN</td>\n",
              "      <td>NaN</td>\n",
              "    </tr>\n",
              "    <tr>\n",
              "      <th>75%</th>\n",
              "      <td>NaN</td>\n",
              "      <td>1.000000</td>\n",
              "      <td>160.000000</td>\n",
              "      <td>2017.000000</td>\n",
              "      <td>NaN</td>\n",
              "      <td>38.000000</td>\n",
              "      <td>23.000000</td>\n",
              "      <td>2.000000</td>\n",
              "      <td>3.000000</td>\n",
              "      <td>2.000000</td>\n",
              "      <td>0.000000</td>\n",
              "      <td>0.000000</td>\n",
              "      <td>NaN</td>\n",
              "      <td>NaN</td>\n",
              "      <td>NaN</td>\n",
              "      <td>NaN</td>\n",
              "      <td>0.000000</td>\n",
              "      <td>0.000000</td>\n",
              "      <td>0.000000</td>\n",
              "      <td>NaN</td>\n",
              "      <td>NaN</td>\n",
              "      <td>0.000000</td>\n",
              "      <td>NaN</td>\n",
              "      <td>229.000000</td>\n",
              "      <td>270.000000</td>\n",
              "      <td>0.000000</td>\n",
              "      <td>NaN</td>\n",
              "      <td>126.000000</td>\n",
              "      <td>0.000000</td>\n",
              "      <td>1.000000</td>\n",
              "      <td>NaN</td>\n",
              "      <td>NaN</td>\n",
              "    </tr>\n",
              "    <tr>\n",
              "      <th>max</th>\n",
              "      <td>NaN</td>\n",
              "      <td>1.000000</td>\n",
              "      <td>737.000000</td>\n",
              "      <td>2017.000000</td>\n",
              "      <td>NaN</td>\n",
              "      <td>53.000000</td>\n",
              "      <td>31.000000</td>\n",
              "      <td>19.000000</td>\n",
              "      <td>50.000000</td>\n",
              "      <td>55.000000</td>\n",
              "      <td>10.000000</td>\n",
              "      <td>10.000000</td>\n",
              "      <td>NaN</td>\n",
              "      <td>NaN</td>\n",
              "      <td>NaN</td>\n",
              "      <td>NaN</td>\n",
              "      <td>1.000000</td>\n",
              "      <td>26.000000</td>\n",
              "      <td>72.000000</td>\n",
              "      <td>NaN</td>\n",
              "      <td>NaN</td>\n",
              "      <td>21.000000</td>\n",
              "      <td>NaN</td>\n",
              "      <td>535.000000</td>\n",
              "      <td>543.000000</td>\n",
              "      <td>391.000000</td>\n",
              "      <td>NaN</td>\n",
              "      <td>5400.000000</td>\n",
              "      <td>8.000000</td>\n",
              "      <td>5.000000</td>\n",
              "      <td>NaN</td>\n",
              "      <td>NaN</td>\n",
              "    </tr>\n",
              "  </tbody>\n",
              "</table>\n",
              "</div>"
            ],
            "text/plain": [
              "             hotel    is_canceled  ...  reservation_status  reservation_status_date\n",
              "count       119390  119390.000000  ...              119390                   119390\n",
              "unique           2            NaN  ...                   3                      926\n",
              "top     City Hotel            NaN  ...           Check-Out               2015-10-21\n",
              "freq         79330            NaN  ...               75166                     1461\n",
              "mean           NaN       0.370416  ...                 NaN                      NaN\n",
              "std            NaN       0.482918  ...                 NaN                      NaN\n",
              "min            NaN       0.000000  ...                 NaN                      NaN\n",
              "25%            NaN       0.000000  ...                 NaN                      NaN\n",
              "50%            NaN       0.000000  ...                 NaN                      NaN\n",
              "75%            NaN       1.000000  ...                 NaN                      NaN\n",
              "max            NaN       1.000000  ...                 NaN                      NaN\n",
              "\n",
              "[11 rows x 32 columns]"
            ]
          },
          "metadata": {
            "tags": []
          },
          "execution_count": 2
        }
      ]
    },
    {
      "cell_type": "markdown",
      "metadata": {
        "id": "YV2HIpO3ahXI"
      },
      "source": [
        "# Exercício. Qual ano mais recente de reservas na base? \n",
        "\n",
        "DICA: empregue `arrival_date_year`"
      ]
    },
    {
      "cell_type": "markdown",
      "metadata": {
        "id": "HrGRGdHTQ6K7"
      },
      "source": [
        "# Exercício. Crie um subset dos dados de interesse **(Resolvido)**\n",
        "\n",
        "Crie um subset `dfyyyy` somente com dados do ano mais recente das reservas. Inclua apenas as colunas:\n",
        "\n",
        "```\n",
        "['hotel', 'is_canceled', 'lead_time', 'arrival_date_year',\n",
        "       'country', 'market_segment', 'deposit_type']\n",
        "```"
      ]
    },
    {
      "cell_type": "code",
      "metadata": {
        "id": "AFqtC2-dI-t8",
        "outputId": "01a957e4-d5bd-4adf-cddf-1861616fd249",
        "colab": {
          "base_uri": "https://localhost:8080/",
          "height": 419
        }
      },
      "source": [
        "df.columns\n",
        "df2017 = df[df.arrival_date_year == 2017][['hotel', 'is_canceled', 'lead_time', 'arrival_date_year',\n",
        "       'country', 'market_segment', 'deposit_type']]\n",
        "\n",
        "df2017       "
      ],
      "execution_count": null,
      "outputs": [
        {
          "output_type": "execute_result",
          "data": {
            "text/html": [
              "<div>\n",
              "<style scoped>\n",
              "    .dataframe tbody tr th:only-of-type {\n",
              "        vertical-align: middle;\n",
              "    }\n",
              "\n",
              "    .dataframe tbody tr th {\n",
              "        vertical-align: top;\n",
              "    }\n",
              "\n",
              "    .dataframe thead th {\n",
              "        text-align: right;\n",
              "    }\n",
              "</style>\n",
              "<table border=\"1\" class=\"dataframe\">\n",
              "  <thead>\n",
              "    <tr style=\"text-align: right;\">\n",
              "      <th></th>\n",
              "      <th>hotel</th>\n",
              "      <th>is_canceled</th>\n",
              "      <th>lead_time</th>\n",
              "      <th>arrival_date_year</th>\n",
              "      <th>country</th>\n",
              "      <th>market_segment</th>\n",
              "      <th>deposit_type</th>\n",
              "    </tr>\n",
              "  </thead>\n",
              "  <tbody>\n",
              "    <tr>\n",
              "      <th>9775</th>\n",
              "      <td>Resort Hotel</td>\n",
              "      <td>1</td>\n",
              "      <td>74</td>\n",
              "      <td>2017</td>\n",
              "      <td>PRT</td>\n",
              "      <td>Online TA</td>\n",
              "      <td>No Deposit</td>\n",
              "    </tr>\n",
              "    <tr>\n",
              "      <th>9776</th>\n",
              "      <td>Resort Hotel</td>\n",
              "      <td>1</td>\n",
              "      <td>62</td>\n",
              "      <td>2017</td>\n",
              "      <td>AUT</td>\n",
              "      <td>Online TA</td>\n",
              "      <td>No Deposit</td>\n",
              "    </tr>\n",
              "    <tr>\n",
              "      <th>9777</th>\n",
              "      <td>Resort Hotel</td>\n",
              "      <td>1</td>\n",
              "      <td>62</td>\n",
              "      <td>2017</td>\n",
              "      <td>AUT</td>\n",
              "      <td>Online TA</td>\n",
              "      <td>No Deposit</td>\n",
              "    </tr>\n",
              "    <tr>\n",
              "      <th>9778</th>\n",
              "      <td>Resort Hotel</td>\n",
              "      <td>1</td>\n",
              "      <td>62</td>\n",
              "      <td>2017</td>\n",
              "      <td>AUT</td>\n",
              "      <td>Online TA</td>\n",
              "      <td>No Deposit</td>\n",
              "    </tr>\n",
              "    <tr>\n",
              "      <th>9779</th>\n",
              "      <td>Resort Hotel</td>\n",
              "      <td>1</td>\n",
              "      <td>71</td>\n",
              "      <td>2017</td>\n",
              "      <td>PRT</td>\n",
              "      <td>Online TA</td>\n",
              "      <td>No Deposit</td>\n",
              "    </tr>\n",
              "    <tr>\n",
              "      <th>...</th>\n",
              "      <td>...</td>\n",
              "      <td>...</td>\n",
              "      <td>...</td>\n",
              "      <td>...</td>\n",
              "      <td>...</td>\n",
              "      <td>...</td>\n",
              "      <td>...</td>\n",
              "    </tr>\n",
              "    <tr>\n",
              "      <th>119385</th>\n",
              "      <td>City Hotel</td>\n",
              "      <td>0</td>\n",
              "      <td>23</td>\n",
              "      <td>2017</td>\n",
              "      <td>BEL</td>\n",
              "      <td>Offline TA/TO</td>\n",
              "      <td>No Deposit</td>\n",
              "    </tr>\n",
              "    <tr>\n",
              "      <th>119386</th>\n",
              "      <td>City Hotel</td>\n",
              "      <td>0</td>\n",
              "      <td>102</td>\n",
              "      <td>2017</td>\n",
              "      <td>FRA</td>\n",
              "      <td>Online TA</td>\n",
              "      <td>No Deposit</td>\n",
              "    </tr>\n",
              "    <tr>\n",
              "      <th>119387</th>\n",
              "      <td>City Hotel</td>\n",
              "      <td>0</td>\n",
              "      <td>34</td>\n",
              "      <td>2017</td>\n",
              "      <td>DEU</td>\n",
              "      <td>Online TA</td>\n",
              "      <td>No Deposit</td>\n",
              "    </tr>\n",
              "    <tr>\n",
              "      <th>119388</th>\n",
              "      <td>City Hotel</td>\n",
              "      <td>0</td>\n",
              "      <td>109</td>\n",
              "      <td>2017</td>\n",
              "      <td>GBR</td>\n",
              "      <td>Online TA</td>\n",
              "      <td>No Deposit</td>\n",
              "    </tr>\n",
              "    <tr>\n",
              "      <th>119389</th>\n",
              "      <td>City Hotel</td>\n",
              "      <td>0</td>\n",
              "      <td>205</td>\n",
              "      <td>2017</td>\n",
              "      <td>DEU</td>\n",
              "      <td>Online TA</td>\n",
              "      <td>No Deposit</td>\n",
              "    </tr>\n",
              "  </tbody>\n",
              "</table>\n",
              "<p>40687 rows × 7 columns</p>\n",
              "</div>"
            ],
            "text/plain": [
              "               hotel  is_canceled  ...  market_segment  deposit_type\n",
              "9775    Resort Hotel            1  ...       Online TA    No Deposit\n",
              "9776    Resort Hotel            1  ...       Online TA    No Deposit\n",
              "9777    Resort Hotel            1  ...       Online TA    No Deposit\n",
              "9778    Resort Hotel            1  ...       Online TA    No Deposit\n",
              "9779    Resort Hotel            1  ...       Online TA    No Deposit\n",
              "...              ...          ...  ...             ...           ...\n",
              "119385    City Hotel            0  ...   Offline TA/TO    No Deposit\n",
              "119386    City Hotel            0  ...       Online TA    No Deposit\n",
              "119387    City Hotel            0  ...       Online TA    No Deposit\n",
              "119388    City Hotel            0  ...       Online TA    No Deposit\n",
              "119389    City Hotel            0  ...       Online TA    No Deposit\n",
              "\n",
              "[40687 rows x 7 columns]"
            ]
          },
          "metadata": {
            "tags": []
          },
          "execution_count": 50
        }
      ]
    },
    {
      "cell_type": "markdown",
      "metadata": {
        "id": "gvUagvfESEg7"
      },
      "source": [
        "# Exercício. Quantas reservas registradas no Brasil no ano mais recente? **(Resolvido)**"
      ]
    },
    {
      "cell_type": "code",
      "metadata": {
        "id": "VKytH-4JNeN8",
        "outputId": "7465ed76-54a3-4360-ff75-9984f60f46c4",
        "colab": {
          "base_uri": "https://localhost:8080/",
          "height": 68
        }
      },
      "source": [
        "len(df2017[df.country == 'BRA'])\n",
        "# df2017[df.country == 'BRA'].head()\n"
      ],
      "execution_count": null,
      "outputs": [
        {
          "output_type": "stream",
          "text": [
            "/usr/local/lib/python3.6/dist-packages/ipykernel_launcher.py:1: UserWarning: Boolean Series key will be reindexed to match DataFrame index.\n",
            "  \"\"\"Entry point for launching an IPython kernel.\n"
          ],
          "name": "stderr"
        },
        {
          "output_type": "execute_result",
          "data": {
            "text/plain": [
              "1010"
            ]
          },
          "metadata": {
            "tags": []
          },
          "execution_count": 51
        }
      ]
    },
    {
      "cell_type": "markdown",
      "metadata": {
        "id": "MnlRQS3vSSUE"
      },
      "source": [
        "# Exercício. Qual o percentual de reservas do Brasil com relação ao total de reservas no mundo no ano mais recente? "
      ]
    },
    {
      "cell_type": "markdown",
      "metadata": {
        "id": "XxtwGWJ-SiXV"
      },
      "source": [
        "# Exercício. Qual o percentual de reservas canceladas no ano mais recente? "
      ]
    },
    {
      "cell_type": "markdown",
      "metadata": {
        "id": "Z1bYnUOxSuly"
      },
      "source": [
        "# Exercício. Qual o segmento (`market_segment`) com maior *lead time* médio no ano mais recente?"
      ]
    },
    {
      "cell_type": "markdown",
      "metadata": {
        "id": "Z7yOBNiTTA1k"
      },
      "source": [
        "# Exercício. Qual tipo de hotéis, 'City Hotel' ou 'Resort Hotel', apresenta maior percentual de cancelamentos no último ano?"
      ]
    }
  ]
}