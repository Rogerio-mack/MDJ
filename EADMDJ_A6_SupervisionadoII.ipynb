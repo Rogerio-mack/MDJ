{
  "nbformat": 4,
  "nbformat_minor": 0,
  "metadata": {
    "anaconda-cloud": {},
    "kernelspec": {
      "display_name": "Python 3",
      "language": "python",
      "name": "python3"
    },
    "language_info": {
      "codemirror_mode": {
        "name": "ipython",
        "version": 3
      },
      "file_extension": ".py",
      "mimetype": "text/x-python",
      "name": "python",
      "nbconvert_exporter": "python",
      "pygments_lexer": "ipython3",
      "version": "3.7.4"
    },
    "colab": {
      "name": "EADMDJ_A6_SupervisionadoII.ipynb",
      "provenance": [],
      "collapsed_sections": [],
      "include_colab_link": true
    }
  },
  "cells": [
    {
      "cell_type": "markdown",
      "metadata": {
        "id": "view-in-github",
        "colab_type": "text"
      },
      "source": [
        "<a href=\"https://colab.research.google.com/github/Rogerio-mack/MDJ/blob/main/EADMDJ_A6_SupervisionadoII.ipynb\" target=\"_parent\"><img src=\"https://colab.research.google.com/assets/colab-badge.svg\" alt=\"Open In Colab\"/></a>"
      ]
    },
    {
      "cell_type": "markdown",
      "metadata": {
        "id": "gglUriLmo1sR"
      },
      "source": [
        "<head>\n",
        "  <meta name=\"author\" content=\"Rogério de Oliveira\">\n",
        "  <meta institution=\"author\" content=\"Universidade Presbiteriana Mackenzie\">\n",
        "</head>\n",
        "\n",
        "<img src=\"http://meusite.mackenzie.br/rogerio/mackenzie_logo/UPM.2_horizontal_vermelho.jpg\" width=300, align=\"right\">\n",
        "<h1 align=left><font size = 5, style=\"color:rgb(0,0,0)\"> EAD <b>Mineração de Dados para Jogos </b> </font></h1>"
      ]
    },
    {
      "cell_type": "markdown",
      "metadata": {
        "id": "-G7aCMh4r9y1"
      },
      "source": [
        "<h1 align=left><font size = 6, style=\"color:rgb(200,0,0)\">A6 Modelos Supervisionados II: Classificação e Regressão</font></h1>\n",
        "<hr>"
      ]
    },
    {
      "cell_type": "markdown",
      "metadata": {
        "id": "8whq6ZMTtSvD"
      },
      "source": [
        "Nesta seção você verá dois temas relacionados ao aprendizado supervisionado. Primeiro você aprenderá um novo método de aprendizado para tarefas de classificação. Em seguida você vai aprender a empregar métodos de Regressão Linear que, diferentemente dos modelos anteriores, busca prever valores no lugar de classes."
      ]
    },
    {
      "cell_type": "markdown",
      "metadata": {
        "_uuid": "9dd9e07c590ca22f0c525222f60f0ebff4e092c6",
        "id": "HpKAvplIAYQ3"
      },
      "source": [
        "# **Árvores de Decisão**\n",
        " \n",
        "Uma Árvore de Decisão permite fazer classificações por **particionamentos sucessivos** dos dados. É uma estrutura que traduz uma tabela de decisão.\n"
      ]
    },
    {
      "cell_type": "markdown",
      "metadata": {
        "id": "shmSY0GyEUNL"
      },
      "source": [
        "<head>\n",
        "  <meta name=\"author\" content=\"Rogério de Oliveira\">\n",
        "  <meta institution=\"author\" content=\"Universidade Presbiteriana Mackenzie\">\n",
        "</head>\n",
        "\n",
        "<img src=\"http://meusite.mackenzie.br/rogerio/TIC/decisiontree.PNG\" width=500, align=\"center\"></a>\n",
        "<!-- <h1 align=left><font size = 6, style=\"color:rgb(200,0,0)\"> optional title </font></h1> -->"
      ]
    },
    {
      "cell_type": "markdown",
      "metadata": {
        "id": "__X2R0BpFnwO"
      },
      "source": [
        "# Algoritmo de Hunt\n",
        "\n",
        "Vejamos um exemplo."
      ]
    },
    {
      "cell_type": "code",
      "metadata": {
        "id": "cep6j5ubGYhi",
        "outputId": "1e928d1d-c820-4cc6-c065-c14e76c65196",
        "colab": {
          "base_uri": "https://localhost:8080/",
          "height": 228
        }
      },
      "source": [
        "import pandas as pd\n",
        "comics = pd.read_csv('http://meusite.mackenzie.br/rogerio/TIC/comics.csv',sep=';')\n",
        "comics"
      ],
      "execution_count": null,
      "outputs": [
        {
          "output_type": "execute_result",
          "data": {
            "text/html": [
              "<div>\n",
              "<style scoped>\n",
              "    .dataframe tbody tr th:only-of-type {\n",
              "        vertical-align: middle;\n",
              "    }\n",
              "\n",
              "    .dataframe tbody tr th {\n",
              "        vertical-align: top;\n",
              "    }\n",
              "\n",
              "    .dataframe thead th {\n",
              "        text-align: right;\n",
              "    }\n",
              "</style>\n",
              "<table border=\"1\" class=\"dataframe\">\n",
              "  <thead>\n",
              "    <tr style=\"text-align: right;\">\n",
              "      <th></th>\n",
              "      <th>Name</th>\n",
              "      <th>sex</th>\n",
              "      <th>smokes</th>\n",
              "      <th>tie</th>\n",
              "      <th>mask</th>\n",
              "      <th>cape</th>\n",
              "      <th>ears</th>\n",
              "      <th>class</th>\n",
              "    </tr>\n",
              "  </thead>\n",
              "  <tbody>\n",
              "    <tr>\n",
              "      <th>0</th>\n",
              "      <td>Batman</td>\n",
              "      <td>male</td>\n",
              "      <td>no</td>\n",
              "      <td>no</td>\n",
              "      <td>yes</td>\n",
              "      <td>yes</td>\n",
              "      <td>yes</td>\n",
              "      <td>good</td>\n",
              "    </tr>\n",
              "    <tr>\n",
              "      <th>1</th>\n",
              "      <td>Robin</td>\n",
              "      <td>male</td>\n",
              "      <td>no</td>\n",
              "      <td>no</td>\n",
              "      <td>yes</td>\n",
              "      <td>yes</td>\n",
              "      <td>yes</td>\n",
              "      <td>good</td>\n",
              "    </tr>\n",
              "    <tr>\n",
              "      <th>2</th>\n",
              "      <td>Catwoman</td>\n",
              "      <td>female</td>\n",
              "      <td>no</td>\n",
              "      <td>no</td>\n",
              "      <td>yes</td>\n",
              "      <td>no</td>\n",
              "      <td>yes</td>\n",
              "      <td>bad</td>\n",
              "    </tr>\n",
              "    <tr>\n",
              "      <th>3</th>\n",
              "      <td>Joker</td>\n",
              "      <td>male</td>\n",
              "      <td>no</td>\n",
              "      <td>no</td>\n",
              "      <td>no</td>\n",
              "      <td>no</td>\n",
              "      <td>no</td>\n",
              "      <td>bad</td>\n",
              "    </tr>\n",
              "    <tr>\n",
              "      <th>4</th>\n",
              "      <td>Alfred</td>\n",
              "      <td>male</td>\n",
              "      <td>no</td>\n",
              "      <td>yes</td>\n",
              "      <td>no</td>\n",
              "      <td>no</td>\n",
              "      <td>no</td>\n",
              "      <td>good</td>\n",
              "    </tr>\n",
              "    <tr>\n",
              "      <th>5</th>\n",
              "      <td>Penguin</td>\n",
              "      <td>male</td>\n",
              "      <td>yes</td>\n",
              "      <td>yes</td>\n",
              "      <td>no</td>\n",
              "      <td>no</td>\n",
              "      <td>no</td>\n",
              "      <td>bad</td>\n",
              "    </tr>\n",
              "  </tbody>\n",
              "</table>\n",
              "</div>"
            ],
            "text/plain": [
              "       Name     sex smokes  tie mask cape ears class\n",
              "0    Batman    male     no   no  yes  yes  yes  good\n",
              "1     Robin    male     no   no  yes  yes  yes  good\n",
              "2  Catwoman  female     no   no  yes   no  yes   bad\n",
              "3     Joker    male     no   no   no   no   no   bad\n",
              "4    Alfred    male     no  yes   no   no   no  good\n",
              "5   Penguin    male    yes  yes   no   no   no   bad"
            ]
          },
          "metadata": {
            "tags": []
          },
          "execution_count": 2
        }
      ]
    },
    {
      "cell_type": "markdown",
      "metadata": {
        "id": "Ba1eLUEvJZj5"
      },
      "source": [
        "Acesse para detalhes http://meusite.mackenzie.br/rogerio/TIC/comics.xlsx"
      ]
    },
    {
      "cell_type": "markdown",
      "metadata": {
        "id": "khvzUrW0HH14"
      },
      "source": [
        "# Ganho de Informação\n",
        "\n",
        "Como você viu diferentes Árvores de Decisão podem ser construídas. A decisão dos Algoritmos para a decisão de que atributos empregar como Raiz e Nós na construção de uma Árvore são feitos com base em medidas do Ganho de Informação.\n",
        "\n",
        "Para o cálculo do **Ganho de Informação** de um atributo existem 3 valores comumente empregados.\n",
        "\n",
        "## **Entropia.**\n",
        "\n",
        "$$ Entropia(s) = - \\sum_i p_i log p_i $$\n",
        "\n",
        "Exemplos:\n",
        "\n",
        "$$ Entropia(CONSTANTE) = 0 $$\n",
        "$$ Entropia(bit) = 1 $$\n",
        "\n",
        "## **Índice Gini.**\n",
        "\n",
        "$$ Gini(s) = 1 - \\sum_i p_i $$ \n",
        "\n",
        "## **Classification Error**\n",
        "\n",
        "$$ ClassificationError = 1 - max p_i $$\n",
        "\n",
        "<br>\n",
        "\n",
        "O ganho de informação é então obtido como:\n",
        "\n",
        "$$ IG(a) = D(T) - \\sum_i p_i D(T | a_i) $$\n",
        "\n",
        "Onde $D()$ é uma das medidas de Entropia, índice *Gini* ou *Classification Error*. "
      ]
    },
    {
      "cell_type": "markdown",
      "metadata": {
        "id": "Za5F-e_RE-Y6"
      },
      "source": [
        "# Prós e Limitações do Modelo\n",
        "\n",
        "## Prós\n",
        "* Não é um modelo *black-box*\n",
        "* É eficiente\n",
        "* **Permite trabalhar diretamente com valores categóricos**\n",
        "\n",
        "## Limitações\n",
        "* Tem um alto custo de treinamento\n",
        "* É sensível a sobreajuste(\\*)\n",
        "\n",
        "(\\*) Para minimizar esse efeito pode-se fazer a *poda* de níveis da Árvore ou emprego de **Random Forests**, entendidas como uma média de Árvores de Decisão.\n"
      ]
    },
    {
      "cell_type": "markdown",
      "metadata": {
        "id": "pdezH1eUfp1Z"
      },
      "source": [
        "# **IMPORTANTE:** Antes de começar \n",
        "\n",
        "Execute a célula final desse LAB SET UP (antes da sessão de Regressão Linear). Ela irá **inicializar** o seu ambiente com os datasets requeridos para esse lab que poderão ser então lidos como arquivos locais, isto é `df = pd.read_csv('df.csv')`. \n",
        "\n",
        "Após a execução você pode verificar os datasets criados na aba lateral do Google Colab ou no seu diretório de trabalho."
      ]
    },
    {
      "cell_type": "markdown",
      "metadata": {
        "id": "Li1FPlObIQAh"
      },
      "source": [
        "# Case: **Previsão do Sucesso de novos Projetos**, com Knn e uma Árvore de Decisão\n",
        "\n",
        "Compare verifique que a estrutura de uso dos modelos é a mesma. \n",
        "\n",
        "### IMPORTANTE\n",
        "> A *mesma estrutura* pode ser empregada para diferentes modelos de **Aprendizado Supervisionado**, como **knn**,  **Árvores de Decisão** e ainda NaiveBayes, Logist Regression, Random Forest etc.  \n",
        "\n",
        "> A *mesma estrutura* pode ser empregada para diferentes dados, `projects`, `insurance`, `breast`... em modelos de **Aprendizado Supervisionado**.  \n"
      ]
    },
    {
      "cell_type": "markdown",
      "metadata": {
        "id": "JrusM-Uw11lc"
      },
      "source": [
        "## Solução empregando o modelo Knn\n",
        "\n",
        "Veja abaixo a solução de predição do status de projetos com o modelo `knn`."
      ]
    },
    {
      "cell_type": "code",
      "metadata": {
        "id": "0TC6c46oNkDQ",
        "outputId": "d6425730-7293-4990-8c50-642ffade05bc",
        "colab": {
          "base_uri": "https://localhost:8080/",
          "height": 163
        }
      },
      "source": [
        "# Acessando os dados\n",
        "projects = pd.read_csv('projects.csv')\n",
        "print(projects.head())\n",
        "\n",
        "new_projects = pd.read_csv('new_projects.csv')\n",
        "print(new_projects.head())\n"
      ],
      "execution_count": null,
      "outputs": [
        {
          "output_type": "stream",
          "text": [
            "   Ana  Gabriela  Pedro  Luiz     Status\n",
            "0    1         1      0     1  successed\n",
            "1    1         1      1     1  successed\n",
            "2    0         0      1     0     failed\n",
            "3    0         0      1     1     failed\n",
            "   Ana  Gabriela  Pedro  Luiz Status\n",
            "0    0         1      1     0      ?\n",
            "1    1         1      1     0      ?\n"
          ],
          "name": "stdout"
        }
      ]
    },
    {
      "cell_type": "code",
      "metadata": {
        "id": "BseFI8AaN-_f",
        "outputId": "4364f06d-1db2-4218-8c54-a888e0f1eb55",
        "colab": {
          "base_uri": "https://localhost:8080/",
          "height": 35
        }
      },
      "source": [
        "from sklearn import neighbors\n",
        "\n",
        "# Prepara os dados para o Treinamento\n",
        "X_train = projects.drop(columns=['Status'])           # Entradas\n",
        "y_train = projects['Status']                          # Saída\n",
        "\n",
        "# Declara o Modelo\n",
        "n_neighbors = 3                                       # Parametros do modelo\n",
        "clf = neighbors.KNeighborsClassifier(n_neighbors)     #\n",
        "\n",
        "# Treinamento (Treina o Modelo) \n",
        "clf.fit(X_train, y_train)                             # Treinamento\n",
        "\n",
        "# Predição (Emprega o Modelo) \n",
        "X_test = new_projects.drop(columns=['Status'])        # Dados para predição\n",
        "y_pred = clf.predict(X_test)                          # Resposta do modelo\n",
        "\n",
        "print(y_pred)\n",
        "\n"
      ],
      "execution_count": null,
      "outputs": [
        {
          "output_type": "stream",
          "text": [
            "['failed' 'successed']\n"
          ],
          "name": "stdout"
        }
      ]
    },
    {
      "cell_type": "code",
      "metadata": {
        "id": "XRe2BSjpQRmp",
        "outputId": "4746c2ca-78e1-4945-cdaf-77a0e55fb220",
        "colab": {
          "base_uri": "https://localhost:8080/",
          "height": 72
        }
      },
      "source": [
        "new_projects['Status'] = y_pred\n",
        "print(new_projects)"
      ],
      "execution_count": null,
      "outputs": [
        {
          "output_type": "stream",
          "text": [
            "   Ana  Gabriela  Pedro  Luiz     Status\n",
            "0    0         1      1     0     failed\n",
            "1    1         1      1     0  successed\n"
          ],
          "name": "stdout"
        }
      ]
    },
    {
      "cell_type": "markdown",
      "metadata": {
        "id": "nZISof3V2fws"
      },
      "source": [
        "## Solução empregando Árvore de Decisão\n",
        "\n",
        "Veja agora o mesmo problema com uma **Árvore de Decisão**."
      ]
    },
    {
      "cell_type": "code",
      "metadata": {
        "id": "yW4bn8EB2-MN",
        "outputId": "287188be-9778-412b-eabc-803906899387",
        "colab": {
          "base_uri": "https://localhost:8080/",
          "height": 35
        }
      },
      "source": [
        "from sklearn.tree import DecisionTreeClassifier\n",
        "\n",
        "# Prepara os dados para o Treinamento\n",
        "X_train = projects.drop(columns=['Status'])           # Entradas\n",
        "y_train = projects['Status']                          # Saída\n",
        "\n",
        "# Declara o Modelo\n",
        "clf = DecisionTreeClassifier()\n",
        "'''\n",
        "clf = DecisionTreeClassifier(criterion='gini',\n",
        "#                              min_samples_leaf=5,\n",
        "#                              min_samples_split=5,\n",
        "                              max_depth=None,\n",
        "                              random_state=seed)\n",
        "'''\n",
        "# Treinamento (Treina o Modelo) \n",
        "clf.fit(X_train, y_train)                             # Treinamento\n",
        "\n",
        "# Predição (Emprega o Modelo) \n",
        "X_test = new_projects.drop(columns=['Status'])        # Dados para predição\n",
        "y_pred = clf.predict(X_test)                          # Resposta do modelo\n",
        "\n",
        "print(y_pred)"
      ],
      "execution_count": null,
      "outputs": [
        {
          "output_type": "stream",
          "text": [
            "['successed' 'successed']\n"
          ],
          "name": "stdout"
        }
      ]
    },
    {
      "cell_type": "markdown",
      "metadata": {
        "id": "KdSIiTGw3-l_"
      },
      "source": [
        "## **Experimente você**\n",
        "\n",
        "Empregue os códigos acima e faça a predição de Faixas de Seguros empregando o **modelo de Árvore de Decisão** as bases de `insurances` criadas no Set Up desse notebook.\n",
        "\n",
        "```\n",
        "insurance.csv\n",
        "new_insurance.csv\n",
        "```\n"
      ]
    },
    {
      "cell_type": "markdown",
      "metadata": {
        "id": "OSmMMGekirwp"
      },
      "source": [
        "# Avaliando os modelos\n",
        "\n",
        "Assim como você empregou o `R-Squared` para avaliar um modelo de Regressão Linear é importante termos uma forma de avaliarmos os modelos de Classificação.\n",
        "\n",
        "Vamos então aprender e praticar os seguintes conceitos:\n",
        "\n",
        "1.   **Conjunto de Treinamento** e **Conjunto de Teste** \n",
        "1.   Acuracidade\n",
        "1.   Matriz de Confusão\n",
        "\n",
        "Nossa avaliação dos modelos vai se concentrar na **acuracidade do modelo** e na **matriz de confusão** com seus resultados embora existam muitas outras métricas. \n",
        "\n",
        "Podemos fazer isso medindo a quantidade de acertos do modelo sobre uma **parcela do conjunto de treinamento** que separamos para servir de **Conjunto de Teste**. Como para esses dados temos as respostas, podemos 'medir' o percentual de acerto do nosso modelo.\n",
        "\n",
        "Isso serve para verificar se nosso modelo tem um grau de assertividade aceitável, além de poder ser empregado para:\n",
        "\n",
        "1. **Ajustar os modelos** (*k do knn, profundidade da Árvore em uma Árvore de Decisão*) \n",
        "1. **Selecionar os modelos** (*entre dois modelos para classificação, um knn e outro uma Árvore de Decisão, você pode optar pelo de maior acuracidade*)\n",
        "\n",
        "\n",
        "\n"
      ]
    },
    {
      "cell_type": "markdown",
      "metadata": {
        "_uuid": "9dd9e07c590ca22f0c525222f60f0ebff4e092c6",
        "id": "kIr_4QzOlOOo"
      },
      "source": [
        "# Caso: **Predição de Diagnósticos a partir de Dados de Imagens** \n",
        "\n",
        "Agora vamos ver um caso de dados reais.\n",
        "\n",
        "https://archive.ics.uci.edu/ml/datasets/Breast+Cancer+Wisconsin+(Diagnostic)\n",
        "\n",
        "Features are computed from a digitized image of a fine needle aspirate (FNA) of a breast mass. They describe characteristics of the cell nuclei present in the image. \n",
        "\n",
        "Veja também: https://niklausliu.github.io/files/Yi-Decision%20Tree%20Model%20in%20the%20Diagnosis%20of%20Breast%20Cancer.pdf\n",
        "\n",
        "Os dados estão na URL: https://meusite.mackenzie.br/rogerio/TIC/breast-cancer-wisconsin.csv\n",
        "\n",
        "Mas aqui empregue os dados já tratados no set up do Lab:\n",
        "\n",
        "```\n",
        "breast.csv\n",
        "new_breast.csv\n",
        "```\n",
        "\n"
      ]
    },
    {
      "cell_type": "code",
      "metadata": {
        "id": "6mNBDvj2myoC",
        "outputId": "c0d00dc2-3ed7-4362-ff97-dc5fe26c7840",
        "colab": {
          "base_uri": "https://localhost:8080/",
          "height": 289
        }
      },
      "source": [
        "# Acessando os Dados\n",
        "\n",
        "# Seu código aqui \n",
        "breast = pd.read_csv('breast.csv')\n",
        "print(breast.head())\n",
        "\n",
        "new_breast = pd.read_csv('new_breast.csv')\n",
        "print(new_breast.head())\n"
      ],
      "execution_count": null,
      "outputs": [
        {
          "output_type": "stream",
          "text": [
            "  diagnosis  radius_mean  ...  symmetry_worst  fractal_dimension_worst\n",
            "0         M        17.99  ...          0.4601                  0.11890\n",
            "1         M        20.57  ...          0.2750                  0.08902\n",
            "2         M        19.69  ...          0.3613                  0.08758\n",
            "3         M        11.42  ...          0.6638                  0.17300\n",
            "4         M        20.29  ...          0.2364                  0.07678\n",
            "\n",
            "[5 rows x 31 columns]\n",
            "   radius_mean  texture_mean  ...  fractal_dimension_worst  diagnosis\n",
            "0        6.981          9.71  ...                  0.05504          ?\n",
            "1       11.700         16.17  ...                  0.07146          ?\n",
            "2       13.370         18.84  ...                  0.08004          ?\n",
            "3       15.780         21.80  ...                  0.09208          ?\n",
            "4       28.110         39.28  ...                  0.20750          ?\n",
            "\n",
            "[5 rows x 31 columns]\n"
          ],
          "name": "stdout"
        }
      ]
    },
    {
      "cell_type": "code",
      "metadata": {
        "id": "0RnZRibIn11f",
        "outputId": "85dac5fd-19fe-4c3c-98d5-a8cd9414e4c7",
        "colab": {
          "base_uri": "https://localhost:8080/",
          "height": 599
        }
      },
      "source": [
        "# Explore os dados\n",
        "# Seu código aqui\n",
        "breast.shape\n",
        "breast.diagnosis.value_counts()\n",
        "breast.isnull().sum()\n",
        "breast.dtypes"
      ],
      "execution_count": null,
      "outputs": [
        {
          "output_type": "execute_result",
          "data": {
            "text/plain": [
              "diagnosis                   object\n",
              "radius_mean                float64\n",
              "texture_mean               float64\n",
              "perimeter_mean             float64\n",
              "area_mean                  float64\n",
              "smoothness_mean            float64\n",
              "compactness_mean           float64\n",
              "concavity_mean             float64\n",
              "concave points_mean        float64\n",
              "symmetry_mean              float64\n",
              "fractal_dimension_mean     float64\n",
              "radius_se                  float64\n",
              "texture_se                 float64\n",
              "perimeter_se               float64\n",
              "area_se                    float64\n",
              "smoothness_se              float64\n",
              "compactness_se             float64\n",
              "concavity_se               float64\n",
              "concave points_se          float64\n",
              "symmetry_se                float64\n",
              "fractal_dimension_se       float64\n",
              "radius_worst               float64\n",
              "texture_worst              float64\n",
              "perimeter_worst            float64\n",
              "area_worst                 float64\n",
              "smoothness_worst           float64\n",
              "compactness_worst          float64\n",
              "concavity_worst            float64\n",
              "concave points_worst       float64\n",
              "symmetry_worst             float64\n",
              "fractal_dimension_worst    float64\n",
              "dtype: object"
            ]
          },
          "metadata": {
            "tags": []
          },
          "execution_count": 8
        }
      ]
    },
    {
      "cell_type": "markdown",
      "metadata": {
        "id": "BpoyT0LTsjX8"
      },
      "source": [
        "# **Árvore de Decisão**: Treinamento e Teste\n",
        "\n",
        "Os conjuntos de Treinamento e Teste são produzidos **randomicamente**. O `seed` é a semente de geração aleatória e garante a reprodutibilidade das execuções. "
      ]
    },
    {
      "cell_type": "code",
      "metadata": {
        "id": "JBxlpnAFoovZ",
        "outputId": "bd902760-3222-47ce-e97c-3d59c81ce065",
        "colab": {
          "base_uri": "https://localhost:8080/",
          "height": 187
        }
      },
      "source": [
        "from sklearn.tree import DecisionTreeClassifier\n",
        "from sklearn.model_selection import train_test_split\n",
        "\n",
        "# Preparando os dados\n",
        "X = breast.drop(columns=['diagnosis'])\n",
        "y = breast['diagnosis']\n",
        "\n",
        "# Separando os dados de Treinamento e Teste\n",
        "seed = 1984\n",
        "X_train, X_test, y_train, y_test = train_test_split(X, y, test_size=0.3, stratify=y, random_state=seed)\n",
        "\n",
        "# Declarando o Modelo\n",
        "clf = DecisionTreeClassifier(criterion='gini',\n",
        "#                              min_samples_leaf=5,\n",
        "#                              min_samples_split=5,\n",
        "                              max_depth=None,\n",
        "                              random_state=seed)\n",
        "\n",
        "# Aprendizado \n",
        "clf.fit(X_train, y_train)                  # Emprega o conjunto de treinamento \n",
        "\n",
        "y_pred = clf.predict(X_test)\n",
        "\n",
        "print(y_pred)\n"
      ],
      "execution_count": null,
      "outputs": [
        {
          "output_type": "stream",
          "text": [
            "['M' 'B' 'B' 'M' 'B' 'B' 'B' 'B' 'B' 'B' 'M' 'M' 'B' 'M' 'B' 'M' 'M' 'B'\n",
            " 'B' 'M' 'B' 'B' 'B' 'B' 'B' 'M' 'B' 'B' 'M' 'M' 'B' 'B' 'M' 'B' 'B' 'B'\n",
            " 'M' 'B' 'B' 'B' 'B' 'B' 'B' 'M' 'M' 'M' 'B' 'M' 'B' 'M' 'B' 'B' 'M' 'B'\n",
            " 'B' 'B' 'B' 'B' 'B' 'M' 'M' 'B' 'M' 'B' 'M' 'B' 'B' 'B' 'B' 'M' 'M' 'B'\n",
            " 'M' 'B' 'B' 'B' 'B' 'B' 'B' 'M' 'M' 'B' 'B' 'B' 'M' 'M' 'M' 'B' 'M' 'B'\n",
            " 'B' 'M' 'M' 'B' 'B' 'B' 'B' 'M' 'B' 'B' 'B' 'B' 'B' 'B' 'M' 'B' 'B' 'M'\n",
            " 'B' 'M' 'B' 'M' 'M' 'M' 'M' 'B' 'B' 'B' 'B' 'B' 'M' 'M' 'B' 'M' 'M' 'B'\n",
            " 'B' 'B' 'B' 'M' 'M' 'B' 'M' 'B' 'B' 'M' 'M' 'B' 'M' 'B' 'B' 'M' 'B' 'M'\n",
            " 'B' 'B' 'B' 'B' 'B' 'M' 'M' 'B' 'M' 'M' 'M' 'B' 'M' 'B' 'B' 'M' 'B' 'B'\n",
            " 'B' 'B' 'B' 'B' 'M' 'B' 'B' 'B' 'B']\n"
          ],
          "name": "stdout"
        }
      ]
    },
    {
      "cell_type": "markdown",
      "metadata": {
        "id": "qTAXNzNn1Hnk"
      },
      "source": [
        "# Apresentando os resultados\n",
        "\n",
        "Não se preocupe com este código, ele está aqui apenas para apresentar os resultados para que você entenda o que está acontecendo. "
      ]
    },
    {
      "cell_type": "code",
      "metadata": {
        "id": "V8Z2ck0UwPlN",
        "outputId": "598b05ec-6f4b-4847-ec97-94fc3df43d8b",
        "colab": {
          "base_uri": "https://localhost:8080/",
          "height": 238
        }
      },
      "source": [
        "# pd.set_option('display.max_rows',None)\n",
        "\n",
        "a = pd.DataFrame(y_pred)\n",
        "b = pd.DataFrame(np.array(y_test))\n",
        "c = a == b\n",
        "d = pd.concat([a,b,c],axis=1)\n",
        "\n",
        "d.columns=['Real','Predicted','Equal?']\n",
        "# print(d)\n",
        "print(d[d['Equal?'] == False])\n"
      ],
      "execution_count": null,
      "outputs": [
        {
          "output_type": "stream",
          "text": [
            "    Real Predicted  Equal?\n",
            "14     B         M   False\n",
            "24     B         M   False\n",
            "29     M         B   False\n",
            "32     M         B   False\n",
            "60     M         B   False\n",
            "61     B         M   False\n",
            "78     B         M   False\n",
            "79     M         B   False\n",
            "82     B         M   False\n",
            "100    B         M   False\n",
            "159    M         B   False\n",
            "167    B         M   False\n"
          ],
          "name": "stdout"
        }
      ]
    },
    {
      "cell_type": "markdown",
      "metadata": {
        "id": "aBb4U7kobJJ_"
      },
      "source": [
        "# Interpretando o **`classification_report`**"
      ]
    },
    {
      "cell_type": "code",
      "metadata": {
        "id": "ju5JkXEraF-9",
        "outputId": "cf6a4f38-2bcb-4362-dee6-e06a7a80aa17",
        "colab": {
          "base_uri": "https://localhost:8080/",
          "height": 221
        }
      },
      "source": [
        "from sklearn.metrics import confusion_matrix\n",
        "from sklearn.metrics import classification_report\n",
        "from sklearn.metrics import accuracy_score\n",
        "\n",
        "cm = confusion_matrix(y_pred, y_test)\n",
        "print(cm)\n",
        "    \n",
        "accuracy = accuracy_score(y_pred, y_test)\n",
        "print(accuracy)\n",
        "\n",
        "print(classification_report(y_pred,y_test))"
      ],
      "execution_count": null,
      "outputs": [
        {
          "output_type": "stream",
          "text": [
            "[[102   7]\n",
            " [  5  57]]\n",
            "0.9298245614035088\n",
            "              precision    recall  f1-score   support\n",
            "\n",
            "           B       0.95      0.94      0.94       109\n",
            "           M       0.89      0.92      0.90        62\n",
            "\n",
            "    accuracy                           0.93       171\n",
            "   macro avg       0.92      0.93      0.92       171\n",
            "weighted avg       0.93      0.93      0.93       171\n",
            "\n"
          ],
          "name": "stdout"
        }
      ]
    },
    {
      "cell_type": "markdown",
      "metadata": {
        "id": "E7LO_EZEbtNY"
      },
      "source": [
        "# Exibindo a Árvore\n",
        "\n",
        "Não vamos trabalhar com o gráfico das Árvores. Mas deixamos o código aqui para que você empregue se tiver interesse."
      ]
    },
    {
      "cell_type": "code",
      "metadata": {
        "id": "-cuDidZC_p8X",
        "outputId": "135ec639-13c6-404d-d47b-62fff73d13bf",
        "colab": {
          "base_uri": "https://localhost:8080/",
          "height": 911
        }
      },
      "source": [
        "from sklearn import tree\n",
        "tree.plot_tree(clf)"
      ],
      "execution_count": null,
      "outputs": [
        {
          "output_type": "execute_result",
          "data": {
            "text/plain": [
              "[Text(207.0853448275862, 203.85, 'X[28] <= 0.142\\ngini = 0.467\\nsamples = 398\\nvalue = [250, 148]'),\n",
              " Text(148.6396551724138, 176.67000000000002, 'X[21] <= 17.72\\ngini = 0.148\\nsamples = 261\\nvalue = [240, 21]'),\n",
              " Text(101.01724137931033, 149.49, 'X[14] <= 42.95\\ngini = 0.078\\nsamples = 247\\nvalue = [237, 10]'),\n",
              " Text(63.49655172413793, 122.31, 'X[21] <= 15.77\\ngini = 0.049\\nsamples = 238\\nvalue = [232, 6]'),\n",
              " Text(23.089655172413792, 95.13, 'X[22] <= 33.27\\ngini = 0.01\\nsamples = 205\\nvalue = [204, 1]'),\n",
              " Text(11.544827586206896, 67.94999999999999, 'gini = 0.0\\nsamples = 192\\nvalue = [192, 0]'),\n",
              " Text(34.63448275862069, 67.94999999999999, 'X[2] <= 23.2\\ngini = 0.142\\nsamples = 13\\nvalue = [12, 1]'),\n",
              " Text(23.089655172413792, 40.77000000000001, 'gini = 0.0\\nsamples = 1\\nvalue = [0, 1]'),\n",
              " Text(46.179310344827584, 40.77000000000001, 'gini = 0.0\\nsamples = 12\\nvalue = [12, 0]'),\n",
              " Text(103.90344827586206, 95.13, 'X[25] <= 0.13\\ngini = 0.257\\nsamples = 33\\nvalue = [28, 5]'),\n",
              " Text(80.81379310344828, 67.94999999999999, 'X[4] <= 569.25\\ngini = 0.071\\nsamples = 27\\nvalue = [26, 1]'),\n",
              " Text(69.26896551724138, 40.77000000000001, 'X[1] <= 13.355\\ngini = 0.5\\nsamples = 2\\nvalue = [1, 1]'),\n",
              " Text(57.72413793103448, 13.590000000000003, 'gini = 0.0\\nsamples = 1\\nvalue = [1, 0]'),\n",
              " Text(80.81379310344828, 13.590000000000003, 'gini = 0.0\\nsamples = 1\\nvalue = [0, 1]'),\n",
              " Text(92.35862068965517, 40.77000000000001, 'gini = 0.0\\nsamples = 25\\nvalue = [25, 0]'),\n",
              " Text(126.99310344827586, 67.94999999999999, 'X[3] <= 95.03\\ngini = 0.444\\nsamples = 6\\nvalue = [2, 4]'),\n",
              " Text(115.44827586206895, 40.77000000000001, 'gini = 0.0\\nsamples = 4\\nvalue = [0, 4]'),\n",
              " Text(138.53793103448277, 40.77000000000001, 'gini = 0.0\\nsamples = 2\\nvalue = [2, 0]'),\n",
              " Text(138.53793103448277, 122.31, 'X[20] <= 0.003\\ngini = 0.494\\nsamples = 9\\nvalue = [5, 4]'),\n",
              " Text(126.99310344827586, 95.13, 'gini = 0.0\\nsamples = 4\\nvalue = [0, 4]'),\n",
              " Text(150.08275862068965, 95.13, 'gini = 0.0\\nsamples = 5\\nvalue = [5, 0]'),\n",
              " Text(196.26206896551724, 149.49, 'X[28] <= 0.092\\ngini = 0.337\\nsamples = 14\\nvalue = [3, 11]'),\n",
              " Text(184.71724137931034, 122.31, 'X[28] <= 0.083\\ngini = 0.375\\nsamples = 4\\nvalue = [3, 1]'),\n",
              " Text(173.17241379310343, 95.13, 'gini = 0.0\\nsamples = 1\\nvalue = [0, 1]'),\n",
              " Text(196.26206896551724, 95.13, 'gini = 0.0\\nsamples = 3\\nvalue = [3, 0]'),\n",
              " Text(207.80689655172412, 122.31, 'gini = 0.0\\nsamples = 10\\nvalue = [0, 10]'),\n",
              " Text(265.5310344827586, 176.67000000000002, 'X[14] <= 18.68\\ngini = 0.135\\nsamples = 137\\nvalue = [10, 127]'),\n",
              " Text(242.44137931034481, 149.49, 'X[22] <= 28.38\\ngini = 0.42\\nsamples = 10\\nvalue = [7, 3]'),\n",
              " Text(230.8965517241379, 122.31, 'gini = 0.0\\nsamples = 7\\nvalue = [7, 0]'),\n",
              " Text(253.98620689655172, 122.31, 'gini = 0.0\\nsamples = 3\\nvalue = [0, 3]'),\n",
              " Text(288.6206896551724, 149.49, 'X[24] <= 474.1\\ngini = 0.046\\nsamples = 127\\nvalue = [3, 124]'),\n",
              " Text(277.07586206896553, 122.31, 'gini = 0.0\\nsamples = 1\\nvalue = [1, 0]'),\n",
              " Text(300.1655172413793, 122.31, 'X[7] <= 0.063\\ngini = 0.031\\nsamples = 126\\nvalue = [2, 124]'),\n",
              " Text(288.6206896551724, 95.13, 'gini = 0.0\\nsamples = 1\\nvalue = [1, 0]'),\n",
              " Text(311.7103448275862, 95.13, 'X[11] <= 0.248\\ngini = 0.016\\nsamples = 125\\nvalue = [1, 124]'),\n",
              " Text(300.1655172413793, 67.94999999999999, 'X[14] <= 20.31\\ngini = 0.444\\nsamples = 3\\nvalue = [1, 2]'),\n",
              " Text(288.6206896551724, 40.77000000000001, 'gini = 0.0\\nsamples = 2\\nvalue = [0, 2]'),\n",
              " Text(311.7103448275862, 40.77000000000001, 'gini = 0.0\\nsamples = 1\\nvalue = [1, 0]'),\n",
              " Text(323.2551724137931, 67.94999999999999, 'gini = 0.0\\nsamples = 122\\nvalue = [0, 122]')]"
            ]
          },
          "metadata": {
            "tags": []
          },
          "execution_count": 8
        },
        {
          "output_type": "display_data",
          "data": {
            "image/png": "[encoded data removed]",
            "text/plain": [
              "<Figure size 432x288 with 1 Axes>"
            ]
          },
          "metadata": {
            "tags": [],
            "needs_background": "light"
          }
        }
      ]
    },
    {
      "cell_type": "markdown",
      "metadata": {
        "id": "6_NuX5FQuhOi"
      },
      "source": [
        "# **LAB SET UP**\n",
        "Execute antes de iniciar o Lab."
      ]
    },
    {
      "cell_type": "code",
      "metadata": {
        "id": "V0xgakVgemrH"
      },
      "source": [
        "#\n",
        "# set up environment \n",
        "#\n",
        "\n",
        "#\n",
        "# import basics\n",
        "# \n",
        "\n",
        "import pandas                  as pd\n",
        "import numpy                   as np\n",
        "import matplotlib.pyplot       as plt\n",
        "import warnings\n",
        "import os\n",
        "import seaborn as sns\n",
        "warnings.filterwarnings(\"ignore\") \n",
        "\n",
        "#\n",
        "# Create all files for this lab: \n",
        "#\n",
        "# projects.csv\n",
        "# new_projects.csv\n",
        "# insurance.csv\n",
        "# new_insurance.csv\n",
        "# breast.csv\n",
        "# new_breast.csv\n",
        "#\n",
        "\n",
        "import pandas as pd\n",
        "\n",
        "\n",
        "import pandas as pd\n",
        "projects = pd.DataFrame({ 'Ana':[1,1,0,0],\n",
        "                         'Gabriela':[1,1,0,0],\n",
        "                         'Pedro':[0,1,1,1],\n",
        "                         'Luiz':[1,1,0,1],\n",
        "                         'Status':['successed','successed','failed','failed']})\n",
        "projects.to_csv('projects.csv',index=False)\n",
        "\n",
        "new_projects = pd.DataFrame({ 'Ana':[0,1],\n",
        "                         'Gabriela':[1,1],\n",
        "                         'Pedro':[1,1],\n",
        "                         'Luiz':[0,0],\n",
        "                         'Status':['?','?']})\n",
        "new_projects.to_csv('new_projects.csv',index=False)\n",
        "\n",
        "insurance    = pd.DataFrame({ 'Age':[21,20,35,40],\n",
        "                         'Income':[5,3.5,8,12],\n",
        "                         'Car_Value':[40,40,34,60],\n",
        "                         'Years_Hab':[3,2,10,12],\n",
        "                         'Insurance':['high','high','low','low']})\n",
        "insurance.to_csv('insurance.csv',index=False)\n",
        "\n",
        "new_insurance    = pd.DataFrame({ 'Age':[19,50,23],\n",
        "                         'Income':[5,10,4],\n",
        "                         'Car_Value':[50,45,80],\n",
        "                         'Years_Hab':[1,15,1],\n",
        "                         'Insurance':['?','?','?']})\n",
        "new_insurance.to_csv('new_insurance.csv',index=False)\n",
        "\n",
        "breast = pd.read_csv('http://meusite.mackenzie.br/rogerio/TIC/breast-cancer-wisconsin.csv')\n",
        "breast = breast.drop(columns=['Unnamed: 32'])\n",
        "breast.to_csv('breast.csv',index=False)\n",
        "\n",
        "new_breast = pd.DataFrame(breast.quantile(0)).transpose()\n",
        "new_breast = pd.concat([new_breast, pd.DataFrame(breast.quantile(0.25)).transpose()])\n",
        "new_breast = pd.concat([new_breast, pd.DataFrame(breast.quantile(0.50)).transpose()])\n",
        "new_breast = pd.concat([new_breast, pd.DataFrame(breast.quantile(0.75)).transpose()])\n",
        "new_breast = pd.concat([new_breast, pd.DataFrame(breast.quantile(1.00)).transpose()])\n",
        "new_breast['diagnosis'] = '?'\n",
        "# new_breast.drop(columns=['id'], inplace=True)\n",
        "new_breast.to_csv('new_breast.csv',index=False)\n",
        "\n",
        "from sklearn.tree import export_graphviz\n",
        "import graphviz\n",
        "from sklearn.preprocessing import LabelEncoder\n",
        "\n",
        "le = LabelEncoder()\n",
        "\n",
        "def plot_tree(tree, dataframe, label_col, label_encoder, plot_title):\n",
        "    label_names = pd.unique(dataframe[label_col])\n",
        "    # Obtaining plot data.\n",
        "    graph_data = export_graphviz(tree,\n",
        "        feature_names=dataframe.drop(label_col, axis=1).columns,\n",
        "        class_names=label_names,\n",
        "        filled=True,\n",
        "        rounded=True,\n",
        "        out_file=None)\n",
        "    # Generating plot.\n",
        "    graph = graphviz.Source(graph_data)\n",
        "    graph.render(plot_title)\n",
        "    return graph\n",
        "\n",
        "seed = 1984\n"
      ],
      "execution_count": null,
      "outputs": []
    },
    {
      "cell_type": "markdown",
      "metadata": {
        "id": "7YlVhfFUtKcE"
      },
      "source": [
        "# **Regressão Linear** \n",
        "\n",
        "Um modelo linear aproxima o valor de variável objetivo $Y$ a partir de uma combinação linear das variáveis preditoras $X$. \n",
        "\n",
        "$  \\widehat Y = a_0 + a_{1} X_{1} + a_{2} X_{2} + ... + a_{n} X_{n} $ \n",
        " \n",
        "A cada variável preditora corresponde um coeficiente $a_n$, havendo um coeficiente independente que corresponte ao valor de $\\widehat Y$ para $X=0$ (*intercept*). \n",
        "\n",
        "\n",
        "\n",
        "\n"
      ]
    },
    {
      "cell_type": "markdown",
      "metadata": {
        "id": "6NmyNaP_6EvX"
      },
      "source": [
        "## Obtendo os Coeficiente $a_n$, Método dos Mínimos Quadrados\n",
        "\n",
        "Os coeficientes $a_n$ podem ser obtidos minimizando-se a soma da distância entre os valores reais $Y$ e os valores estimados $\\widehat Y$. \n",
        "\n",
        "Para uma única variável $X$, podemos escrever:\n",
        "\n",
        "$$min \\sum d(Y, \\widehat Y) = $$\n",
        "\n",
        "$$ min \\sum (y_i - \\widehat y_i )^2 = $$ \n",
        "\n",
        "$$ min \\sum (y_i - a_0 - a_i x_i )^2 $$ \n",
        "\n",
        "Esta é uma função convexa e os pontos de mínimo com relação aos valores coeficientes podem ser obtidos derivando-se a função. O resultado será: \n",
        "\n",
        "$$a_1 =  \\frac{COV(x,y)}{VAR(x)} $$\n",
        "\n",
        "$$ a_0 = \\bar y - a_1 \\bar x $$\n",
        "\n",
        "Para mais detalhes veja: \n",
        "1. https://en.wikipedia.org/wiki/Regression_analysis\n",
        "2. https://pt.wikipedia.org/wiki/M%C3%A9todo_dos_m%C3%ADnimos_quadrados\n",
        "\n",
        "\n",
        "\n",
        "\n",
        "\n",
        "\n"
      ]
    },
    {
      "cell_type": "markdown",
      "metadata": {
        "id": "IRed5j3hBH3r"
      },
      "source": [
        "## Notas Práticas\n",
        "\n",
        "1. Este é um modelo de Ciência de Dados? Note que regressão linear extrai de um conjunto de dados um modelo, um padrão para os dados, não óbvio e a partir do qual podemos fazer inferências úteis... reveja então nossa definição de Ciência de Dados. \n",
        "1. Note que quaisquer conjuntos de pontos apresentam podem ter os coeficientes da regressão calculados, mesmo não tendo uma aproximação linear.\n",
        "1. O procedimento acima, para uma dimensão, se aplica a qualquer número de dimensões. \n",
        "1. Para a regressão linear o método dos mínimos quadrados permite a solução analítica. Em outros tipo de regressão, polinimial por exemplo, pode não haver uma solução analítica. O procedimento, entretanto, de se buscar um mínimo dos quadrados (uma função convexa) pode ainda ser aplicado (como, você tem alguma sugestão?)"
      ]
    },
    {
      "cell_type": "markdown",
      "metadata": {
        "deletable": true,
        "editable": true,
        "id": "qK4Wi5vshpPc"
      },
      "source": [
        "## Uma regressão linear simples\n",
        "\n",
        "Vamos começar com uma regressão simples de valores aleatórios apenas para você se familiarizar com a construção do modelo. "
      ]
    },
    {
      "cell_type": "code",
      "metadata": {
        "id": "UPVeFK3a5i6d",
        "outputId": "f55e531e-20ce-420c-e2cd-224643defed5",
        "colab": {
          "base_uri": "https://localhost:8080/",
          "height": 71
        }
      },
      "source": [
        "import pandas                  as pd\n",
        "import numpy                   as np\n",
        "import matplotlib.pyplot       as plt\n",
        "import seaborn                 as sns\n",
        "import statsmodels.formula.api as sm\n",
        "import warnings\n",
        "warnings.filterwarnings(\"ignore\")  "
      ],
      "execution_count": null,
      "outputs": [
        {
          "output_type": "stream",
          "text": [
            "/usr/local/lib/python3.6/dist-packages/statsmodels/tools/_testing.py:19: FutureWarning: pandas.util.testing is deprecated. Use the functions in the public API at pandas.testing instead.\n",
            "  import pandas.util.testing as tm\n"
          ],
          "name": "stderr"
        }
      ]
    },
    {
      "cell_type": "markdown",
      "metadata": {
        "id": "hsCr050-MUNR"
      },
      "source": [
        "Gerando uma amostra de 50 valores \"aleatórios\" a partir de uma função linear.    "
      ]
    },
    {
      "cell_type": "code",
      "metadata": {
        "id": "-s5TcBJLs5Z0",
        "outputId": "4aa5a2db-7ddb-4af7-b560-2269756050ad",
        "colab": {
          "base_uri": "https://localhost:8080/",
          "height": 282
        }
      },
      "source": [
        "rng = np.random.RandomState(1)\n",
        "x = 10 * rng.rand(50)\n",
        "y = 2 * x - 5 + rng.randn(50)\n",
        "sns.scatterplot(x, y)"
      ],
      "execution_count": null,
      "outputs": [
        {
          "output_type": "execute_result",
          "data": {
            "text/plain": [
              "<matplotlib.axes._subplots.AxesSubplot at 0x7ff9a10d7eb8>"
            ]
          },
          "metadata": {
            "tags": []
          },
          "execution_count": 2
        },
        {
          "output_type": "display_data",
          "data": {
            "image/png": "[encoded data removed]",
            "text/plain": [
              "<Figure size 432x288 with 1 Axes>"
            ]
          },
          "metadata": {
            "tags": [],
            "needs_background": "light"
          }
        }
      ]
    },
    {
      "cell_type": "markdown",
      "metadata": {
        "id": "bIc_ES-gL-ix"
      },
      "source": [
        "Podemos ainda traçar uma linha de aproximação linear com a função `sns.lmplot()`."
      ]
    },
    {
      "cell_type": "code",
      "metadata": {
        "id": "jio4n5FBtBhe",
        "outputId": "96fdc1dc-0845-4ec8-ff6a-50e11bc8f013",
        "colab": {
          "base_uri": "https://localhost:8080/",
          "height": 400
        }
      },
      "source": [
        "df = pd.DataFrame({'x':x,'y':y}) \n",
        "sns.lmplot('x','y',data=df)\n"
      ],
      "execution_count": null,
      "outputs": [
        {
          "output_type": "execute_result",
          "data": {
            "text/plain": [
              "<seaborn.axisgrid.FacetGrid at 0x7ff9a694d390>"
            ]
          },
          "metadata": {
            "tags": []
          },
          "execution_count": 3
        },
        {
          "output_type": "display_data",
          "data": {
            "image/png": "[encoded data removed]",
            "text/plain": [
              "<Figure size 360x360 with 1 Axes>"
            ]
          },
          "metadata": {
            "tags": [],
            "needs_background": "light"
          }
        }
      ]
    },
    {
      "cell_type": "markdown",
      "metadata": {
        "id": "Pxs0RHZfOQKQ"
      },
      "source": [
        "## Construindo o modelo linear, `sm.ols(formula = , data= )`\n",
        "\n",
        "Um conjunto de dados é informado e o parâmetro `formula` indica as variáveis objetivo e preditoras.\n",
        "\n",
        "````\n",
        "                                                              formula = 'y ~ x' \n",
        "````\n",
        "significa\n",
        "\n",
        "$$ y \\leftarrow  x $$\n",
        "\n",
        "para um modelo\n",
        "\n",
        "$$ \\widehat y = a_0 + b_1 x $$\n",
        "\n"
      ]
    },
    {
      "cell_type": "code",
      "metadata": {
        "id": "nFLNCFPcNePO"
      },
      "source": [
        "model = sm.ols(formula='y ~ x', data=df)\n"
      ],
      "execution_count": null,
      "outputs": []
    },
    {
      "cell_type": "code",
      "metadata": {
        "id": "c-3iMXYENePT",
        "outputId": "82ca9c46-7891-4c58-bb65-65f2f0bc5728",
        "colab": {
          "base_uri": "https://localhost:8080/",
          "height": 442
        }
      },
      "source": [
        "result = model.fit()\n",
        "print(result.summary())"
      ],
      "execution_count": null,
      "outputs": [
        {
          "output_type": "stream",
          "text": [
            "                            OLS Regression Results                            \n",
            "==============================================================================\n",
            "Dep. Variable:                      y   R-squared:                       0.979\n",
            "Model:                            OLS   Adj. R-squared:                  0.979\n",
            "Method:                 Least Squares   F-statistic:                     2246.\n",
            "Date:                Wed, 14 Oct 2020   Prob (F-statistic):           5.71e-42\n",
            "Time:                        14:14:02   Log-Likelihood:                -65.935\n",
            "No. Observations:                  50   AIC:                             135.9\n",
            "Df Residuals:                      48   BIC:                             139.7\n",
            "Df Model:                           1                                         \n",
            "Covariance Type:            nonrobust                                         \n",
            "==============================================================================\n",
            "                 coef    std err          t      P>|t|      [0.025      0.975]\n",
            "------------------------------------------------------------------------------\n",
            "Intercept     -4.9986      0.239    -20.948      0.000      -5.478      -4.519\n",
            "x              2.0272      0.043     47.397      0.000       1.941       2.113\n",
            "==============================================================================\n",
            "Omnibus:                        0.058   Durbin-Watson:                   1.590\n",
            "Prob(Omnibus):                  0.971   Jarque-Bera (JB):                0.057\n",
            "Skew:                           0.048   Prob(JB):                        0.972\n",
            "Kurtosis:                       2.865   Cond. No.                         10.4\n",
            "==============================================================================\n",
            "\n",
            "Warnings:\n",
            "[1] Standard Errors assume that the covariance matrix of the errors is correctly specified.\n"
          ],
          "name": "stdout"
        }
      ]
    },
    {
      "cell_type": "markdown",
      "metadata": {
        "id": "Xjaa4yXuQSkg"
      },
      "source": [
        "E desse modo a aproximação linear é dada por:\n",
        "\n",
        "$$ y = -4.9986 + 2.0272 x $$\n",
        "\n",
        "Empregamos então o modelo para estimar os valores de $y$, isto é $\\bar y$, a partir do modelo linear. Podemos então comparar os valores de $y$ e $\\bar y$ (`predicted`). \n"
      ]
    },
    {
      "cell_type": "code",
      "metadata": {
        "id": "U_A0fYshQqOb"
      },
      "source": [
        "df['predicted'] = result.predict(df.x)"
      ],
      "execution_count": null,
      "outputs": []
    },
    {
      "cell_type": "code",
      "metadata": {
        "id": "yMYyQouNRpXq",
        "outputId": "45177d6d-0452-4c6c-f862-8f7c81e9e303",
        "colab": {
          "base_uri": "https://localhost:8080/",
          "height": 279
        }
      },
      "source": [
        "sns.scatterplot('x','y',data=df)\n",
        "sns.scatterplot('x','predicted',data=df)\n",
        "sns.lineplot('x','predicted',data=df,color='red')\n",
        "plt.show()"
      ],
      "execution_count": null,
      "outputs": [
        {
          "output_type": "display_data",
          "data": {
            "image/png": "[encoded data removed]",
            "text/plain": [
              "<Figure size 432x288 with 1 Axes>"
            ]
          },
          "metadata": {
            "tags": [],
            "needs_background": "light"
          }
        }
      ]
    },
    {
      "cell_type": "markdown",
      "metadata": {
        "id": "_pfvh1wCUxc6"
      },
      "source": [
        "### Exercício\n",
        "\n",
        "Faça o mesmo procedimento acima alterando a função inicial\n",
        "\n",
        "```\n",
        "y = 2 * x - 5 + rng.randn(50)\n",
        "```\n",
        "Por uma função não linear. Qual a sua conclusão?\n",
        "\n"
      ]
    },
    {
      "cell_type": "markdown",
      "metadata": {
        "id": "RUkrHCJKSYn3"
      },
      "source": [
        "## CASO: Estimando a economia de combustível de veículos na cidade\n",
        "\n",
        "**Fuel economy data from 1999 and 2008 for 38 popular models of car**. Para descrição dos dados acesse https://vincentarelbundock.github.io/Rdatasets/doc/ggplot2/mpg.html. \n",
        "\n",
        "\n",
        "Para dados mais recentes e detalhados veja:\n",
        "\n",
        "1. https://www.epa.gov/compliance-and-fuel-economy-data/data-cars-used-testing-fuel-economy"
      ]
    },
    {
      "cell_type": "code",
      "metadata": {
        "id": "V5gWRJ945fCy",
        "outputId": "e8829b65-56ff-4fe7-dd71-8aa813b432a4",
        "colab": {
          "base_uri": "https://localhost:8080/",
          "height": 204
        }
      },
      "source": [
        "df = pd.read_csv(\"https://vincentarelbundock.github.io/Rdatasets/csv/ggplot2/mpg.csv\")\n",
        "df.head()"
      ],
      "execution_count": null,
      "outputs": [
        {
          "output_type": "execute_result",
          "data": {
            "text/html": [
              "<div>\n",
              "<style scoped>\n",
              "    .dataframe tbody tr th:only-of-type {\n",
              "        vertical-align: middle;\n",
              "    }\n",
              "\n",
              "    .dataframe tbody tr th {\n",
              "        vertical-align: top;\n",
              "    }\n",
              "\n",
              "    .dataframe thead th {\n",
              "        text-align: right;\n",
              "    }\n",
              "</style>\n",
              "<table border=\"1\" class=\"dataframe\">\n",
              "  <thead>\n",
              "    <tr style=\"text-align: right;\">\n",
              "      <th></th>\n",
              "      <th>Unnamed: 0</th>\n",
              "      <th>manufacturer</th>\n",
              "      <th>model</th>\n",
              "      <th>displ</th>\n",
              "      <th>year</th>\n",
              "      <th>cyl</th>\n",
              "      <th>trans</th>\n",
              "      <th>drv</th>\n",
              "      <th>cty</th>\n",
              "      <th>hwy</th>\n",
              "      <th>fl</th>\n",
              "      <th>class</th>\n",
              "    </tr>\n",
              "  </thead>\n",
              "  <tbody>\n",
              "    <tr>\n",
              "      <th>0</th>\n",
              "      <td>1</td>\n",
              "      <td>audi</td>\n",
              "      <td>a4</td>\n",
              "      <td>1.8</td>\n",
              "      <td>1999</td>\n",
              "      <td>4</td>\n",
              "      <td>auto(l5)</td>\n",
              "      <td>f</td>\n",
              "      <td>18</td>\n",
              "      <td>29</td>\n",
              "      <td>p</td>\n",
              "      <td>compact</td>\n",
              "    </tr>\n",
              "    <tr>\n",
              "      <th>1</th>\n",
              "      <td>2</td>\n",
              "      <td>audi</td>\n",
              "      <td>a4</td>\n",
              "      <td>1.8</td>\n",
              "      <td>1999</td>\n",
              "      <td>4</td>\n",
              "      <td>manual(m5)</td>\n",
              "      <td>f</td>\n",
              "      <td>21</td>\n",
              "      <td>29</td>\n",
              "      <td>p</td>\n",
              "      <td>compact</td>\n",
              "    </tr>\n",
              "    <tr>\n",
              "      <th>2</th>\n",
              "      <td>3</td>\n",
              "      <td>audi</td>\n",
              "      <td>a4</td>\n",
              "      <td>2.0</td>\n",
              "      <td>2008</td>\n",
              "      <td>4</td>\n",
              "      <td>manual(m6)</td>\n",
              "      <td>f</td>\n",
              "      <td>20</td>\n",
              "      <td>31</td>\n",
              "      <td>p</td>\n",
              "      <td>compact</td>\n",
              "    </tr>\n",
              "    <tr>\n",
              "      <th>3</th>\n",
              "      <td>4</td>\n",
              "      <td>audi</td>\n",
              "      <td>a4</td>\n",
              "      <td>2.0</td>\n",
              "      <td>2008</td>\n",
              "      <td>4</td>\n",
              "      <td>auto(av)</td>\n",
              "      <td>f</td>\n",
              "      <td>21</td>\n",
              "      <td>30</td>\n",
              "      <td>p</td>\n",
              "      <td>compact</td>\n",
              "    </tr>\n",
              "    <tr>\n",
              "      <th>4</th>\n",
              "      <td>5</td>\n",
              "      <td>audi</td>\n",
              "      <td>a4</td>\n",
              "      <td>2.8</td>\n",
              "      <td>1999</td>\n",
              "      <td>6</td>\n",
              "      <td>auto(l5)</td>\n",
              "      <td>f</td>\n",
              "      <td>16</td>\n",
              "      <td>26</td>\n",
              "      <td>p</td>\n",
              "      <td>compact</td>\n",
              "    </tr>\n",
              "  </tbody>\n",
              "</table>\n",
              "</div>"
            ],
            "text/plain": [
              "   Unnamed: 0 manufacturer model  displ  year  ...  drv cty hwy  fl    class\n",
              "0           1         audi    a4    1.8  1999  ...    f  18  29   p  compact\n",
              "1           2         audi    a4    1.8  1999  ...    f  21  29   p  compact\n",
              "2           3         audi    a4    2.0  2008  ...    f  20  31   p  compact\n",
              "3           4         audi    a4    2.0  2008  ...    f  21  30   p  compact\n",
              "4           5         audi    a4    2.8  1999  ...    f  16  26   p  compact\n",
              "\n",
              "[5 rows x 12 columns]"
            ]
          },
          "metadata": {
            "tags": []
          },
          "execution_count": 8
        }
      ]
    },
    {
      "cell_type": "markdown",
      "metadata": {
        "id": "FdCovytDWnRM"
      },
      "source": [
        "Inicialmente vamos verificar como se relacionam as demais **variáveis numéricas** (mais adiante vamos tirar essa limitação!) com a variável objetivo `cyl`(o consumo dos veículos na cidade).  "
      ]
    },
    {
      "cell_type": "code",
      "metadata": {
        "id": "_AgJXt_DWS3a",
        "outputId": "5295b9f5-19bf-4db3-a80e-be5bc98f1407",
        "colab": {
          "base_uri": "https://localhost:8080/",
          "height": 743
        }
      },
      "source": [
        "sns.pairplot(df[['cty','hwy','cyl','displ']])"
      ],
      "execution_count": null,
      "outputs": [
        {
          "output_type": "execute_result",
          "data": {
            "text/plain": [
              "<seaborn.axisgrid.PairGrid at 0x7ff99d83e8d0>"
            ]
          },
          "metadata": {
            "tags": []
          },
          "execution_count": 9
        },
        {
          "output_type": "display_data",
          "data": {
            "image/png": "[encoded data removed]",
            "text/plain": [
              "<Figure size 720x720 with 20 Axes>"
            ]
          },
          "metadata": {
            "tags": [],
            "needs_background": "light"
          }
        }
      ]
    },
    {
      "cell_type": "markdown",
      "metadata": {
        "id": "llKd1p1FVRop"
      },
      "source": [
        "`hwy` parece ser a variável que mais se aproxima de uma relação linear com `cyl`. Vamos, portanto, tentar determinar o consumo de combustível na cidade `cty` a partir, inicialmente, somente do atributo de consumo dos veículos na estrada, o atributo `hwy`. Isto é, vamos criar um modelo:\n",
        "\n",
        "$$ \\widehat{cty} =  a_0 + a_1 hwy $$\n",
        "\n"
      ]
    },
    {
      "cell_type": "code",
      "metadata": {
        "id": "aZd6MsQF5wi4",
        "outputId": "3d13b86a-36b8-496c-a6e0-0f8929aa403c",
        "colab": {
          "base_uri": "https://localhost:8080/",
          "height": 400
        }
      },
      "source": [
        "sns.lmplot('hwy', 'cty', data=df)"
      ],
      "execution_count": null,
      "outputs": [
        {
          "output_type": "execute_result",
          "data": {
            "text/plain": [
              "<seaborn.axisgrid.FacetGrid at 0x7ff99d28a0f0>"
            ]
          },
          "metadata": {
            "tags": []
          },
          "execution_count": 10
        },
        {
          "output_type": "display_data",
          "data": {
            "image/png": "[encoded data removed]",
            "text/plain": [
              "<Figure size 360x360 with 1 Axes>"
            ]
          },
          "metadata": {
            "tags": [],
            "needs_background": "light"
          }
        }
      ]
    },
    {
      "cell_type": "code",
      "metadata": {
        "id": "eISSxlPk6Xkq"
      },
      "source": [
        "model = sm.ols(formula=\"cty ~ hwy \", data=df)\n"
      ],
      "execution_count": null,
      "outputs": []
    },
    {
      "cell_type": "code",
      "metadata": {
        "id": "oIwL-5zA6mWi",
        "outputId": "ff0375e3-d753-4493-bfe2-5dd933bd23da",
        "colab": {
          "base_uri": "https://localhost:8080/",
          "height": 442
        }
      },
      "source": [
        "result = model.fit()\n",
        "print(result.summary())"
      ],
      "execution_count": null,
      "outputs": [
        {
          "output_type": "stream",
          "text": [
            "                            OLS Regression Results                            \n",
            "==============================================================================\n",
            "Dep. Variable:                    cty   R-squared:                       0.914\n",
            "Model:                            OLS   Adj. R-squared:                  0.913\n",
            "Method:                 Least Squares   F-statistic:                     2459.\n",
            "Date:                Wed, 14 Oct 2020   Prob (F-statistic):          1.87e-125\n",
            "Time:                        14:14:08   Log-Likelihood:                -383.69\n",
            "No. Observations:                 234   AIC:                             771.4\n",
            "Df Residuals:                     232   BIC:                             778.3\n",
            "Df Model:                           1                                         \n",
            "Covariance Type:            nonrobust                                         \n",
            "==============================================================================\n",
            "                 coef    std err          t      P>|t|      [0.025      0.975]\n",
            "------------------------------------------------------------------------------\n",
            "Intercept      0.8442      0.333      2.534      0.012       0.188       1.501\n",
            "hwy            0.6832      0.014     49.585      0.000       0.656       0.710\n",
            "==============================================================================\n",
            "Omnibus:                        3.986   Durbin-Watson:                   1.093\n",
            "Prob(Omnibus):                  0.136   Jarque-Bera (JB):                4.565\n",
            "Skew:                           0.114   Prob(JB):                        0.102\n",
            "Kurtosis:                       3.645   Cond. No.                         98.6\n",
            "==============================================================================\n",
            "\n",
            "Warnings:\n",
            "[1] Standard Errors assume that the covariance matrix of the errors is correctly specified.\n"
          ],
          "name": "stdout"
        }
      ]
    },
    {
      "cell_type": "markdown",
      "metadata": {
        "id": "123_FRbZ6v0Y"
      },
      "source": [
        "Obtemos assim o modelo:\n",
        "\n",
        "$$ \\widehat{cty} = 0.8442 + 0.6832 \\times hwy  $$\n",
        " \n",
        "\n"
      ]
    },
    {
      "cell_type": "markdown",
      "metadata": {
        "id": "UArNPQQOYppn"
      },
      "source": [
        "## Predição de novos valores, `predict(x)`\n",
        "\n",
        "Podemos agora empregar nosso modelo para estimar o consumo de um novo veículo na cidade, que não conhecemos, mas conhecemos o seu consumo na estrada. Digamos para `hwy = 12` ou ainda `hwy=52`.  "
      ]
    },
    {
      "cell_type": "code",
      "metadata": {
        "id": "Rc7ckqg98J8V",
        "outputId": "17add73b-4960-4614-8365-09238fdb204a",
        "colab": {
          "base_uri": "https://localhost:8080/",
          "height": 68
        }
      },
      "source": [
        "x = pd.DataFrame({'hwy': [52,12]})\n",
        "result.predict(x)"
      ],
      "execution_count": null,
      "outputs": [
        {
          "output_type": "execute_result",
          "data": {
            "text/plain": [
              "0    36.371595\n",
              "1     9.042831\n",
              "dtype: float64"
            ]
          },
          "metadata": {
            "tags": []
          },
          "execution_count": 13
        }
      ]
    },
    {
      "cell_type": "markdown",
      "metadata": {
        "id": "XyRl09f4Zne7"
      },
      "source": [
        "**Mas será esse um bom modelo?**"
      ]
    },
    {
      "cell_type": "markdown",
      "metadata": {
        "id": "RPZI1rIGYKyE"
      },
      "source": [
        "## Verificação Visual"
      ]
    },
    {
      "cell_type": "code",
      "metadata": {
        "id": "_wgtCaq_7IuB"
      },
      "source": [
        "df['predicted'] = result.predict()"
      ],
      "execution_count": null,
      "outputs": []
    },
    {
      "cell_type": "code",
      "metadata": {
        "id": "Zo48GSLV7bEQ",
        "outputId": "d55b2e51-7ad4-4551-e176-7f10c2ddf3bb",
        "colab": {
          "base_uri": "https://localhost:8080/",
          "height": 279
        }
      },
      "source": [
        "sns.scatterplot('hwy', 'cty', data=df)\n",
        "sns.lineplot('hwy', 'predicted', data=df, color='red')\n",
        "plt.show()\n"
      ],
      "execution_count": null,
      "outputs": [
        {
          "output_type": "display_data",
          "data": {
            "image/png": "[encoded data removed]",
            "text/plain": [
              "<Figure size 432x288 with 1 Axes>"
            ]
          },
          "metadata": {
            "tags": [],
            "needs_background": "light"
          }
        }
      ]
    },
    {
      "cell_type": "markdown",
      "metadata": {
        "id": "wcN3EJtSaHBz"
      },
      "source": [
        "A inspeção visual entretanto é bastante limitada e, no máximo, pode permitir a avaliação de modelos de até 3 dimensões."
      ]
    },
    {
      "cell_type": "markdown",
      "metadata": {
        "id": "pQJkyzjaDODK"
      },
      "source": [
        "# Coeficiente de Determinação, $R^2$\n",
        "\n",
        "O Coeficiente de Determinação, Coeficiente de Correlação, ou ainda $R-$Square é uma medida de $[0,1]$ que indica o quanto um modelo linear explica um conjunto de dados. Quanto mais próximo de 1, mais os dados se aproximam de um modelo linear.\n",
        "\n",
        "$$ R^2 = 1 - \\frac{SS_e}{SS_{total}} $$\n",
        "\n",
        "onde \n",
        "\n",
        "$$SS_e = \\sum (y_i - \\widehat y_i )^2 $$ é o (erro) *resíduo* e,\n",
        "\n",
        "$$SS_{total} = \\sum (y_i - \\bar y )^2 $$ \n",
        "\n",
        "o *erro total*.\n",
        "\n",
        "\n",
        "Para mais detalhes veja:\n",
        "1. https://en.wikipedia.org/wiki/Coefficient_of_determination\n"
      ]
    },
    {
      "cell_type": "markdown",
      "metadata": {
        "id": "aGEg-ivcGM-t"
      },
      "source": [
        "## $p-value$  dos Coeficientes\n",
        "\n",
        "Outra medida importante sobre o *p-value* dos coeficientes. Assumindo a hipótese nula do coeficiente ser igual a zero, buscamos coeficientes cujo *p-value* rejeitem a hipótese nula.\n",
        "\n",
        "$$ H_0: a_i = 0 $$\n",
        "$$ H_a: a_i \\neq 0 $$\n",
        "\n"
      ]
    },
    {
      "cell_type": "markdown",
      "metadata": {
        "id": "N_QG594xKr5_"
      },
      "source": [
        "## Intervalo de Confiança dos Coeficientes\n",
        "\n",
        "O Intervalo de Confiança dos Coeficientes possui duas definições equivalentes:\n",
        "\n",
        "1. O intervalo é o conjunto de valores para os quais um teste de hipótese para o nível de 5% não pode ser rejeitado.\n",
        "1. O intervalo tem uma probabilidade de 95% de conter o verdadeiro valor de $a_i$ ou ainda, em 95% de todas as amostras que poderiam ser coletadas, o intervalo de confiança cobrirá o valor real de $a_i$.\n",
        "\n",
        "Para mais detalhes dos intervalos de confiança e p-value, veja:\n",
        "\n",
        "1. https://www.econometrics-with-r.org/4-3-measures-of-fit.html#application-to-the-test-score-data"
      ]
    },
    {
      "cell_type": "markdown",
      "metadata": {
        "id": "zCBxb243aavi"
      },
      "source": [
        "## Analisando os dados do modelo\n",
        "\n",
        "$$ R^2 = 0.914 $$\n",
        "$$ p-values < 0.05 $$\n",
        "\n",
        "Podemos ver que esse é um modelo bastante confiável. \n",
        "\n",
        "(o intervalo de confiança é uma verificação adicional. Ele dá um range de valores de cada coeficiente, podemos empregá-lo para identificar possíveis desvios nos coeficientes). "
      ]
    },
    {
      "cell_type": "code",
      "metadata": {
        "id": "CeUTmXybaj5C",
        "outputId": "48b9c64a-4153-480e-c558-3db7fb626d2c",
        "colab": {
          "base_uri": "https://localhost:8080/",
          "height": 442
        }
      },
      "source": [
        "print(result.summary())"
      ],
      "execution_count": null,
      "outputs": [
        {
          "output_type": "stream",
          "text": [
            "                            OLS Regression Results                            \n",
            "==============================================================================\n",
            "Dep. Variable:                    cty   R-squared:                       0.914\n",
            "Model:                            OLS   Adj. R-squared:                  0.913\n",
            "Method:                 Least Squares   F-statistic:                     2459.\n",
            "Date:                Wed, 14 Oct 2020   Prob (F-statistic):          1.87e-125\n",
            "Time:                        14:14:08   Log-Likelihood:                -383.69\n",
            "No. Observations:                 234   AIC:                             771.4\n",
            "Df Residuals:                     232   BIC:                             778.3\n",
            "Df Model:                           1                                         \n",
            "Covariance Type:            nonrobust                                         \n",
            "==============================================================================\n",
            "                 coef    std err          t      P>|t|      [0.025      0.975]\n",
            "------------------------------------------------------------------------------\n",
            "Intercept      0.8442      0.333      2.534      0.012       0.188       1.501\n",
            "hwy            0.6832      0.014     49.585      0.000       0.656       0.710\n",
            "==============================================================================\n",
            "Omnibus:                        3.986   Durbin-Watson:                   1.093\n",
            "Prob(Omnibus):                  0.136   Jarque-Bera (JB):                4.565\n",
            "Skew:                           0.114   Prob(JB):                        0.102\n",
            "Kurtosis:                       3.645   Cond. No.                         98.6\n",
            "==============================================================================\n",
            "\n",
            "Warnings:\n",
            "[1] Standard Errors assume that the covariance matrix of the errors is correctly specified.\n"
          ],
          "name": "stdout"
        }
      ]
    },
    {
      "cell_type": "markdown",
      "metadata": {
        "id": "Y6suW5Jtb3fv"
      },
      "source": [
        "## Adicionando variáveis ao modelo\n",
        "\n",
        "Vamos agora adicionar ao nosso modelo a variável preditora de cilindradas do motor (`displ`). "
      ]
    },
    {
      "cell_type": "code",
      "metadata": {
        "id": "Q1YXxDVo70fN",
        "outputId": "57b917df-2feb-493a-f568-8be842bc66e5",
        "colab": {
          "base_uri": "https://localhost:8080/",
          "height": 459
        }
      },
      "source": [
        "model = sm.ols(formula=\"cty ~ hwy + displ\", data=df)\n",
        "result = model.fit()\n",
        "print(result.summary())"
      ],
      "execution_count": null,
      "outputs": [
        {
          "output_type": "stream",
          "text": [
            "                            OLS Regression Results                            \n",
            "==============================================================================\n",
            "Dep. Variable:                    cty   R-squared:                       0.924\n",
            "Model:                            OLS   Adj. R-squared:                  0.924\n",
            "Method:                 Least Squares   F-statistic:                     1412.\n",
            "Date:                Wed, 14 Oct 2020   Prob (F-statistic):          2.93e-130\n",
            "Time:                        14:14:08   Log-Likelihood:                -368.30\n",
            "No. Observations:                 234   AIC:                             742.6\n",
            "Df Residuals:                     231   BIC:                             753.0\n",
            "Df Model:                           2                                         \n",
            "Covariance Type:            nonrobust                                         \n",
            "==============================================================================\n",
            "                 coef    std err          t      P>|t|      [0.025      0.975]\n",
            "------------------------------------------------------------------------------\n",
            "Intercept      4.7368      0.751      6.306      0.000       3.257       6.217\n",
            "hwy            0.5954      0.020     29.602      0.000       0.556       0.635\n",
            "displ         -0.5283      0.093     -5.699      0.000      -0.711      -0.346\n",
            "==============================================================================\n",
            "Omnibus:                       18.031   Durbin-Watson:                   1.207\n",
            "Prob(Omnibus):                  0.000   Jarque-Bera (JB):               43.047\n",
            "Skew:                           0.302   Prob(JB):                     4.49e-10\n",
            "Kurtosis:                       5.012   Cond. No.                         240.\n",
            "==============================================================================\n",
            "\n",
            "Warnings:\n",
            "[1] Standard Errors assume that the covariance matrix of the errors is correctly specified.\n"
          ],
          "name": "stdout"
        }
      ]
    },
    {
      "cell_type": "markdown",
      "metadata": {
        "id": "MjEtnWBHGVdj"
      },
      "source": [
        "Agora o modelo obtido é:\n",
        "\n",
        "$$cty = 4.7368 + 0.5954 \\times hwy - 0.5283 \\times displ$$\n",
        "\n",
        "(por simplicidade adotamos agora $cty$ no lugar de $\\widehat{cty}$. Qual a diferença?)"
      ]
    },
    {
      "cell_type": "markdown",
      "metadata": {
        "id": "Vdl5fnNjdbYj"
      },
      "source": [
        "## Analisando os dados do modelo\n",
        "\n",
        "$$ R^2 = 0.924 $$\n",
        "$$ p-values < 0.05 $$\n",
        "\n",
        "Podemos ver que esse é um modelo bastante confiável apresentando um erro menor ainda que o modelo anterior (por que?). \n"
      ]
    },
    {
      "cell_type": "markdown",
      "metadata": {
        "id": "za0A5iryIN6B"
      },
      "source": [
        "## Conclusão\n",
        "\n",
        "1. Modelos de Regressão Lineares são bem definidos (determinísticos), os coeficientes só dependendo das médias dos valores e das variâncias e covariância dos valores.\n",
        "1. Funcionam para quaisquer dimensões.\n",
        "1. Podem aplicados a quaisquer conjunto de dados, por isso é necessário avaliar o quanto o modelo de fato se ajusta ao dados (r-square, p-value e intervalo de confiança)\n",
        "1. O modelo de regressão linear pode ser associado a transformações, como por exemplo a aplicação de $log()$:\n",
        "\n",
        "$$ Log(y) = a_0 + a_1 x_1 + a_2 x_2 + ...$$\n",
        "\n",
        "Ou ainda, o método de mínimos quadrados empregado para obter coeficientes de regressões polinomiais e de composição com outras funções:\n",
        "\n",
        "\n",
        "$$ y = a_0 + a_1 x_1^2 + a_2 x_2^2 + ...$$\n",
        "\n",
        "ou \n",
        "\n",
        "$$ y = a_0 + a_{11} x_1 + a_{12} x_1^2 + a_{21} x_2 + a_{22} x_2^2 +...$$"
      ]
    },
    {
      "cell_type": "markdown",
      "metadata": {
        "id": "UeF40Tx_e-k2"
      },
      "source": [
        "### Valores Categóricos\n",
        "\n",
        "Para o emprego de valores categóricos na regressão linear é necessária a codificação dos valores para numérico. Veja no material complementar da T6 o uso do **hot encode** e a aplicação de um modelo de regressão linear para várias variáveis categóricas."
      ]
    },
    {
      "cell_type": "markdown",
      "metadata": {
        "_uuid": "9dd9e07c590ca22f0c525222f60f0ebff4e092c6",
        "id": "ZgG4xiYI12-z"
      },
      "source": [
        " # **Exercícios de Árvores de Decisão e Modelos Supervisionados em Geral**\n",
        " "
      ]
    },
    {
      "cell_type": "markdown",
      "metadata": {
        "_uuid": "9dd9e07c590ca22f0c525222f60f0ebff4e092c6",
        "id": "SLTshJXLA4LT"
      },
      "source": [
        "<img src=\"http://meusite.mackenzie.br/rogerio/TIC/SUP_ML.png\" width=800, align=\"center\"></a>\n",
        "<h1 align=left><font size = 2, style=\"color:rgb(200,0,0)\"> Fig. 1.Esquema Geral para Modelos Supervisionados </font></h1> \n"
      ]
    },
    {
      "cell_type": "markdown",
      "metadata": {
        "_uuid": "9dd9e07c590ca22f0c525222f60f0ebff4e092c6",
        "id": "Nf2cbgQS12-3"
      },
      "source": [
        "# Caso: **Propensão de Compra de Clientes por Telemarketing** \n",
        "\n",
        "https://archive.ics.uci.edu/ml/datasets/Bank+Marketing\n",
        "\n",
        "Os dados estão relacionados com campanhas de marketing direto de uma instituição bancária portuguesa. As campanhas de marketing foram baseadas em telefonemas. Freqüentemente, era necessário mais de um contato para o mesmo cliente, para acessar se o produto (depósito bancário) seria ('yes') ou não ('no') assinado.\n",
        "\n",
        "Os dados estão na URL: http://meusite.mackenzie.br/rogerio/TIC/bank-full.csv\n",
        "\n",
        "\n"
      ]
    },
    {
      "cell_type": "markdown",
      "metadata": {
        "id": "YeiT9oXumyn8"
      },
      "source": [
        "# Exercício 1. Acesse e Explore os dados (**RESOLVIDO**)\n",
        "\n",
        "1. Qual o atributo **classe**?\n",
        "1. Quantos registros de cada **classe**?\n",
        "1. Todos os dados são numéricos? (por quê?)\n",
        "1. Os dados encontram-se na mesma escala?\n",
        "1. Qual o tamanho dos dados? (linhas e atributos)\n",
        "1. Existem valores nulos?\n"
      ]
    },
    {
      "cell_type": "code",
      "metadata": {
        "id": "1srfzIVBqv7y"
      },
      "source": [
        "# imports\n",
        "\n",
        "import pandas                  as pd\n",
        "import numpy                   as np\n",
        "import matplotlib.pyplot       as plt\n",
        "import warnings\n",
        "import os\n",
        "import seaborn as sns\n",
        "warnings.filterwarnings(\"ignore\") "
      ],
      "execution_count": null,
      "outputs": []
    },
    {
      "cell_type": "code",
      "metadata": {
        "id": "xdf53VhG12--",
        "outputId": "506511c5-2ec1-4148-d455-35e61e3a9e51",
        "colab": {
          "base_uri": "https://localhost:8080/",
          "height": 427
        }
      },
      "source": [
        "# Seu código\n",
        "\n",
        "bank = pd.read_csv('http://meusite.mackenzie.br/rogerio/TIC/bank-full.csv')\n",
        "bank.head()\n",
        "bank.y.value_counts()\n",
        "bank.dtypes\n",
        "bank.isnull().sum()\n",
        "bank.shape\n",
        "bank.describe(include='all')\n"
      ],
      "execution_count": null,
      "outputs": [
        {
          "output_type": "execute_result",
          "data": {
            "text/html": [
              "<div>\n",
              "<style scoped>\n",
              "    .dataframe tbody tr th:only-of-type {\n",
              "        vertical-align: middle;\n",
              "    }\n",
              "\n",
              "    .dataframe tbody tr th {\n",
              "        vertical-align: top;\n",
              "    }\n",
              "\n",
              "    .dataframe thead th {\n",
              "        text-align: right;\n",
              "    }\n",
              "</style>\n",
              "<table border=\"1\" class=\"dataframe\">\n",
              "  <thead>\n",
              "    <tr style=\"text-align: right;\">\n",
              "      <th></th>\n",
              "      <th>age</th>\n",
              "      <th>job</th>\n",
              "      <th>marital</th>\n",
              "      <th>education</th>\n",
              "      <th>default</th>\n",
              "      <th>balance</th>\n",
              "      <th>housing</th>\n",
              "      <th>loan</th>\n",
              "      <th>contact</th>\n",
              "      <th>day</th>\n",
              "      <th>month</th>\n",
              "      <th>duration</th>\n",
              "      <th>campaign</th>\n",
              "      <th>pdays</th>\n",
              "      <th>previous</th>\n",
              "      <th>poutcome</th>\n",
              "      <th>y</th>\n",
              "    </tr>\n",
              "  </thead>\n",
              "  <tbody>\n",
              "    <tr>\n",
              "      <th>count</th>\n",
              "      <td>45211.000000</td>\n",
              "      <td>45211</td>\n",
              "      <td>45211</td>\n",
              "      <td>45211</td>\n",
              "      <td>45211</td>\n",
              "      <td>45211.000000</td>\n",
              "      <td>45211</td>\n",
              "      <td>45211</td>\n",
              "      <td>45211</td>\n",
              "      <td>45211.000000</td>\n",
              "      <td>45211</td>\n",
              "      <td>45211.000000</td>\n",
              "      <td>45211.000000</td>\n",
              "      <td>45211.000000</td>\n",
              "      <td>45211.000000</td>\n",
              "      <td>45211</td>\n",
              "      <td>45211</td>\n",
              "    </tr>\n",
              "    <tr>\n",
              "      <th>unique</th>\n",
              "      <td>NaN</td>\n",
              "      <td>12</td>\n",
              "      <td>3</td>\n",
              "      <td>4</td>\n",
              "      <td>2</td>\n",
              "      <td>NaN</td>\n",
              "      <td>2</td>\n",
              "      <td>2</td>\n",
              "      <td>3</td>\n",
              "      <td>NaN</td>\n",
              "      <td>12</td>\n",
              "      <td>NaN</td>\n",
              "      <td>NaN</td>\n",
              "      <td>NaN</td>\n",
              "      <td>NaN</td>\n",
              "      <td>4</td>\n",
              "      <td>2</td>\n",
              "    </tr>\n",
              "    <tr>\n",
              "      <th>top</th>\n",
              "      <td>NaN</td>\n",
              "      <td>blue-collar</td>\n",
              "      <td>married</td>\n",
              "      <td>secondary</td>\n",
              "      <td>no</td>\n",
              "      <td>NaN</td>\n",
              "      <td>yes</td>\n",
              "      <td>no</td>\n",
              "      <td>cellular</td>\n",
              "      <td>NaN</td>\n",
              "      <td>may</td>\n",
              "      <td>NaN</td>\n",
              "      <td>NaN</td>\n",
              "      <td>NaN</td>\n",
              "      <td>NaN</td>\n",
              "      <td>unknown</td>\n",
              "      <td>no</td>\n",
              "    </tr>\n",
              "    <tr>\n",
              "      <th>freq</th>\n",
              "      <td>NaN</td>\n",
              "      <td>9732</td>\n",
              "      <td>27214</td>\n",
              "      <td>23202</td>\n",
              "      <td>44396</td>\n",
              "      <td>NaN</td>\n",
              "      <td>25130</td>\n",
              "      <td>37967</td>\n",
              "      <td>29285</td>\n",
              "      <td>NaN</td>\n",
              "      <td>13766</td>\n",
              "      <td>NaN</td>\n",
              "      <td>NaN</td>\n",
              "      <td>NaN</td>\n",
              "      <td>NaN</td>\n",
              "      <td>36959</td>\n",
              "      <td>39922</td>\n",
              "    </tr>\n",
              "    <tr>\n",
              "      <th>mean</th>\n",
              "      <td>40.936210</td>\n",
              "      <td>NaN</td>\n",
              "      <td>NaN</td>\n",
              "      <td>NaN</td>\n",
              "      <td>NaN</td>\n",
              "      <td>1362.272058</td>\n",
              "      <td>NaN</td>\n",
              "      <td>NaN</td>\n",
              "      <td>NaN</td>\n",
              "      <td>15.806419</td>\n",
              "      <td>NaN</td>\n",
              "      <td>258.163080</td>\n",
              "      <td>2.763841</td>\n",
              "      <td>40.197828</td>\n",
              "      <td>0.580323</td>\n",
              "      <td>NaN</td>\n",
              "      <td>NaN</td>\n",
              "    </tr>\n",
              "    <tr>\n",
              "      <th>std</th>\n",
              "      <td>10.618762</td>\n",
              "      <td>NaN</td>\n",
              "      <td>NaN</td>\n",
              "      <td>NaN</td>\n",
              "      <td>NaN</td>\n",
              "      <td>3044.765829</td>\n",
              "      <td>NaN</td>\n",
              "      <td>NaN</td>\n",
              "      <td>NaN</td>\n",
              "      <td>8.322476</td>\n",
              "      <td>NaN</td>\n",
              "      <td>257.527812</td>\n",
              "      <td>3.098021</td>\n",
              "      <td>100.128746</td>\n",
              "      <td>2.303441</td>\n",
              "      <td>NaN</td>\n",
              "      <td>NaN</td>\n",
              "    </tr>\n",
              "    <tr>\n",
              "      <th>min</th>\n",
              "      <td>18.000000</td>\n",
              "      <td>NaN</td>\n",
              "      <td>NaN</td>\n",
              "      <td>NaN</td>\n",
              "      <td>NaN</td>\n",
              "      <td>-8019.000000</td>\n",
              "      <td>NaN</td>\n",
              "      <td>NaN</td>\n",
              "      <td>NaN</td>\n",
              "      <td>1.000000</td>\n",
              "      <td>NaN</td>\n",
              "      <td>0.000000</td>\n",
              "      <td>1.000000</td>\n",
              "      <td>-1.000000</td>\n",
              "      <td>0.000000</td>\n",
              "      <td>NaN</td>\n",
              "      <td>NaN</td>\n",
              "    </tr>\n",
              "    <tr>\n",
              "      <th>25%</th>\n",
              "      <td>33.000000</td>\n",
              "      <td>NaN</td>\n",
              "      <td>NaN</td>\n",
              "      <td>NaN</td>\n",
              "      <td>NaN</td>\n",
              "      <td>72.000000</td>\n",
              "      <td>NaN</td>\n",
              "      <td>NaN</td>\n",
              "      <td>NaN</td>\n",
              "      <td>8.000000</td>\n",
              "      <td>NaN</td>\n",
              "      <td>103.000000</td>\n",
              "      <td>1.000000</td>\n",
              "      <td>-1.000000</td>\n",
              "      <td>0.000000</td>\n",
              "      <td>NaN</td>\n",
              "      <td>NaN</td>\n",
              "    </tr>\n",
              "    <tr>\n",
              "      <th>50%</th>\n",
              "      <td>39.000000</td>\n",
              "      <td>NaN</td>\n",
              "      <td>NaN</td>\n",
              "      <td>NaN</td>\n",
              "      <td>NaN</td>\n",
              "      <td>448.000000</td>\n",
              "      <td>NaN</td>\n",
              "      <td>NaN</td>\n",
              "      <td>NaN</td>\n",
              "      <td>16.000000</td>\n",
              "      <td>NaN</td>\n",
              "      <td>180.000000</td>\n",
              "      <td>2.000000</td>\n",
              "      <td>-1.000000</td>\n",
              "      <td>0.000000</td>\n",
              "      <td>NaN</td>\n",
              "      <td>NaN</td>\n",
              "    </tr>\n",
              "    <tr>\n",
              "      <th>75%</th>\n",
              "      <td>48.000000</td>\n",
              "      <td>NaN</td>\n",
              "      <td>NaN</td>\n",
              "      <td>NaN</td>\n",
              "      <td>NaN</td>\n",
              "      <td>1428.000000</td>\n",
              "      <td>NaN</td>\n",
              "      <td>NaN</td>\n",
              "      <td>NaN</td>\n",
              "      <td>21.000000</td>\n",
              "      <td>NaN</td>\n",
              "      <td>319.000000</td>\n",
              "      <td>3.000000</td>\n",
              "      <td>-1.000000</td>\n",
              "      <td>0.000000</td>\n",
              "      <td>NaN</td>\n",
              "      <td>NaN</td>\n",
              "    </tr>\n",
              "    <tr>\n",
              "      <th>max</th>\n",
              "      <td>95.000000</td>\n",
              "      <td>NaN</td>\n",
              "      <td>NaN</td>\n",
              "      <td>NaN</td>\n",
              "      <td>NaN</td>\n",
              "      <td>102127.000000</td>\n",
              "      <td>NaN</td>\n",
              "      <td>NaN</td>\n",
              "      <td>NaN</td>\n",
              "      <td>31.000000</td>\n",
              "      <td>NaN</td>\n",
              "      <td>4918.000000</td>\n",
              "      <td>63.000000</td>\n",
              "      <td>871.000000</td>\n",
              "      <td>275.000000</td>\n",
              "      <td>NaN</td>\n",
              "      <td>NaN</td>\n",
              "    </tr>\n",
              "  </tbody>\n",
              "</table>\n",
              "</div>"
            ],
            "text/plain": [
              "                 age          job  marital  ...      previous poutcome      y\n",
              "count   45211.000000        45211    45211  ...  45211.000000    45211  45211\n",
              "unique           NaN           12        3  ...           NaN        4      2\n",
              "top              NaN  blue-collar  married  ...           NaN  unknown     no\n",
              "freq             NaN         9732    27214  ...           NaN    36959  39922\n",
              "mean       40.936210          NaN      NaN  ...      0.580323      NaN    NaN\n",
              "std        10.618762          NaN      NaN  ...      2.303441      NaN    NaN\n",
              "min        18.000000          NaN      NaN  ...      0.000000      NaN    NaN\n",
              "25%        33.000000          NaN      NaN  ...      0.000000      NaN    NaN\n",
              "50%        39.000000          NaN      NaN  ...      0.000000      NaN    NaN\n",
              "75%        48.000000          NaN      NaN  ...      0.000000      NaN    NaN\n",
              "max        95.000000          NaN      NaN  ...    275.000000      NaN    NaN\n",
              "\n",
              "[11 rows x 17 columns]"
            ]
          },
          "metadata": {
            "tags": []
          },
          "execution_count": 2
        }
      ]
    },
    {
      "cell_type": "markdown",
      "metadata": {
        "id": "6EXMwDrYtXFR"
      },
      "source": [
        "# Exercício 2. (**RESOLVIDO**)\n",
        "\n",
        "Aqui verificamos se existem valores ausentes nos dados. Valores ausentes trazem em geral problemas (por quê?) e precisam ser tratados antes de empregarmos modelos. Veremos mais adiante como podemos tratar isso. "
      ]
    },
    {
      "cell_type": "code",
      "metadata": {
        "id": "VfzbuvaJtEY2",
        "outputId": "ac7ee624-8c75-4cd5-bb1a-5c304d7a9d4f",
        "colab": {
          "base_uri": "https://localhost:8080/",
          "height": 323
        }
      },
      "source": [
        "bank.isnull().sum()"
      ],
      "execution_count": null,
      "outputs": [
        {
          "output_type": "execute_result",
          "data": {
            "text/plain": [
              "age          0\n",
              "job          0\n",
              "marital      0\n",
              "education    0\n",
              "default      0\n",
              "balance      0\n",
              "housing      0\n",
              "loan         0\n",
              "contact      0\n",
              "day          0\n",
              "month        0\n",
              "duration     0\n",
              "campaign     0\n",
              "pdays        0\n",
              "previous     0\n",
              "poutcome     0\n",
              "y            0\n",
              "dtype: int64"
            ]
          },
          "metadata": {
            "tags": []
          },
          "execution_count": 3
        }
      ]
    },
    {
      "cell_type": "code",
      "metadata": {
        "id": "B1Lrfj8Ft3pa",
        "outputId": "35d3d12b-395d-4e6b-f999-4f5f78cce3e8",
        "colab": {
          "base_uri": "https://localhost:8080/",
          "height": 34
        }
      },
      "source": [
        "if (bank.isnull().sum().sum()) == 0:\n",
        "  print('Não existem valores ausentes (nulos)')"
      ],
      "execution_count": null,
      "outputs": [
        {
          "output_type": "stream",
          "text": [
            "Não existem valores ausentes (nulos)\n"
          ],
          "name": "stdout"
        }
      ]
    },
    {
      "cell_type": "markdown",
      "metadata": {
        "id": "hFxyggo552J7"
      },
      "source": [
        "# Exercício 3. Defina as entradas `X` e saída `y` modelo (**RESOLVIDO**)\n",
        "\n",
        "Lembre-se, em um modelo de classificação $X$ são as variáveis preditoras (*independentes*) e $y$ sua variável objetivo (*dependente*)."
      ]
    },
    {
      "cell_type": "code",
      "metadata": {
        "id": "cKqbsZ1vn5Bo"
      },
      "source": [
        "# Seu código\n",
        "\n",
        "X = bank.drop(columns=['y'])\n",
        "y = bank.y"
      ],
      "execution_count": null,
      "outputs": []
    },
    {
      "cell_type": "markdown",
      "metadata": {
        "id": "UKA9v3OwsYXn"
      },
      "source": [
        "# Preparação dos Dados\n",
        "\n",
        "A **Preparação dos Dados** consiste em transformações dos dados que são necessárias ou úteis para preparar os dados para uso dos modelos. Encontram-se entre essas transformações:\n",
        "\n",
        "1. Tratamento de valores faltantes\n",
        "2. Normalizações\n",
        "3. Codificação de Valores categóricos para numéricos (*encode*)\n",
        "4. Codificação de Valores numéricos para classes de valores (discretização ou *binning*)\n",
        "5. etc.\n",
        "\n",
        "Vamos fazer aqui duas operações sobre os dados:\n",
        "\n",
        "1. **Label encode**. Embora Árvores de Decisão possam empregar atributos categóricos, o `scikit-learn` requer que esses atributos sejam `label_encode`. É um requerimento da tecnologia, não do modelo.\n",
        "\n",
        "1. **Normalização**. Árvores de Decisão também não são sensíveis a variação de escala (por quê?), mas vamos reescalar os dados para que você aprenda mais essa técnica e empregá-la no modelo `knn` mais adiante.\n",
        "\n",
        "A primeira transformação é meramente técnica e faremos para você."
      ]
    },
    {
      "cell_type": "markdown",
      "metadata": {
        "id": "fI_noNByti5i"
      },
      "source": [
        "# Exercício 4. **Label Encode (RESOLVIDO)** \n",
        "\n",
        "Podemos fazer isso de diversas formas, mas o `scikit-learn` traz funções para isso."
      ]
    },
    {
      "cell_type": "code",
      "metadata": {
        "id": "BJrGFncFtria",
        "outputId": "bc65cf4f-9164-409b-a41a-236b4184aec3",
        "colab": {
          "base_uri": "https://localhost:8080/",
          "height": 425
        }
      },
      "source": [
        "from sklearn.preprocessing import LabelEncoder\n",
        "\n",
        "df_categorical = X.select_dtypes(exclude='number')\n",
        "#  label encoding to all the columns \n",
        "\n",
        "print('Label Encode attributes: ', df_categorical)\n",
        "\n",
        "print('education, valores antes: ', X.education.value_counts())\n",
        "\n",
        "label_encoders = {}\n",
        "for col in df_categorical:\n",
        "  le = LabelEncoder()\n",
        "  le.fit(X[col])\n",
        "  X[col] = le.transform(X[col])\n",
        "  label_encoders[col] = le # salva para empregar para novas instâncias\n",
        "\n",
        "print('education, valores depois: ', X.education.value_counts())  "
      ],
      "execution_count": null,
      "outputs": [
        {
          "output_type": "stream",
          "text": [
            "Label Encode attributes:                  job   marital  education default  ... loan    contact month poutcome\n",
            "0        management   married   tertiary      no  ...   no    unknown   may  unknown\n",
            "1        technician    single  secondary      no  ...   no    unknown   may  unknown\n",
            "2      entrepreneur   married  secondary      no  ...  yes    unknown   may  unknown\n",
            "3       blue-collar   married    unknown      no  ...   no    unknown   may  unknown\n",
            "4           unknown    single    unknown      no  ...   no    unknown   may  unknown\n",
            "...             ...       ...        ...     ...  ...  ...        ...   ...      ...\n",
            "45206    technician   married   tertiary      no  ...   no   cellular   nov  unknown\n",
            "45207       retired  divorced    primary      no  ...   no   cellular   nov  unknown\n",
            "45208       retired   married  secondary      no  ...   no   cellular   nov  success\n",
            "45209   blue-collar   married  secondary      no  ...   no  telephone   nov  unknown\n",
            "45210  entrepreneur   married  secondary      no  ...   no   cellular   nov    other\n",
            "\n",
            "[45211 rows x 9 columns]\n",
            "education, valores antes:  secondary    23202\n",
            "tertiary     13301\n",
            "primary       6851\n",
            "unknown       1857\n",
            "Name: education, dtype: int64\n",
            "education, valores depois:  1    23202\n",
            "2    13301\n",
            "0     6851\n",
            "3     1857\n",
            "Name: education, dtype: int64\n"
          ],
          "name": "stdout"
        }
      ]
    },
    {
      "cell_type": "markdown",
      "metadata": {
        "id": "PA0a-38QudWG"
      },
      "source": [
        "# Exercício 5. Explore as técnicas de *Scale* (**RESOLVIDO**)\n",
        "\n",
        "Verifique qual dos métodos abaixo corresponde a normalização:\n",
        "\n",
        "$$ X_s = (X - X_{min}) / (X_{max} - X_{min}) $$"
      ]
    },
    {
      "cell_type": "code",
      "metadata": {
        "id": "g5ZlWkKMuGug"
      },
      "source": [
        "from sklearn.preprocessing import StandardScaler\n",
        "from sklearn.preprocessing import Normalizer\n",
        "from sklearn.preprocessing import MaxAbsScaler\n",
        "from sklearn.preprocessing import MinMaxScaler\n"
      ],
      "execution_count": null,
      "outputs": []
    },
    {
      "cell_type": "code",
      "metadata": {
        "id": "ZKYFfbP-vJvO",
        "outputId": "001e171f-3db5-45bb-ec66-8b755883049c",
        "colab": {
          "base_uri": "https://localhost:8080/",
          "height": 85
        }
      },
      "source": [
        "data = [[-1, 2], [-0.5, 6], [0, 10], [1, 18]]\n",
        "\n",
        "scaler = MinMaxScaler()\n",
        "scaler.fit(data)\n",
        "print(scaler.transform(data))"
      ],
      "execution_count": null,
      "outputs": [
        {
          "output_type": "stream",
          "text": [
            "[[0.   0.  ]\n",
            " [0.25 0.25]\n",
            " [0.5  0.5 ]\n",
            " [1.   1.  ]]\n"
          ],
          "name": "stdout"
        }
      ]
    },
    {
      "cell_type": "markdown",
      "metadata": {
        "id": "YnAQY3-gv1cS"
      },
      "source": [
        "# Exercício 6. Aplique o `StandardScaler` aos dados (**RESOLVIDO**)\n",
        "\n",
        "Qual o a média e o desvido padrão dos valores de `X` depois da transformação?"
      ]
    },
    {
      "cell_type": "code",
      "metadata": {
        "id": "3_NxTv-zwD0n",
        "outputId": "c317062b-be9c-423b-de8f-79e41c45c6f5",
        "colab": {
          "base_uri": "https://localhost:8080/",
          "height": 402
        }
      },
      "source": [
        "# Seu código\n",
        "\n",
        "scaler = StandardScaler()\n",
        "scaler.fit(X)\n",
        "X_matrix = scaler.transform(X)\n",
        "\n",
        "X = pd.DataFrame(X_matrix,columns=X.columns)\n",
        "\n",
        "X.describe()"
      ],
      "execution_count": null,
      "outputs": [
        {
          "output_type": "execute_result",
          "data": {
            "text/html": [
              "<div>\n",
              "<style scoped>\n",
              "    .dataframe tbody tr th:only-of-type {\n",
              "        vertical-align: middle;\n",
              "    }\n",
              "\n",
              "    .dataframe tbody tr th {\n",
              "        vertical-align: top;\n",
              "    }\n",
              "\n",
              "    .dataframe thead th {\n",
              "        text-align: right;\n",
              "    }\n",
              "</style>\n",
              "<table border=\"1\" class=\"dataframe\">\n",
              "  <thead>\n",
              "    <tr style=\"text-align: right;\">\n",
              "      <th></th>\n",
              "      <th>age</th>\n",
              "      <th>job</th>\n",
              "      <th>marital</th>\n",
              "      <th>education</th>\n",
              "      <th>default</th>\n",
              "      <th>balance</th>\n",
              "      <th>housing</th>\n",
              "      <th>loan</th>\n",
              "      <th>contact</th>\n",
              "      <th>day</th>\n",
              "      <th>month</th>\n",
              "      <th>duration</th>\n",
              "      <th>campaign</th>\n",
              "      <th>pdays</th>\n",
              "      <th>previous</th>\n",
              "      <th>poutcome</th>\n",
              "    </tr>\n",
              "  </thead>\n",
              "  <tbody>\n",
              "    <tr>\n",
              "      <th>count</th>\n",
              "      <td>4.521100e+04</td>\n",
              "      <td>4.521100e+04</td>\n",
              "      <td>4.521100e+04</td>\n",
              "      <td>4.521100e+04</td>\n",
              "      <td>4.521100e+04</td>\n",
              "      <td>4.521100e+04</td>\n",
              "      <td>4.521100e+04</td>\n",
              "      <td>4.521100e+04</td>\n",
              "      <td>4.521100e+04</td>\n",
              "      <td>4.521100e+04</td>\n",
              "      <td>4.521100e+04</td>\n",
              "      <td>4.521100e+04</td>\n",
              "      <td>4.521100e+04</td>\n",
              "      <td>4.521100e+04</td>\n",
              "      <td>4.521100e+04</td>\n",
              "      <td>4.521100e+04</td>\n",
              "    </tr>\n",
              "    <tr>\n",
              "      <th>mean</th>\n",
              "      <td>5.222844e-16</td>\n",
              "      <td>1.560056e-14</td>\n",
              "      <td>4.638734e-15</td>\n",
              "      <td>-2.928306e-14</td>\n",
              "      <td>4.520540e-15</td>\n",
              "      <td>3.070663e-15</td>\n",
              "      <td>1.382298e-14</td>\n",
              "      <td>-1.275129e-14</td>\n",
              "      <td>3.943212e-14</td>\n",
              "      <td>-9.219436e-15</td>\n",
              "      <td>5.036415e-14</td>\n",
              "      <td>5.560938e-17</td>\n",
              "      <td>1.254699e-14</td>\n",
              "      <td>-1.395817e-13</td>\n",
              "      <td>1.355210e-13</td>\n",
              "      <td>4.671375e-14</td>\n",
              "    </tr>\n",
              "    <tr>\n",
              "      <th>std</th>\n",
              "      <td>1.000011e+00</td>\n",
              "      <td>1.000011e+00</td>\n",
              "      <td>1.000011e+00</td>\n",
              "      <td>1.000011e+00</td>\n",
              "      <td>1.000011e+00</td>\n",
              "      <td>1.000011e+00</td>\n",
              "      <td>1.000011e+00</td>\n",
              "      <td>1.000011e+00</td>\n",
              "      <td>1.000011e+00</td>\n",
              "      <td>1.000011e+00</td>\n",
              "      <td>1.000011e+00</td>\n",
              "      <td>1.000011e+00</td>\n",
              "      <td>1.000011e+00</td>\n",
              "      <td>1.000011e+00</td>\n",
              "      <td>1.000011e+00</td>\n",
              "      <td>1.000011e+00</td>\n",
              "    </tr>\n",
              "    <tr>\n",
              "      <th>min</th>\n",
              "      <td>-2.159994e+00</td>\n",
              "      <td>-1.326082e+00</td>\n",
              "      <td>-1.919895e+00</td>\n",
              "      <td>-1.637474e+00</td>\n",
              "      <td>-1.354899e-01</td>\n",
              "      <td>-3.081149e+00</td>\n",
              "      <td>-1.118674e+00</td>\n",
              "      <td>-4.368035e-01</td>\n",
              "      <td>-7.130117e-01</td>\n",
              "      <td>-1.779108e+00</td>\n",
              "      <td>-1.836794e+00</td>\n",
              "      <td>-1.002478e+00</td>\n",
              "      <td>-5.693506e-01</td>\n",
              "      <td>-4.114531e-01</td>\n",
              "      <td>-2.519404e-01</td>\n",
              "      <td>-2.588321e+00</td>\n",
              "    </tr>\n",
              "    <tr>\n",
              "      <th>25%</th>\n",
              "      <td>-7.473845e-01</td>\n",
              "      <td>-1.020516e+00</td>\n",
              "      <td>-2.757618e-01</td>\n",
              "      <td>-3.005559e-01</td>\n",
              "      <td>-1.354899e-01</td>\n",
              "      <td>-4.237719e-01</td>\n",
              "      <td>-1.118674e+00</td>\n",
              "      <td>-4.368035e-01</td>\n",
              "      <td>-7.130117e-01</td>\n",
              "      <td>-9.380027e-01</td>\n",
              "      <td>-8.390811e-01</td>\n",
              "      <td>-6.025167e-01</td>\n",
              "      <td>-5.693506e-01</td>\n",
              "      <td>-4.114531e-01</td>\n",
              "      <td>-2.519404e-01</td>\n",
              "      <td>4.448981e-01</td>\n",
              "    </tr>\n",
              "    <tr>\n",
              "      <th>50%</th>\n",
              "      <td>-1.823406e-01</td>\n",
              "      <td>-1.038197e-01</td>\n",
              "      <td>-2.757618e-01</td>\n",
              "      <td>-3.005559e-01</td>\n",
              "      <td>-1.354899e-01</td>\n",
              "      <td>-3.002800e-01</td>\n",
              "      <td>8.939154e-01</td>\n",
              "      <td>-4.368035e-01</td>\n",
              "      <td>-7.130117e-01</td>\n",
              "      <td>2.326031e-02</td>\n",
              "      <td>1.586316e-01</td>\n",
              "      <td>-3.035165e-01</td>\n",
              "      <td>-2.465603e-01</td>\n",
              "      <td>-4.114531e-01</td>\n",
              "      <td>-2.519404e-01</td>\n",
              "      <td>4.448981e-01</td>\n",
              "    </tr>\n",
              "    <tr>\n",
              "      <th>75%</th>\n",
              "      <td>6.652252e-01</td>\n",
              "      <td>8.128768e-01</td>\n",
              "      <td>1.368372e+00</td>\n",
              "      <td>1.036362e+00</td>\n",
              "      <td>-1.354899e-01</td>\n",
              "      <td>2.158743e-02</td>\n",
              "      <td>8.939154e-01</td>\n",
              "      <td>-4.368035e-01</td>\n",
              "      <td>1.514306e+00</td>\n",
              "      <td>6.240497e-01</td>\n",
              "      <td>8.237734e-01</td>\n",
              "      <td>2.362370e-01</td>\n",
              "      <td>7.622994e-02</td>\n",
              "      <td>-4.114531e-01</td>\n",
              "      <td>-2.519404e-01</td>\n",
              "      <td>4.448981e-01</td>\n",
              "    </tr>\n",
              "    <tr>\n",
              "      <th>max</th>\n",
              "      <td>5.091402e+00</td>\n",
              "      <td>2.035139e+00</td>\n",
              "      <td>1.368372e+00</td>\n",
              "      <td>2.373280e+00</td>\n",
              "      <td>7.380625e+00</td>\n",
              "      <td>3.309478e+01</td>\n",
              "      <td>8.939154e-01</td>\n",
              "      <td>2.289359e+00</td>\n",
              "      <td>1.514306e+00</td>\n",
              "      <td>1.825628e+00</td>\n",
              "      <td>1.821486e+00</td>\n",
              "      <td>1.809470e+01</td>\n",
              "      <td>1.944365e+01</td>\n",
              "      <td>8.297431e+00</td>\n",
              "      <td>1.191360e+02</td>\n",
              "      <td>4.448981e-01</td>\n",
              "    </tr>\n",
              "  </tbody>\n",
              "</table>\n",
              "</div>"
            ],
            "text/plain": [
              "                age           job  ...      previous      poutcome\n",
              "count  4.521100e+04  4.521100e+04  ...  4.521100e+04  4.521100e+04\n",
              "mean   5.222844e-16  1.560056e-14  ...  1.355210e-13  4.671375e-14\n",
              "std    1.000011e+00  1.000011e+00  ...  1.000011e+00  1.000011e+00\n",
              "min   -2.159994e+00 -1.326082e+00  ... -2.519404e-01 -2.588321e+00\n",
              "25%   -7.473845e-01 -1.020516e+00  ... -2.519404e-01  4.448981e-01\n",
              "50%   -1.823406e-01 -1.038197e-01  ... -2.519404e-01  4.448981e-01\n",
              "75%    6.652252e-01  8.128768e-01  ... -2.519404e-01  4.448981e-01\n",
              "max    5.091402e+00  2.035139e+00  ...  1.191360e+02  4.448981e-01\n",
              "\n",
              "[8 rows x 16 columns]"
            ]
          },
          "metadata": {
            "tags": []
          },
          "execution_count": 13
        }
      ]
    },
    {
      "cell_type": "markdown",
      "metadata": {
        "id": "1UYMbBPh629m"
      },
      "source": [
        "# Exercício 7. Separe os Conjuntos de Treinamento `X_train`, `y_train` e Test `X_test`, `y_test`\n",
        "\n",
        "IMPORTANTE: Não deixe de empregar o seed = 1984 para a reprodução dos resultados. "
      ]
    },
    {
      "cell_type": "code",
      "metadata": {
        "id": "_RUlSbz9n-3t"
      },
      "source": [
        "# Seu código\n",
        "\n",
        "\n",
        "\n"
      ],
      "execution_count": null,
      "outputs": []
    },
    {
      "cell_type": "markdown",
      "metadata": {
        "id": "m1nJnjw3zLHz"
      },
      "source": [
        "Qual a dimensão dos conjuntos `X_train, X_test, y_train, y_test`?"
      ]
    },
    {
      "cell_type": "code",
      "metadata": {
        "id": "MdCRuzqszUGj",
        "outputId": "67cea8c0-2cb3-41b7-a8f1-fa1c3df41c47",
        "colab": {
          "base_uri": "https://localhost:8080/",
          "height": 34
        }
      },
      "source": [
        "# Seu código \n",
        "\n"
      ],
      "execution_count": null,
      "outputs": [
        {
          "output_type": "stream",
          "text": [
            "(31647, 16) (13564, 16) (31647,) (13564,)\n"
          ],
          "name": "stdout"
        }
      ]
    },
    {
      "cell_type": "markdown",
      "metadata": {
        "id": "wVjKsa_T0ZG1"
      },
      "source": [
        "Exiba os primeiros regitros de `X_train`. Qual o primeiro registro que aparece?"
      ]
    },
    {
      "cell_type": "code",
      "metadata": {
        "id": "7TmstwbG0c_L",
        "outputId": "7c0e8226-c18b-439f-f04d-2a0c96e58139",
        "colab": {
          "base_uri": "https://localhost:8080/",
          "height": 224
        }
      },
      "source": [
        "# Seu código \n",
        "\n"
      ],
      "execution_count": null,
      "outputs": [
        {
          "output_type": "execute_result",
          "data": {
            "text/html": [
              "<div>\n",
              "<style scoped>\n",
              "    .dataframe tbody tr th:only-of-type {\n",
              "        vertical-align: middle;\n",
              "    }\n",
              "\n",
              "    .dataframe tbody tr th {\n",
              "        vertical-align: top;\n",
              "    }\n",
              "\n",
              "    .dataframe thead th {\n",
              "        text-align: right;\n",
              "    }\n",
              "</style>\n",
              "<table border=\"1\" class=\"dataframe\">\n",
              "  <thead>\n",
              "    <tr style=\"text-align: right;\">\n",
              "      <th></th>\n",
              "      <th>age</th>\n",
              "      <th>job</th>\n",
              "      <th>marital</th>\n",
              "      <th>education</th>\n",
              "      <th>default</th>\n",
              "      <th>balance</th>\n",
              "      <th>housing</th>\n",
              "      <th>loan</th>\n",
              "      <th>contact</th>\n",
              "      <th>day</th>\n",
              "      <th>month</th>\n",
              "      <th>duration</th>\n",
              "      <th>campaign</th>\n",
              "      <th>pdays</th>\n",
              "      <th>previous</th>\n",
              "      <th>poutcome</th>\n",
              "    </tr>\n",
              "  </thead>\n",
              "  <tbody>\n",
              "    <tr>\n",
              "      <th>31985</th>\n",
              "      <td>0.100181</td>\n",
              "      <td>-1.020516</td>\n",
              "      <td>-0.275762</td>\n",
              "      <td>-1.637474</td>\n",
              "      <td>-0.13549</td>\n",
              "      <td>0.243282</td>\n",
              "      <td>0.893915</td>\n",
              "      <td>-0.436803</td>\n",
              "      <td>-0.713012</td>\n",
              "      <td>-0.337213</td>\n",
              "      <td>-1.836794</td>\n",
              "      <td>0.488640</td>\n",
              "      <td>-0.246560</td>\n",
              "      <td>-0.411453</td>\n",
              "      <td>-0.25194</td>\n",
              "      <td>0.444898</td>\n",
              "    </tr>\n",
              "    <tr>\n",
              "      <th>36447</th>\n",
              "      <td>-1.124080</td>\n",
              "      <td>-1.020516</td>\n",
              "      <td>1.368372</td>\n",
              "      <td>-0.300556</td>\n",
              "      <td>-0.13549</td>\n",
              "      <td>-0.345933</td>\n",
              "      <td>0.893915</td>\n",
              "      <td>-0.436803</td>\n",
              "      <td>-0.713012</td>\n",
              "      <td>-0.577529</td>\n",
              "      <td>0.823773</td>\n",
              "      <td>0.826471</td>\n",
              "      <td>0.076230</td>\n",
              "      <td>-0.411453</td>\n",
              "      <td>-0.25194</td>\n",
              "      <td>0.444898</td>\n",
              "    </tr>\n",
              "    <tr>\n",
              "      <th>21702</th>\n",
              "      <td>-0.559037</td>\n",
              "      <td>-0.103820</td>\n",
              "      <td>-0.275762</td>\n",
              "      <td>1.036362</td>\n",
              "      <td>-0.13549</td>\n",
              "      <td>-0.419174</td>\n",
              "      <td>0.893915</td>\n",
              "      <td>-0.436803</td>\n",
              "      <td>-0.713012</td>\n",
              "      <td>0.383734</td>\n",
              "      <td>-1.504223</td>\n",
              "      <td>-0.443309</td>\n",
              "      <td>0.076230</td>\n",
              "      <td>-0.411453</td>\n",
              "      <td>-0.25194</td>\n",
              "      <td>0.444898</td>\n",
              "    </tr>\n",
              "    <tr>\n",
              "      <th>17460</th>\n",
              "      <td>1.324443</td>\n",
              "      <td>-0.103820</td>\n",
              "      <td>-0.275762</td>\n",
              "      <td>1.036362</td>\n",
              "      <td>-0.13549</td>\n",
              "      <td>-0.232294</td>\n",
              "      <td>-1.118674</td>\n",
              "      <td>-0.436803</td>\n",
              "      <td>-0.713012</td>\n",
              "      <td>1.465155</td>\n",
              "      <td>-0.173939</td>\n",
              "      <td>-0.353997</td>\n",
              "      <td>1.044601</td>\n",
              "      <td>-0.411453</td>\n",
              "      <td>-0.25194</td>\n",
              "      <td>0.444898</td>\n",
              "    </tr>\n",
              "    <tr>\n",
              "      <th>22955</th>\n",
              "      <td>0.947747</td>\n",
              "      <td>-1.020516</td>\n",
              "      <td>-0.275762</td>\n",
              "      <td>-1.637474</td>\n",
              "      <td>-0.13549</td>\n",
              "      <td>-0.441179</td>\n",
              "      <td>-1.118674</td>\n",
              "      <td>-0.436803</td>\n",
              "      <td>-0.713012</td>\n",
              "      <td>1.224839</td>\n",
              "      <td>-1.504223</td>\n",
              "      <td>-0.901517</td>\n",
              "      <td>2.335762</td>\n",
              "      <td>-0.411453</td>\n",
              "      <td>-0.25194</td>\n",
              "      <td>0.444898</td>\n",
              "    </tr>\n",
              "  </tbody>\n",
              "</table>\n",
              "</div>"
            ],
            "text/plain": [
              "            age       job   marital  ...     pdays  previous  poutcome\n",
              "31985  0.100181 -1.020516 -0.275762  ... -0.411453  -0.25194  0.444898\n",
              "36447 -1.124080 -1.020516  1.368372  ... -0.411453  -0.25194  0.444898\n",
              "21702 -0.559037 -0.103820 -0.275762  ... -0.411453  -0.25194  0.444898\n",
              "17460  1.324443 -0.103820 -0.275762  ... -0.411453  -0.25194  0.444898\n",
              "22955  0.947747 -1.020516 -0.275762  ... -0.411453  -0.25194  0.444898\n",
              "\n",
              "[5 rows x 16 columns]"
            ]
          },
          "metadata": {
            "tags": []
          },
          "execution_count": 19
        }
      ]
    },
    {
      "cell_type": "markdown",
      "metadata": {
        "id": "yIT7NhApIFaU"
      },
      "source": [
        "# Exercício. Declare o modelo e seus parâmetros `clf = model`\n",
        "\n",
        "Declare um modelo de Árvore de decisão com o critério `gini` e o `seed` já empregado antes."
      ]
    },
    {
      "cell_type": "code",
      "metadata": {
        "id": "z33_qVJioAhI"
      },
      "source": [
        "# Seu código\n",
        "\n",
        "# Decision Tree\n",
        "from sklearn.tree import DecisionTreeClassifier\n",
        "clf = DecisionTreeClassifier(criterion='gini',\n",
        "                              max_depth=None,\n",
        "                              random_state=seed)"
      ],
      "execution_count": null,
      "outputs": []
    },
    {
      "cell_type": "markdown",
      "metadata": {
        "id": "V1DnUqOiJlvF"
      },
      "source": [
        "# Exercício 8. Treine o modelo `clf.train(X_train, y_train)` e aplique ao conjunto de Teste `clf.pred(X_test)` \n"
      ]
    },
    {
      "cell_type": "code",
      "metadata": {
        "id": "NJcbS3-xoBUi"
      },
      "source": [
        "# Seu código\n",
        "\n"
      ],
      "execution_count": null,
      "outputs": []
    },
    {
      "cell_type": "markdown",
      "metadata": {
        "id": "PMkXyVE71N68"
      },
      "source": [
        "Qual a previsão para os 3 primeiros casos?"
      ]
    },
    {
      "cell_type": "code",
      "metadata": {
        "id": "58emVKZE1NJe",
        "outputId": "ae38b1ed-76d7-40fc-bc74-3a240088b018",
        "colab": {
          "base_uri": "https://localhost:8080/",
          "height": 34
        }
      },
      "source": [
        ""
      ],
      "execution_count": null,
      "outputs": [
        {
          "output_type": "execute_result",
          "data": {
            "text/plain": [
              "array(['no', 'no', 'no', ..., 'no', 'no', 'yes'], dtype=object)"
            ]
          },
          "metadata": {
            "tags": []
          },
          "execution_count": 22
        }
      ]
    },
    {
      "cell_type": "markdown",
      "metadata": {
        "id": "LpuEBp0J1WAF"
      },
      "source": [
        "Quantos casos foram classificados como 'yes'?\n"
      ]
    },
    {
      "cell_type": "code",
      "metadata": {
        "id": "3jV4JyEt1cYx",
        "outputId": "3d853978-cb6e-4f5f-e854-7d1f51ee7a15",
        "colab": {
          "base_uri": "https://localhost:8080/",
          "height": 34
        }
      },
      "source": [
        ""
      ],
      "execution_count": null,
      "outputs": [
        {
          "output_type": "execute_result",
          "data": {
            "text/plain": [
              "1620"
            ]
          },
          "metadata": {
            "tags": []
          },
          "execution_count": 23
        }
      ]
    },
    {
      "cell_type": "markdown",
      "metadata": {
        "id": "X_H0GnqnJxyX"
      },
      "source": [
        "# Exercício 9. Verifique os resultados, `<metric>(y_pred, y_test)`"
      ]
    },
    {
      "cell_type": "code",
      "metadata": {
        "id": "UYPl5ERfoCr2",
        "outputId": "c7c360fc-c3dd-490f-f16b-3f9e2707671e",
        "colab": {
          "base_uri": "https://localhost:8080/",
          "height": 221
        }
      },
      "source": [
        "# Seu código\n",
        "\n"
      ],
      "execution_count": null,
      "outputs": [
        {
          "output_type": "stream",
          "text": [
            "[[11081   896]\n",
            " [  863   724]]\n",
            "0.8703184901209083\n",
            "              precision    recall  f1-score   support\n",
            "\n",
            "          no       0.93      0.93      0.93     11977\n",
            "         yes       0.45      0.46      0.45      1587\n",
            "\n",
            "    accuracy                           0.87     13564\n",
            "   macro avg       0.69      0.69      0.69     13564\n",
            "weighted avg       0.87      0.87      0.87     13564\n",
            "\n"
          ],
          "name": "stdout"
        }
      ]
    },
    {
      "cell_type": "markdown",
      "metadata": {
        "id": "Q_PtDJBe2S9w"
      },
      "source": [
        "Qual a acuracidade total e qual classe apresenta pior resultado de classificação?"
      ]
    },
    {
      "cell_type": "markdown",
      "metadata": {
        "id": "03Xnf-QR4duy"
      },
      "source": [
        "# Exercício 10. Crie um novo modelo `clf2` a partir do modelo anterior, alterando o método de seleção dos nós para `entropy` e a profundidade máxima da árvore para 16.\n",
        "\n",
        "O resultado é melhor ou pior que o modelo anterior?"
      ]
    },
    {
      "cell_type": "code",
      "metadata": {
        "id": "X1_5AUpT2nzz",
        "outputId": "c1c1daf2-7dec-4753-b6ba-c1045871c73a",
        "colab": {
          "base_uri": "https://localhost:8080/",
          "height": 204
        }
      },
      "source": [
        "# Seu código\n",
        "\n"
      ],
      "execution_count": null,
      "outputs": [
        {
          "output_type": "stream",
          "text": [
            "[[11243   734]\n",
            " [  844   743]]\n",
            "              precision    recall  f1-score   support\n",
            "\n",
            "          no       0.93      0.94      0.93     11977\n",
            "         yes       0.50      0.47      0.48      1587\n",
            "\n",
            "    accuracy                           0.88     13564\n",
            "   macro avg       0.72      0.70      0.71     13564\n",
            "weighted avg       0.88      0.88      0.88     13564\n",
            "\n"
          ],
          "name": "stdout"
        }
      ]
    },
    {
      "cell_type": "markdown",
      "metadata": {
        "id": "edZyPJc749s3"
      },
      "source": [
        "# Exercício 11. Crie um novo modelo `clf3` do tipo k-vizinhos k=5 mais próximos (**RESOLVIDO**)\n",
        "\n",
        "O resultado é melhor ou pior que o modelo anterior?"
      ]
    },
    {
      "cell_type": "code",
      "metadata": {
        "id": "29hl7mP-3U9V",
        "outputId": "2a00dffc-9f2c-4dc5-f4a3-de5f0260ad4b",
        "colab": {
          "base_uri": "https://localhost:8080/",
          "height": 204
        }
      },
      "source": [
        "# Seu código\n",
        "\n",
        "# Knn\n",
        "from sklearn import neighbors\n",
        "n_neighbors = 5                                   \n",
        "clf3 = neighbors.KNeighborsClassifier(n_neighbors)   \n",
        "\n",
        "clf3.fit(X_train, y_train)\n",
        "y_pred = clf3.predict(X_test)\n",
        "\n",
        "cm = confusion_matrix(y_test, y_pred)\n",
        "print(cm)\n",
        "    \n",
        "print(classification_report(y_test,y_pred))"
      ],
      "execution_count": null,
      "outputs": [
        {
          "output_type": "stream",
          "text": [
            "[[11618   359]\n",
            " [ 1087   500]]\n",
            "              precision    recall  f1-score   support\n",
            "\n",
            "          no       0.91      0.97      0.94     11977\n",
            "         yes       0.58      0.32      0.41      1587\n",
            "\n",
            "    accuracy                           0.89     13564\n",
            "   macro avg       0.75      0.64      0.68     13564\n",
            "weighted avg       0.88      0.89      0.88     13564\n",
            "\n"
          ],
          "name": "stdout"
        }
      ]
    },
    {
      "cell_type": "markdown",
      "metadata": {
        "id": "0tJ4Fm88J4Gu"
      },
      "source": [
        "# Exercício. Selecione o Modelo `clf2` e aplique a novos casos, `clf2.predict(X_new)` **RESOLVIDO**"
      ]
    },
    {
      "cell_type": "markdown",
      "metadata": {
        "id": "IPaOyKS4xnm0"
      },
      "source": [
        "Os novos casos aqui são gerados como permutação dos dados já presentes na base. Basta executar e fazer em seguida a previsão."
      ]
    },
    {
      "cell_type": "code",
      "metadata": {
        "id": "RZQlYC3Txlxc"
      },
      "source": [
        "seed1 = 1964 \n",
        "new_bank = bank.sample(10,random_state=seed1)\n",
        "new_bank = new_bank.sample(frac = 1)\n",
        "new_bank.y = '?'\n",
        "new_bank.head()\n",
        "\n",
        "X_new = new_bank.drop(columns=['y'])\n",
        "\n",
        "for col in df_categorical:\n",
        "  le = label_encoders[col] # usando as transformações salvas anteriormente\n",
        "  X_new[col] = le.transform(X_new[col])\n",
        "\n",
        "X_new_matrix = scaler.transform(X_new)\n",
        "X_new = pd.DataFrame(X_new_matrix,columns=X_new.columns)"
      ],
      "execution_count": null,
      "outputs": []
    },
    {
      "cell_type": "markdown",
      "metadata": {
        "id": "SBSC3jd4yCjI"
      },
      "source": [
        "A predição..."
      ]
    },
    {
      "cell_type": "code",
      "metadata": {
        "id": "yIj_7UIuoDhG",
        "outputId": "786cd1b2-02b8-450e-c82f-af3d347133c7",
        "colab": {
          "base_uri": "https://localhost:8080/",
          "height": 238
        }
      },
      "source": [
        "# Seu código\n",
        "\n",
        "y_pred = clf2.predict(X_new)\n",
        "\n",
        "new_bank.y = y_pred\n",
        "\n",
        "print(new_bank)"
      ],
      "execution_count": null,
      "outputs": [
        {
          "output_type": "stream",
          "text": [
            "       age          job   marital  education  ... pdays  previous poutcome    y\n",
            "40638   30   management    single   tertiary  ...    -1         0  unknown   no\n",
            "33634   34     services   married  secondary  ...   350         1  failure   no\n",
            "27994   31   technician    single   tertiary  ...    -1         0  unknown   no\n",
            "2961    28  blue-collar   married  secondary  ...    -1         0  unknown   no\n",
            "12804   40   technician   married    unknown  ...    -1         0  unknown   no\n",
            "10622   36   management    single   tertiary  ...    -1         0  unknown   no\n",
            "19488   31   technician   married  secondary  ...    -1         0  unknown   no\n",
            "14648   32   management  divorced   tertiary  ...    -1         0  unknown  yes\n",
            "24138   36       admin.   married  secondary  ...    -1         0  unknown   no\n",
            "888     32   management   married   tertiary  ...    -1         0  unknown   no\n",
            "\n",
            "[10 rows x 17 columns]\n"
          ],
          "name": "stdout"
        }
      ]
    },
    {
      "cell_type": "markdown",
      "metadata": {
        "id": "PHyo2RTlyMRp"
      },
      "source": [
        "# Exercício. Plote sua Árvore de Decisão **RESOLVIDO**\n",
        "\n"
      ]
    },
    {
      "cell_type": "code",
      "metadata": {
        "id": "YKTwmuD6yShb"
      },
      "source": [
        "from sklearn import tree\n",
        "tree.plot_tree(clf2)"
      ],
      "execution_count": null,
      "outputs": []
    },
    {
      "cell_type": "markdown",
      "metadata": {
        "_uuid": "9dd9e07c590ca22f0c525222f60f0ebff4e092c6",
        "id": "B8Egm7NM1rr5"
      },
      "source": [
        " # **Exercícios de Regressão Linear**\n",
        " \n"
      ]
    },
    {
      "cell_type": "markdown",
      "metadata": {
        "_uuid": "9dd9e07c590ca22f0c525222f60f0ebff4e092c6",
        "id": "fP6mBn7o1rr7"
      },
      "source": [
        "# Caso: **Como estimar a emissão de gases CO2 de um motor?** \n",
        "\n",
        "Empregue os dados da URL: https://meusite.mackenzie.br/rogerio/TIC/FuelConsumptionCo2.csv\n",
        "\n",
        "Neste Lab você vai estimar as emissões de CO2 de modelos de veículos a partir de suas características empregando modelos de regressão linear e avaliar esses modelos. "
      ]
    },
    {
      "cell_type": "markdown",
      "metadata": {
        "button": false,
        "deletable": true,
        "new_sheet": false,
        "run_control": {
          "read_only": false
        },
        "id": "LFkgl__JfYUD"
      },
      "source": [
        "### `FuelConsumption.csv`:\n",
        "**`FuelConsumption.csv`**, contém informações do consumo de combustível, outras características dos modelos e as emissões de dióxido de carbono para vários novos veículos comerciais leves no Canadá.\n",
        "\n",
        "- **MODELYEAR** ex. 2014\n",
        "- **MAKE** ex. Acura\n",
        "- **MODEL** ex. ILX\n",
        "- **VEHICLE CLASS** ex. SUV\n",
        "- **ENGINE SIZE** ex. 4.7\n",
        "- **CYLINDERS** ex. 6\n",
        "- **TRANSMISSION** ex. A6\n",
        "- **FUEL CONSUMPTION in CITY(L/100 km)** ex. 9.9\n",
        "- **FUEL CONSUMPTION in HWY (L/100 km)** ex. 8.9\n",
        "- **FUEL CONSUMPTION COMB (L/100 km)** ex. 9.2\n",
        "- **CO2 EMISSIONS (g/km)** ex. 182 \n"
      ]
    },
    {
      "cell_type": "code",
      "metadata": {
        "id": "S4hgUMA712_7",
        "outputId": "aad7adcf-8180-49a1-90a7-8849f501dac5",
        "colab": {
          "base_uri": "https://localhost:8080/",
          "height": 71
        }
      },
      "source": [
        "import pandas                  as pd\n",
        "import numpy                   as np\n",
        "import matplotlib.pyplot       as plt\n",
        "import seaborn                 as sns\n",
        "import statsmodels.formula.api as sm\n",
        "import warnings\n",
        "warnings.filterwarnings(\"ignore\")  "
      ],
      "execution_count": null,
      "outputs": [
        {
          "output_type": "stream",
          "text": [
            "/usr/local/lib/python3.6/dist-packages/statsmodels/tools/_testing.py:19: FutureWarning: pandas.util.testing is deprecated. Use the functions in the public API at pandas.testing instead.\n",
            "  import pandas.util.testing as tm\n"
          ],
          "name": "stderr"
        }
      ]
    },
    {
      "cell_type": "markdown",
      "metadata": {
        "id": "zEpuYqjxwStL"
      },
      "source": [
        "# Exercício 1. Explorando os dados. (**RESOLVIDO**)\n",
        "\n",
        "Acesse e explore os dados **FuelConsumptionCo2.csv**. Você pode querer verificar os imports, mas eles já devem estar feitos se você executou os código anteriores. Caso contrário refaça aqui."
      ]
    },
    {
      "cell_type": "code",
      "metadata": {
        "id": "dkj3fb1v12_-",
        "outputId": "d841ee5b-d764-4753-bc5a-f441f303058f",
        "colab": {
          "base_uri": "https://localhost:8080/",
          "height": 275
        }
      },
      "source": [
        "# Insira aqui seu código\n",
        "\n",
        "import pandas                  as pd\n",
        "import numpy                   as np\n",
        "import matplotlib.pyplot       as plt\n",
        "import seaborn                 as sns\n",
        "import statsmodels.formula.api as sm\n",
        "import warnings\n",
        "warnings.filterwarnings(\"ignore\")  \n",
        "\n",
        "df = pd.read_csv(\"https://meusite.mackenzie.br/rogerio/TIC/FuelConsumptionCo2.csv\")\n",
        "df.head()"
      ],
      "execution_count": null,
      "outputs": [
        {
          "output_type": "execute_result",
          "data": {
            "text/html": [
              "<div>\n",
              "<style scoped>\n",
              "    .dataframe tbody tr th:only-of-type {\n",
              "        vertical-align: middle;\n",
              "    }\n",
              "\n",
              "    .dataframe tbody tr th {\n",
              "        vertical-align: top;\n",
              "    }\n",
              "\n",
              "    .dataframe thead th {\n",
              "        text-align: right;\n",
              "    }\n",
              "</style>\n",
              "<table border=\"1\" class=\"dataframe\">\n",
              "  <thead>\n",
              "    <tr style=\"text-align: right;\">\n",
              "      <th></th>\n",
              "      <th>MODELYEAR</th>\n",
              "      <th>MAKE</th>\n",
              "      <th>MODEL</th>\n",
              "      <th>VEHICLECLASS</th>\n",
              "      <th>ENGINESIZE</th>\n",
              "      <th>CYLINDERS</th>\n",
              "      <th>TRANSMISSION</th>\n",
              "      <th>FUELTYPE</th>\n",
              "      <th>FUELCONSUMPTION_CITY</th>\n",
              "      <th>FUELCONSUMPTION_HWY</th>\n",
              "      <th>FUELCONSUMPTION_COMB</th>\n",
              "      <th>FUELCONSUMPTION_COMB_MPG</th>\n",
              "      <th>CO2EMISSIONS</th>\n",
              "    </tr>\n",
              "  </thead>\n",
              "  <tbody>\n",
              "    <tr>\n",
              "      <th>0</th>\n",
              "      <td>2014</td>\n",
              "      <td>ACURA</td>\n",
              "      <td>ILX</td>\n",
              "      <td>COMPACT</td>\n",
              "      <td>2.0</td>\n",
              "      <td>4</td>\n",
              "      <td>AS5</td>\n",
              "      <td>Z</td>\n",
              "      <td>9.9</td>\n",
              "      <td>6.7</td>\n",
              "      <td>8.5</td>\n",
              "      <td>33</td>\n",
              "      <td>196</td>\n",
              "    </tr>\n",
              "    <tr>\n",
              "      <th>1</th>\n",
              "      <td>2014</td>\n",
              "      <td>ACURA</td>\n",
              "      <td>ILX</td>\n",
              "      <td>COMPACT</td>\n",
              "      <td>2.4</td>\n",
              "      <td>4</td>\n",
              "      <td>M6</td>\n",
              "      <td>Z</td>\n",
              "      <td>11.2</td>\n",
              "      <td>7.7</td>\n",
              "      <td>9.6</td>\n",
              "      <td>29</td>\n",
              "      <td>221</td>\n",
              "    </tr>\n",
              "    <tr>\n",
              "      <th>2</th>\n",
              "      <td>2014</td>\n",
              "      <td>ACURA</td>\n",
              "      <td>ILX HYBRID</td>\n",
              "      <td>COMPACT</td>\n",
              "      <td>1.5</td>\n",
              "      <td>4</td>\n",
              "      <td>AV7</td>\n",
              "      <td>Z</td>\n",
              "      <td>6.0</td>\n",
              "      <td>5.8</td>\n",
              "      <td>5.9</td>\n",
              "      <td>48</td>\n",
              "      <td>136</td>\n",
              "    </tr>\n",
              "    <tr>\n",
              "      <th>3</th>\n",
              "      <td>2014</td>\n",
              "      <td>ACURA</td>\n",
              "      <td>MDX 4WD</td>\n",
              "      <td>SUV - SMALL</td>\n",
              "      <td>3.5</td>\n",
              "      <td>6</td>\n",
              "      <td>AS6</td>\n",
              "      <td>Z</td>\n",
              "      <td>12.7</td>\n",
              "      <td>9.1</td>\n",
              "      <td>11.1</td>\n",
              "      <td>25</td>\n",
              "      <td>255</td>\n",
              "    </tr>\n",
              "    <tr>\n",
              "      <th>4</th>\n",
              "      <td>2014</td>\n",
              "      <td>ACURA</td>\n",
              "      <td>RDX AWD</td>\n",
              "      <td>SUV - SMALL</td>\n",
              "      <td>3.5</td>\n",
              "      <td>6</td>\n",
              "      <td>AS6</td>\n",
              "      <td>Z</td>\n",
              "      <td>12.1</td>\n",
              "      <td>8.7</td>\n",
              "      <td>10.6</td>\n",
              "      <td>27</td>\n",
              "      <td>244</td>\n",
              "    </tr>\n",
              "  </tbody>\n",
              "</table>\n",
              "</div>"
            ],
            "text/plain": [
              "   MODELYEAR   MAKE  ... FUELCONSUMPTION_COMB_MPG CO2EMISSIONS\n",
              "0       2014  ACURA  ...                       33          196\n",
              "1       2014  ACURA  ...                       29          221\n",
              "2       2014  ACURA  ...                       48          136\n",
              "3       2014  ACURA  ...                       25          255\n",
              "4       2014  ACURA  ...                       27          244\n",
              "\n",
              "[5 rows x 13 columns]"
            ]
          },
          "metadata": {
            "tags": []
          },
          "execution_count": 26
        }
      ]
    },
    {
      "cell_type": "markdown",
      "metadata": {
        "id": "p1Bze9msxNEh"
      },
      "source": [
        "# Exercício 2. `CO2EMISSIONS` (**RESOLVIDO**)\n",
        "\n",
        "Explore a relação das demais variáveis com `CO2EMISSIONS`\n",
        "\n",
        "### DICA: \n",
        "Embora o `sns.scatterplot(x,y)` possa ser usado para verificar a relação de cada par de variáveis, o `sns.pairplot(df)` permite você criar vários `scatterplots` simultâneos. \n",
        "\n"
      ]
    },
    {
      "cell_type": "code",
      "metadata": {
        "id": "xNAxCv9Y13AB",
        "outputId": "9a226198-317d-4987-ea81-fdddce6bd534",
        "colab": {
          "base_uri": "https://localhost:8080/",
          "height": 1000
        }
      },
      "source": [
        "# Insira aqui seu código\n",
        "\n",
        "sns.pairplot(df)"
      ],
      "execution_count": null,
      "outputs": [
        {
          "output_type": "execute_result",
          "data": {
            "text/plain": [
              "<seaborn.axisgrid.PairGrid at 0x7fbf4d0f2ba8>"
            ]
          },
          "metadata": {
            "tags": []
          },
          "execution_count": 45
        },
        {
          "output_type": "display_data",
          "data": {
            "image/png": "[encoded data removed]",
            "text/plain": [
              "<Figure size 1440x1440 with 72 Axes>"
            ]
          },
          "metadata": {
            "tags": [],
            "needs_background": "light"
          }
        }
      ]
    },
    {
      "cell_type": "markdown",
      "metadata": {
        "id": "dPcQ68i-yjSN"
      },
      "source": [
        "# Exercício 3. `FUELCONSUMPTION_COM` X `CO2EMISSIONS` (**RESOLVIDO**)\n",
        "Explore a relação de `FUELCONSUMPTION_COM` com  `CO2EMISSIONS`\n",
        "\n",
        "### DICA: \n",
        "Embora o `sns.scatterplot(x,y)` possa ser usado para verificar a relação de cada par de variáveis, o `sns.lmplot('x','y',data=df)` vai ainda permitir você visualizar a linha de tendência dos dados. \n",
        "\n"
      ]
    },
    {
      "cell_type": "code",
      "metadata": {
        "id": "7Sz5KJzRh3um",
        "outputId": "5b36f43a-8e1f-40e0-ca9e-74e5fce36862",
        "colab": {
          "base_uri": "https://localhost:8080/",
          "height": 369
        }
      },
      "source": [
        "# Insira aqui seu código\n",
        "\n",
        "sns.lmplot('FUELCONSUMPTION_COMB', 'CO2EMISSIONS', data=df)\n",
        "plt.xlabel(\"FUELCONSUMPTION_COMB\")\n",
        "plt.ylabel(\"Emission\")\n",
        "plt.show()"
      ],
      "execution_count": null,
      "outputs": [
        {
          "output_type": "display_data",
          "data": {
            "image/png": "[encoded data removed]",
            "text/plain": [
              "<Figure size 360x360 with 1 Axes>"
            ]
          },
          "metadata": {
            "tags": [],
            "needs_background": "light"
          }
        }
      ]
    },
    {
      "cell_type": "markdown",
      "metadata": {
        "id": "FykA8-V1zYVw"
      },
      "source": [
        "# Exercíci 4. Regressão Simples\n",
        "\n",
        "Crie um modelo regressão para obter `CO2EMISSIONS` a partir de `FUELCONSUMPTION_COMB`\n",
        "\n"
      ]
    },
    {
      "cell_type": "code",
      "metadata": {
        "id": "cFBs6P51kKHB"
      },
      "source": [
        "# Insira aqui seu código\n"
      ],
      "execution_count": null,
      "outputs": []
    },
    {
      "cell_type": "markdown",
      "metadata": {
        "id": "V9WqMv_i0X34"
      },
      "source": [
        "# Exercício 5. Resultados\n",
        "Verifique os resultados do modelo obtido\n"
      ]
    },
    {
      "cell_type": "code",
      "metadata": {
        "id": "m3FaSw5I13AI"
      },
      "source": [
        "# Insira aqui seu código\n",
        "\n"
      ],
      "execution_count": null,
      "outputs": []
    },
    {
      "cell_type": "markdown",
      "metadata": {
        "id": "t5bczVf013AJ"
      },
      "source": [
        "# Exercício 6. Modelo final\n",
        "\n",
        "...insira no texto abaixo os coeficientes obtidos.\n",
        "\n",
        "\n",
        " \n",
        "\n"
      ]
    },
    {
      "cell_type": "markdown",
      "metadata": {
        "id": "L0qzss_Q1AQb"
      },
      "source": [
        "$$ \\widehat{CO2EMISSIONS} = <coef1> + <coef2> \\times FUELCONSUMPTIONCOMB $$\n",
        " \n",
        "\n"
      ]
    },
    {
      "cell_type": "markdown",
      "metadata": {
        "id": "9UiFiUPW1x46"
      },
      "source": [
        "# Exercício 7. Predição\n",
        "A partir do seu modelo empregue a função `result.predict(x)` para estimar a emissão de gases por veículos novos que apresentam consumo de combustível no valor de 4 e 28, e que não existem nos dados originais. \n",
        "\n",
        "### DICA:\n",
        "\n",
        "A entrada x deve ser um dataframe no mesmo formato e nome dos atributos de entrada no modelo. \n",
        " \n",
        "\n"
      ]
    },
    {
      "cell_type": "code",
      "metadata": {
        "id": "1lgx1pwk13AM",
        "outputId": "a5775eb3-56a3-4721-b2be-23d76379580c",
        "colab": {
          "base_uri": "https://localhost:8080/",
          "height": 68
        }
      },
      "source": [
        "# Seu código"
      ],
      "execution_count": null,
      "outputs": [
        {
          "output_type": "execute_result",
          "data": {
            "text/plain": [
              "0    133.267015\n",
              "1    522.546301\n",
              "dtype: float64"
            ]
          },
          "metadata": {
            "tags": []
          },
          "execution_count": 29
        }
      ]
    },
    {
      "cell_type": "markdown",
      "metadata": {
        "id": "xWHKIszK13AO"
      },
      "source": [
        "# Exercício 8. Verificação Visual **(RESOLVIDO)**"
      ]
    },
    {
      "cell_type": "code",
      "metadata": {
        "id": "qPopvip713AO",
        "outputId": "7cc96cb5-b323-4d27-cd2f-33c92892907a",
        "colab": {
          "base_uri": "https://localhost:8080/",
          "height": 281
        }
      },
      "source": [
        "df['predicted'] = result.predict()\n",
        "\n",
        "sns.scatterplot('FUELCONSUMPTION_COMB', 'CO2EMISSIONS', data=df)\n",
        "sns.lineplot('FUELCONSUMPTION_COMB', 'predicted', data=df, color='red')\n",
        "plt.xlabel(\"FUELCONSUMPTION_COMB\")\n",
        "plt.ylabel(\"Emission\")\n",
        "plt.show()\n",
        "\n",
        "\n"
      ],
      "execution_count": null,
      "outputs": [
        {
          "output_type": "display_data",
          "data": {
            "image/png": "[encoded data removed]",
            "text/plain": [
              "<Figure size 432x288 with 1 Axes>"
            ]
          },
          "metadata": {
            "tags": [],
            "needs_background": "light"
          }
        }
      ]
    },
    {
      "cell_type": "markdown",
      "metadata": {
        "id": "t6OVHqka4UOv"
      },
      "source": [
        "# Exercício 9. Tudo junto...\n",
        "\n",
        "Coloque todo o código empregado para estimar as emissões de `FUELCONSUMPTION_COMB` aqui."
      ]
    },
    {
      "cell_type": "code",
      "metadata": {
        "id": "oPda60GN4UO0"
      },
      "source": [
        "# Insira aqui seu código\n",
        "\n",
        "# define o modelo\n",
        "\n",
        "# calcula o modelo e mostra os resultados\n",
        "\n",
        "# faz uma previsão\n",
        "\n"
      ],
      "execution_count": null,
      "outputs": []
    },
    {
      "cell_type": "markdown",
      "metadata": {
        "id": "bEF8Bdde3NE5"
      },
      "source": [
        "# Exercício 10. Regressão Múltipla\n",
        "\n",
        "Faça agora um modelo de regressão múltipla para estimar as emissões de CO2 a partir de `FUELCONSUMPTION_COMB` e `ENGINESIZE`. \n",
        "\n",
        "Faça então uma predição de emissões para um veículo com `FUELCONSUMPTION_COMB` = 10 e `ENGINESIZE` = 2. "
      ]
    },
    {
      "cell_type": "code",
      "metadata": {
        "id": "kOapb27G3cPj",
        "outputId": "92a45ec9-2931-4e0a-f76d-a136747f4588",
        "colab": {
          "base_uri": "https://localhost:8080/",
          "height": 493
        }
      },
      "source": [
        "# Insira aqui seu código\n",
        "\n",
        "\n"
      ],
      "execution_count": null,
      "outputs": [
        {
          "output_type": "stream",
          "text": [
            "                            OLS Regression Results                            \n",
            "==============================================================================\n",
            "Dep. Variable:           CO2EMISSIONS   R-squared:                       0.858\n",
            "Model:                            OLS   Adj. R-squared:                  0.858\n",
            "Method:                 Least Squares   F-statistic:                     3220.\n",
            "Date:                Tue, 20 Oct 2020   Prob (F-statistic):               0.00\n",
            "Time:                        19:50:57   Log-Likelihood:                -4898.4\n",
            "No. Observations:                1067   AIC:                             9803.\n",
            "Df Residuals:                    1064   BIC:                             9818.\n",
            "Df Model:                           2                                         \n",
            "Covariance Type:            nonrobust                                         \n",
            "========================================================================================\n",
            "                           coef    std err          t      P>|t|      [0.025      0.975]\n",
            "----------------------------------------------------------------------------------------\n",
            "Intercept               78.3068      2.579     30.360      0.000      73.246      83.368\n",
            "FUELCONSUMPTION_COMB     9.7300      0.366     26.569      0.000       9.011      10.449\n",
            "ENGINESIZE              19.4963      0.902     21.626      0.000      17.727      21.265\n",
            "==============================================================================\n",
            "Omnibus:                       60.372   Durbin-Watson:                   1.740\n",
            "Prob(Omnibus):                  0.000   Jarque-Bera (JB):               91.765\n",
            "Skew:                          -0.462   Prob(JB):                     1.18e-20\n",
            "Kurtosis:                       4.101   Cond. No.                         44.9\n",
            "==============================================================================\n",
            "\n",
            "Warnings:\n",
            "[1] Standard Errors assume that the covariance matrix of the errors is correctly specified.\n",
            "0    214.598964\n",
            "dtype: float64\n"
          ],
          "name": "stdout"
        }
      ]
    },
    {
      "cell_type": "markdown",
      "metadata": {
        "id": "9_P8FpOI8CDN"
      },
      "source": [
        "### Solução: O modelo obtido é\n",
        "\n",
        "$$ \\widehat{CO2EMISSIONS} = <coef1> + <coef2> \\times ENGINESIZE + <coef3> \\times FUELCONSUMPTIONCOMB $$\n",
        "\n",
        "E apresenta Coeficiente de Determinação e p-values\n",
        "\n",
        "$$ R^2 = <valor> $$\n",
        "$$ p-values < 0.05 $$\n",
        "\n",
        "melhor que os modelos unidimensionais."
      ]
    }
  ]
}