{
  "nbformat": 4,
  "nbformat_minor": 0,
  "metadata": {
    "anaconda-cloud": {},
    "kernelspec": {
      "display_name": "Python 3",
      "language": "python",
      "name": "python3"
    },
    "language_info": {
      "codemirror_mode": {
        "name": "ipython",
        "version": 3
      },
      "file_extension": ".py",
      "mimetype": "text/x-python",
      "name": "python",
      "nbconvert_exporter": "python",
      "pygments_lexer": "ipython3",
      "version": "3.7.4"
    },
    "colab": {
      "name": "EADMDJ_A8_ModelosNeurais.ipynb",
      "provenance": [],
      "collapsed_sections": [],
      "include_colab_link": true
    }
  },
  "cells": [
    {
      "cell_type": "markdown",
      "metadata": {
        "id": "view-in-github",
        "colab_type": "text"
      },
      "source": [
        "<a href=\"https://colab.research.google.com/github/Rogerio-mack/MDJ/blob/main/EADMDJ_A8_ModelosNeurais.ipynb\" target=\"_parent\"><img src=\"https://colab.research.google.com/assets/colab-badge.svg\" alt=\"Open In Colab\"/></a>"
      ]
    },
    {
      "cell_type": "markdown",
      "metadata": {
        "id": "gglUriLmo1sR"
      },
      "source": [
        "<head>\n",
        "  <meta name=\"author\" content=\"Rogério de Oliveira\">\n",
        "  <meta institution=\"author\" content=\"Universidade Presbiteriana Mackenzie\">\n",
        "</head>\n",
        "\n",
        "<img src=\"http://meusite.mackenzie.br/rogerio/mackenzie_logo/UPM.2_horizontal_vermelho.jpg\" width=300, align=\"right\">\n",
        "<h1 align=left><font size = 5, style=\"color:rgb(0,0,0)\"> EAD <b>Mineração de Dados para Jogos </b> </font></h1>"
      ]
    },
    {
      "cell_type": "markdown",
      "metadata": {
        "id": "-G7aCMh4r9y1"
      },
      "source": [
        "<h1 align=left><font size = 6, style=\"color:rgb(200,0,0)\">A8 Modelos Neurais e Deeplearning</font></h1>\n",
        "<hr>"
      ]
    },
    {
      "cell_type": "markdown",
      "metadata": {
        "id": "pdezH1eUfp1Z"
      },
      "source": [
        "# **IMPORTANTE:** Antes de começar \n",
        "\n",
        "Execute a célula LAB SET UP antes da seção de exercícios. Ela irá **inicializar** o seu ambiente com rotinas que são empregadas aqui."
      ]
    },
    {
      "cell_type": "markdown",
      "metadata": {
        "_uuid": "9dd9e07c590ca22f0c525222f60f0ebff4e092c6",
        "id": "HpKAvplIAYQ3"
      },
      "source": [
        "## Neurônio simples\n",
        " \n",
        "Um neurônio artificial nada mais é do que um artefato de software que faz uma combinação linear das entradas e aplica um função de ativação como a função $sign$, $tanh$ ou $relu$ para produzir uma saída.\n",
        "\n",
        "$$ f(X) = sign( w_0 + w_1 x_1 + ... + w_n x_n ) $$\n",
        "\n",
        "O treinamento do neurônio é feito ajustando-se os pesos $w_n$ de acordo com o erro de predição obtido para se estimar a saída $f(X) \\cong y$.\n",
        "\n",
        "$$ \\min_{W} \\sum || f(X)- y || $$\n"
      ]
    },
    {
      "cell_type": "markdown",
      "metadata": {
        "id": "N0ZYb-_Dn3IP"
      },
      "source": [
        "## Treinando a função **OR**\n",
        "\n",
        "O código abaixo mostra o treinamento da função **OR** com um único neurônio com função de ativação $sign$ (função sinal).\n",
        "\n",
        "Função $OR(X) \\rightarrow y$:\n",
        "\n",
        "```\n",
        "  X     y\n",
        " 0 0    0\n",
        " 0 1    1\n",
        " 1 0    1\n",
        " 1 0    1\n",
        "```"
      ]
    },
    {
      "cell_type": "code",
      "metadata": {
        "id": "kyYa_XuqqDjL",
        "outputId": "9650d756-d3ac-4f59-a34e-805b464f5adf",
        "colab": {
          "base_uri": "https://localhost:8080/",
          "height": 372
        }
      },
      "source": [
        "X = np.matrix([ [0,0], [1,0], [0,1], [1,1] ])\n",
        "y = np.matrix( [-1, 1, 1, 1] )\n",
        "\n",
        "error = []\n",
        "W1 = np.matrix([ [0.4,0.4] ])               # initial Weigths\n",
        "W0 = -0.5\n",
        "y_pred = np.sign( W1*X.T + W0 )\n",
        "print(y_pred)\n",
        "error.append(np.abs( (y_pred - y).sum() ))\n",
        "\n",
        "W1 = np.matrix([ [0.4,0.5] ])\n",
        "W0 = -0.5\n",
        "y_pred = np.sign( W1*X.T + W0 )\n",
        "print(y_pred)\n",
        "error.append(np.abs( (y_pred - y).sum() ))\n",
        "\n",
        "W1 = np.matrix([ [0.5,0.5] ])\n",
        "W0 = -0.5\n",
        "y_pred = np.sign( W1*X.T + W0 )\n",
        "print(y_pred)\n",
        "error.append(np.abs( (y_pred - y).sum() ))\n",
        "\n",
        "W1 = np.matrix([ [0.5,0.5] ])\n",
        "W0 = -0.4\n",
        "y_pred = np.sign( W1*X.T + W0 )\n",
        "print(y_pred)\n",
        "error.append(np.abs( (y_pred - y).sum() ))\n",
        "\n",
        "sns.lineplot(range(4),error)\n",
        "plt.title('Training Error')"
      ],
      "execution_count": null,
      "outputs": [
        {
          "output_type": "stream",
          "text": [
            "[[-1. -1. -1.  1.]]\n",
            "[[-1. -1.  0.  1.]]\n",
            "[[-1.  0.  0.  1.]]\n",
            "[[-1.  1.  1.  1.]]\n"
          ],
          "name": "stdout"
        },
        {
          "output_type": "execute_result",
          "data": {
            "text/plain": [
              "Text(0.5, 1.0, 'Training Error')"
            ]
          },
          "metadata": {
            "tags": []
          },
          "execution_count": 17
        },
        {
          "output_type": "display_data",
          "data": {
            "image/png": "[encoded data removed]",
            "text/plain": [
              "<Figure size 432x288 with 1 Axes>"
            ]
          },
          "metadata": {
            "tags": [],
            "needs_background": "light"
          }
        }
      ]
    },
    {
      "cell_type": "markdown",
      "metadata": {
        "_uuid": "9dd9e07c590ca22f0c525222f60f0ebff4e092c6",
        "id": "y_DVV_CJMMuC"
      },
      "source": [
        "## Redes neurais \n",
        " \n",
        "Um único neurônio entretanto tem uma capacidade limitada de aprendizado. Por exemplo, ele não consegue aprender a função **XOR**.\n",
        "\n",
        "\n",
        "Função $XOR(X) \\rightarrow y$:\n",
        "\n",
        "```\n",
        "  X     y\n",
        " 0 0    0\n",
        " 0 1    1\n",
        " 1 0    1\n",
        " 1 0    0\n",
        "```\n",
        "\n",
        "Pois um único neurônio somente tem capacidade para fazer a separação de conjuntos linearmente separáveis.\n",
        "\n",
        "Para resolver essa limitação podemos então trabalhar com múltiplos neurônios em camadas. As saídas dos neurônios de uma camada são então empregadas como entradas para a camada seguinte. As camadas entre a camada inicial de neurônios (de entrada) e a camada final (de saída) constitui as camadas ocultas da rede.\n",
        "\n",
        "O treinamento da rede segue o mesmo princípio, embora mais complexo, ajustando os pesos $w_n$ de acordo com o erro de predição obtido para se estimar a saída $f(X) \\cong y$.\n",
        "\n",
        "$$ \\min_{W} \\sum || f(X)- y || $$\n",
        "\n",
        "Chamamos esse aprendizado de *backpropagation* ou *retropropagação*.\n",
        "\n",
        "Acesse agora http://playground.tensorflow.org/ para uma demonstração."
      ]
    },
    {
      "cell_type": "markdown",
      "metadata": {
        "id": "Li1FPlObIQAh"
      },
      "source": [
        "## **Case**: Detecção de Fraude em Operações de Cartão de Crédito\n",
        "\n",
        "http://meusite.mackenzie.br/rogerio/ML/The-InfoQ-eMag-Introduction-to-Machine-Learning.pdf\n",
        "\n",
        "Esse artigo trás uma ótima introdução ao Aprendizado de Máquina. O artigo demonstra a aplicação de dois modelos de classificação,**Árvores de Decisão e Regressão Logística**, para um conjunto de dado simples para detecção de fraude em operações de cartões de crédito. \n",
        "\n",
        "Aqui você vai empregar o mesmo conjunto de dados para um aprendizado de Deep Learning com **TensorFlow+Keras**. \n",
        "\n",
        "URL: https://meusite.mackenzie.br/rogerio/ML/qconlondon2016_sample_data.csv\n",
        "\n",
        "**IMPORTANTE** \n",
        "O uso de deeplearning pode ser bastante complexo e exigiria um bom tempo para estarmos aptos a empregar suas funções em diferentes problemas. Entenda esse exemplo como uma *degustação* do deep learning apenas para que você possa fixar os conceitos dessa técnica."
      ]
    },
    {
      "cell_type": "markdown",
      "metadata": {
        "id": "yjsISOzrZzPg"
      },
      "source": [
        "## Explorando os dados\n"
      ]
    },
    {
      "cell_type": "code",
      "metadata": {
        "id": "WUYc-QJxugaZ"
      },
      "source": [
        "# imports\n",
        "import numpy as np \n",
        "import pandas as pd \n",
        "import matplotlib.pyplot as plt \n",
        "import seaborn as sns \n",
        "import warnings\n",
        "import os\n",
        "warnings.filterwarnings(\"ignore\")\n",
        "\n",
        "from sklearn.model_selection import train_test_split\n",
        "from sklearn.metrics import confusion_matrix\n",
        "from sklearn.metrics import classification_report\n",
        "\n",
        "from tensorflow import keras\n",
        "from tensorflow.keras import layers\n",
        "from keras import Sequential, layers\n",
        "import tensorflow as tf"
      ],
      "execution_count": null,
      "outputs": []
    },
    {
      "cell_type": "code",
      "metadata": {
        "id": "SIeEbP1HZxop",
        "outputId": "0e8729f4-fb4e-4662-e898-50c224bdb570",
        "colab": {
          "base_uri": "https://localhost:8080/",
          "height": 145
        }
      },
      "source": [
        "fraud = pd.read_csv(\"https://meusite.mackenzie.br/rogerio/ML/qconlondon2016_sample_data.csv\")\n",
        "fraud.drop(columns=['charge_time'],inplace=True) # por simplicidade excluímos esse dado do treinamento\n",
        "                     \n",
        "print(fraud.head())\n",
        "print(fraud.shape) \n",
        "\n"
      ],
      "execution_count": null,
      "outputs": [
        {
          "output_type": "stream",
          "text": [
            "   fraudulent  amount card_country  card_use_24h\n",
            "0       False   20484           US             0\n",
            "1       False    1211           US             0\n",
            "2       False    8396           US             1\n",
            "3       False    2359           US             0\n",
            "4       False    1480           US             3\n",
            "(89393, 4)\n"
          ],
          "name": "stdout"
        }
      ]
    },
    {
      "cell_type": "markdown",
      "metadata": {
        "id": "oeRSk9LpaisT"
      },
      "source": [
        "## Preparando os dados `X` e `y`\n",
        "\n",
        "A preparação dos dados pode ser bastante complexa. Aqui ela envolve o **hot encode** dos atributos não numéricos, o rescaling dos dados e ainda a formatação dos dados para os padrões do **TensorFlow/Keras** (formato de matrizes e não dataframes)."
      ]
    },
    {
      "cell_type": "markdown",
      "metadata": {
        "id": "qiu60pVtxFN-"
      },
      "source": [
        "**Preparando a entrada `X` (hot encode, Scaler).**"
      ]
    },
    {
      "cell_type": "code",
      "metadata": {
        "id": "WSLEWuI0a9go",
        "outputId": "881132c0-216d-4220-b034-6420d441f0d2",
        "colab": {
          "base_uri": "https://localhost:8080/",
          "height": 288
        }
      },
      "source": [
        "X = fraud.drop(columns=['fraudulent'])\n",
        "    \n",
        "X_number = X.select_dtypes(include='number')\n",
        "X_categorical = X.select_dtypes(exclude='number')\n",
        "    \n",
        "dummies = [pd.get_dummies(X[c],prefix=c, prefix_sep='_') for c in X_categorical.columns]\n",
        "X = pd.concat(dummies, axis=1)\n",
        "    \n",
        "frames = [X_number,X]\n",
        "X = pd.concat(frames, axis=1)\n",
        "X.iloc[0]\n",
        "\n",
        "from sklearn.preprocessing import StandardScaler\n",
        "\n",
        "scaler = StandardScaler()\n",
        "scaler.fit(X)\n",
        "X_matrix = scaler.transform(X)\n",
        "temp = X.index\n",
        "X = pd.DataFrame(X_matrix,columns=X.columns)\n",
        "X.index = temp\n",
        "X.describe()\n"
      ],
      "execution_count": null,
      "outputs": [
        {
          "output_type": "execute_result",
          "data": {
            "text/html": [
              "<div>\n",
              "<style scoped>\n",
              "    .dataframe tbody tr th:only-of-type {\n",
              "        vertical-align: middle;\n",
              "    }\n",
              "\n",
              "    .dataframe tbody tr th {\n",
              "        vertical-align: top;\n",
              "    }\n",
              "\n",
              "    .dataframe thead th {\n",
              "        text-align: right;\n",
              "    }\n",
              "</style>\n",
              "<table border=\"1\" class=\"dataframe\">\n",
              "  <thead>\n",
              "    <tr style=\"text-align: right;\">\n",
              "      <th></th>\n",
              "      <th>amount</th>\n",
              "      <th>card_use_24h</th>\n",
              "      <th>card_country_AU</th>\n",
              "      <th>card_country_GB</th>\n",
              "      <th>card_country_US</th>\n",
              "    </tr>\n",
              "  </thead>\n",
              "  <tbody>\n",
              "    <tr>\n",
              "      <th>count</th>\n",
              "      <td>8.939300e+04</td>\n",
              "      <td>8.939300e+04</td>\n",
              "      <td>8.939300e+04</td>\n",
              "      <td>8.939300e+04</td>\n",
              "      <td>8.939300e+04</td>\n",
              "    </tr>\n",
              "    <tr>\n",
              "      <th>mean</th>\n",
              "      <td>3.053817e-16</td>\n",
              "      <td>-1.729873e-14</td>\n",
              "      <td>-9.032136e-18</td>\n",
              "      <td>4.297227e-14</td>\n",
              "      <td>-9.967645e-14</td>\n",
              "    </tr>\n",
              "    <tr>\n",
              "      <th>std</th>\n",
              "      <td>1.000006e+00</td>\n",
              "      <td>1.000006e+00</td>\n",
              "      <td>1.000006e+00</td>\n",
              "      <td>1.000006e+00</td>\n",
              "      <td>1.000006e+00</td>\n",
              "    </tr>\n",
              "    <tr>\n",
              "      <th>min</th>\n",
              "      <td>-2.372910e-01</td>\n",
              "      <td>-1.729671e-01</td>\n",
              "      <td>-1.567963e-01</td>\n",
              "      <td>-1.782893e-01</td>\n",
              "      <td>-4.152974e+00</td>\n",
              "    </tr>\n",
              "    <tr>\n",
              "      <th>25%</th>\n",
              "      <td>-1.981673e-01</td>\n",
              "      <td>-1.729671e-01</td>\n",
              "      <td>-1.567963e-01</td>\n",
              "      <td>-1.782893e-01</td>\n",
              "      <td>2.407913e-01</td>\n",
              "    </tr>\n",
              "    <tr>\n",
              "      <th>50%</th>\n",
              "      <td>-1.619712e-01</td>\n",
              "      <td>-1.280861e-01</td>\n",
              "      <td>-1.567963e-01</td>\n",
              "      <td>-1.782893e-01</td>\n",
              "      <td>2.407913e-01</td>\n",
              "    </tr>\n",
              "    <tr>\n",
              "      <th>75%</th>\n",
              "      <td>-7.765084e-02</td>\n",
              "      <td>-3.832406e-02</td>\n",
              "      <td>-1.567963e-01</td>\n",
              "      <td>-1.782893e-01</td>\n",
              "      <td>2.407913e-01</td>\n",
              "    </tr>\n",
              "    <tr>\n",
              "      <th>max</th>\n",
              "      <td>1.153412e+02</td>\n",
              "      <td>3.869400e+01</td>\n",
              "      <td>6.377700e+00</td>\n",
              "      <td>5.608862e+00</td>\n",
              "      <td>2.407913e-01</td>\n",
              "    </tr>\n",
              "  </tbody>\n",
              "</table>\n",
              "</div>"
            ],
            "text/plain": [
              "             amount  card_use_24h  ...  card_country_GB  card_country_US\n",
              "count  8.939300e+04  8.939300e+04  ...     8.939300e+04     8.939300e+04\n",
              "mean   3.053817e-16 -1.729873e-14  ...     4.297227e-14    -9.967645e-14\n",
              "std    1.000006e+00  1.000006e+00  ...     1.000006e+00     1.000006e+00\n",
              "min   -2.372910e-01 -1.729671e-01  ...    -1.782893e-01    -4.152974e+00\n",
              "25%   -1.981673e-01 -1.729671e-01  ...    -1.782893e-01     2.407913e-01\n",
              "50%   -1.619712e-01 -1.280861e-01  ...    -1.782893e-01     2.407913e-01\n",
              "75%   -7.765084e-02 -3.832406e-02  ...    -1.782893e-01     2.407913e-01\n",
              "max    1.153412e+02  3.869400e+01  ...     5.608862e+00     2.407913e-01\n",
              "\n",
              "[8 rows x 5 columns]"
            ]
          },
          "metadata": {
            "tags": []
          },
          "execution_count": 20
        }
      ]
    },
    {
      "cell_type": "markdown",
      "metadata": {
        "id": "enCMBD5YxXiU"
      },
      "source": [
        "**Preparando a saída `y`**\n",
        "\n",
        "Valores numéricos para a saída de rede."
      ]
    },
    {
      "cell_type": "code",
      "metadata": {
        "id": "qf1XLBOHxbzd"
      },
      "source": [
        "fraud.fraudulent = fraud.fraudulent.replace(True,1)\n",
        "fraud.fraudulent = fraud.fraudulent.replace(False,0)\n",
        "\n",
        "y = fraud.fraudulent"
      ],
      "execution_count": null,
      "outputs": []
    },
    {
      "cell_type": "markdown",
      "metadata": {
        "id": "L40cJF1ccN5C"
      },
      "source": [
        "## Separando os dados de Treinamento e Teste"
      ]
    },
    {
      "cell_type": "code",
      "metadata": {
        "id": "RdElnvhvcSAe"
      },
      "source": [
        "seed = 1984\n",
        "X_train, X_test, y_train, y_test = train_test_split(X, y, test_size=0.3, stratify=y, random_state=seed)\n"
      ],
      "execution_count": null,
      "outputs": []
    },
    {
      "cell_type": "markdown",
      "metadata": {
        "id": "rfOUECSdyENj"
      },
      "source": [
        "## Adequando os dados para o `Keras`\n",
        "\n",
        "Os dados são reformatados em matrizes e a saída em uma matriz binária."
      ]
    },
    {
      "cell_type": "code",
      "metadata": {
        "id": "GNQYR8xQyWeD"
      },
      "source": [
        "Xm = X_train\n",
        "Xm = np.matrix(Xm)\n",
        "\n",
        "ym = y_train\n",
        "ym = np.transpose(np.matrix(ym))\n",
        "\n",
        "from keras.utils import to_categorical\n",
        "y_binary = to_categorical(ym)\n"
      ],
      "execution_count": null,
      "outputs": []
    },
    {
      "cell_type": "markdown",
      "metadata": {
        "id": "zoKFbY_gyf2Z"
      },
      "source": [
        "## Configuração e Treinamento da Rede DeepLearning\n",
        "\n",
        "Nossa rede terá 5 neurônios de entrada, correspondendo a cada atributo de entrada, duas camadas ocultas de 8 neurônios, e uma camada de saída com 2 neurônios correspondendo às duas classes de saída.\n",
        "\n",
        "```\n",
        "model = Sequential([layers.Dense(Xm.shape[1], activation='sigmoid', input_shape=[Xm.shape[1],])]) \n",
        "\n",
        "model.add(layers.Dense(8, activation='sigmoid'))\n",
        "model.add(layers.Dense(8, activation='sigmoid'))\n",
        "model.add(layers.Dense(2, activation='sigmoid'))\n",
        "```\n",
        "\n"
      ]
    },
    {
      "cell_type": "code",
      "metadata": {
        "id": "YVUC8oWhylEQ",
        "outputId": "22392533-7c0f-4e61-f41f-7b99af0429b7",
        "colab": {
          "base_uri": "https://localhost:8080/",
          "height": 1000
        }
      },
      "source": [
        "all_results = [] \n",
        "\n",
        "# Definição\n",
        "\n",
        "model = Sequential([layers.Dense(Xm.shape[1], activation='sigmoid', input_shape=[Xm.shape[1],])]) \n",
        "\n",
        "model.add(layers.Dense(8, activation='sigmoid'))\n",
        "model.add(layers.Dense(8, activation='sigmoid'))\n",
        "model.add(layers.Dense(2, activation='sigmoid'))\n",
        "model.compile(loss='categorical_crossentropy', optimizer='adam', metrics=['accuracy'])\n",
        "\n",
        "# Treinamento\n",
        "history = model.fit(Xm, y_binary, validation_split=0.2, epochs=100)\n"
      ],
      "execution_count": null,
      "outputs": [
        {
          "output_type": "stream",
          "text": [
            "Train on 50060 samples, validate on 12515 samples\n",
            "Epoch 1/100\n",
            "50060/50060 [==============================] - 2s 46us/step - loss: 0.6898 - accuracy: 0.5622 - val_loss: 0.6691 - val_accuracy: 0.6280\n",
            "Epoch 2/100\n",
            "50060/50060 [==============================] - 2s 44us/step - loss: 0.6344 - accuracy: 0.6541 - val_loss: 0.6156 - val_accuracy: 0.6712\n",
            "Epoch 3/100\n",
            "50060/50060 [==============================] - 2s 43us/step - loss: 0.6118 - accuracy: 0.6714 - val_loss: 0.6109 - val_accuracy: 0.6741\n",
            "Epoch 4/100\n",
            "50060/50060 [==============================] - 2s 44us/step - loss: 0.6095 - accuracy: 0.6717 - val_loss: 0.6111 - val_accuracy: 0.6678\n",
            "Epoch 5/100\n",
            "50060/50060 [==============================] - 2s 43us/step - loss: 0.6088 - accuracy: 0.6720 - val_loss: 0.6094 - val_accuracy: 0.6731\n",
            "Epoch 6/100\n",
            "50060/50060 [==============================] - 2s 44us/step - loss: 0.6083 - accuracy: 0.6723 - val_loss: 0.6095 - val_accuracy: 0.6718\n",
            "Epoch 7/100\n",
            "50060/50060 [==============================] - 2s 44us/step - loss: 0.6081 - accuracy: 0.6723 - val_loss: 0.6090 - val_accuracy: 0.6706\n",
            "Epoch 8/100\n",
            "50060/50060 [==============================] - 2s 44us/step - loss: 0.6078 - accuracy: 0.6735 - val_loss: 0.6089 - val_accuracy: 0.6730\n",
            "Epoch 9/100\n",
            "50060/50060 [==============================] - 2s 44us/step - loss: 0.6077 - accuracy: 0.6731 - val_loss: 0.6082 - val_accuracy: 0.6718\n",
            "Epoch 10/100\n",
            "50060/50060 [==============================] - 2s 44us/step - loss: 0.6074 - accuracy: 0.6730 - val_loss: 0.6080 - val_accuracy: 0.6744\n",
            "Epoch 11/100\n",
            "50060/50060 [==============================] - 2s 45us/step - loss: 0.6070 - accuracy: 0.6733 - val_loss: 0.6077 - val_accuracy: 0.6719\n",
            "Epoch 12/100\n",
            "50060/50060 [==============================] - 2s 44us/step - loss: 0.6068 - accuracy: 0.6725 - val_loss: 0.6076 - val_accuracy: 0.6746\n",
            "Epoch 13/100\n",
            "50060/50060 [==============================] - 2s 43us/step - loss: 0.6068 - accuracy: 0.6729 - val_loss: 0.6077 - val_accuracy: 0.6718\n",
            "Epoch 14/100\n",
            "50060/50060 [==============================] - 2s 44us/step - loss: 0.6064 - accuracy: 0.6739 - val_loss: 0.6090 - val_accuracy: 0.6698\n",
            "Epoch 15/100\n",
            "50060/50060 [==============================] - 2s 44us/step - loss: 0.6063 - accuracy: 0.6739 - val_loss: 0.6075 - val_accuracy: 0.6746\n",
            "Epoch 16/100\n",
            "50060/50060 [==============================] - 2s 44us/step - loss: 0.6063 - accuracy: 0.6735 - val_loss: 0.6069 - val_accuracy: 0.6728\n",
            "Epoch 17/100\n",
            "50060/50060 [==============================] - 2s 44us/step - loss: 0.6062 - accuracy: 0.6737 - val_loss: 0.6070 - val_accuracy: 0.6738\n",
            "Epoch 18/100\n",
            "50060/50060 [==============================] - 2s 44us/step - loss: 0.6061 - accuracy: 0.6742 - val_loss: 0.6071 - val_accuracy: 0.6732\n",
            "Epoch 19/100\n",
            "50060/50060 [==============================] - 2s 44us/step - loss: 0.6061 - accuracy: 0.6745 - val_loss: 0.6071 - val_accuracy: 0.6725\n",
            "Epoch 20/100\n",
            "50060/50060 [==============================] - 2s 44us/step - loss: 0.6061 - accuracy: 0.6730 - val_loss: 0.6064 - val_accuracy: 0.6765\n",
            "Epoch 21/100\n",
            "50060/50060 [==============================] - 2s 43us/step - loss: 0.6059 - accuracy: 0.6732 - val_loss: 0.6064 - val_accuracy: 0.6750\n",
            "Epoch 22/100\n",
            "50060/50060 [==============================] - 2s 44us/step - loss: 0.6059 - accuracy: 0.6733 - val_loss: 0.6064 - val_accuracy: 0.6737\n",
            "Epoch 23/100\n",
            "50060/50060 [==============================] - 2s 43us/step - loss: 0.6058 - accuracy: 0.6733 - val_loss: 0.6067 - val_accuracy: 0.6773\n",
            "Epoch 24/100\n",
            "50060/50060 [==============================] - 2s 44us/step - loss: 0.6058 - accuracy: 0.6737 - val_loss: 0.6063 - val_accuracy: 0.6740\n",
            "Epoch 25/100\n",
            "50060/50060 [==============================] - 2s 44us/step - loss: 0.6058 - accuracy: 0.6732 - val_loss: 0.6071 - val_accuracy: 0.6717\n",
            "Epoch 26/100\n",
            "50060/50060 [==============================] - 2s 43us/step - loss: 0.6058 - accuracy: 0.6736 - val_loss: 0.6068 - val_accuracy: 0.6722\n",
            "Epoch 27/100\n",
            "50060/50060 [==============================] - 2s 45us/step - loss: 0.6057 - accuracy: 0.6733 - val_loss: 0.6065 - val_accuracy: 0.6737\n",
            "Epoch 28/100\n",
            "50060/50060 [==============================] - 2s 44us/step - loss: 0.6056 - accuracy: 0.6733 - val_loss: 0.6074 - val_accuracy: 0.6750\n",
            "Epoch 29/100\n",
            "50060/50060 [==============================] - 2s 44us/step - loss: 0.6057 - accuracy: 0.6737 - val_loss: 0.6062 - val_accuracy: 0.6742\n",
            "Epoch 30/100\n",
            "50060/50060 [==============================] - 2s 45us/step - loss: 0.6057 - accuracy: 0.6738 - val_loss: 0.6061 - val_accuracy: 0.6769\n",
            "Epoch 31/100\n",
            "50060/50060 [==============================] - 2s 44us/step - loss: 0.6056 - accuracy: 0.6737 - val_loss: 0.6060 - val_accuracy: 0.6745\n",
            "Epoch 32/100\n",
            "50060/50060 [==============================] - 2s 45us/step - loss: 0.6056 - accuracy: 0.6737 - val_loss: 0.6078 - val_accuracy: 0.6706\n",
            "Epoch 33/100\n",
            "50060/50060 [==============================] - 2s 44us/step - loss: 0.6056 - accuracy: 0.6736 - val_loss: 0.6059 - val_accuracy: 0.6754\n",
            "Epoch 34/100\n",
            "50060/50060 [==============================] - 2s 44us/step - loss: 0.6056 - accuracy: 0.6746 - val_loss: 0.6060 - val_accuracy: 0.6760\n",
            "Epoch 35/100\n",
            "50060/50060 [==============================] - 2s 44us/step - loss: 0.6055 - accuracy: 0.6737 - val_loss: 0.6060 - val_accuracy: 0.6748\n",
            "Epoch 36/100\n",
            "50060/50060 [==============================] - 2s 45us/step - loss: 0.6055 - accuracy: 0.6736 - val_loss: 0.6058 - val_accuracy: 0.6750\n",
            "Epoch 37/100\n",
            "50060/50060 [==============================] - 2s 44us/step - loss: 0.6055 - accuracy: 0.6742 - val_loss: 0.6059 - val_accuracy: 0.6743\n",
            "Epoch 38/100\n",
            "50060/50060 [==============================] - 2s 46us/step - loss: 0.6055 - accuracy: 0.6732 - val_loss: 0.6060 - val_accuracy: 0.6763\n",
            "Epoch 39/100\n",
            "50060/50060 [==============================] - 2s 46us/step - loss: 0.6055 - accuracy: 0.6740 - val_loss: 0.6066 - val_accuracy: 0.6762\n",
            "Epoch 40/100\n",
            "50060/50060 [==============================] - 2s 46us/step - loss: 0.6055 - accuracy: 0.6740 - val_loss: 0.6060 - val_accuracy: 0.6756\n",
            "Epoch 41/100\n",
            "50060/50060 [==============================] - 2s 44us/step - loss: 0.6054 - accuracy: 0.6744 - val_loss: 0.6060 - val_accuracy: 0.6743\n",
            "Epoch 42/100\n",
            "50060/50060 [==============================] - 2s 45us/step - loss: 0.6055 - accuracy: 0.6743 - val_loss: 0.6096 - val_accuracy: 0.6693\n",
            "Epoch 43/100\n",
            "50060/50060 [==============================] - 2s 44us/step - loss: 0.6056 - accuracy: 0.6724 - val_loss: 0.6064 - val_accuracy: 0.6777\n",
            "Epoch 44/100\n",
            "50060/50060 [==============================] - 2s 45us/step - loss: 0.6055 - accuracy: 0.6732 - val_loss: 0.6061 - val_accuracy: 0.6742\n",
            "Epoch 45/100\n",
            "50060/50060 [==============================] - 2s 44us/step - loss: 0.6053 - accuracy: 0.6739 - val_loss: 0.6081 - val_accuracy: 0.6717\n",
            "Epoch 46/100\n",
            "50060/50060 [==============================] - 2s 44us/step - loss: 0.6054 - accuracy: 0.6732 - val_loss: 0.6062 - val_accuracy: 0.6759\n",
            "Epoch 47/100\n",
            "50060/50060 [==============================] - 2s 44us/step - loss: 0.6053 - accuracy: 0.6739 - val_loss: 0.6066 - val_accuracy: 0.6769\n",
            "Epoch 48/100\n",
            "50060/50060 [==============================] - 2s 43us/step - loss: 0.6053 - accuracy: 0.6742 - val_loss: 0.6069 - val_accuracy: 0.6720\n",
            "Epoch 49/100\n",
            "50060/50060 [==============================] - 2s 44us/step - loss: 0.6053 - accuracy: 0.6731 - val_loss: 0.6058 - val_accuracy: 0.6748\n",
            "Epoch 50/100\n",
            "50060/50060 [==============================] - 2s 44us/step - loss: 0.6055 - accuracy: 0.6744 - val_loss: 0.6059 - val_accuracy: 0.6749\n",
            "Epoch 51/100\n",
            "50060/50060 [==============================] - 2s 44us/step - loss: 0.6053 - accuracy: 0.6745 - val_loss: 0.6074 - val_accuracy: 0.6711\n",
            "Epoch 52/100\n",
            "50060/50060 [==============================] - 2s 44us/step - loss: 0.6055 - accuracy: 0.6735 - val_loss: 0.6061 - val_accuracy: 0.6742\n",
            "Epoch 53/100\n",
            "50060/50060 [==============================] - 2s 44us/step - loss: 0.6054 - accuracy: 0.6732 - val_loss: 0.6056 - val_accuracy: 0.6752\n",
            "Epoch 54/100\n",
            "50060/50060 [==============================] - 2s 44us/step - loss: 0.6055 - accuracy: 0.6732 - val_loss: 0.6058 - val_accuracy: 0.6769\n",
            "Epoch 55/100\n",
            "50060/50060 [==============================] - 2s 44us/step - loss: 0.6053 - accuracy: 0.6736 - val_loss: 0.6061 - val_accuracy: 0.6740\n",
            "Epoch 56/100\n",
            "50060/50060 [==============================] - 2s 44us/step - loss: 0.6053 - accuracy: 0.6733 - val_loss: 0.6059 - val_accuracy: 0.6743\n",
            "Epoch 57/100\n",
            "50060/50060 [==============================] - 2s 43us/step - loss: 0.6053 - accuracy: 0.6735 - val_loss: 0.6058 - val_accuracy: 0.6769\n",
            "Epoch 58/100\n",
            "50060/50060 [==============================] - 2s 44us/step - loss: 0.6053 - accuracy: 0.6729 - val_loss: 0.6058 - val_accuracy: 0.6768\n",
            "Epoch 59/100\n",
            "50060/50060 [==============================] - 2s 44us/step - loss: 0.6053 - accuracy: 0.6743 - val_loss: 0.6056 - val_accuracy: 0.6753\n",
            "Epoch 60/100\n",
            "50060/50060 [==============================] - 2s 44us/step - loss: 0.6053 - accuracy: 0.6736 - val_loss: 0.6068 - val_accuracy: 0.6728\n",
            "Epoch 61/100\n",
            "50060/50060 [==============================] - 2s 44us/step - loss: 0.6053 - accuracy: 0.6739 - val_loss: 0.6057 - val_accuracy: 0.6765\n",
            "Epoch 62/100\n",
            "50060/50060 [==============================] - 2s 44us/step - loss: 0.6053 - accuracy: 0.6738 - val_loss: 0.6056 - val_accuracy: 0.6740\n",
            "Epoch 63/100\n",
            "50060/50060 [==============================] - 2s 44us/step - loss: 0.6053 - accuracy: 0.6739 - val_loss: 0.6058 - val_accuracy: 0.6750\n",
            "Epoch 64/100\n",
            "50060/50060 [==============================] - 2s 45us/step - loss: 0.6053 - accuracy: 0.6733 - val_loss: 0.6057 - val_accuracy: 0.6746\n",
            "Epoch 65/100\n",
            "50060/50060 [==============================] - 2s 43us/step - loss: 0.6054 - accuracy: 0.6737 - val_loss: 0.6056 - val_accuracy: 0.6744\n",
            "Epoch 66/100\n",
            "50060/50060 [==============================] - 2s 44us/step - loss: 0.6054 - accuracy: 0.6734 - val_loss: 0.6057 - val_accuracy: 0.6752\n",
            "Epoch 67/100\n",
            "50060/50060 [==============================] - 2s 45us/step - loss: 0.6052 - accuracy: 0.6736 - val_loss: 0.6056 - val_accuracy: 0.6748\n",
            "Epoch 68/100\n",
            "50060/50060 [==============================] - 2s 45us/step - loss: 0.6053 - accuracy: 0.6736 - val_loss: 0.6057 - val_accuracy: 0.6750\n",
            "Epoch 69/100\n",
            "50060/50060 [==============================] - 2s 43us/step - loss: 0.6052 - accuracy: 0.6737 - val_loss: 0.6055 - val_accuracy: 0.6754\n",
            "Epoch 70/100\n",
            "50060/50060 [==============================] - 2s 44us/step - loss: 0.6054 - accuracy: 0.6735 - val_loss: 0.6057 - val_accuracy: 0.6753\n",
            "Epoch 71/100\n",
            "50060/50060 [==============================] - 2s 44us/step - loss: 0.6053 - accuracy: 0.6738 - val_loss: 0.6063 - val_accuracy: 0.6731\n",
            "Epoch 72/100\n",
            "50060/50060 [==============================] - 2s 44us/step - loss: 0.6053 - accuracy: 0.6731 - val_loss: 0.6059 - val_accuracy: 0.6749\n",
            "Epoch 73/100\n",
            "50060/50060 [==============================] - 2s 43us/step - loss: 0.6052 - accuracy: 0.6729 - val_loss: 0.6055 - val_accuracy: 0.6754\n",
            "Epoch 74/100\n",
            "50060/50060 [==============================] - 2s 44us/step - loss: 0.6052 - accuracy: 0.6736 - val_loss: 0.6061 - val_accuracy: 0.6749\n",
            "Epoch 75/100\n",
            "50060/50060 [==============================] - 2s 44us/step - loss: 0.6051 - accuracy: 0.6739 - val_loss: 0.6061 - val_accuracy: 0.6787\n",
            "Epoch 76/100\n",
            "50060/50060 [==============================] - 2s 44us/step - loss: 0.6052 - accuracy: 0.6743 - val_loss: 0.6060 - val_accuracy: 0.6761\n",
            "Epoch 77/100\n",
            "50060/50060 [==============================] - 2s 43us/step - loss: 0.6051 - accuracy: 0.6736 - val_loss: 0.6055 - val_accuracy: 0.6752\n",
            "Epoch 78/100\n",
            "50060/50060 [==============================] - 2s 45us/step - loss: 0.6052 - accuracy: 0.6734 - val_loss: 0.6055 - val_accuracy: 0.6765\n",
            "Epoch 79/100\n",
            "50060/50060 [==============================] - 2s 44us/step - loss: 0.6051 - accuracy: 0.6735 - val_loss: 0.6063 - val_accuracy: 0.6734\n",
            "Epoch 80/100\n",
            "50060/50060 [==============================] - 2s 44us/step - loss: 0.6052 - accuracy: 0.6736 - val_loss: 0.6057 - val_accuracy: 0.6742\n",
            "Epoch 81/100\n",
            "50060/50060 [==============================] - 2s 44us/step - loss: 0.6049 - accuracy: 0.6742 - val_loss: 0.6072 - val_accuracy: 0.6717\n",
            "Epoch 82/100\n",
            "50060/50060 [==============================] - 2s 46us/step - loss: 0.6053 - accuracy: 0.6733 - val_loss: 0.6056 - val_accuracy: 0.6755\n",
            "Epoch 83/100\n",
            "50060/50060 [==============================] - 2s 47us/step - loss: 0.6050 - accuracy: 0.6727 - val_loss: 0.6060 - val_accuracy: 0.6781\n",
            "Epoch 84/100\n",
            "50060/50060 [==============================] - 2s 47us/step - loss: 0.6051 - accuracy: 0.6735 - val_loss: 0.6064 - val_accuracy: 0.6779\n",
            "Epoch 85/100\n",
            "50060/50060 [==============================] - 2s 47us/step - loss: 0.6051 - accuracy: 0.6741 - val_loss: 0.6054 - val_accuracy: 0.6753\n",
            "Epoch 86/100\n",
            "50060/50060 [==============================] - 2s 46us/step - loss: 0.6052 - accuracy: 0.6733 - val_loss: 0.6060 - val_accuracy: 0.6771\n",
            "Epoch 87/100\n",
            "50060/50060 [==============================] - 2s 44us/step - loss: 0.6052 - accuracy: 0.6734 - val_loss: 0.6054 - val_accuracy: 0.6744\n",
            "Epoch 88/100\n",
            "50060/50060 [==============================] - 2s 44us/step - loss: 0.6050 - accuracy: 0.6734 - val_loss: 0.6062 - val_accuracy: 0.6778\n",
            "Epoch 89/100\n",
            "50060/50060 [==============================] - 2s 44us/step - loss: 0.6051 - accuracy: 0.6739 - val_loss: 0.6068 - val_accuracy: 0.6720\n",
            "Epoch 90/100\n",
            "50060/50060 [==============================] - 2s 44us/step - loss: 0.6050 - accuracy: 0.6731 - val_loss: 0.6068 - val_accuracy: 0.6765\n",
            "Epoch 91/100\n",
            "50060/50060 [==============================] - 2s 44us/step - loss: 0.6049 - accuracy: 0.6750 - val_loss: 0.6057 - val_accuracy: 0.6749\n",
            "Epoch 92/100\n",
            "50060/50060 [==============================] - 2s 44us/step - loss: 0.6050 - accuracy: 0.6743 - val_loss: 0.6060 - val_accuracy: 0.6780\n",
            "Epoch 93/100\n",
            "50060/50060 [==============================] - 2s 44us/step - loss: 0.6050 - accuracy: 0.6736 - val_loss: 0.6068 - val_accuracy: 0.6777\n",
            "Epoch 94/100\n",
            "50060/50060 [==============================] - 2s 44us/step - loss: 0.6052 - accuracy: 0.6740 - val_loss: 0.6056 - val_accuracy: 0.6752\n",
            "Epoch 95/100\n",
            "50060/50060 [==============================] - 2s 44us/step - loss: 0.6050 - accuracy: 0.6740 - val_loss: 0.6056 - val_accuracy: 0.6764\n",
            "Epoch 96/100\n",
            "50060/50060 [==============================] - 2s 45us/step - loss: 0.6050 - accuracy: 0.6743 - val_loss: 0.6053 - val_accuracy: 0.6744\n",
            "Epoch 97/100\n",
            "50060/50060 [==============================] - 2s 44us/step - loss: 0.6050 - accuracy: 0.6734 - val_loss: 0.6057 - val_accuracy: 0.6768\n",
            "Epoch 98/100\n",
            "50060/50060 [==============================] - 2s 43us/step - loss: 0.6050 - accuracy: 0.6739 - val_loss: 0.6059 - val_accuracy: 0.6735\n",
            "Epoch 99/100\n",
            "50060/50060 [==============================] - 2s 43us/step - loss: 0.6051 - accuracy: 0.6739 - val_loss: 0.6054 - val_accuracy: 0.6752\n",
            "Epoch 100/100\n",
            "50060/50060 [==============================] - 2s 44us/step - loss: 0.6050 - accuracy: 0.6735 - val_loss: 0.6059 - val_accuracy: 0.6738\n"
          ],
          "name": "stdout"
        }
      ]
    },
    {
      "cell_type": "markdown",
      "metadata": {
        "id": "pmfPcs6J0ZFC"
      },
      "source": [
        "O Treinamento busca a cada etapa minimizar o erro (aumentar a acuracidade). Isso entretanto não ocorre de maneira regular. \n",
        "\n",
        "O Treinamento pode ser concluído quando se chega a uma determinado erro desejado ou após um certo número de iterações, uma vez que o modelo pode não convergir."
      ]
    },
    {
      "cell_type": "code",
      "metadata": {
        "id": "zrkQMDRzzmJq",
        "outputId": "182273b7-0c20-46a6-de89-90e9d0078297",
        "colab": {
          "base_uri": "https://localhost:8080/",
          "height": 701
        }
      },
      "source": [
        "loss, val_loss, acc, val_acc = plot_loss_acc(history,'Two Hidden Layer Neural Network 5,8,8,2 (sigmoid)')\n"
      ],
      "execution_count": null,
      "outputs": [
        {
          "output_type": "display_data",
          "data": {
            "image/png": "[encoded data removed]",
            "text/plain": [
              "<Figure size 576x360 with 1 Axes>"
            ]
          },
          "metadata": {
            "tags": [],
            "needs_background": "light"
          }
        },
        {
          "output_type": "display_data",
          "data": {
            "image/png": "[encoded data removed]",
            "text/plain": [
              "<Figure size 576x360 with 1 Axes>"
            ]
          },
          "metadata": {
            "tags": [],
            "needs_background": "light"
          }
        },
        {
          "output_type": "stream",
          "text": [
            "Two Hidden Layer Neural Network 5,8,8,2 (sigmoid)Accuracy Train: 67.35 %, Accuracy Test: 67.38 %\n"
          ],
          "name": "stdout"
        }
      ]
    },
    {
      "cell_type": "markdown",
      "metadata": {
        "id": "5Oc0b8_O05yj"
      },
      "source": [
        "Em cada neurônio de saída a rede retorna a probabilidade da classe. A seleção do neurônio de maior valor a classe mais provável (`np.argmax()`)."
      ]
    },
    {
      "cell_type": "code",
      "metadata": {
        "id": "O0df3TPl1B2b",
        "outputId": "45535e9d-4e35-4497-c32b-4bf03a096e08",
        "colab": {
          "base_uri": "https://localhost:8080/",
          "height": 217
        }
      },
      "source": [
        "# Predict\n",
        "\n",
        "# Transforma as entradas em matriz para o Keras\n",
        "Xm = X_test \n",
        "Xm = np.matrix(Xm)\n",
        "\n",
        "# Predição\n",
        "y_pred = np.argmax(model.predict(Xm), axis=-1)\n",
        "    \n",
        "print(confusion_matrix(y_pred,y_test))\n",
        "print(classification_report(y_pred,y_test))"
      ],
      "execution_count": null,
      "outputs": [
        {
          "output_type": "stream",
          "text": [
            "[[10548  5903]\n",
            " [ 3004  7363]]\n",
            "              precision    recall  f1-score   support\n",
            "\n",
            "           0       0.78      0.64      0.70     16451\n",
            "           1       0.56      0.71      0.62     10367\n",
            "\n",
            "    accuracy                           0.67     26818\n",
            "   macro avg       0.67      0.68      0.66     26818\n",
            "weighted avg       0.69      0.67      0.67     26818\n",
            "\n"
          ],
          "name": "stdout"
        }
      ]
    },
    {
      "cell_type": "markdown",
      "metadata": {
        "id": "6_NuX5FQuhOi"
      },
      "source": [
        "## **LAB SET UP**\n",
        "Execute antes de iniciar o Lab."
      ]
    },
    {
      "cell_type": "code",
      "metadata": {
        "id": "Fqxk5xmJqYpa",
        "outputId": "f32793ab-4fe0-4ea3-8f00-ba2e82d7f542",
        "colab": {
          "base_uri": "https://localhost:8080/",
          "height": 35
        }
      },
      "source": [
        "import numpy as np # linear algebra\n",
        "import pandas as pd # data processing, CSV file I/O (e.g. pd.read_csv)\n",
        "import matplotlib.pyplot as plt \n",
        "import seaborn as sns \n",
        "import warnings\n",
        "import os\n",
        "warnings.filterwarnings(\"ignore\")\n",
        "\n",
        "from tensorflow import keras\n",
        "from tensorflow.keras import layers\n",
        "from keras import Sequential, layers\n",
        "import tensorflow as tf\n",
        "\n",
        "from sklearn.model_selection import train_test_split\n",
        "from sklearn.metrics import confusion_matrix\n",
        "from sklearn.metrics import classification_report\n",
        "\n",
        "\n",
        "def plot_loss_acc(history,more_title=''):\n",
        "    \n",
        "    loss = history.history['loss']\n",
        "    val_loss = history.history['val_loss']\n",
        "    epochs = range(1, len(loss) + 1)\n",
        "    plt.figure(figsize=(8,5))\n",
        "    plt.plot(epochs, loss, 'y', label='Training loss')\n",
        "    plt.plot(epochs, val_loss, 'r', label='Validation loss')\n",
        "    plt.title('Training and validation loss' + ' ' + more_title)\n",
        "    plt.xlabel('Epochs')\n",
        "    plt.ylabel('Loss')\n",
        "    plt.legend()\n",
        "    plt.show()\n",
        "    \n",
        "    acc = history.history['accuracy']\n",
        "    val_acc = history.history['val_accuracy']\n",
        "    plt.figure(figsize=(8,5))\n",
        "    plt.plot(epochs, acc, 'y', label='Training acc')\n",
        "    plt.plot(epochs, val_acc, 'r', label='Validation acc')\n",
        "    plt.title('Training and validation accuracy' + ' ' + more_title)\n",
        "    plt.xlabel('Epochs')\n",
        "    plt.ylabel('Accuracy')\n",
        "    plt.legend()\n",
        "    plt.show()\n",
        "\n",
        "    print(more_title + 'Accuracy Train: {:.2f} %, Accuracy Test: {:.2f} %'.format(acc[len(acc)-1] *100, val_acc[len(val_acc)-1]*100))\n",
        "\n",
        "    return loss, val_loss, acc, val_acc\n",
        "\n",
        "print('T12 Set Up completed!')    "
      ],
      "execution_count": null,
      "outputs": [
        {
          "output_type": "stream",
          "text": [
            "T12 Set Up completed!\n"
          ],
          "name": "stdout"
        }
      ]
    },
    {
      "cell_type": "markdown",
      "metadata": {
        "id": "zHwH9sineRea"
      },
      "source": [
        "# Exercício. **CASE**: German Credit Risk"
      ]
    },
    {
      "cell_type": "markdown",
      "metadata": {
        "id": "yIH97O9Aeiwj"
      },
      "source": [
        "Neste exercício, empregue o dataset de Risco de Crédito abaixo e implemente um modelo de classificação classificação do risco de crédito empregando redes deep learning (*Tensorflow*) e redes neurais do *scikit-learn*. Opte pelas transformações que julgar necessárias que julgar necessárias. Ao final compare e discuta os modelos e resultados obtidos. \n",
        "\n",
        "Em resumo:\n",
        "\n",
        "1. Explore os dados\n",
        "2. Faça as transformações que julgar necessárias. Discuta e justifique as transformações.\n",
        "3. Implemente um modelo de deeplearing para classificação do risco de crédito empregando o `TensorFlow`. \n",
        "4. Implemente a mesma tarefa com um modelo neural do `scikit-learn`.\n",
        "5. Compare e discuta os resultados. \n",
        "\n"
      ]
    },
    {
      "cell_type": "markdown",
      "metadata": {
        "id": "vTuGhGtdVVXF"
      },
      "source": [
        "## Obter os dados\n",
        "\n",
        "Empregue `read_csv` para arquivos `.csv`."
      ]
    },
    {
      "cell_type": "code",
      "metadata": {
        "id": "iY3TLR1KyRz8",
        "outputId": "28338c54-467d-45f6-d638-7a129e157495",
        "colab": {
          "base_uri": "https://localhost:8080/",
          "height": 204
        }
      },
      "source": [
        "import pandas as pd\n",
        "credit = pd.read_excel('https://meusite.mackenzie.br/rogerio/german_credit_data.xlsx')\n",
        "credit.head()\n"
      ],
      "execution_count": null,
      "outputs": [
        {
          "output_type": "execute_result",
          "data": {
            "text/html": [
              "<div>\n",
              "<style scoped>\n",
              "    .dataframe tbody tr th:only-of-type {\n",
              "        vertical-align: middle;\n",
              "    }\n",
              "\n",
              "    .dataframe tbody tr th {\n",
              "        vertical-align: top;\n",
              "    }\n",
              "\n",
              "    .dataframe thead th {\n",
              "        text-align: right;\n",
              "    }\n",
              "</style>\n",
              "<table border=\"1\" class=\"dataframe\">\n",
              "  <thead>\n",
              "    <tr style=\"text-align: right;\">\n",
              "      <th></th>\n",
              "      <th>Age</th>\n",
              "      <th>Sex</th>\n",
              "      <th>Job</th>\n",
              "      <th>Housing</th>\n",
              "      <th>Saving accounts</th>\n",
              "      <th>Checking account</th>\n",
              "      <th>Credit amount</th>\n",
              "      <th>Duration</th>\n",
              "      <th>Purpose</th>\n",
              "      <th>Risk</th>\n",
              "    </tr>\n",
              "  </thead>\n",
              "  <tbody>\n",
              "    <tr>\n",
              "      <th>0</th>\n",
              "      <td>67</td>\n",
              "      <td>male</td>\n",
              "      <td>2</td>\n",
              "      <td>own</td>\n",
              "      <td>NaN</td>\n",
              "      <td>little</td>\n",
              "      <td>1169</td>\n",
              "      <td>6</td>\n",
              "      <td>radio/TV</td>\n",
              "      <td>good</td>\n",
              "    </tr>\n",
              "    <tr>\n",
              "      <th>1</th>\n",
              "      <td>22</td>\n",
              "      <td>female</td>\n",
              "      <td>2</td>\n",
              "      <td>own</td>\n",
              "      <td>little</td>\n",
              "      <td>moderate</td>\n",
              "      <td>5951</td>\n",
              "      <td>48</td>\n",
              "      <td>radio/TV</td>\n",
              "      <td>bad</td>\n",
              "    </tr>\n",
              "    <tr>\n",
              "      <th>2</th>\n",
              "      <td>49</td>\n",
              "      <td>male</td>\n",
              "      <td>1</td>\n",
              "      <td>own</td>\n",
              "      <td>little</td>\n",
              "      <td>NaN</td>\n",
              "      <td>2096</td>\n",
              "      <td>12</td>\n",
              "      <td>education</td>\n",
              "      <td>good</td>\n",
              "    </tr>\n",
              "    <tr>\n",
              "      <th>3</th>\n",
              "      <td>45</td>\n",
              "      <td>male</td>\n",
              "      <td>2</td>\n",
              "      <td>free</td>\n",
              "      <td>little</td>\n",
              "      <td>little</td>\n",
              "      <td>7882</td>\n",
              "      <td>42</td>\n",
              "      <td>furniture/equipment</td>\n",
              "      <td>good</td>\n",
              "    </tr>\n",
              "    <tr>\n",
              "      <th>4</th>\n",
              "      <td>53</td>\n",
              "      <td>male</td>\n",
              "      <td>2</td>\n",
              "      <td>free</td>\n",
              "      <td>little</td>\n",
              "      <td>little</td>\n",
              "      <td>4870</td>\n",
              "      <td>24</td>\n",
              "      <td>car</td>\n",
              "      <td>bad</td>\n",
              "    </tr>\n",
              "  </tbody>\n",
              "</table>\n",
              "</div>"
            ],
            "text/plain": [
              "   Age     Sex  Job Housing  ... Credit amount Duration              Purpose  Risk\n",
              "0   67    male    2     own  ...          1169        6             radio/TV  good\n",
              "1   22  female    2     own  ...          5951       48             radio/TV   bad\n",
              "2   49    male    1     own  ...          2096       12            education  good\n",
              "3   45    male    2    free  ...          7882       42  furniture/equipment  good\n",
              "4   53    male    2    free  ...          4870       24                  car   bad\n",
              "\n",
              "[5 rows x 10 columns]"
            ]
          },
          "metadata": {
            "tags": []
          },
          "execution_count": 1
        }
      ]
    }
  ]
}